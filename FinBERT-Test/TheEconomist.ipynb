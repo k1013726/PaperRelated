{
 "cells": [
  {
   "cell_type": "code",
   "execution_count": 1,
   "metadata": {},
   "outputs": [],
   "source": [
    "from bs4 import BeautifulSoup\n",
    "import requests\n",
    "import pandas as pd\n"
   ]
  },
  {
   "cell_type": "code",
   "execution_count": 2,
   "metadata": {},
   "outputs": [],
   "source": [
    "def getherf(html):\n",
    "    # 使用BeautifulSoup函式解析傳入的html\n",
    "    headers = {'User-Agent':'Mozilla/5.0 (Windows NT 10.0; Win64; x64) AppleWebKit/537.36 (KHTML, like Gecko) Chrome/74.0.3729.169 Safari/537.36'}\n",
    "    response = requests.get(html,headers=headers)\n",
    "    soup = BeautifulSoup(response.text,'html.parser')\n",
    "    print(soup)\n",
    "    allnode_of_a = soup.find_all(\"a\",class_='Box-sc-1hpkeeg-0 hBnhmi')\n",
    "    \n",
    "    result = [_.get(\"href\") for _ in allnode_of_a]\n",
    "    return result"
   ]
  },
  {
   "cell_type": "code",
   "execution_count": 53,
   "metadata": {},
   "outputs": [],
   "source": [
    "def GrtContext(link):\n",
    "    headers = {'User-Agent':'Mozilla/5.0 (Windows NT 10.0; Win64; x64) AppleWebKit/537.36 (KHTML, like Gecko) Chrome/74.0.3729.169 Safari/537.36'}\n",
    "    ContextInfo=[]\n",
    "    response = requests.get(link,headers=headers)\n",
    "    soup = BeautifulSoup(response.text,'html.parser')\n",
    "    ContextTime = soup.find_all( \"time\")\n",
    "    for conre in ContextTime:\n",
    "        ContextInfo.append(str(conre)[45:55])\n",
    "\n",
    "    allnode_of_a = soup.find_all(\"p\")\n",
    "    cont=' '\n",
    "    for conre in allnode_of_a:\n",
    "        cont=cont+conre.getText()\n",
    "    ContextInfo.append(cont)\n",
    "\n",
    "    return ContextInfo\n"
   ]
  },
  {
   "cell_type": "code",
   "execution_count": 56,
   "metadata": {},
   "outputs": [],
   "source": [
    "ContextTime=[]\n",
    "Context=[]\n",
    "Link=[]\n",
    "for i in range(5):\n",
    "    Link=Link+getherf(\"https://www.economist.com/search?q=cryptocurrency&page=\"+str(i))\n",
    "\n",
    "for link in Link:\n",
    "    AllCON=GrtContext(link)\n",
    "    ContextTime.append(AllCON[0])\n",
    "    # Context.append(AllCON[1])\n",
    "\n",
    "# lo={'ContextTime':ContextTime,'Context':Context}\n",
    "lo={'ContextTime':ContextTime}\n",
    "df = pd.DataFrame(lo)\n",
    "df.to_csv('data.csv')"
   ]
  },
  {
   "cell_type": "code",
   "execution_count": 7,
   "metadata": {},
   "outputs": [
    {
     "name": "stdout",
     "output_type": "stream",
     "text": [
      "[]\n",
      "[]\n"
     ]
    }
   ],
   "source": [
    "print(getherf('https://www.coindesk.com/search?s=bitcoin&i=1'))\n"
   ]
  },
  {
   "cell_type": "code",
   "execution_count": 12,
   "metadata": {},
   "outputs": [
    {
     "name": "stdout",
     "output_type": "stream",
     "text": [
      "[]\n"
     ]
    }
   ],
   "source": [
    "\n",
    "headers = {'User-Agent':'Mozilla/5.0 (Windows NT 10.0; Win64; x64) AppleWebKit/537.36 (KHTML, like Gecko) Chrome/74.0.3729.169 Safari/537.36'}\n",
    "response = requests.get('https://www.coindesk.com/markets/2023/03/21/fed-preview-powell-likely-to-raise-rates-by-25-bps-against-crypto-markets-hope-for-status-quo/',headers=headers)\n",
    "# print(response.text)\n",
    "soup = BeautifulSoup(response.text.encode('UTF-8'),'lxml-xml')\n",
    "# print(soup.prettify())\n",
    "# print(soup)\n",
    "allnode_of_a = soup.find_all(\"a\")\n",
    "print(allnode_of_a)"
   ]
  }
 ],
 "metadata": {
  "kernelspec": {
   "display_name": "Python 3",
   "language": "python",
   "name": "python3"
  },
  "language_info": {
   "codemirror_mode": {
    "name": "ipython",
    "version": 3
   },
   "file_extension": ".py",
   "mimetype": "text/x-python",
   "name": "python",
   "nbconvert_exporter": "python",
   "pygments_lexer": "ipython3",
   "version": "3.10.9"
  },
  "orig_nbformat": 4,
  "vscode": {
   "interpreter": {
    "hash": "beedbe2faf2f7048d727558d0bc3221e7eba2a0b921cac4d4771b2feb8f74b30"
   }
  }
 },
 "nbformat": 4,
 "nbformat_minor": 2
}
