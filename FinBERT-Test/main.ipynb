{
 "cells": [
  {
   "cell_type": "code",
   "execution_count": 2,
   "metadata": {},
   "outputs": [],
   "source": [
    "import torch\n",
    "from transformers import AutoTokenizer, AutoModelForSequenceClassification\n",
    "\n",
    "# 加載finBERT tokenizer和模型\n",
    "tokenizer = AutoTokenizer.from_pretrained(\"ProsusAI/finbert\")\n",
    "model = AutoModelForSequenceClassification.from_pretrained(\"ProsusAI/finbert\")"
   ]
  },
  {
   "cell_type": "code",
   "execution_count": 3,
   "metadata": {},
   "outputs": [
    {
     "name": "stdout",
     "output_type": "stream",
     "text": [
      "tensor([0])\n"
     ]
    }
   ],
   "source": [
    "# 輸入句子\n",
    "text = \"Fed Preview: Powell Likely to Raise Rates by 25 bps Against Crypto Market's Hope for Status Quo\"\n",
    "\n",
    "# 將輸入句子編碼為模型可接受的格式\n",
    "inputs = tokenizer.encode_plus(text, return_tensors='pt')\n",
    "\n",
    "# 用finBERT模型進行預測\n",
    "outputs = model(**inputs)\n",
    "\n",
    "# 得到預測結果\n",
    "predictions = torch.argmax(outputs.logits, dim=1)\n",
    "\n",
    "# 列印預測結果\n",
    "print(predictions)\n"
   ]
  },
  {
   "cell_type": "code",
   "execution_count": 8,
   "metadata": {},
   "outputs": [
    {
     "name": "stdout",
     "output_type": "stream",
     "text": [
      "用自家比特幣儲備提供流動性，Jack Dorsey支付公司Block推閃電網路服務「c=」 ---- neutral\n",
      "#######################################################\n"
     ]
    }
   ],
   "source": [
    "import numpy as np\n",
    "import pandas as pd\n",
    "\n",
    "from transformers import BertTokenizer, BertForSequenceClassification\n",
    "\n",
    "finbert = BertForSequenceClassification.from_pretrained('yiyanghkust/finbert-tone',num_labels=3)\n",
    "tokenizer = BertTokenizer.from_pretrained('yiyanghkust/finbert-tone')\n",
    "\n",
    "labels = {0:'neutral', 1:'positive',2:'negative'}\n",
    "X=['用自家比特幣儲備提供流動性，Jack Dorsey支付公司Block推閃電網路服務「c=」']\n",
    "\n",
    "sent_val = list()\n",
    "for x in X:\n",
    "    inputs = tokenizer(x, return_tensors=\"pt\", padding=True)\n",
    "    outputs = finbert(**inputs)[0]\n",
    "   \n",
    "    val = labels[np.argmax(outputs.detach().numpy())]\n",
    "    print(x, '----', val)\n",
    "    print('#######################################################')    \n",
    "    sent_val.append(val)"
   ]
  }
 ],
 "metadata": {
  "kernelspec": {
   "display_name": "Python 3",
   "language": "python",
   "name": "python3"
  },
  "language_info": {
   "codemirror_mode": {
    "name": "ipython",
    "version": 3
   },
   "file_extension": ".py",
   "mimetype": "text/x-python",
   "name": "python",
   "nbconvert_exporter": "python",
   "pygments_lexer": "ipython3",
   "version": "3.10.9"
  },
  "orig_nbformat": 4
 },
 "nbformat": 4,
 "nbformat_minor": 2
}
