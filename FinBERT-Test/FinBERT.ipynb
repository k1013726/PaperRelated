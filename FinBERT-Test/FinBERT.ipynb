{
 "cells": [
  {
   "cell_type": "code",
   "execution_count": 6,
   "metadata": {},
   "outputs": [],
   "source": [
    "import torch\n",
    "from transformers import AutoTokenizer, AutoModelForSequenceClassification\n",
    "import pandas as pd\n",
    "df = pd.read_csv('./Data_final/CoinText_final.csv')"
   ]
  },
  {
   "cell_type": "code",
   "execution_count": 7,
   "metadata": {},
   "outputs": [],
   "source": [
    "# 載入模型和tokenizer\n",
    "tokenizer = AutoTokenizer.from_pretrained(\"ProsusAI/finbert\")\n",
    "model = AutoModelForSequenceClassification.from_pretrained(\"ProsusAI/finbert\")\n",
    "CionScore=[]\n",
    "# 設定要分類的標籤\n",
    "labels = ['positive', 'negative', 'neutral']\n",
    "\n",
    "for Ctext in df['CoinText']:\n",
    "\n",
    "    # 將文本轉換為tokens並加入特殊tokens\n",
    "    inputs = tokenizer(Ctext, return_tensors='pt', padding=True, truncation=True)\n",
    "\n",
    "    # 進行預測\n",
    "    outputs = model(**inputs)\n",
    "    predicted_scores = torch.softmax(outputs.logits, dim=1)\n",
    "\n",
    "    # 挑選預測中得分最高的情緒類別\n",
    "    max_score_idx = torch.argmax(predicted_scores)\n",
    "    max_score_label = labels[max_score_idx]\n",
    "    max_score = predicted_scores[0][max_score_idx]\n",
    "\n",
    "    if max_score_label=='positive':\n",
    "        CionScore.append(max_score)\n",
    "    elif max_score_label=='negative':\n",
    "        CionScore.append(-1*max_score)\n",
    "    else:\n",
    "        CionScore.append(0)\n",
    "\n",
    "lo={'CoinDate':df['CoinDate'],'CionScore':CionScore}\n",
    "df = pd.DataFrame(lo)\n",
    "df.to_csv('CionScore_final.csv')\n",
    "\n",
    "\n",
    "\n",
    "# 輸出結果\n",
    "# print(f\"The predicted sentiment for '{text}' is '{max_score_label}' with a score of {max_score:.4f}.\")\n"
   ]
  }
 ],
 "metadata": {
  "kernelspec": {
   "display_name": "Python 3",
   "language": "python",
   "name": "python3"
  },
  "language_info": {
   "codemirror_mode": {
    "name": "ipython",
    "version": 3
   },
   "file_extension": ".py",
   "mimetype": "text/x-python",
   "name": "python",
   "nbconvert_exporter": "python",
   "pygments_lexer": "ipython3",
   "version": "3.10.9"
  },
  "orig_nbformat": 4,
  "vscode": {
   "interpreter": {
    "hash": "beedbe2faf2f7048d727558d0bc3221e7eba2a0b921cac4d4771b2feb8f74b30"
   }
  }
 },
 "nbformat": 4,
 "nbformat_minor": 2
}
