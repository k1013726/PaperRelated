{
 "cells": [
  {
   "cell_type": "code",
   "execution_count": 1,
   "id": "average-clothing",
   "metadata": {},
   "outputs": [],
   "source": [
    "import pandas as pd\n",
    "import numpy as np\n",
    "import matplotlib.pyplot as plt\n",
    "\n",
    "pd.options.mode.chained_assignment = None"
   ]
  },
  {
   "cell_type": "code",
   "execution_count": 4,
   "id": "pressing-spanish",
   "metadata": {},
   "outputs": [
    {
     "data": {
      "text/html": [
       "<div>\n",
       "<style scoped>\n",
       "    .dataframe tbody tr th:only-of-type {\n",
       "        vertical-align: middle;\n",
       "    }\n",
       "\n",
       "    .dataframe tbody tr th {\n",
       "        vertical-align: top;\n",
       "    }\n",
       "\n",
       "    .dataframe thead th {\n",
       "        text-align: right;\n",
       "    }\n",
       "</style>\n",
       "<table border=\"1\" class=\"dataframe\">\n",
       "  <thead>\n",
       "    <tr style=\"text-align: right;\">\n",
       "      <th></th>\n",
       "      <th>id</th>\n",
       "      <th>CoinDate</th>\n",
       "      <th>CoinOpen</th>\n",
       "      <th>CoinHigh</th>\n",
       "      <th>CoinLow</th>\n",
       "      <th>CoinClose</th>\n",
       "      <th>CoinVolume</th>\n",
       "      <th>CoinCap</th>\n",
       "    </tr>\n",
       "  </thead>\n",
       "  <tbody>\n",
       "    <tr>\n",
       "      <th>943</th>\n",
       "      <td>943</td>\n",
       "      <td>2020/05/04</td>\n",
       "      <td>8895.74</td>\n",
       "      <td>8956.91</td>\n",
       "      <td>8645.02</td>\n",
       "      <td>8912.65</td>\n",
       "      <td>4.571880e+10</td>\n",
       "      <td>1.636545e+11</td>\n",
       "    </tr>\n",
       "    <tr>\n",
       "      <th>942</th>\n",
       "      <td>942</td>\n",
       "      <td>2020/05/05</td>\n",
       "      <td>8912.83</td>\n",
       "      <td>9062.41</td>\n",
       "      <td>8856.83</td>\n",
       "      <td>9003.07</td>\n",
       "      <td>4.314846e+10</td>\n",
       "      <td>1.653325e+11</td>\n",
       "    </tr>\n",
       "    <tr>\n",
       "      <th>941</th>\n",
       "      <td>941</td>\n",
       "      <td>2020/05/06</td>\n",
       "      <td>9007.44</td>\n",
       "      <td>9411.47</td>\n",
       "      <td>8966.71</td>\n",
       "      <td>9268.76</td>\n",
       "      <td>4.937189e+10</td>\n",
       "      <td>1.702296e+11</td>\n",
       "    </tr>\n",
       "    <tr>\n",
       "      <th>940</th>\n",
       "      <td>940</td>\n",
       "      <td>2020/05/07</td>\n",
       "      <td>9261.90</td>\n",
       "      <td>9992.66</td>\n",
       "      <td>9138.32</td>\n",
       "      <td>9951.52</td>\n",
       "      <td>6.111270e+10</td>\n",
       "      <td>1.827874e+11</td>\n",
       "    </tr>\n",
       "    <tr>\n",
       "      <th>939</th>\n",
       "      <td>939</td>\n",
       "      <td>2020/05/08</td>\n",
       "      <td>9936.16</td>\n",
       "      <td>9996.74</td>\n",
       "      <td>9767.17</td>\n",
       "      <td>9842.67</td>\n",
       "      <td>5.178075e+10</td>\n",
       "      <td>1.808049e+11</td>\n",
       "    </tr>\n",
       "  </tbody>\n",
       "</table>\n",
       "</div>"
      ],
      "text/plain": [
       "      id    CoinDate  CoinOpen  CoinHigh  CoinLow  CoinClose    CoinVolume  \\\n",
       "943  943  2020/05/04   8895.74   8956.91  8645.02    8912.65  4.571880e+10   \n",
       "942  942  2020/05/05   8912.83   9062.41  8856.83    9003.07  4.314846e+10   \n",
       "941  941  2020/05/06   9007.44   9411.47  8966.71    9268.76  4.937189e+10   \n",
       "940  940  2020/05/07   9261.90   9992.66  9138.32    9951.52  6.111270e+10   \n",
       "939  939  2020/05/08   9936.16   9996.74  9767.17    9842.67  5.178075e+10   \n",
       "\n",
       "          CoinCap  \n",
       "943  1.636545e+11  \n",
       "942  1.653325e+11  \n",
       "941  1.702296e+11  \n",
       "940  1.827874e+11  \n",
       "939  1.808049e+11  "
      ]
     },
     "execution_count": 4,
     "metadata": {},
     "output_type": "execute_result"
    }
   ],
   "source": [
    "df = pd.read_csv('data/Bitcoin.csv')\n",
    "df=df.sort_values(by='id', ascending=False)\n",
    "df.head()"
   ]
  },
  {
   "cell_type": "markdown",
   "id": "religious-barrel",
   "metadata": {},
   "source": [
    "# Split to train/test "
   ]
  },
  {
   "cell_type": "code",
   "execution_count": 24,
   "id": "meaning-thinking",
   "metadata": {},
   "outputs": [],
   "source": [
    "train = df[:-7]\n",
    "test = df[-7:]"
   ]
  },
  {
   "cell_type": "markdown",
   "id": "quick-prisoner",
   "metadata": {},
   "source": [
    "# Predict historical mean "
   ]
  },
  {
   "cell_type": "code",
   "execution_count": 25,
   "id": "compact-grounds",
   "metadata": {},
   "outputs": [
    {
     "data": {
      "text/plain": [
       "32110.891216648877"
      ]
     },
     "execution_count": 25,
     "metadata": {},
     "output_type": "execute_result"
    }
   ],
   "source": [
    "historical_mean = np.mean(train['CoinClose'])\n",
    "historical_mean"
   ]
  },
  {
   "cell_type": "code",
   "execution_count": 26,
   "id": "4c486fcd",
   "metadata": {},
   "outputs": [
    {
     "data": {
      "text/html": [
       "<div>\n",
       "<style scoped>\n",
       "    .dataframe tbody tr th:only-of-type {\n",
       "        vertical-align: middle;\n",
       "    }\n",
       "\n",
       "    .dataframe tbody tr th {\n",
       "        vertical-align: top;\n",
       "    }\n",
       "\n",
       "    .dataframe thead th {\n",
       "        text-align: right;\n",
       "    }\n",
       "</style>\n",
       "<table border=\"1\" class=\"dataframe\">\n",
       "  <thead>\n",
       "    <tr style=\"text-align: right;\">\n",
       "      <th></th>\n",
       "      <th>id</th>\n",
       "      <th>CoinDate</th>\n",
       "      <th>CoinOpen</th>\n",
       "      <th>CoinHigh</th>\n",
       "      <th>CoinLow</th>\n",
       "      <th>CoinClose</th>\n",
       "      <th>CoinVolume</th>\n",
       "      <th>CoinCap</th>\n",
       "      <th>pred_mean</th>\n",
       "    </tr>\n",
       "  </thead>\n",
       "  <tbody>\n",
       "    <tr>\n",
       "      <th>6</th>\n",
       "      <td>6</td>\n",
       "      <td>2022/11/27</td>\n",
       "      <td>16463.88</td>\n",
       "      <td>16594.41</td>\n",
       "      <td>16437.03</td>\n",
       "      <td>16444.63</td>\n",
       "      <td>2.044390e+10</td>\n",
       "      <td>3.160405e+11</td>\n",
       "      <td>32110.891217</td>\n",
       "    </tr>\n",
       "    <tr>\n",
       "      <th>5</th>\n",
       "      <td>5</td>\n",
       "      <td>2022/11/28</td>\n",
       "      <td>16440.22</td>\n",
       "      <td>16482.93</td>\n",
       "      <td>16054.53</td>\n",
       "      <td>16217.32</td>\n",
       "      <td>2.774303e+10</td>\n",
       "      <td>3.116864e+11</td>\n",
       "      <td>32110.891217</td>\n",
       "    </tr>\n",
       "    <tr>\n",
       "      <th>4</th>\n",
       "      <td>4</td>\n",
       "      <td>2022/11/29</td>\n",
       "      <td>16217.64</td>\n",
       "      <td>16522.26</td>\n",
       "      <td>16139.40</td>\n",
       "      <td>16444.98</td>\n",
       "      <td>2.358169e+10</td>\n",
       "      <td>3.160749e+11</td>\n",
       "      <td>32110.891217</td>\n",
       "    </tr>\n",
       "    <tr>\n",
       "      <th>3</th>\n",
       "      <td>3</td>\n",
       "      <td>2022/11/30</td>\n",
       "      <td>16445.48</td>\n",
       "      <td>17190.94</td>\n",
       "      <td>16445.48</td>\n",
       "      <td>17168.57</td>\n",
       "      <td>2.952358e+10</td>\n",
       "      <td>3.299976e+11</td>\n",
       "      <td>32110.891217</td>\n",
       "    </tr>\n",
       "    <tr>\n",
       "      <th>2</th>\n",
       "      <td>2</td>\n",
       "      <td>2022/12/01</td>\n",
       "      <td>17168.00</td>\n",
       "      <td>17197.50</td>\n",
       "      <td>16888.39</td>\n",
       "      <td>16967.13</td>\n",
       "      <td>2.289539e+10</td>\n",
       "      <td>3.261421e+11</td>\n",
       "      <td>32110.891217</td>\n",
       "    </tr>\n",
       "    <tr>\n",
       "      <th>1</th>\n",
       "      <td>1</td>\n",
       "      <td>2022/12/02</td>\n",
       "      <td>16968.68</td>\n",
       "      <td>17088.66</td>\n",
       "      <td>16877.88</td>\n",
       "      <td>17088.66</td>\n",
       "      <td>1.953971e+10</td>\n",
       "      <td>3.284917e+11</td>\n",
       "      <td>32110.891217</td>\n",
       "    </tr>\n",
       "    <tr>\n",
       "      <th>0</th>\n",
       "      <td>0</td>\n",
       "      <td>2022/12/03</td>\n",
       "      <td>17090.10</td>\n",
       "      <td>17116.04</td>\n",
       "      <td>16888.14</td>\n",
       "      <td>16908.24</td>\n",
       "      <td>1.621778e+10</td>\n",
       "      <td>3.250372e+11</td>\n",
       "      <td>32110.891217</td>\n",
       "    </tr>\n",
       "  </tbody>\n",
       "</table>\n",
       "</div>"
      ],
      "text/plain": [
       "   id    CoinDate  CoinOpen  CoinHigh   CoinLow  CoinClose    CoinVolume  \\\n",
       "6   6  2022/11/27  16463.88  16594.41  16437.03   16444.63  2.044390e+10   \n",
       "5   5  2022/11/28  16440.22  16482.93  16054.53   16217.32  2.774303e+10   \n",
       "4   4  2022/11/29  16217.64  16522.26  16139.40   16444.98  2.358169e+10   \n",
       "3   3  2022/11/30  16445.48  17190.94  16445.48   17168.57  2.952358e+10   \n",
       "2   2  2022/12/01  17168.00  17197.50  16888.39   16967.13  2.289539e+10   \n",
       "1   1  2022/12/02  16968.68  17088.66  16877.88   17088.66  1.953971e+10   \n",
       "0   0  2022/12/03  17090.10  17116.04  16888.14   16908.24  1.621778e+10   \n",
       "\n",
       "        CoinCap     pred_mean  \n",
       "6  3.160405e+11  32110.891217  \n",
       "5  3.116864e+11  32110.891217  \n",
       "4  3.160749e+11  32110.891217  \n",
       "3  3.299976e+11  32110.891217  \n",
       "2  3.261421e+11  32110.891217  \n",
       "1  3.284917e+11  32110.891217  \n",
       "0  3.250372e+11  32110.891217  "
      ]
     },
     "execution_count": 26,
     "metadata": {},
     "output_type": "execute_result"
    }
   ],
   "source": [
    "test.loc[:, 'pred_mean'] = historical_mean\n",
    "\n",
    "test"
   ]
  },
  {
   "cell_type": "code",
   "execution_count": 28,
   "id": "numeric-insight",
   "metadata": {},
   "outputs": [],
   "source": [
    "def mape(y_true, y_pred):\n",
    "    return np.mean(np.abs((y_true - y_pred) / y_true)) * 100"
   ]
  },
  {
   "cell_type": "code",
   "execution_count": 29,
   "id": "accepting-looking",
   "metadata": {},
   "outputs": [
    {
     "data": {
      "text/plain": [
       "91.80568406159698"
      ]
     },
     "execution_count": 29,
     "metadata": {},
     "output_type": "execute_result"
    }
   ],
   "source": [
    "mape_hist_mean = mape(test['CoinClose'], test['pred_mean'])\n",
    "mape_hist_mean"
   ]
  },
  {
   "cell_type": "code",
   "execution_count": 13,
   "id": "tropical-newport",
   "metadata": {},
   "outputs": [
    {
     "data": {
      "image/png": "[encoded data removed]",
      "text/plain": [
       "<Figure size 640x480 with 1 Axes>"
      ]
     },
     "metadata": {},
     "output_type": "display_data"
    }
   ],
   "source": [
    "fig, ax = plt.subplots()\n",
    "\n",
    "ax.plot(train['CoinDate'], train['CoinClose'], 'g-.', label='Train')\n",
    "ax.plot(test['CoinDate'], test['CoinClose'], 'b-', label='Test')\n",
    "ax.plot(test['CoinDate'], test['pred_mean'], 'r--', label='Predicted')\n",
    "ax.set_xlabel('Date')\n",
    "ax.set_ylabel('CoinClose')\n",
    "ax.axvspan(940, 944, color='#808080', alpha=0.2)\n",
    "ax.legend(loc=2)\n",
    "\n",
    "plt.xticks(range(0,943,100), ['2020/05/04','2020/08/12','2020/11/20','2021/02/28','2021/06/08','2021/09/16','2021/12/25','2022/04/04','2022/07/13','2022/10/21'])\n",
    "\n",
    "fig.autofmt_xdate()\n",
    "plt.tight_layout()\n",
    "\n",
    "plt.savefig('figures/CH02_F06_peixeiro.png')"
   ]
  },
  {
   "cell_type": "markdown",
   "id": "limiting-database",
   "metadata": {},
   "source": [
    "# Predict last year mean "
   ]
  },
  {
   "cell_type": "code",
   "execution_count": 30,
   "id": "incorporate-seattle",
   "metadata": {},
   "outputs": [
    {
     "name": "stderr",
     "output_type": "stream",
     "text": [
      "C:\\Users\\admin\\AppData\\Local\\Temp\\ipykernel_5472\\2425409332.py:1: FutureWarning: The behavior of `series[i:j]` with an integer-dtype index is deprecated. In a future version, this will be treated as *label-based* indexing, consistent with e.g. `series[i]` lookups. To retain the old behavior, use `series.iloc[i:j]`. To get the future behavior, use `series.loc[i:j]`.\n",
      "  last_year_mean = np.mean(train['CoinClose'][-7:])\n"
     ]
    },
    {
     "data": {
      "text/plain": [
       "16352.882857142857"
      ]
     },
     "execution_count": 30,
     "metadata": {},
     "output_type": "execute_result"
    }
   ],
   "source": [
    "last_year_mean = np.mean(train['CoinClose'][-7:])\n",
    "last_year_mean"
   ]
  },
  {
   "cell_type": "code",
   "execution_count": 31,
   "id": "e9281c29",
   "metadata": {},
   "outputs": [
    {
     "data": {
      "text/html": [
       "<div>\n",
       "<style scoped>\n",
       "    .dataframe tbody tr th:only-of-type {\n",
       "        vertical-align: middle;\n",
       "    }\n",
       "\n",
       "    .dataframe tbody tr th {\n",
       "        vertical-align: top;\n",
       "    }\n",
       "\n",
       "    .dataframe thead th {\n",
       "        text-align: right;\n",
       "    }\n",
       "</style>\n",
       "<table border=\"1\" class=\"dataframe\">\n",
       "  <thead>\n",
       "    <tr style=\"text-align: right;\">\n",
       "      <th></th>\n",
       "      <th>id</th>\n",
       "      <th>CoinDate</th>\n",
       "      <th>CoinOpen</th>\n",
       "      <th>CoinHigh</th>\n",
       "      <th>CoinLow</th>\n",
       "      <th>CoinClose</th>\n",
       "      <th>CoinVolume</th>\n",
       "      <th>CoinCap</th>\n",
       "      <th>pred_mean</th>\n",
       "      <th>pred__last_yr_mean</th>\n",
       "    </tr>\n",
       "  </thead>\n",
       "  <tbody>\n",
       "    <tr>\n",
       "      <th>6</th>\n",
       "      <td>6</td>\n",
       "      <td>2022/11/27</td>\n",
       "      <td>16463.88</td>\n",
       "      <td>16594.41</td>\n",
       "      <td>16437.03</td>\n",
       "      <td>16444.63</td>\n",
       "      <td>2.044390e+10</td>\n",
       "      <td>3.160405e+11</td>\n",
       "      <td>32110.891217</td>\n",
       "      <td>16352.882857</td>\n",
       "    </tr>\n",
       "    <tr>\n",
       "      <th>5</th>\n",
       "      <td>5</td>\n",
       "      <td>2022/11/28</td>\n",
       "      <td>16440.22</td>\n",
       "      <td>16482.93</td>\n",
       "      <td>16054.53</td>\n",
       "      <td>16217.32</td>\n",
       "      <td>2.774303e+10</td>\n",
       "      <td>3.116864e+11</td>\n",
       "      <td>32110.891217</td>\n",
       "      <td>16352.882857</td>\n",
       "    </tr>\n",
       "    <tr>\n",
       "      <th>4</th>\n",
       "      <td>4</td>\n",
       "      <td>2022/11/29</td>\n",
       "      <td>16217.64</td>\n",
       "      <td>16522.26</td>\n",
       "      <td>16139.40</td>\n",
       "      <td>16444.98</td>\n",
       "      <td>2.358169e+10</td>\n",
       "      <td>3.160749e+11</td>\n",
       "      <td>32110.891217</td>\n",
       "      <td>16352.882857</td>\n",
       "    </tr>\n",
       "    <tr>\n",
       "      <th>3</th>\n",
       "      <td>3</td>\n",
       "      <td>2022/11/30</td>\n",
       "      <td>16445.48</td>\n",
       "      <td>17190.94</td>\n",
       "      <td>16445.48</td>\n",
       "      <td>17168.57</td>\n",
       "      <td>2.952358e+10</td>\n",
       "      <td>3.299976e+11</td>\n",
       "      <td>32110.891217</td>\n",
       "      <td>16352.882857</td>\n",
       "    </tr>\n",
       "    <tr>\n",
       "      <th>2</th>\n",
       "      <td>2</td>\n",
       "      <td>2022/12/01</td>\n",
       "      <td>17168.00</td>\n",
       "      <td>17197.50</td>\n",
       "      <td>16888.39</td>\n",
       "      <td>16967.13</td>\n",
       "      <td>2.289539e+10</td>\n",
       "      <td>3.261421e+11</td>\n",
       "      <td>32110.891217</td>\n",
       "      <td>16352.882857</td>\n",
       "    </tr>\n",
       "    <tr>\n",
       "      <th>1</th>\n",
       "      <td>1</td>\n",
       "      <td>2022/12/02</td>\n",
       "      <td>16968.68</td>\n",
       "      <td>17088.66</td>\n",
       "      <td>16877.88</td>\n",
       "      <td>17088.66</td>\n",
       "      <td>1.953971e+10</td>\n",
       "      <td>3.284917e+11</td>\n",
       "      <td>32110.891217</td>\n",
       "      <td>16352.882857</td>\n",
       "    </tr>\n",
       "    <tr>\n",
       "      <th>0</th>\n",
       "      <td>0</td>\n",
       "      <td>2022/12/03</td>\n",
       "      <td>17090.10</td>\n",
       "      <td>17116.04</td>\n",
       "      <td>16888.14</td>\n",
       "      <td>16908.24</td>\n",
       "      <td>1.621778e+10</td>\n",
       "      <td>3.250372e+11</td>\n",
       "      <td>32110.891217</td>\n",
       "      <td>16352.882857</td>\n",
       "    </tr>\n",
       "  </tbody>\n",
       "</table>\n",
       "</div>"
      ],
      "text/plain": [
       "   id    CoinDate  CoinOpen  CoinHigh   CoinLow  CoinClose    CoinVolume  \\\n",
       "6   6  2022/11/27  16463.88  16594.41  16437.03   16444.63  2.044390e+10   \n",
       "5   5  2022/11/28  16440.22  16482.93  16054.53   16217.32  2.774303e+10   \n",
       "4   4  2022/11/29  16217.64  16522.26  16139.40   16444.98  2.358169e+10   \n",
       "3   3  2022/11/30  16445.48  17190.94  16445.48   17168.57  2.952358e+10   \n",
       "2   2  2022/12/01  17168.00  17197.50  16888.39   16967.13  2.289539e+10   \n",
       "1   1  2022/12/02  16968.68  17088.66  16877.88   17088.66  1.953971e+10   \n",
       "0   0  2022/12/03  17090.10  17116.04  16888.14   16908.24  1.621778e+10   \n",
       "\n",
       "        CoinCap     pred_mean  pred__last_yr_mean  \n",
       "6  3.160405e+11  32110.891217        16352.882857  \n",
       "5  3.116864e+11  32110.891217        16352.882857  \n",
       "4  3.160749e+11  32110.891217        16352.882857  \n",
       "3  3.299976e+11  32110.891217        16352.882857  \n",
       "2  3.261421e+11  32110.891217        16352.882857  \n",
       "1  3.284917e+11  32110.891217        16352.882857  \n",
       "0  3.250372e+11  32110.891217        16352.882857  "
      ]
     },
     "execution_count": 31,
     "metadata": {},
     "output_type": "execute_result"
    }
   ],
   "source": [
    "test.loc[:, 'pred__last_yr_mean'] = last_year_mean\n",
    "\n",
    "test"
   ]
  },
  {
   "cell_type": "code",
   "execution_count": 32,
   "id": "resident-sleeve",
   "metadata": {},
   "outputs": [
    {
     "data": {
      "text/plain": [
       "2.559329964935879"
      ]
     },
     "execution_count": 32,
     "metadata": {},
     "output_type": "execute_result"
    }
   ],
   "source": [
    "mape_last_year_mean = mape(test['CoinClose'], test['pred__last_yr_mean'])\n",
    "mape_last_year_mean"
   ]
  },
  {
   "cell_type": "code",
   "execution_count": 41,
   "id": "effective-spirituality",
   "metadata": {},
   "outputs": [
    {
     "data": {
      "image/png": "[encoded data removed]",
      "text/plain": [
       "<Figure size 432x288 with 1 Axes>"
      ]
     },
     "metadata": {
      "needs_background": "light"
     },
     "output_type": "display_data"
    }
   ],
   "source": [
    "fig, ax = plt.subplots()\n",
    "\n",
    "ax.plot(train['date'], train['data'], 'g-.', label='Train')\n",
    "ax.plot(test['date'], test['data'], 'b-', label='Test')\n",
    "ax.plot(test['date'], test['pred__last_yr_mean'], 'r--', label='Predicted')\n",
    "ax.set_xlabel('Date')\n",
    "ax.set_ylabel('Earnings per share (USD)')\n",
    "ax.axvspan(80, 83, color='#808080', alpha=0.2)\n",
    "ax.legend(loc=2)\n",
    "\n",
    "plt.xticks(np.arange(0, 85, 8), [1960, 1962, 1964, 1966, 1968, 1970, 1972, 1974, 1976, 1978, 1980])\n",
    "\n",
    "fig.autofmt_xdate()\n",
    "plt.tight_layout()\n",
    "\n",
    "plt.savefig('figures/CH02_F07_peixeiro.png', dpi=300)"
   ]
  },
  {
   "cell_type": "markdown",
   "id": "expressed-gallery",
   "metadata": {},
   "source": [
    "# Predict last know value "
   ]
  },
  {
   "cell_type": "code",
   "execution_count": 37,
   "id": "hundred-field",
   "metadata": {},
   "outputs": [
    {
     "data": {
      "text/plain": [
       "16464.28"
      ]
     },
     "execution_count": 37,
     "metadata": {},
     "output_type": "execute_result"
    }
   ],
   "source": [
    "last = train['CoinClose'].iloc[-1]\n",
    "last"
   ]
  },
  {
   "cell_type": "code",
   "execution_count": 38,
   "id": "e3a4093c",
   "metadata": {},
   "outputs": [
    {
     "data": {
      "text/html": [
       "<div>\n",
       "<style scoped>\n",
       "    .dataframe tbody tr th:only-of-type {\n",
       "        vertical-align: middle;\n",
       "    }\n",
       "\n",
       "    .dataframe tbody tr th {\n",
       "        vertical-align: top;\n",
       "    }\n",
       "\n",
       "    .dataframe thead th {\n",
       "        text-align: right;\n",
       "    }\n",
       "</style>\n",
       "<table border=\"1\" class=\"dataframe\">\n",
       "  <thead>\n",
       "    <tr style=\"text-align: right;\">\n",
       "      <th></th>\n",
       "      <th>id</th>\n",
       "      <th>CoinDate</th>\n",
       "      <th>CoinOpen</th>\n",
       "      <th>CoinHigh</th>\n",
       "      <th>CoinLow</th>\n",
       "      <th>CoinClose</th>\n",
       "      <th>CoinVolume</th>\n",
       "      <th>CoinCap</th>\n",
       "      <th>pred_mean</th>\n",
       "      <th>pred__last_yr_mean</th>\n",
       "      <th>pred_last</th>\n",
       "    </tr>\n",
       "  </thead>\n",
       "  <tbody>\n",
       "    <tr>\n",
       "      <th>6</th>\n",
       "      <td>6</td>\n",
       "      <td>2022/11/27</td>\n",
       "      <td>16463.88</td>\n",
       "      <td>16594.41</td>\n",
       "      <td>16437.03</td>\n",
       "      <td>16444.63</td>\n",
       "      <td>2.044390e+10</td>\n",
       "      <td>3.160405e+11</td>\n",
       "      <td>32110.891217</td>\n",
       "      <td>16352.882857</td>\n",
       "      <td>16464.28</td>\n",
       "    </tr>\n",
       "    <tr>\n",
       "      <th>5</th>\n",
       "      <td>5</td>\n",
       "      <td>2022/11/28</td>\n",
       "      <td>16440.22</td>\n",
       "      <td>16482.93</td>\n",
       "      <td>16054.53</td>\n",
       "      <td>16217.32</td>\n",
       "      <td>2.774303e+10</td>\n",
       "      <td>3.116864e+11</td>\n",
       "      <td>32110.891217</td>\n",
       "      <td>16352.882857</td>\n",
       "      <td>16464.28</td>\n",
       "    </tr>\n",
       "    <tr>\n",
       "      <th>4</th>\n",
       "      <td>4</td>\n",
       "      <td>2022/11/29</td>\n",
       "      <td>16217.64</td>\n",
       "      <td>16522.26</td>\n",
       "      <td>16139.40</td>\n",
       "      <td>16444.98</td>\n",
       "      <td>2.358169e+10</td>\n",
       "      <td>3.160749e+11</td>\n",
       "      <td>32110.891217</td>\n",
       "      <td>16352.882857</td>\n",
       "      <td>16464.28</td>\n",
       "    </tr>\n",
       "    <tr>\n",
       "      <th>3</th>\n",
       "      <td>3</td>\n",
       "      <td>2022/11/30</td>\n",
       "      <td>16445.48</td>\n",
       "      <td>17190.94</td>\n",
       "      <td>16445.48</td>\n",
       "      <td>17168.57</td>\n",
       "      <td>2.952358e+10</td>\n",
       "      <td>3.299976e+11</td>\n",
       "      <td>32110.891217</td>\n",
       "      <td>16352.882857</td>\n",
       "      <td>16464.28</td>\n",
       "    </tr>\n",
       "    <tr>\n",
       "      <th>2</th>\n",
       "      <td>2</td>\n",
       "      <td>2022/12/01</td>\n",
       "      <td>17168.00</td>\n",
       "      <td>17197.50</td>\n",
       "      <td>16888.39</td>\n",
       "      <td>16967.13</td>\n",
       "      <td>2.289539e+10</td>\n",
       "      <td>3.261421e+11</td>\n",
       "      <td>32110.891217</td>\n",
       "      <td>16352.882857</td>\n",
       "      <td>16464.28</td>\n",
       "    </tr>\n",
       "    <tr>\n",
       "      <th>1</th>\n",
       "      <td>1</td>\n",
       "      <td>2022/12/02</td>\n",
       "      <td>16968.68</td>\n",
       "      <td>17088.66</td>\n",
       "      <td>16877.88</td>\n",
       "      <td>17088.66</td>\n",
       "      <td>1.953971e+10</td>\n",
       "      <td>3.284917e+11</td>\n",
       "      <td>32110.891217</td>\n",
       "      <td>16352.882857</td>\n",
       "      <td>16464.28</td>\n",
       "    </tr>\n",
       "    <tr>\n",
       "      <th>0</th>\n",
       "      <td>0</td>\n",
       "      <td>2022/12/03</td>\n",
       "      <td>17090.10</td>\n",
       "      <td>17116.04</td>\n",
       "      <td>16888.14</td>\n",
       "      <td>16908.24</td>\n",
       "      <td>1.621778e+10</td>\n",
       "      <td>3.250372e+11</td>\n",
       "      <td>32110.891217</td>\n",
       "      <td>16352.882857</td>\n",
       "      <td>16464.28</td>\n",
       "    </tr>\n",
       "  </tbody>\n",
       "</table>\n",
       "</div>"
      ],
      "text/plain": [
       "   id    CoinDate  CoinOpen  CoinHigh   CoinLow  CoinClose    CoinVolume  \\\n",
       "6   6  2022/11/27  16463.88  16594.41  16437.03   16444.63  2.044390e+10   \n",
       "5   5  2022/11/28  16440.22  16482.93  16054.53   16217.32  2.774303e+10   \n",
       "4   4  2022/11/29  16217.64  16522.26  16139.40   16444.98  2.358169e+10   \n",
       "3   3  2022/11/30  16445.48  17190.94  16445.48   17168.57  2.952358e+10   \n",
       "2   2  2022/12/01  17168.00  17197.50  16888.39   16967.13  2.289539e+10   \n",
       "1   1  2022/12/02  16968.68  17088.66  16877.88   17088.66  1.953971e+10   \n",
       "0   0  2022/12/03  17090.10  17116.04  16888.14   16908.24  1.621778e+10   \n",
       "\n",
       "        CoinCap     pred_mean  pred__last_yr_mean  pred_last  \n",
       "6  3.160405e+11  32110.891217        16352.882857   16464.28  \n",
       "5  3.116864e+11  32110.891217        16352.882857   16464.28  \n",
       "4  3.160749e+11  32110.891217        16352.882857   16464.28  \n",
       "3  3.299976e+11  32110.891217        16352.882857   16464.28  \n",
       "2  3.261421e+11  32110.891217        16352.882857   16464.28  \n",
       "1  3.284917e+11  32110.891217        16352.882857   16464.28  \n",
       "0  3.250372e+11  32110.891217        16352.882857   16464.28  "
      ]
     },
     "execution_count": 38,
     "metadata": {},
     "output_type": "execute_result"
    }
   ],
   "source": [
    "test.loc[:, 'pred_last'] = last\n",
    "\n",
    "test"
   ]
  },
  {
   "cell_type": "code",
   "execution_count": 39,
   "id": "satisfactory-strain",
   "metadata": {},
   "outputs": [
    {
     "data": {
      "text/plain": [
       "2.15785946474227"
      ]
     },
     "execution_count": 39,
     "metadata": {},
     "output_type": "execute_result"
    }
   ],
   "source": [
    "mape_last = mape(test['CoinClose'], test['pred_last'])\n",
    "mape_last"
   ]
  },
  {
   "cell_type": "code",
   "execution_count": 45,
   "id": "british-trunk",
   "metadata": {},
   "outputs": [
    {
     "data": {
      "image/png": "[encoded data removed]",
      "text/plain": [
       "<Figure size 432x288 with 1 Axes>"
      ]
     },
     "metadata": {
      "needs_background": "light"
     },
     "output_type": "display_data"
    }
   ],
   "source": [
    "fig, ax = plt.subplots()\n",
    "\n",
    "ax.plot(train['date'], train['data'], 'g-.', label='Train')\n",
    "ax.plot(test['date'], test['data'], 'b-', label='Test')\n",
    "ax.plot(test['date'], test['pred_last'], 'r--', label='Predicted')\n",
    "ax.set_xlabel('Date')\n",
    "ax.set_ylabel('Earnings per share (USD)')\n",
    "ax.axvspan(80, 83, color='#808080', alpha=0.2)\n",
    "ax.legend(loc=2)\n",
    "\n",
    "plt.xticks(np.arange(0, 85, 8), [1960, 1962, 1964, 1966, 1968, 1970, 1972, 1974, 1976, 1978, 1980])\n",
    "\n",
    "fig.autofmt_xdate()\n",
    "plt.tight_layout()\n",
    "\n",
    "plt.savefig('figures/CH02_F08_peixeiro.png', dpi=300)"
   ]
  },
  {
   "cell_type": "markdown",
   "id": "known-emphasis",
   "metadata": {},
   "source": [
    "# Naive seasonal forecast "
   ]
  },
  {
   "cell_type": "code",
   "execution_count": 40,
   "id": "4ce0b77f",
   "metadata": {},
   "outputs": [
    {
     "name": "stderr",
     "output_type": "stream",
     "text": [
      "C:\\Users\\admin\\AppData\\Local\\Temp\\ipykernel_5472\\2911848882.py:1: FutureWarning: The behavior of `series[i:j]` with an integer-dtype index is deprecated. In a future version, this will be treated as *label-based* indexing, consistent with e.g. `series[i]` lookups. To retain the old behavior, use `series.iloc[i:j]`. To get the future behavior, use `series.loc[i:j]`.\n",
      "  test.loc[:, 'pred_last_season'] = train['CoinClose'][-7:].values\n"
     ]
    },
    {
     "data": {
      "text/html": [
       "<div>\n",
       "<style scoped>\n",
       "    .dataframe tbody tr th:only-of-type {\n",
       "        vertical-align: middle;\n",
       "    }\n",
       "\n",
       "    .dataframe tbody tr th {\n",
       "        vertical-align: top;\n",
       "    }\n",
       "\n",
       "    .dataframe thead th {\n",
       "        text-align: right;\n",
       "    }\n",
       "</style>\n",
       "<table border=\"1\" class=\"dataframe\">\n",
       "  <thead>\n",
       "    <tr style=\"text-align: right;\">\n",
       "      <th></th>\n",
       "      <th>id</th>\n",
       "      <th>CoinDate</th>\n",
       "      <th>CoinOpen</th>\n",
       "      <th>CoinHigh</th>\n",
       "      <th>CoinLow</th>\n",
       "      <th>CoinClose</th>\n",
       "      <th>CoinVolume</th>\n",
       "      <th>CoinCap</th>\n",
       "      <th>pred_mean</th>\n",
       "      <th>pred__last_yr_mean</th>\n",
       "      <th>pred_last</th>\n",
       "      <th>pred_last_season</th>\n",
       "    </tr>\n",
       "  </thead>\n",
       "  <tbody>\n",
       "    <tr>\n",
       "      <th>6</th>\n",
       "      <td>6</td>\n",
       "      <td>2022/11/27</td>\n",
       "      <td>16463.88</td>\n",
       "      <td>16594.41</td>\n",
       "      <td>16437.03</td>\n",
       "      <td>16444.63</td>\n",
       "      <td>2.044390e+10</td>\n",
       "      <td>3.160405e+11</td>\n",
       "      <td>32110.891217</td>\n",
       "      <td>16352.882857</td>\n",
       "      <td>16464.28</td>\n",
       "      <td>16291.83</td>\n",
       "    </tr>\n",
       "    <tr>\n",
       "      <th>5</th>\n",
       "      <td>5</td>\n",
       "      <td>2022/11/28</td>\n",
       "      <td>16440.22</td>\n",
       "      <td>16482.93</td>\n",
       "      <td>16054.53</td>\n",
       "      <td>16217.32</td>\n",
       "      <td>2.774303e+10</td>\n",
       "      <td>3.116864e+11</td>\n",
       "      <td>32110.891217</td>\n",
       "      <td>16352.882857</td>\n",
       "      <td>16464.28</td>\n",
       "      <td>15787.28</td>\n",
       "    </tr>\n",
       "    <tr>\n",
       "      <th>4</th>\n",
       "      <td>4</td>\n",
       "      <td>2022/11/29</td>\n",
       "      <td>16217.64</td>\n",
       "      <td>16522.26</td>\n",
       "      <td>16139.40</td>\n",
       "      <td>16444.98</td>\n",
       "      <td>2.358169e+10</td>\n",
       "      <td>3.160749e+11</td>\n",
       "      <td>32110.891217</td>\n",
       "      <td>16352.882857</td>\n",
       "      <td>16464.28</td>\n",
       "      <td>16189.77</td>\n",
       "    </tr>\n",
       "    <tr>\n",
       "      <th>3</th>\n",
       "      <td>3</td>\n",
       "      <td>2022/11/30</td>\n",
       "      <td>16445.48</td>\n",
       "      <td>17190.94</td>\n",
       "      <td>16445.48</td>\n",
       "      <td>17168.57</td>\n",
       "      <td>2.952358e+10</td>\n",
       "      <td>3.299976e+11</td>\n",
       "      <td>32110.891217</td>\n",
       "      <td>16352.882857</td>\n",
       "      <td>16464.28</td>\n",
       "      <td>16610.71</td>\n",
       "    </tr>\n",
       "    <tr>\n",
       "      <th>2</th>\n",
       "      <td>2</td>\n",
       "      <td>2022/12/01</td>\n",
       "      <td>17168.00</td>\n",
       "      <td>17197.50</td>\n",
       "      <td>16888.39</td>\n",
       "      <td>16967.13</td>\n",
       "      <td>2.289539e+10</td>\n",
       "      <td>3.261421e+11</td>\n",
       "      <td>32110.891217</td>\n",
       "      <td>16352.882857</td>\n",
       "      <td>16464.28</td>\n",
       "      <td>16604.47</td>\n",
       "    </tr>\n",
       "    <tr>\n",
       "      <th>1</th>\n",
       "      <td>1</td>\n",
       "      <td>2022/12/02</td>\n",
       "      <td>16968.68</td>\n",
       "      <td>17088.66</td>\n",
       "      <td>16877.88</td>\n",
       "      <td>17088.66</td>\n",
       "      <td>1.953971e+10</td>\n",
       "      <td>3.284917e+11</td>\n",
       "      <td>32110.891217</td>\n",
       "      <td>16352.882857</td>\n",
       "      <td>16464.28</td>\n",
       "      <td>16521.84</td>\n",
       "    </tr>\n",
       "    <tr>\n",
       "      <th>0</th>\n",
       "      <td>0</td>\n",
       "      <td>2022/12/03</td>\n",
       "      <td>17090.10</td>\n",
       "      <td>17116.04</td>\n",
       "      <td>16888.14</td>\n",
       "      <td>16908.24</td>\n",
       "      <td>1.621778e+10</td>\n",
       "      <td>3.250372e+11</td>\n",
       "      <td>32110.891217</td>\n",
       "      <td>16352.882857</td>\n",
       "      <td>16464.28</td>\n",
       "      <td>16464.28</td>\n",
       "    </tr>\n",
       "  </tbody>\n",
       "</table>\n",
       "</div>"
      ],
      "text/plain": [
       "   id    CoinDate  CoinOpen  CoinHigh   CoinLow  CoinClose    CoinVolume  \\\n",
       "6   6  2022/11/27  16463.88  16594.41  16437.03   16444.63  2.044390e+10   \n",
       "5   5  2022/11/28  16440.22  16482.93  16054.53   16217.32  2.774303e+10   \n",
       "4   4  2022/11/29  16217.64  16522.26  16139.40   16444.98  2.358169e+10   \n",
       "3   3  2022/11/30  16445.48  17190.94  16445.48   17168.57  2.952358e+10   \n",
       "2   2  2022/12/01  17168.00  17197.50  16888.39   16967.13  2.289539e+10   \n",
       "1   1  2022/12/02  16968.68  17088.66  16877.88   17088.66  1.953971e+10   \n",
       "0   0  2022/12/03  17090.10  17116.04  16888.14   16908.24  1.621778e+10   \n",
       "\n",
       "        CoinCap     pred_mean  pred__last_yr_mean  pred_last  pred_last_season  \n",
       "6  3.160405e+11  32110.891217        16352.882857   16464.28          16291.83  \n",
       "5  3.116864e+11  32110.891217        16352.882857   16464.28          15787.28  \n",
       "4  3.160749e+11  32110.891217        16352.882857   16464.28          16189.77  \n",
       "3  3.299976e+11  32110.891217        16352.882857   16464.28          16610.71  \n",
       "2  3.261421e+11  32110.891217        16352.882857   16464.28          16604.47  \n",
       "1  3.284917e+11  32110.891217        16352.882857   16464.28          16521.84  \n",
       "0  3.250372e+11  32110.891217        16352.882857   16464.28          16464.28  "
      ]
     },
     "execution_count": 40,
     "metadata": {},
     "output_type": "execute_result"
    }
   ],
   "source": [
    "test.loc[:, 'pred_last_season'] = train['CoinClose'][-7:].values\n",
    "\n",
    "test"
   ]
  },
  {
   "cell_type": "code",
   "execution_count": 41,
   "id": "ecological-gibraltar",
   "metadata": {},
   "outputs": [
    {
     "data": {
      "text/plain": [
       "2.3517412512353597"
      ]
     },
     "execution_count": 41,
     "metadata": {},
     "output_type": "execute_result"
    }
   ],
   "source": [
    "mape_naive_seasonal = mape(test['CoinClose'], test['pred_last_season'])\n",
    "mape_naive_seasonal"
   ]
  },
  {
   "cell_type": "code",
   "execution_count": 48,
   "id": "joint-replication",
   "metadata": {},
   "outputs": [
    {
     "data": {
      "image/png": "[encoded data removed]",
      "text/plain": [
       "<Figure size 432x288 with 1 Axes>"
      ]
     },
     "metadata": {
      "needs_background": "light"
     },
     "output_type": "display_data"
    }
   ],
   "source": [
    "fig, ax = plt.subplots()\n",
    "\n",
    "ax.plot(train['date'], train['data'], 'g-.', label='Train')\n",
    "ax.plot(test['date'], test['data'], 'b-', label='Test')\n",
    "ax.plot(test['date'], test['pred_last_season'], 'r--', label='Predicted')\n",
    "ax.set_xlabel('Date')\n",
    "ax.set_ylabel('Earnings per share (USD)')\n",
    "ax.axvspan(80, 83, color='#808080', alpha=0.2)\n",
    "ax.legend(loc=2)\n",
    "\n",
    "plt.xticks(np.arange(0, 85, 8), [1960, 1962, 1964, 1966, 1968, 1970, 1972, 1974, 1976, 1978, 1980])\n",
    "\n",
    "fig.autofmt_xdate()\n",
    "plt.tight_layout()\n",
    "\n",
    "plt.savefig('figures/CH02_F09_peixeiro.png', dpi=300)"
   ]
  },
  {
   "cell_type": "code",
   "execution_count": 42,
   "id": "silent-bradford",
   "metadata": {},
   "outputs": [
    {
     "data": {
      "image/png": "[encoded data removed]",
      "text/plain": [
       "<Figure size 640x480 with 1 Axes>"
      ]
     },
     "metadata": {},
     "output_type": "display_data"
    }
   ],
   "source": [
    "fig, ax = plt.subplots()\n",
    "\n",
    "x = ['hist_mean', 'last_weak_mean', 'last', 'naive_seasonal']\n",
    "y = [70.00, 15.60, 30.46, 11.56]\n",
    "\n",
    "ax.bar(x, y, width=0.4)\n",
    "ax.set_xlabel('Baselines')\n",
    "ax.set_ylabel('MAPE (%)')\n",
    "ax.set_ylim(0, 75)\n",
    "\n",
    "for index, value in enumerate(y):\n",
    "    plt.text(x=index, y=value + 1, s=str(value), ha='center')\n",
    "\n",
    "plt.tight_layout()\n",
    "\n",
    "plt.savefig('figures/CH02_F10_peixeiro.png', dpi=300)"
   ]
  }
 ],
 "metadata": {
  "kernelspec": {
   "display_name": "Python 3",
   "language": "python",
   "name": "python3"
  },
  "language_info": {
   "codemirror_mode": {
    "name": "ipython",
    "version": 3
   },
   "file_extension": ".py",
   "mimetype": "text/x-python",
   "name": "python",
   "nbconvert_exporter": "python",
   "pygments_lexer": "ipython3",
   "version": "3.11.0"
  },
  "vscode": {
   "interpreter": {
    "hash": "1682e5d06a6d97c1b1cf6bb4ae6cf16223e994936ddb1d53664597d7d46101fa"
   }
  }
 },
 "nbformat": 4,
 "nbformat_minor": 5
}
