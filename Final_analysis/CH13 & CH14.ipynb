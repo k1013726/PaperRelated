{
 "cells": [
  {
   "cell_type": "code",
   "execution_count": 5,
   "id": "statutory-above",
   "metadata": {},
   "outputs": [],
   "source": [
    "import datetime\n",
    "\n",
    "import numpy as np\n",
    "import pandas as pd\n",
    "import seaborn as sns\n",
    "import tensorflow as tf\n",
    "import matplotlib.pyplot as plt\n",
    "\n",
    "from tensorflow.keras import Model, Sequential\n",
    "\n",
    "from tensorflow.keras.optimizers import Adam\n",
    "from tensorflow.keras.callbacks import EarlyStopping\n",
    "from tensorflow.keras.losses import MeanSquaredError\n",
    "from tensorflow.keras.metrics import MeanAbsoluteError\n",
    "\n",
    "from tensorflow.keras.layers import Dense, Conv1D, LSTM, Lambda, Reshape, RNN, LSTMCell\n",
    "\n",
    "import warnings\n",
    "warnings.filterwarnings('ignore')"
   ]
  },
  {
   "cell_type": "code",
   "execution_count": 6,
   "id": "chinese-relations",
   "metadata": {},
   "outputs": [],
   "source": [
    "plt.rcParams['figure.figsize'] = (10, 7.5)\n",
    "plt.rcParams['axes.grid'] = False"
   ]
  },
  {
   "cell_type": "code",
   "execution_count": 7,
   "id": "surprising-howard",
   "metadata": {},
   "outputs": [
    {
     "name": "stdout",
     "output_type": "stream",
     "text": [
      "2.12.0\n"
     ]
    }
   ],
   "source": [
    "print(tf.__version__)"
   ]
  },
  {
   "cell_type": "code",
   "execution_count": 4,
   "id": "artificial-boulder",
   "metadata": {},
   "outputs": [],
   "source": [
    "tf.random.set_seed(42)\n",
    "np.random.seed(42)"
   ]
  },
  {
   "cell_type": "code",
   "execution_count": 8,
   "id": "ba7d8333",
   "metadata": {},
   "outputs": [
    {
     "name": "stdout",
     "output_type": "stream",
     "text": [
      "(2151, 5) (614, 5) (308, 5)\n"
     ]
    }
   ],
   "source": [
    "train_df = pd.read_csv('./HScore/data/train.csv', index_col=0).drop(['CionScore','Coin_timestamp'],axis=1)\n",
    "val_df = pd.read_csv('./HScore/data/val.csv', index_col=0).drop(['CionScore','Coin_timestamp'],axis=1)\n",
    "test_df = pd.read_csv('./HScore/data/test.csv', index_col=0).drop(['CionScore','Coin_timestamp'],axis=1)\n",
    "\n",
    "print(train_df.shape, val_df.shape, test_df.shape)"
   ]
  },
  {
   "cell_type": "code",
   "execution_count": 9,
   "id": "9c6f3ccb",
   "metadata": {},
   "outputs": [
    {
     "data": {
      "text/html": [
       "<div>\n",
       "<style scoped>\n",
       "    .dataframe tbody tr th:only-of-type {\n",
       "        vertical-align: middle;\n",
       "    }\n",
       "\n",
       "    .dataframe tbody tr th {\n",
       "        vertical-align: top;\n",
       "    }\n",
       "\n",
       "    .dataframe thead th {\n",
       "        text-align: right;\n",
       "    }\n",
       "</style>\n",
       "<table border=\"1\" class=\"dataframe\">\n",
       "  <thead>\n",
       "    <tr style=\"text-align: right;\">\n",
       "      <th></th>\n",
       "      <th>Open</th>\n",
       "      <th>High</th>\n",
       "      <th>Low</th>\n",
       "      <th>Close</th>\n",
       "      <th>Volume</th>\n",
       "    </tr>\n",
       "  </thead>\n",
       "  <tbody>\n",
       "    <tr>\n",
       "      <th>0</th>\n",
       "      <td>0.010909</td>\n",
       "      <td>0.009038</td>\n",
       "      <td>0.011130</td>\n",
       "      <td>0.010638</td>\n",
       "      <td>0.000274</td>\n",
       "    </tr>\n",
       "    <tr>\n",
       "      <th>1</th>\n",
       "      <td>0.010731</td>\n",
       "      <td>0.008742</td>\n",
       "      <td>0.010713</td>\n",
       "      <td>0.010195</td>\n",
       "      <td>0.000214</td>\n",
       "    </tr>\n",
       "    <tr>\n",
       "      <th>2</th>\n",
       "      <td>0.010274</td>\n",
       "      <td>0.008349</td>\n",
       "      <td>0.009911</td>\n",
       "      <td>0.009390</td>\n",
       "      <td>0.000337</td>\n",
       "    </tr>\n",
       "    <tr>\n",
       "      <th>3</th>\n",
       "      <td>0.009482</td>\n",
       "      <td>0.007685</td>\n",
       "      <td>0.008210</td>\n",
       "      <td>0.007804</td>\n",
       "      <td>0.000557</td>\n",
       "    </tr>\n",
       "    <tr>\n",
       "      <th>4</th>\n",
       "      <td>0.007877</td>\n",
       "      <td>0.006544</td>\n",
       "      <td>0.006264</td>\n",
       "      <td>0.007371</td>\n",
       "      <td>0.001044</td>\n",
       "    </tr>\n",
       "    <tr>\n",
       "      <th>...</th>\n",
       "      <td>...</td>\n",
       "      <td>...</td>\n",
       "      <td>...</td>\n",
       "      <td>...</td>\n",
       "      <td>...</td>\n",
       "    </tr>\n",
       "    <tr>\n",
       "      <th>2146</th>\n",
       "      <td>0.605723</td>\n",
       "      <td>0.589778</td>\n",
       "      <td>0.615111</td>\n",
       "      <td>0.606373</td>\n",
       "      <td>0.277508</td>\n",
       "    </tr>\n",
       "    <tr>\n",
       "      <th>2147</th>\n",
       "      <td>0.607224</td>\n",
       "      <td>0.611116</td>\n",
       "      <td>0.618808</td>\n",
       "      <td>0.625090</td>\n",
       "      <td>0.380599</td>\n",
       "    </tr>\n",
       "    <tr>\n",
       "      <th>2148</th>\n",
       "      <td>0.625683</td>\n",
       "      <td>0.609942</td>\n",
       "      <td>0.626670</td>\n",
       "      <td>0.611468</td>\n",
       "      <td>0.351140</td>\n",
       "    </tr>\n",
       "    <tr>\n",
       "      <th>2149</th>\n",
       "      <td>0.612158</td>\n",
       "      <td>0.594508</td>\n",
       "      <td>0.612459</td>\n",
       "      <td>0.599410</td>\n",
       "      <td>0.330366</td>\n",
       "    </tr>\n",
       "    <tr>\n",
       "      <th>2150</th>\n",
       "      <td>0.600273</td>\n",
       "      <td>0.588043</td>\n",
       "      <td>0.613668</td>\n",
       "      <td>0.605626</td>\n",
       "      <td>0.272004</td>\n",
       "    </tr>\n",
       "  </tbody>\n",
       "</table>\n",
       "<p>2151 rows × 5 columns</p>\n",
       "</div>"
      ],
      "text/plain": [
       "          Open      High       Low     Close    Volume\n",
       "0     0.010909  0.009038  0.011130  0.010638  0.000274\n",
       "1     0.010731  0.008742  0.010713  0.010195  0.000214\n",
       "2     0.010274  0.008349  0.009911  0.009390  0.000337\n",
       "3     0.009482  0.007685  0.008210  0.007804  0.000557\n",
       "4     0.007877  0.006544  0.006264  0.007371  0.001044\n",
       "...        ...       ...       ...       ...       ...\n",
       "2146  0.605723  0.589778  0.615111  0.606373  0.277508\n",
       "2147  0.607224  0.611116  0.618808  0.625090  0.380599\n",
       "2148  0.625683  0.609942  0.626670  0.611468  0.351140\n",
       "2149  0.612158  0.594508  0.612459  0.599410  0.330366\n",
       "2150  0.600273  0.588043  0.613668  0.605626  0.272004\n",
       "\n",
       "[2151 rows x 5 columns]"
      ]
     },
     "execution_count": 9,
     "metadata": {},
     "output_type": "execute_result"
    }
   ],
   "source": [
    "train_df"
   ]
  },
  {
   "cell_type": "code",
   "execution_count": 14,
   "id": "cacd3a2b",
   "metadata": {},
   "outputs": [],
   "source": [
    "class DataWindow():\n",
    "    def __init__(self, input_width, label_width, shift, \n",
    "                 train_df=train_df, val_df=val_df, test_df=test_df, \n",
    "                 label_columns=None):\n",
    "        \n",
    "        self.train_df = train_df\n",
    "        self.val_df = val_df\n",
    "        self.test_df = test_df\n",
    "        \n",
    "        self.label_columns = label_columns\n",
    "        if label_columns is not None:\n",
    "            self.label_columns_indices = {name: i for i, name in enumerate(label_columns)}\n",
    "        self.column_indices = {name: i for i, name in enumerate(train_df.columns)}\n",
    "        \n",
    "        self.input_width = input_width\n",
    "        self.label_width = label_width\n",
    "        self.shift = shift\n",
    "        \n",
    "        self.total_window_size = input_width + shift\n",
    "        \n",
    "        self.input_slice = slice(0, input_width)\n",
    "        self.input_indices = np.arange(self.total_window_size)[self.input_slice]\n",
    "        \n",
    "        self.label_start = self.total_window_size - self.label_width\n",
    "        self.labels_slice = slice(self.label_start, None)\n",
    "        self.label_indices = np.arange(self.total_window_size)[self.labels_slice]\n",
    "    \n",
    "    def split_to_inputs_labels(self, features):\n",
    "        inputs = features[:, self.input_slice, :]\n",
    "        labels = features[:, self.labels_slice, :]\n",
    "        if self.label_columns is not None:\n",
    "            labels = tf.stack(\n",
    "                [labels[:,:,self.column_indices[name]] for name in self.label_columns],\n",
    "                axis=-1\n",
    "            )\n",
    "        inputs.set_shape([None, self.input_width, None])\n",
    "        labels.set_shape([None, self.label_width, None])\n",
    "        \n",
    "        return inputs, labels\n",
    "    \n",
    "    def plot(self, model=None, plot_col='Close', max_subplots=3):\n",
    "        inputs, labels = self.sample_batch\n",
    "        \n",
    "        plt.figure(figsize=(12, 8))\n",
    "        plot_col_index = self.column_indices[plot_col]\n",
    "        max_n = min(max_subplots, len(inputs))\n",
    "        \n",
    "        for n in range(max_n):\n",
    "            plt.subplot(3, 1, n+1)\n",
    "            plt.ylabel(f'{plot_col} [scaled]')\n",
    "            plt.plot(self.input_indices, inputs[n, :, plot_col_index],\n",
    "                     label='Inputs', marker='.', zorder=-10)\n",
    "\n",
    "            if self.label_columns:\n",
    "              label_col_index = self.label_columns_indices.get(plot_col, None)\n",
    "            else:\n",
    "              label_col_index = plot_col_index\n",
    "\n",
    "            if label_col_index is None:\n",
    "              continue\n",
    "\n",
    "            plt.scatter(self.label_indices, labels[n, :, label_col_index],\n",
    "                        edgecolors='k', marker='s', label='Labels', c='green', s=64)\n",
    "            if model is not None:\n",
    "              predictions = model(inputs)\n",
    "              plt.scatter(self.label_indices, predictions[n, :, label_col_index],\n",
    "                          marker='X', edgecolors='k', label='Predictions',\n",
    "                          c='red', s=64)\n",
    "\n",
    "            if n == 0:\n",
    "              plt.legend()\n",
    "\n",
    "        plt.xlabel('Time (h)')\n",
    "        \n",
    "    def make_dataset(self, data):\n",
    "        data = np.array(data, dtype=np.float32)\n",
    "        ds = tf.keras.preprocessing.timeseries_dataset_from_array(\n",
    "            data=data,\n",
    "            targets=None,\n",
    "            sequence_length=self.total_window_size,\n",
    "            sequence_stride=1,\n",
    "            shuffle=True,\n",
    "            batch_size=32\n",
    "        )\n",
    "        \n",
    "        ds = ds.map(self.split_to_inputs_labels)\n",
    "        return ds\n",
    "    \n",
    "    @property\n",
    "    def train(self):\n",
    "        return self.make_dataset(self.train_df)\n",
    "    \n",
    "    @property\n",
    "    def val(self):\n",
    "        return self.make_dataset(self.val_df)\n",
    "    \n",
    "    @property\n",
    "    def test(self):\n",
    "        return self.make_dataset(self.test_df)\n",
    "    \n",
    "    @property\n",
    "    def sample_batch(self):\n",
    "        result = getattr(self, '_sample_batch', None)\n",
    "        if result is None:\n",
    "            result = next(iter(self.train))\n",
    "            self._sample_batch = result\n",
    "        return result"
   ]
  },
  {
   "cell_type": "code",
   "execution_count": 15,
   "id": "f2ff987e",
   "metadata": {},
   "outputs": [],
   "source": [
    "multi_window = DataWindow(input_width=7, label_width=7, shift=1, label_columns=['Close'])"
   ]
  },
  {
   "cell_type": "markdown",
   "id": "4b5fd6a0",
   "metadata": {},
   "source": [
    "# Chapter 14 "
   ]
  },
  {
   "cell_type": "code",
   "execution_count": 16,
   "id": "1355834a",
   "metadata": {},
   "outputs": [],
   "source": [
    "def compile_and_fit(model, window, patience=3, max_epochs=50):\n",
    "    early_stopping = EarlyStopping(monitor='val_loss',\n",
    "                                   patience=patience,\n",
    "                                   mode='min')\n",
    "    \n",
    "    model.compile(loss=MeanSquaredError(),\n",
    "                  optimizer=Adam(),\n",
    "                  metrics=[MeanAbsoluteError()])\n",
    "    \n",
    "    history = model.fit(window.train,\n",
    "                       epochs=max_epochs,\n",
    "                       validation_data=window.val,\n",
    "                       callbacks=[early_stopping])\n",
    "    \n",
    "    return history"
   ]
  },
  {
   "cell_type": "markdown",
   "id": "85a12e9f",
   "metadata": {},
   "source": [
    "### 14.1.2 Building a mutli-step linear model "
   ]
  },
  {
   "cell_type": "code",
   "execution_count": 20,
   "id": "918b1ad9",
   "metadata": {},
   "outputs": [],
   "source": [
    "ms_val_performance={}\n",
    "ms_performance={}"
   ]
  },
  {
   "cell_type": "code",
   "execution_count": 24,
   "id": "4f011be8",
   "metadata": {
    "collapsed": true
   },
   "outputs": [
    {
     "name": "stdout",
     "output_type": "stream",
     "text": [
      "Epoch 1/50\n",
      "67/67 [==============================] - 1s 3ms/step - loss: 0.0754 - mean_absolute_error: 0.1916 - val_loss: 2.2968 - val_mean_absolute_error: 1.4207\n",
      "Epoch 2/50\n",
      "67/67 [==============================] - 0s 2ms/step - loss: 0.0314 - mean_absolute_error: 0.1361 - val_loss: 1.1272 - val_mean_absolute_error: 0.9874\n",
      "Epoch 3/50\n",
      "67/67 [==============================] - 0s 2ms/step - loss: 0.0157 - mean_absolute_error: 0.1043 - val_loss: 0.5864 - val_mean_absolute_error: 0.7041\n",
      "Epoch 4/50\n",
      "67/67 [==============================] - 0s 2ms/step - loss: 0.0102 - mean_absolute_error: 0.0865 - val_loss: 0.3283 - val_mean_absolute_error: 0.5187\n",
      "Epoch 5/50\n",
      "67/67 [==============================] - 0s 2ms/step - loss: 0.0072 - mean_absolute_error: 0.0736 - val_loss: 0.1947 - val_mean_absolute_error: 0.3903\n",
      "Epoch 6/50\n",
      "67/67 [==============================] - 0s 2ms/step - loss: 0.0051 - mean_absolute_error: 0.0619 - val_loss: 0.1147 - val_mean_absolute_error: 0.2874\n",
      "Epoch 7/50\n",
      "67/67 [==============================] - 0s 3ms/step - loss: 0.0036 - mean_absolute_error: 0.0512 - val_loss: 0.0688 - val_mean_absolute_error: 0.2098\n",
      "Epoch 8/50\n",
      "67/67 [==============================] - 0s 2ms/step - loss: 0.0026 - mean_absolute_error: 0.0423 - val_loss: 0.0417 - val_mean_absolute_error: 0.1530\n",
      "Epoch 9/50\n",
      "67/67 [==============================] - 0s 2ms/step - loss: 0.0019 - mean_absolute_error: 0.0350 - val_loss: 0.0290 - val_mean_absolute_error: 0.1243\n",
      "Epoch 10/50\n",
      "67/67 [==============================] - 0s 2ms/step - loss: 0.0015 - mean_absolute_error: 0.0293 - val_loss: 0.0243 - val_mean_absolute_error: 0.1160\n",
      "Epoch 11/50\n",
      "67/67 [==============================] - 0s 2ms/step - loss: 0.0012 - mean_absolute_error: 0.0248 - val_loss: 0.0237 - val_mean_absolute_error: 0.1159\n",
      "Epoch 12/50\n",
      "67/67 [==============================] - 0s 2ms/step - loss: 0.0011 - mean_absolute_error: 0.0216 - val_loss: 0.0248 - val_mean_absolute_error: 0.1195\n",
      "Epoch 13/50\n",
      "67/67 [==============================] - 0s 2ms/step - loss: 9.5791e-04 - mean_absolute_error: 0.0191 - val_loss: 0.0261 - val_mean_absolute_error: 0.1231\n",
      "Epoch 14/50\n",
      "67/67 [==============================] - 0s 2ms/step - loss: 8.9088e-04 - mean_absolute_error: 0.0172 - val_loss: 0.0275 - val_mean_absolute_error: 0.1265\n",
      "19/19 [==============================] - 0s 968us/step - loss: 0.0275 - mean_absolute_error: 0.1265\n",
      "驗證集的MSE 0.12650945782661438\n",
      "測試集的MSE 0.06032315641641617\n"
     ]
    }
   ],
   "source": [
    "ms_linear = Sequential([\n",
    "    Dense(1)\n",
    "])\n",
    "\n",
    "history = compile_and_fit(ms_linear, multi_window)\n",
    "\n",
    "ms_val_performance['Linear'] = ms_linear.evaluate(multi_window.val)\n",
    "ms_performance['Linear'] = ms_linear.evaluate(multi_window.test, verbose=0)\n",
    "\n",
    "\n",
    "print(f\"驗證集的MSE {ms_val_performance['Linear'][1]}\")\n",
    "print(f\"測試集的MSE {ms_performance['Linear'][1]}\")"
   ]
  },
  {
   "attachments": {},
   "cell_type": "markdown",
   "id": "d377ae13",
   "metadata": {},
   "source": [
    "## 14.2 Implementing a deep neural network\n",
    "### 14.2.2 Implementing a deep neural network as a multi-step model "
   ]
  },
  {
   "cell_type": "code",
   "execution_count": 23,
   "id": "2ab64a2d",
   "metadata": {
    "collapsed": true
   },
   "outputs": [
    {
     "name": "stdout",
     "output_type": "stream",
     "text": [
      "Epoch 1/50\n",
      "67/67 [==============================] - 1s 4ms/step - loss: 0.0241 - mean_absolute_error: 0.0995 - val_loss: 0.0749 - val_mean_absolute_error: 0.2281\n",
      "Epoch 2/50\n",
      "67/67 [==============================] - 0s 3ms/step - loss: 5.5304e-04 - mean_absolute_error: 0.0131 - val_loss: 0.0136 - val_mean_absolute_error: 0.0880\n",
      "Epoch 3/50\n",
      "67/67 [==============================] - 0s 2ms/step - loss: 2.8529e-04 - mean_absolute_error: 0.0083 - val_loss: 0.0149 - val_mean_absolute_error: 0.0927\n",
      "Epoch 4/50\n",
      "67/67 [==============================] - 0s 3ms/step - loss: 2.7938e-04 - mean_absolute_error: 0.0079 - val_loss: 0.0154 - val_mean_absolute_error: 0.0947\n",
      "Epoch 5/50\n",
      "67/67 [==============================] - 0s 2ms/step - loss: 2.7627e-04 - mean_absolute_error: 0.0079 - val_loss: 0.0147 - val_mean_absolute_error: 0.0921\n",
      "19/19 [==============================] - 0s 1ms/step - loss: 0.0147 - mean_absolute_error: 0.0921\n"
     ]
    }
   ],
   "source": [
    "ms_dense = Sequential([\n",
    "    Dense(64, activation='relu'),\n",
    "    Dense(64, activation='relu'),\n",
    "    Dense(1, kernel_initializer=tf.initializers.zeros),\n",
    "])\n",
    "\n",
    "history = compile_and_fit(ms_dense, multi_window)\n",
    "\n",
    "ms_val_performance['Dense'] = ms_dense.evaluate(multi_window.val)\n",
    "ms_performance['Dense'] = ms_dense.evaluate(multi_window.test, verbose=0)"
   ]
  }
 ],
 "metadata": {
  "kernelspec": {
   "display_name": "Python 3",
   "language": "python",
   "name": "python3"
  },
  "language_info": {
   "codemirror_mode": {
    "name": "ipython",
    "version": 3
   },
   "file_extension": ".py",
   "mimetype": "text/x-python",
   "name": "python",
   "nbconvert_exporter": "python",
   "pygments_lexer": "ipython3",
   "version": "3.10.9"
  },
  "vscode": {
   "interpreter": {
    "hash": "beedbe2faf2f7048d727558d0bc3221e7eba2a0b921cac4d4771b2feb8f74b30"
   }
  }
 },
 "nbformat": 4,
 "nbformat_minor": 5
}
