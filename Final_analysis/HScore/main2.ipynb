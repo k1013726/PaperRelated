{
 "cells": [
  {
   "cell_type": "code",
   "execution_count": 1,
   "id": "ff32db3c",
   "metadata": {},
   "outputs": [],
   "source": [
    "import datetime\n",
    "\n",
    "import numpy as np\n",
    "import pandas as pd\n",
    "import seaborn as sns\n",
    "import tensorflow as tf\n",
    "import matplotlib.pyplot as plt\n",
    "\n",
    "from tensorflow.keras import Model, Sequential\n",
    "\n",
    "from tensorflow.keras.optimizers import Adam\n",
    "from tensorflow.keras.callbacks import EarlyStopping\n",
    "from tensorflow.keras.losses import MeanSquaredError\n",
    "from tensorflow.keras.metrics import MeanAbsoluteError\n",
    "\n",
    "from tensorflow.keras.layers import Dense, Conv1D, LSTM, Lambda, Reshape, RNN, LSTMCell\n",
    "\n",
    "import warnings\n",
    "warnings.filterwarnings('ignore')"
   ]
  },
  {
   "cell_type": "code",
   "execution_count": 2,
   "id": "e9b19a92",
   "metadata": {},
   "outputs": [],
   "source": [
    "plt.rcParams['figure.figsize'] = (10, 7.5)\n",
    "plt.rcParams['axes.grid'] = False"
   ]
  },
  {
   "cell_type": "code",
   "execution_count": 3,
   "id": "3d6b177b",
   "metadata": {},
   "outputs": [
    {
     "name": "stdout",
     "output_type": "stream",
     "text": [
      "2.11.0\n"
     ]
    }
   ],
   "source": [
    "print(tf.__version__)"
   ]
  },
  {
   "cell_type": "code",
   "execution_count": 4,
   "id": "78c3689a",
   "metadata": {},
   "outputs": [],
   "source": [
    "tf.random.set_seed(42)\n",
    "np.random.seed(42)"
   ]
  },
  {
   "cell_type": "code",
   "execution_count": 13,
   "id": "498d4344",
   "metadata": {},
   "outputs": [
    {
     "name": "stdout",
     "output_type": "stream",
     "text": [
      "(2151, 6) (614, 6) (308, 6)\n"
     ]
    }
   ],
   "source": [
    "train_df = pd.read_csv('data/train.csv', index_col=0).drop('Coin_timestamp',axis=1)\n",
    "val_df = pd.read_csv('data/val.csv', index_col=0).drop('Coin_timestamp',axis=1)\n",
    "test_df = pd.read_csv('data/test.csv', index_col=0).drop('Coin_timestamp',axis=1)\n",
    "\n",
    "print(train_df.shape, val_df.shape, test_df.shape)"
   ]
  },
  {
   "cell_type": "code",
   "execution_count": 14,
   "id": "c5e3d37d",
   "metadata": {},
   "outputs": [
    {
     "data": {
      "text/html": [
       "<div>\n",
       "<style scoped>\n",
       "    .dataframe tbody tr th:only-of-type {\n",
       "        vertical-align: middle;\n",
       "    }\n",
       "\n",
       "    .dataframe tbody tr th {\n",
       "        vertical-align: top;\n",
       "    }\n",
       "\n",
       "    .dataframe thead th {\n",
       "        text-align: right;\n",
       "    }\n",
       "</style>\n",
       "<table border=\"1\" class=\"dataframe\">\n",
       "  <thead>\n",
       "    <tr style=\"text-align: right;\">\n",
       "      <th></th>\n",
       "      <th>Open</th>\n",
       "      <th>High</th>\n",
       "      <th>Low</th>\n",
       "      <th>Close</th>\n",
       "      <th>Volume</th>\n",
       "      <th>CionScore</th>\n",
       "    </tr>\n",
       "  </thead>\n",
       "  <tbody>\n",
       "    <tr>\n",
       "      <th>0</th>\n",
       "      <td>0.010909</td>\n",
       "      <td>0.009038</td>\n",
       "      <td>0.011130</td>\n",
       "      <td>0.010638</td>\n",
       "      <td>0.000274</td>\n",
       "      <td>0.394260</td>\n",
       "    </tr>\n",
       "    <tr>\n",
       "      <th>1</th>\n",
       "      <td>0.010731</td>\n",
       "      <td>0.008742</td>\n",
       "      <td>0.010713</td>\n",
       "      <td>0.010195</td>\n",
       "      <td>0.000214</td>\n",
       "      <td>0.597569</td>\n",
       "    </tr>\n",
       "    <tr>\n",
       "      <th>2</th>\n",
       "      <td>0.010274</td>\n",
       "      <td>0.008349</td>\n",
       "      <td>0.009911</td>\n",
       "      <td>0.009390</td>\n",
       "      <td>0.000337</td>\n",
       "      <td>0.440592</td>\n",
       "    </tr>\n",
       "    <tr>\n",
       "      <th>3</th>\n",
       "      <td>0.009482</td>\n",
       "      <td>0.007685</td>\n",
       "      <td>0.008210</td>\n",
       "      <td>0.007804</td>\n",
       "      <td>0.000557</td>\n",
       "      <td>0.440592</td>\n",
       "    </tr>\n",
       "    <tr>\n",
       "      <th>4</th>\n",
       "      <td>0.007877</td>\n",
       "      <td>0.006544</td>\n",
       "      <td>0.006264</td>\n",
       "      <td>0.007371</td>\n",
       "      <td>0.001044</td>\n",
       "      <td>0.440592</td>\n",
       "    </tr>\n",
       "  </tbody>\n",
       "</table>\n",
       "</div>"
      ],
      "text/plain": [
       "       Open      High       Low     Close    Volume  CionScore\n",
       "0  0.010909  0.009038  0.011130  0.010638  0.000274   0.394260\n",
       "1  0.010731  0.008742  0.010713  0.010195  0.000214   0.597569\n",
       "2  0.010274  0.008349  0.009911  0.009390  0.000337   0.440592\n",
       "3  0.009482  0.007685  0.008210  0.007804  0.000557   0.440592\n",
       "4  0.007877  0.006544  0.006264  0.007371  0.001044   0.440592"
      ]
     },
     "execution_count": 14,
     "metadata": {},
     "output_type": "execute_result"
    }
   ],
   "source": [
    "train_df.head()"
   ]
  },
  {
   "cell_type": "code",
   "execution_count": 15,
   "id": "7edd05a8",
   "metadata": {},
   "outputs": [],
   "source": [
    "class DataWindow():\n",
    "    def __init__(self, input_width, label_width, shift, \n",
    "                 train_df=train_df, val_df=val_df, test_df=test_df, \n",
    "                 label_columns=None):\n",
    "        \n",
    "        self.train_df = train_df\n",
    "        self.val_df = val_df\n",
    "        self.test_df = test_df\n",
    "        \n",
    "        self.label_columns = label_columns\n",
    "        if label_columns is not None:\n",
    "            self.label_columns_indices = {name: i for i, name in enumerate(label_columns)}\n",
    "        self.column_indices = {name: i for i, name in enumerate(train_df.columns)}\n",
    "        \n",
    "        self.input_width = input_width\n",
    "        self.label_width = label_width\n",
    "        self.shift = shift\n",
    "        \n",
    "        self.total_window_size = input_width + shift\n",
    "        \n",
    "        self.input_slice = slice(0, input_width)\n",
    "        self.input_indices = np.arange(self.total_window_size)[self.input_slice]\n",
    "        \n",
    "        self.label_start = self.total_window_size - self.label_width\n",
    "        self.labels_slice = slice(self.label_start, None)\n",
    "        self.label_indices = np.arange(self.total_window_size)[self.labels_slice]\n",
    "    \n",
    "    def split_to_inputs_labels(self, features):\n",
    "        inputs = features[:, self.input_slice, :]\n",
    "        labels = features[:, self.labels_slice, :]\n",
    "        if self.label_columns is not None:\n",
    "            labels = tf.stack(\n",
    "                [labels[:,:,self.column_indices[name]] for name in self.label_columns],\n",
    "                axis=-1\n",
    "            )\n",
    "        inputs.set_shape([None, self.input_width, None])\n",
    "        labels.set_shape([None, self.label_width, None])\n",
    "        \n",
    "        return inputs, labels\n",
    "    \n",
    "    def plot(self, model=None, plot_col='traffic_volume', max_subplots=3):\n",
    "        inputs, labels = self.sample_batch\n",
    "        \n",
    "        plt.figure(figsize=(12, 8))\n",
    "        plot_col_index = self.column_indices[plot_col]\n",
    "        max_n = min(max_subplots, len(inputs))\n",
    "        \n",
    "        for n in range(max_n):\n",
    "            plt.subplot(3, 1, n+1)\n",
    "            plt.ylabel(f'{plot_col} [scaled]')\n",
    "            plt.plot(self.input_indices, inputs[n, :, plot_col_index],\n",
    "                     label='Inputs', marker='.', zorder=-10)\n",
    "\n",
    "            if self.label_columns:\n",
    "              label_col_index = self.label_columns_indices.get(plot_col, None)\n",
    "            else:\n",
    "              label_col_index = plot_col_index\n",
    "\n",
    "            if label_col_index is None:\n",
    "              continue\n",
    "\n",
    "            plt.scatter(self.label_indices, labels[n, :, label_col_index],\n",
    "                        edgecolors='k', marker='s', label='Labels', c='green', s=64)\n",
    "            if model is not None:\n",
    "              predictions = model(inputs)\n",
    "              plt.scatter(self.label_indices, predictions[n, :, label_col_index],\n",
    "                          marker='X', edgecolors='k', label='Predictions',\n",
    "                          c='red', s=64)\n",
    "\n",
    "            if n == 0:\n",
    "              plt.legend()\n",
    "\n",
    "        plt.xlabel('Time (h)')\n",
    "        \n",
    "    def make_dataset(self, data):\n",
    "        data = np.array(data, dtype=np.float32)\n",
    "        ds = tf.keras.preprocessing.timeseries_dataset_from_array(\n",
    "            data=data,\n",
    "            targets=None,\n",
    "            sequence_length=self.total_window_size,\n",
    "            sequence_stride=1,\n",
    "            shuffle=True,\n",
    "            batch_size=32\n",
    "        )\n",
    "        \n",
    "        ds = ds.map(self.split_to_inputs_labels)\n",
    "        return ds\n",
    "    \n",
    "    @property\n",
    "    def train(self):\n",
    "        return self.make_dataset(self.train_df)\n",
    "    \n",
    "    @property\n",
    "    def val(self):\n",
    "        return self.make_dataset(self.val_df)\n",
    "    \n",
    "    @property\n",
    "    def test(self):\n",
    "        return self.make_dataset(self.test_df)\n",
    "    \n",
    "    @property\n",
    "    def sample_batch(self):\n",
    "        result = getattr(self, '_sample_batch', None)\n",
    "        if result is None:\n",
    "            result = next(iter(self.train))\n",
    "            self._sample_batch = result\n",
    "        return result"
   ]
  },
  {
   "cell_type": "code",
   "execution_count": 16,
   "id": "a507fa05",
   "metadata": {},
   "outputs": [],
   "source": [
    "def compile_and_fit(model, window, patience=3, max_epochs=50):\n",
    "    early_stopping = EarlyStopping(monitor='val_loss',\n",
    "                                   patience=patience,\n",
    "                                   mode='min')\n",
    "    \n",
    "    model.compile(loss=MeanSquaredError(),\n",
    "                  optimizer=Adam(),\n",
    "                  metrics=[MeanAbsoluteError()])\n",
    "    \n",
    "    history = model.fit(window.train,\n",
    "                       epochs=max_epochs,\n",
    "                       validation_data=window.val,\n",
    "                       callbacks=[early_stopping])\n",
    "    \n",
    "    return history"
   ]
  },
  {
   "cell_type": "code",
   "execution_count": 17,
   "id": "1a85f354",
   "metadata": {},
   "outputs": [],
   "source": [
    "column_indices = {name: i for i, name in enumerate(train_df.columns)}"
   ]
  },
  {
   "cell_type": "markdown",
   "id": "df308e0a",
   "metadata": {},
   "source": [
    "## CNN "
   ]
  },
  {
   "cell_type": "markdown",
   "id": "efa01851",
   "metadata": {},
   "source": [
    "### Multi-step model "
   ]
  },
  {
   "cell_type": "code",
   "execution_count": 18,
   "id": "78dec5fe",
   "metadata": {},
   "outputs": [],
   "source": [
    "KERNEL_WIDTH = 3\n",
    "LABEL_WIDTH = 28\n",
    "INPUT_WIDTH = LABEL_WIDTH + KERNEL_WIDTH - 1\n",
    "\n",
    "multi_window = DataWindow(input_width=INPUT_WIDTH, label_width=LABEL_WIDTH, shift=7, label_columns=['Close'])"
   ]
  },
  {
   "cell_type": "code",
   "execution_count": 19,
   "id": "b29386c8",
   "metadata": {},
   "outputs": [],
   "source": [
    "# Values obtained from chapter 15\n",
    "\n",
    "ms_mae_val = [0.352, 0.347, 0.088, 0.078, 0.070]\n",
    "ms_mae_test = [0.347, 0.341, 0.076, 0.064, 0.058]"
   ]
  },
  {
   "cell_type": "code",
   "execution_count": 31,
   "id": "97eb4f56",
   "metadata": {
    "collapsed": true
   },
   "outputs": [
    {
     "name": "stdout",
     "output_type": "stream",
     "text": [
      "Epoch 1/50\n",
      "67/67 [==============================] - 1s 3ms/step - loss: 0.0330 - mean_absolute_error: 0.0998 - val_loss: 0.1998 - val_mean_absolute_error: 0.3875\n",
      "Epoch 2/50\n",
      "67/67 [==============================] - 0s 2ms/step - loss: 7.3650e-04 - mean_absolute_error: 0.0171 - val_loss: 0.0982 - val_mean_absolute_error: 0.2668\n",
      "Epoch 3/50\n",
      "67/67 [==============================] - 0s 2ms/step - loss: 5.4692e-04 - mean_absolute_error: 0.0140 - val_loss: 0.0730 - val_mean_absolute_error: 0.2262\n",
      "Epoch 4/50\n",
      "67/67 [==============================] - 0s 2ms/step - loss: 4.8720e-04 - mean_absolute_error: 0.0127 - val_loss: 0.0607 - val_mean_absolute_error: 0.2045\n",
      "Epoch 5/50\n",
      "67/67 [==============================] - 0s 2ms/step - loss: 4.5055e-04 - mean_absolute_error: 0.0118 - val_loss: 0.0589 - val_mean_absolute_error: 0.2021\n",
      "Epoch 6/50\n",
      "67/67 [==============================] - 0s 2ms/step - loss: 4.2458e-04 - mean_absolute_error: 0.0112 - val_loss: 0.0485 - val_mean_absolute_error: 0.1809\n",
      "Epoch 7/50\n",
      "67/67 [==============================] - 0s 2ms/step - loss: 4.0294e-04 - mean_absolute_error: 0.0106 - val_loss: 0.0428 - val_mean_absolute_error: 0.1682\n",
      "Epoch 8/50\n",
      "67/67 [==============================] - 0s 2ms/step - loss: 3.8549e-04 - mean_absolute_error: 0.0102 - val_loss: 0.0414 - val_mean_absolute_error: 0.1654\n",
      "Epoch 9/50\n",
      "67/67 [==============================] - 0s 2ms/step - loss: 3.7083e-04 - mean_absolute_error: 0.0099 - val_loss: 0.0385 - val_mean_absolute_error: 0.1585\n",
      "Epoch 10/50\n",
      "67/67 [==============================] - 0s 2ms/step - loss: 3.5716e-04 - mean_absolute_error: 0.0096 - val_loss: 0.0386 - val_mean_absolute_error: 0.1588\n",
      "Epoch 11/50\n",
      "67/67 [==============================] - 0s 2ms/step - loss: 3.4305e-04 - mean_absolute_error: 0.0093 - val_loss: 0.0372 - val_mean_absolute_error: 0.1555\n",
      "Epoch 12/50\n",
      "67/67 [==============================] - 0s 2ms/step - loss: 3.3250e-04 - mean_absolute_error: 0.0091 - val_loss: 0.0341 - val_mean_absolute_error: 0.1478\n",
      "Epoch 13/50\n",
      "67/67 [==============================] - 0s 2ms/step - loss: 3.1810e-04 - mean_absolute_error: 0.0089 - val_loss: 0.0335 - val_mean_absolute_error: 0.1465\n",
      "Epoch 14/50\n",
      "67/67 [==============================] - 0s 2ms/step - loss: 3.0436e-04 - mean_absolute_error: 0.0086 - val_loss: 0.0344 - val_mean_absolute_error: 0.1492\n",
      "Epoch 15/50\n",
      "67/67 [==============================] - 0s 2ms/step - loss: 2.9481e-04 - mean_absolute_error: 0.0085 - val_loss: 0.0296 - val_mean_absolute_error: 0.1362\n",
      "Epoch 16/50\n",
      "67/67 [==============================] - 0s 2ms/step - loss: 2.8540e-04 - mean_absolute_error: 0.0083 - val_loss: 0.0315 - val_mean_absolute_error: 0.1416\n",
      "Epoch 17/50\n",
      "67/67 [==============================] - 0s 2ms/step - loss: 2.7875e-04 - mean_absolute_error: 0.0081 - val_loss: 0.0278 - val_mean_absolute_error: 0.1314\n",
      "Epoch 18/50\n",
      "67/67 [==============================] - 0s 2ms/step - loss: 2.7388e-04 - mean_absolute_error: 0.0081 - val_loss: 0.0236 - val_mean_absolute_error: 0.1191\n",
      "Epoch 19/50\n",
      "67/67 [==============================] - 0s 2ms/step - loss: 2.7002e-04 - mean_absolute_error: 0.0080 - val_loss: 0.0269 - val_mean_absolute_error: 0.1290\n",
      "Epoch 20/50\n",
      "67/67 [==============================] - 0s 2ms/step - loss: 2.6350e-04 - mean_absolute_error: 0.0078 - val_loss: 0.0262 - val_mean_absolute_error: 0.1270\n",
      "Epoch 21/50\n",
      "67/67 [==============================] - 0s 2ms/step - loss: 2.6004e-04 - mean_absolute_error: 0.0077 - val_loss: 0.0280 - val_mean_absolute_error: 0.1320\n",
      "19/19 [==============================] - 0s 886us/step - loss: 0.0280 - mean_absolute_error: 0.1320\n"
     ]
    }
   ],
   "source": [
    "ms_cnn_model = Sequential([\n",
    "    Conv1D(64, activation='relu', kernel_size=(KERNEL_WIDTH)),\n",
    "    # Dense(units=128, activation='relu'),\n",
    "    # Dense(1, kernel_initializer=tf.initializers.zeros),\n",
    "    Dense(1),\n",
    "])\n",
    "\n",
    "history = compile_and_fit(ms_cnn_model, multi_window)\n",
    "\n",
    "ms_val_performance = {}\n",
    "ms_performance = {}\n",
    "\n",
    "ms_val_performance['CNN'] = ms_cnn_model.evaluate(multi_window.val)\n",
    "ms_performance['CNN'] = ms_cnn_model.evaluate(multi_window.test, verbose=0)"
   ]
  },
  {
   "cell_type": "markdown",
   "id": "834fa38b",
   "metadata": {},
   "source": [
    "#### CNN + LSTM "
   ]
  },
  {
   "cell_type": "code",
   "execution_count": 24,
   "id": "4eb30f80",
   "metadata": {
    "collapsed": true
   },
   "outputs": [
    {
     "name": "stdout",
     "output_type": "stream",
     "text": [
      "Epoch 1/50\n",
      "67/67 [==============================] - 3s 15ms/step - loss: 0.0183 - mean_absolute_error: 0.0772 - val_loss: 1.4930 - val_mean_absolute_error: 1.0625\n",
      "Epoch 2/50\n",
      "67/67 [==============================] - 1s 9ms/step - loss: 0.0024 - mean_absolute_error: 0.0281 - val_loss: 1.2953 - val_mean_absolute_error: 0.9825\n",
      "Epoch 3/50\n",
      "67/67 [==============================] - 1s 9ms/step - loss: 0.0019 - mean_absolute_error: 0.0235 - val_loss: 1.2441 - val_mean_absolute_error: 0.9637\n",
      "Epoch 4/50\n",
      "67/67 [==============================] - 1s 9ms/step - loss: 0.0017 - mean_absolute_error: 0.0218 - val_loss: 1.2080 - val_mean_absolute_error: 0.9466\n",
      "Epoch 5/50\n",
      "67/67 [==============================] - 1s 9ms/step - loss: 0.0016 - mean_absolute_error: 0.0213 - val_loss: 1.1787 - val_mean_absolute_error: 0.9312\n",
      "Epoch 6/50\n",
      "67/67 [==============================] - 1s 9ms/step - loss: 0.0016 - mean_absolute_error: 0.0221 - val_loss: 1.2148 - val_mean_absolute_error: 0.9509\n",
      "Epoch 7/50\n",
      "67/67 [==============================] - 1s 9ms/step - loss: 0.0015 - mean_absolute_error: 0.0210 - val_loss: 1.1912 - val_mean_absolute_error: 0.9382\n",
      "Epoch 8/50\n",
      "67/67 [==============================] - 1s 10ms/step - loss: 0.0015 - mean_absolute_error: 0.0207 - val_loss: 1.1867 - val_mean_absolute_error: 0.9382\n",
      "19/19 [==============================] - 0s 3ms/step - loss: 1.1867 - mean_absolute_error: 0.9382\n"
     ]
    }
   ],
   "source": [
    "ms_cnn_lstm_model = Sequential([\n",
    "    Conv1D(128, activation='relu', kernel_size=(KERNEL_WIDTH)),\n",
    "    LSTM(64, return_sequences=True),\n",
    "    Dense(1, kernel_initializer=tf.initializers.zeros),\n",
    "])\n",
    "\n",
    "history = compile_and_fit(ms_cnn_lstm_model, multi_window)\n",
    "\n",
    "ms_val_performance['CNN + LSTM'] = ms_cnn_lstm_model.evaluate(multi_window.val)\n",
    "ms_performance['CNN + LSTM'] = ms_cnn_lstm_model.evaluate(multi_window.test, verbose=0)"
   ]
  },
  {
   "cell_type": "code",
   "execution_count": 19,
   "id": "070ab9c3",
   "metadata": {},
   "outputs": [
    {
     "data": {
      "image/png": "[encoded data removed]",
      "text/plain": [
       "<Figure size 720x540 with 1 Axes>"
      ]
     },
     "metadata": {
      "needs_background": "light"
     },
     "output_type": "display_data"
    }
   ],
   "source": [
    "ms_mae_val.extend([v[1] for v in ms_val_performance.values()])\n",
    "ms_mae_test.extend([v[1] for v in ms_performance.values()])\n",
    "\n",
    "x = np.arange(7)\n",
    "\n",
    "labels = ['Baseline - Last', 'Baseline - Repeat', 'Linear', 'Dense', 'LSTM', 'CNN', 'CNN + LSTM']\n",
    "\n",
    "fig, ax = plt.subplots()\n",
    "ax.bar(x - 0.15, ms_mae_val, width=0.25, color='black', edgecolor='black', label='Validation')\n",
    "ax.bar(x + 0.15, ms_mae_test, width=0.25, color='white', edgecolor='black', hatch='/', label='Test')\n",
    "ax.set_ylabel('Mean absolute error')\n",
    "ax.set_xlabel('Models')\n",
    "\n",
    "for index, value in enumerate(ms_mae_val):\n",
    "    plt.text(x=index - 0.15, y=value+0.0025, s=str(round(value, 3)), ha='center')\n",
    "    \n",
    "for index, value in enumerate(ms_mae_test):\n",
    "    plt.text(x=index + 0.15, y=value+0.0025, s=str(round(value, 3)), ha='center')\n",
    "\n",
    "plt.xticks(ticks=x, labels=labels)\n",
    "plt.legend(loc='best')\n",
    "plt.tight_layout()\n",
    "\n",
    "plt.savefig('figures/CH16_F07_peixeiro.png', dpi=300)"
   ]
  }
 ],
 "metadata": {
  "kernelspec": {
   "display_name": "Python 3 (ipykernel)",
   "language": "python",
   "name": "python3"
  },
  "language_info": {
   "codemirror_mode": {
    "name": "ipython",
    "version": 3
   },
   "file_extension": ".py",
   "mimetype": "text/x-python",
   "name": "python",
   "nbconvert_exporter": "python",
   "pygments_lexer": "ipython3",
   "version": "3.10.9"
  }
 },
 "nbformat": 4,
 "nbformat_minor": 5
}
