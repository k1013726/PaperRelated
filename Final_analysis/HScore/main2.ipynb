{
 "cells": [
  {
   "cell_type": "code",
   "execution_count": 53,
   "id": "ff32db3c",
   "metadata": {},
   "outputs": [],
   "source": [
    "import datetime\n",
    "\n",
    "import numpy as np\n",
    "import pandas as pd\n",
    "import seaborn as sns\n",
    "import tensorflow as tf\n",
    "import matplotlib.pyplot as plt\n",
    "\n",
    "from tensorflow.keras import Model, Sequential\n",
    "\n",
    "from tensorflow.keras.optimizers import Adam\n",
    "from tensorflow.keras.callbacks import EarlyStopping\n",
    "from tensorflow.keras.losses import MeanSquaredError\n",
    "from tensorflow.keras.metrics import MeanAbsoluteError\n",
    "\n",
    "from tensorflow.keras.layers import Dense, Conv1D, LSTM, Lambda, Reshape, RNN, LSTMCell\n",
    "\n",
    "import warnings\n",
    "warnings.filterwarnings('ignore')"
   ]
  },
  {
   "cell_type": "code",
   "execution_count": 54,
   "id": "e9b19a92",
   "metadata": {},
   "outputs": [],
   "source": [
    "plt.rcParams['figure.figsize'] = (10, 7.5)\n",
    "plt.rcParams['axes.grid'] = False"
   ]
  },
  {
   "cell_type": "code",
   "execution_count": 55,
   "id": "3d6b177b",
   "metadata": {},
   "outputs": [
    {
     "name": "stdout",
     "output_type": "stream",
     "text": [
      "2.12.0\n"
     ]
    }
   ],
   "source": [
    "print(tf.__version__)"
   ]
  },
  {
   "cell_type": "code",
   "execution_count": 56,
   "id": "78c3689a",
   "metadata": {},
   "outputs": [],
   "source": [
    "tf.random.set_seed(42)\n",
    "np.random.seed(42)"
   ]
  },
  {
   "cell_type": "code",
   "execution_count": 68,
   "id": "498d4344",
   "metadata": {},
   "outputs": [
    {
     "name": "stdout",
     "output_type": "stream",
     "text": [
      "(2151, 7) (614, 7) (308, 7)\n"
     ]
    }
   ],
   "source": [
    "train_df = pd.read_csv('data/train.csv', index_col=0).drop('Coin_timestamp',axis=1)\n",
    "val_df = pd.read_csv('data/val.csv', index_col=0).drop('Coin_timestamp',axis=1)\n",
    "test_df = pd.read_csv('data/test.csv', index_col=0).drop('Coin_timestamp',axis=1)\n",
    "print(train_df.shape, val_df.shape, test_df.shape)"
   ]
  },
  {
   "cell_type": "code",
   "execution_count": 69,
   "id": "c5e3d37d",
   "metadata": {},
   "outputs": [
    {
     "data": {
      "text/html": [
       "<div>\n",
       "<style scoped>\n",
       "    .dataframe tbody tr th:only-of-type {\n",
       "        vertical-align: middle;\n",
       "    }\n",
       "\n",
       "    .dataframe tbody tr th {\n",
       "        vertical-align: top;\n",
       "    }\n",
       "\n",
       "    .dataframe thead th {\n",
       "        text-align: right;\n",
       "    }\n",
       "</style>\n",
       "<table border=\"1\" class=\"dataframe\">\n",
       "  <thead>\n",
       "    <tr style=\"text-align: right;\">\n",
       "      <th></th>\n",
       "      <th>Open</th>\n",
       "      <th>High</th>\n",
       "      <th>Low</th>\n",
       "      <th>Close</th>\n",
       "      <th>Volume</th>\n",
       "      <th>CionScore</th>\n",
       "      <th>UpDown</th>\n",
       "    </tr>\n",
       "  </thead>\n",
       "  <tbody>\n",
       "    <tr>\n",
       "      <th>0</th>\n",
       "      <td>0.010909</td>\n",
       "      <td>0.009038</td>\n",
       "      <td>0.011130</td>\n",
       "      <td>0.010638</td>\n",
       "      <td>0.000274</td>\n",
       "      <td>0.394260</td>\n",
       "      <td>1.0</td>\n",
       "    </tr>\n",
       "    <tr>\n",
       "      <th>1</th>\n",
       "      <td>0.010731</td>\n",
       "      <td>0.008742</td>\n",
       "      <td>0.010713</td>\n",
       "      <td>0.010195</td>\n",
       "      <td>0.000214</td>\n",
       "      <td>0.597569</td>\n",
       "      <td>0.0</td>\n",
       "    </tr>\n",
       "    <tr>\n",
       "      <th>2</th>\n",
       "      <td>0.010274</td>\n",
       "      <td>0.008349</td>\n",
       "      <td>0.009911</td>\n",
       "      <td>0.009390</td>\n",
       "      <td>0.000337</td>\n",
       "      <td>0.440592</td>\n",
       "      <td>0.0</td>\n",
       "    </tr>\n",
       "    <tr>\n",
       "      <th>3</th>\n",
       "      <td>0.009482</td>\n",
       "      <td>0.007685</td>\n",
       "      <td>0.008210</td>\n",
       "      <td>0.007804</td>\n",
       "      <td>0.000557</td>\n",
       "      <td>0.440592</td>\n",
       "      <td>0.0</td>\n",
       "    </tr>\n",
       "    <tr>\n",
       "      <th>4</th>\n",
       "      <td>0.007877</td>\n",
       "      <td>0.006544</td>\n",
       "      <td>0.006264</td>\n",
       "      <td>0.007371</td>\n",
       "      <td>0.001044</td>\n",
       "      <td>0.440592</td>\n",
       "      <td>0.0</td>\n",
       "    </tr>\n",
       "  </tbody>\n",
       "</table>\n",
       "</div>"
      ],
      "text/plain": [
       "       Open      High       Low     Close    Volume  CionScore  UpDown\n",
       "0  0.010909  0.009038  0.011130  0.010638  0.000274   0.394260     1.0\n",
       "1  0.010731  0.008742  0.010713  0.010195  0.000214   0.597569     0.0\n",
       "2  0.010274  0.008349  0.009911  0.009390  0.000337   0.440592     0.0\n",
       "3  0.009482  0.007685  0.008210  0.007804  0.000557   0.440592     0.0\n",
       "4  0.007877  0.006544  0.006264  0.007371  0.001044   0.440592     0.0"
      ]
     },
     "execution_count": 69,
     "metadata": {},
     "output_type": "execute_result"
    }
   ],
   "source": [
    "train_df.head()"
   ]
  },
  {
   "cell_type": "code",
   "execution_count": 70,
   "id": "7edd05a8",
   "metadata": {},
   "outputs": [],
   "source": [
    "class DataWindow():\n",
    "    def __init__(self, input_width, label_width, shift, \n",
    "                 train_df=train_df, val_df=val_df, test_df=test_df, \n",
    "                 label_columns=None):\n",
    "        \n",
    "        self.train_df = train_df\n",
    "        self.val_df = val_df\n",
    "        self.test_df = test_df\n",
    "        \n",
    "        self.label_columns = label_columns\n",
    "        if label_columns is not None:\n",
    "            self.label_columns_indices = {name: i for i, name in enumerate(label_columns)}\n",
    "        self.column_indices = {name: i for i, name in enumerate(train_df.columns)}\n",
    "        \n",
    "        self.input_width = input_width\n",
    "        self.label_width = label_width\n",
    "        self.shift = shift\n",
    "        \n",
    "        self.total_window_size = input_width + shift\n",
    "        \n",
    "        self.input_slice = slice(0, input_width)\n",
    "        self.input_indices = np.arange(self.total_window_size)[self.input_slice]\n",
    "        \n",
    "        self.label_start = self.total_window_size - self.label_width\n",
    "        self.labels_slice = slice(self.label_start, None)\n",
    "        self.label_indices = np.arange(self.total_window_size)[self.labels_slice]\n",
    "    \n",
    "    def split_to_inputs_labels(self, features):\n",
    "        inputs = features[:, self.input_slice, :]\n",
    "        labels = features[:, self.labels_slice, :]\n",
    "        if self.label_columns is not None:\n",
    "            labels = tf.stack(\n",
    "                [labels[:,:,self.column_indices[name]] for name in self.label_columns],\n",
    "                axis=-1\n",
    "            )\n",
    "        inputs.set_shape([None, self.input_width, None])\n",
    "        labels.set_shape([None, self.label_width, None])\n",
    "        \n",
    "        return inputs, labels\n",
    "    \n",
    "    def plot(self, model=None, plot_col='UpDown', max_subplots=3):\n",
    "        inputs, labels = self.sample_batch\n",
    "        \n",
    "        plt.figure(figsize=(12, 8))\n",
    "        plot_col_index = self.column_indices[plot_col]\n",
    "        max_n = min(max_subplots, len(inputs))\n",
    "        \n",
    "        for n in range(max_n):\n",
    "            plt.subplot(3, 1, n+1)\n",
    "            plt.ylabel(f'{plot_col} [scaled]')\n",
    "            plt.plot(self.input_indices, inputs[n, :, plot_col_index],\n",
    "                     label='Inputs', marker='.', zorder=-10)\n",
    "\n",
    "            if self.label_columns:\n",
    "              label_col_index = self.label_columns_indices.get(plot_col, None)\n",
    "            else:\n",
    "              label_col_index = plot_col_index\n",
    "\n",
    "            if label_col_index is None:\n",
    "              continue\n",
    "\n",
    "            plt.scatter(self.label_indices, labels[n, :, label_col_index],\n",
    "                        edgecolors='k', marker='s', label='Labels', c='green', s=64)\n",
    "            if model is not None:\n",
    "              predictions = model(inputs)\n",
    "              plt.scatter(self.label_indices, predictions[n, :, label_col_index],\n",
    "                          marker='X', edgecolors='k', label='Predictions',\n",
    "                          c='red', s=64)\n",
    "\n",
    "            if n == 0:\n",
    "              plt.legend()\n",
    "\n",
    "        plt.xlabel('Time (h)')\n",
    "        \n",
    "    def make_dataset(self, data):\n",
    "        data = np.array(data, dtype=np.float32)\n",
    "        ds = tf.keras.preprocessing.timeseries_dataset_from_array(\n",
    "            data=data,\n",
    "            targets=None,\n",
    "            sequence_length=self.total_window_size,\n",
    "            sequence_stride=1,\n",
    "            shuffle=True,\n",
    "            batch_size=32\n",
    "        )\n",
    "        \n",
    "        ds = ds.map(self.split_to_inputs_labels)\n",
    "        return ds\n",
    "    \n",
    "    @property\n",
    "    def train(self):\n",
    "        return self.make_dataset(self.train_df)\n",
    "    \n",
    "    @property\n",
    "    def val(self):\n",
    "        return self.make_dataset(self.val_df)\n",
    "    \n",
    "    @property\n",
    "    def test(self):\n",
    "        return self.make_dataset(self.test_df)\n",
    "    \n",
    "    @property\n",
    "    def sample_batch(self):\n",
    "        result = getattr(self, '_sample_batch', None)\n",
    "        if result is None:\n",
    "            result = next(iter(self.train))\n",
    "            self._sample_batch = result\n",
    "        return result"
   ]
  },
  {
   "cell_type": "code",
   "execution_count": 71,
   "id": "a507fa05",
   "metadata": {},
   "outputs": [],
   "source": [
    "def compile_and_fit(model, window, patience=3, max_epochs=50):\n",
    "    early_stopping = EarlyStopping(monitor='val_loss',\n",
    "                                   patience=patience,\n",
    "                                   mode='min')\n",
    "    \n",
    "    model.compile(loss=MeanSquaredError(),\n",
    "                  optimizer=Adam(),\n",
    "                  metrics=[MeanAbsoluteError()])\n",
    "    \n",
    "    history = model.fit(window.train,\n",
    "                       epochs=max_epochs,\n",
    "                       validation_data=window.val,\n",
    "                       callbacks=[early_stopping])\n",
    "    \n",
    "    return history"
   ]
  },
  {
   "cell_type": "code",
   "execution_count": 72,
   "id": "1a85f354",
   "metadata": {},
   "outputs": [],
   "source": [
    "column_indices = {name: i for i, name in enumerate(train_df.columns)}"
   ]
  },
  {
   "cell_type": "markdown",
   "id": "df308e0a",
   "metadata": {},
   "source": [
    "## CNN "
   ]
  },
  {
   "cell_type": "markdown",
   "id": "efa01851",
   "metadata": {},
   "source": [
    "### Multi-step model "
   ]
  },
  {
   "cell_type": "code",
   "execution_count": 82,
   "id": "78dec5fe",
   "metadata": {},
   "outputs": [],
   "source": [
    "KERNEL_WIDTH = 4\n",
    "LABEL_WIDTH = 28\n",
    "INPUT_WIDTH = LABEL_WIDTH + KERNEL_WIDTH - 1\n",
    "\n",
    "multi_window = DataWindow(input_width=INPUT_WIDTH, label_width=LABEL_WIDTH, shift=1, label_columns=['UpDown'])"
   ]
  },
  {
   "cell_type": "code",
   "execution_count": 78,
   "id": "b29386c8",
   "metadata": {},
   "outputs": [],
   "source": [
    "# Values obtained from chapter 15\n",
    "\n",
    "ms_mae_val = []\n",
    "ms_mae_test = []"
   ]
  },
  {
   "cell_type": "code",
   "execution_count": 83,
   "id": "97eb4f56",
   "metadata": {
    "collapsed": true
   },
   "outputs": [
    {
     "name": "stdout",
     "output_type": "stream",
     "text": [
      "Epoch 1/50\n",
      "67/67 [==============================] - 1s 4ms/step - loss: 0.2679 - mean_absolute_error: 0.4982 - val_loss: 0.2594 - val_mean_absolute_error: 0.4968\n",
      "Epoch 2/50\n",
      "67/67 [==============================] - 0s 3ms/step - loss: 0.2481 - mean_absolute_error: 0.4918 - val_loss: 0.2682 - val_mean_absolute_error: 0.4970\n",
      "Epoch 3/50\n",
      "67/67 [==============================] - 0s 3ms/step - loss: 0.2474 - mean_absolute_error: 0.4913 - val_loss: 0.2603 - val_mean_absolute_error: 0.4961\n",
      "Epoch 4/50\n",
      "67/67 [==============================] - 0s 3ms/step - loss: 0.2469 - mean_absolute_error: 0.4909 - val_loss: 0.2624 - val_mean_absolute_error: 0.4911\n",
      "19/19 [==============================] - 0s 1ms/step - loss: 0.2624 - mean_absolute_error: 0.4911\n"
     ]
    }
   ],
   "source": [
    "ms_cnn_model = Sequential([\n",
    "    Conv1D(64, kernel_size=(KERNEL_WIDTH)),\n",
    "    # LSTM(32, return_sequences=True),    \n",
    "    Dense(1),\n",
    "])\n",
    "\n",
    "history = compile_and_fit(ms_cnn_model, multi_window)\n",
    "\n",
    "ms_val_performance = {}\n",
    "ms_performance = {}\n",
    "\n",
    "ms_val_performance['CNN'] = ms_cnn_model.evaluate(multi_window.val)\n",
    "ms_performance['CNN'] = ms_cnn_model.evaluate(multi_window.test, verbose=0)"
   ]
  },
  {
   "cell_type": "markdown",
   "id": "834fa38b",
   "metadata": {},
   "source": [
    "#### CNN + LSTM "
   ]
  },
  {
   "cell_type": "code",
   "execution_count": 40,
   "id": "4eb30f80",
   "metadata": {
    "collapsed": true
   },
   "outputs": [
    {
     "name": "stdout",
     "output_type": "stream",
     "text": [
      "Epoch 1/50\n",
      "67/67 [==============================] - 3s 18ms/step - loss: 0.0197 - mean_absolute_error: 0.0808 - val_loss: 1.5636 - val_mean_absolute_error: 1.0970\n",
      "Epoch 2/50\n",
      "67/67 [==============================] - 1s 14ms/step - loss: 0.0026 - mean_absolute_error: 0.0280 - val_loss: 1.3346 - val_mean_absolute_error: 1.0075\n",
      "Epoch 3/50\n",
      "67/67 [==============================] - 1s 13ms/step - loss: 0.0020 - mean_absolute_error: 0.0247 - val_loss: 1.3260 - val_mean_absolute_error: 0.9962\n",
      "Epoch 4/50\n",
      "67/67 [==============================] - 1s 13ms/step - loss: 0.0018 - mean_absolute_error: 0.0234 - val_loss: 1.3829 - val_mean_absolute_error: 1.0228\n",
      "Epoch 5/50\n",
      "67/67 [==============================] - 1s 13ms/step - loss: 0.0017 - mean_absolute_error: 0.0220 - val_loss: 1.3236 - val_mean_absolute_error: 0.9917\n",
      "Epoch 6/50\n",
      "67/67 [==============================] - 1s 13ms/step - loss: 0.0017 - mean_absolute_error: 0.0215 - val_loss: 1.3294 - val_mean_absolute_error: 0.9963\n",
      "Epoch 7/50\n",
      "67/67 [==============================] - 1s 13ms/step - loss: 0.0016 - mean_absolute_error: 0.0210 - val_loss: 1.2684 - val_mean_absolute_error: 0.9657\n",
      "Epoch 8/50\n",
      "67/67 [==============================] - 1s 13ms/step - loss: 0.0016 - mean_absolute_error: 0.0213 - val_loss: 1.2549 - val_mean_absolute_error: 0.9619\n",
      "Epoch 9/50\n",
      "67/67 [==============================] - 1s 13ms/step - loss: 0.0016 - mean_absolute_error: 0.0213 - val_loss: 1.3085 - val_mean_absolute_error: 0.9927\n",
      "Epoch 10/50\n",
      "67/67 [==============================] - 1s 13ms/step - loss: 0.0015 - mean_absolute_error: 0.0211 - val_loss: 1.2415 - val_mean_absolute_error: 0.9598\n",
      "Epoch 11/50\n",
      "67/67 [==============================] - 1s 13ms/step - loss: 0.0015 - mean_absolute_error: 0.0212 - val_loss: 1.2481 - val_mean_absolute_error: 0.9676\n",
      "Epoch 12/50\n",
      "67/67 [==============================] - 1s 13ms/step - loss: 0.0015 - mean_absolute_error: 0.0207 - val_loss: 1.2194 - val_mean_absolute_error: 0.9549\n",
      "Epoch 13/50\n",
      "67/67 [==============================] - 1s 13ms/step - loss: 0.0015 - mean_absolute_error: 0.0207 - val_loss: 1.3004 - val_mean_absolute_error: 0.9918\n",
      "Epoch 14/50\n",
      "67/67 [==============================] - 1s 13ms/step - loss: 0.0015 - mean_absolute_error: 0.0208 - val_loss: 1.1921 - val_mean_absolute_error: 0.9452\n",
      "Epoch 15/50\n",
      "67/67 [==============================] - 1s 13ms/step - loss: 0.0015 - mean_absolute_error: 0.0207 - val_loss: 1.2409 - val_mean_absolute_error: 0.9678\n",
      "Epoch 16/50\n",
      "67/67 [==============================] - 1s 13ms/step - loss: 0.0014 - mean_absolute_error: 0.0207 - val_loss: 1.2328 - val_mean_absolute_error: 0.9624\n",
      "Epoch 17/50\n",
      "67/67 [==============================] - 1s 13ms/step - loss: 0.0014 - mean_absolute_error: 0.0203 - val_loss: 1.2803 - val_mean_absolute_error: 0.9823\n",
      "19/19 [==============================] - 0s 5ms/step - loss: 1.2803 - mean_absolute_error: 0.9823\n"
     ]
    }
   ],
   "source": [
    "ms_cnn_lstm_model = Sequential([\n",
    "    Conv1D(128, activation='relu', kernel_size=(KERNEL_WIDTH)),\n",
    "    LSTM(64, return_sequences=True),\n",
    "    Dense(1, kernel_initializer=tf.initializers.zeros),\n",
    "])\n",
    "\n",
    "history = compile_and_fit(ms_cnn_lstm_model, multi_window)\n",
    "\n",
    "ms_val_performance['CNN + LSTM'] = ms_cnn_lstm_model.evaluate(multi_window.val)\n",
    "ms_performance['CNN + LSTM'] = ms_cnn_lstm_model.evaluate(multi_window.test, verbose=0)"
   ]
  },
  {
   "cell_type": "code",
   "execution_count": 52,
   "id": "070ab9c3",
   "metadata": {},
   "outputs": [
    {
     "data": {
      "image/png": "[encoded data removed]",
      "text/plain": [
       "<Figure size 1000x750 with 1 Axes>"
      ]
     },
     "metadata": {},
     "output_type": "display_data"
    }
   ],
   "source": [
    "ms_mae_val.extend([v[1] for v in ms_val_performance.values()])\n",
    "ms_mae_test.extend([v[1] for v in ms_performance.values()])\n",
    "\n",
    "x = np.arange(2)\n",
    "\n",
    "labels = ['CNN-General','CNN-Sentiment',]\n",
    "\n",
    "fig, ax = plt.subplots()\n",
    "ax.bar(x - 0.15, ms_mae_val, width=0.25, color='black', edgecolor='black', label='Validation')\n",
    "ax.bar(x + 0.15, ms_mae_test, width=0.25, color='white', edgecolor='black', hatch='/', label='Test')\n",
    "ax.set_ylabel('Mean absolute error')\n",
    "ax.set_xlabel('Models')\n",
    "\n",
    "for index, value in enumerate(ms_mae_val):\n",
    "    plt.text(x=index - 0.15, y=value+0.0025, s=str(round(value, 3)), ha='center')\n",
    "    \n",
    "for index, value in enumerate(ms_mae_test):\n",
    "    plt.text(x=index + 0.15, y=value+0.0025, s=str(round(value, 3)), ha='center')\n",
    "\n",
    "plt.xticks(ticks=x, labels=labels)\n",
    "plt.legend(loc='best')\n",
    "plt.tight_layout()\n",
    "\n",
    "plt.savefig('figures/CH16_F07_peixeiro.png', dpi=300)"
   ]
  }
 ],
 "metadata": {
  "kernelspec": {
   "display_name": "Python 3 (ipykernel)",
   "language": "python",
   "name": "python3"
  },
  "language_info": {
   "codemirror_mode": {
    "name": "ipython",
    "version": 3
   },
   "file_extension": ".py",
   "mimetype": "text/x-python",
   "name": "python",
   "nbconvert_exporter": "python",
   "pygments_lexer": "ipython3",
   "version": "3.10.9"
  }
 },
 "nbformat": 4,
 "nbformat_minor": 5
}
