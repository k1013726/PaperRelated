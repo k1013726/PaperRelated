{
 "cells": [
  {
   "cell_type": "code",
   "execution_count": 1,
   "metadata": {},
   "outputs": [],
   "source": [
    "import pandas as pd\n",
    "df = pd.read_csv('data/BTC_final.csv')"
   ]
  },
  {
   "cell_type": "code",
   "execution_count": 2,
   "metadata": {},
   "outputs": [
    {
     "data": {
      "text/html": [
       "<div>\n",
       "<style scoped>\n",
       "    .dataframe tbody tr th:only-of-type {\n",
       "        vertical-align: middle;\n",
       "    }\n",
       "\n",
       "    .dataframe tbody tr th {\n",
       "        vertical-align: top;\n",
       "    }\n",
       "\n",
       "    .dataframe thead th {\n",
       "        text-align: right;\n",
       "    }\n",
       "</style>\n",
       "<table border=\"1\" class=\"dataframe\">\n",
       "  <thead>\n",
       "    <tr style=\"text-align: right;\">\n",
       "      <th></th>\n",
       "      <th>Unnamed: 0</th>\n",
       "      <th>Open</th>\n",
       "      <th>High</th>\n",
       "      <th>Low</th>\n",
       "      <th>Close</th>\n",
       "      <th>Volume</th>\n",
       "      <th>CionScore</th>\n",
       "      <th>CoinDate</th>\n",
       "    </tr>\n",
       "  </thead>\n",
       "  <tbody>\n",
       "    <tr>\n",
       "      <th>0</th>\n",
       "      <td>0</td>\n",
       "      <td>387.427002</td>\n",
       "      <td>391.378998</td>\n",
       "      <td>380.779999</td>\n",
       "      <td>383.614990</td>\n",
       "      <td>26229400.0</td>\n",
       "      <td>-0.224409</td>\n",
       "      <td>2014-10-01</td>\n",
       "    </tr>\n",
       "    <tr>\n",
       "      <th>1</th>\n",
       "      <td>1</td>\n",
       "      <td>383.988007</td>\n",
       "      <td>385.497009</td>\n",
       "      <td>372.946014</td>\n",
       "      <td>375.071991</td>\n",
       "      <td>21777700.0</td>\n",
       "      <td>0.162439</td>\n",
       "      <td>2014-10-02</td>\n",
       "    </tr>\n",
       "    <tr>\n",
       "      <th>2</th>\n",
       "      <td>2</td>\n",
       "      <td>375.181000</td>\n",
       "      <td>377.695007</td>\n",
       "      <td>357.859009</td>\n",
       "      <td>359.511993</td>\n",
       "      <td>30901200.0</td>\n",
       "      <td>-0.136249</td>\n",
       "      <td>2014-10-03</td>\n",
       "    </tr>\n",
       "    <tr>\n",
       "      <th>3</th>\n",
       "      <td>3</td>\n",
       "      <td>359.891998</td>\n",
       "      <td>364.487000</td>\n",
       "      <td>325.885986</td>\n",
       "      <td>328.865997</td>\n",
       "      <td>47236500.0</td>\n",
       "      <td>-0.136249</td>\n",
       "      <td>2014-10-04</td>\n",
       "    </tr>\n",
       "    <tr>\n",
       "      <th>4</th>\n",
       "      <td>4</td>\n",
       "      <td>328.915985</td>\n",
       "      <td>341.800995</td>\n",
       "      <td>289.295990</td>\n",
       "      <td>320.510010</td>\n",
       "      <td>83308096.0</td>\n",
       "      <td>-0.136249</td>\n",
       "      <td>2014-10-05</td>\n",
       "    </tr>\n",
       "  </tbody>\n",
       "</table>\n",
       "</div>"
      ],
      "text/plain": [
       "   Unnamed: 0        Open        High         Low       Close      Volume  \\\n",
       "0           0  387.427002  391.378998  380.779999  383.614990  26229400.0   \n",
       "1           1  383.988007  385.497009  372.946014  375.071991  21777700.0   \n",
       "2           2  375.181000  377.695007  357.859009  359.511993  30901200.0   \n",
       "3           3  359.891998  364.487000  325.885986  328.865997  47236500.0   \n",
       "4           4  328.915985  341.800995  289.295990  320.510010  83308096.0   \n",
       "\n",
       "   CionScore    CoinDate  \n",
       "0  -0.224409  2014-10-01  \n",
       "1   0.162439  2014-10-02  \n",
       "2  -0.136249  2014-10-03  \n",
       "3  -0.136249  2014-10-04  \n",
       "4  -0.136249  2014-10-05  "
      ]
     },
     "execution_count": 2,
     "metadata": {},
     "output_type": "execute_result"
    }
   ],
   "source": [
    "df.head()"
   ]
  },
  {
   "cell_type": "code",
   "execution_count": null,
   "metadata": {},
   "outputs": [],
   "source": [
    "df['CionScore']"
   ]
  }
 ],
 "metadata": {
  "kernelspec": {
   "display_name": "Python 3",
   "language": "python",
   "name": "python3"
  },
  "language_info": {
   "codemirror_mode": {
    "name": "ipython",
    "version": 3
   },
   "file_extension": ".py",
   "mimetype": "text/x-python",
   "name": "python",
   "nbconvert_exporter": "python",
   "pygments_lexer": "ipython3",
   "version": "3.10.9"
  },
  "orig_nbformat": 4
 },
 "nbformat": 4,
 "nbformat_minor": 2
}
