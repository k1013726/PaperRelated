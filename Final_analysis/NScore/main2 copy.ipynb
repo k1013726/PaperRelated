{
 "cells": [
  {
   "cell_type": "code",
   "execution_count": 7,
   "id": "ff32db3c",
   "metadata": {},
   "outputs": [],
   "source": [
    "import datetime\n",
    "\n",
    "import numpy as np\n",
    "import pandas as pd\n",
    "import seaborn as sns\n",
    "import tensorflow as tf\n",
    "import matplotlib.pyplot as plt\n",
    "\n",
    "from tensorflow.keras import Model, Sequential\n",
    "\n",
    "from tensorflow.keras.optimizers import Adam\n",
    "from tensorflow.keras.callbacks import EarlyStopping\n",
    "from tensorflow.keras.losses import MeanSquaredError\n",
    "from tensorflow.keras.metrics import MeanAbsoluteError\n",
    "\n",
    "from tensorflow.keras.layers import Dense, Conv1D, LSTM, Lambda, Reshape, RNN, LSTMCell\n",
    "\n",
    "import warnings\n",
    "warnings.filterwarnings('ignore')"
   ]
  },
  {
   "cell_type": "code",
   "execution_count": 8,
   "id": "e9b19a92",
   "metadata": {},
   "outputs": [],
   "source": [
    "plt.rcParams['figure.figsize'] = (10, 7.5)\n",
    "plt.rcParams['axes.grid'] = False"
   ]
  },
  {
   "cell_type": "code",
   "execution_count": 9,
   "id": "3d6b177b",
   "metadata": {},
   "outputs": [
    {
     "name": "stdout",
     "output_type": "stream",
     "text": [
      "2.12.0\n"
     ]
    }
   ],
   "source": [
    "print(tf.__version__)"
   ]
  },
  {
   "cell_type": "code",
   "execution_count": 10,
   "id": "78c3689a",
   "metadata": {},
   "outputs": [],
   "source": [
    "tf.random.set_seed(42)\n",
    "np.random.seed(42)"
   ]
  },
  {
   "cell_type": "code",
   "execution_count": 11,
   "id": "498d4344",
   "metadata": {},
   "outputs": [
    {
     "name": "stdout",
     "output_type": "stream",
     "text": [
      "(2151, 5) (614, 5) (308, 5)\n"
     ]
    }
   ],
   "source": [
    "train_df = pd.read_csv('data_s/train.csv', index_col=0).drop(['CionScore','Coin_timestamp'],axis=1)\n",
    "val_df = pd.read_csv('data_s/val.csv', index_col=0).drop(['CionScore','Coin_timestamp'],axis=1)\n",
    "test_df = pd.read_csv('data_s/test.csv', index_col=0).drop(['CionScore','Coin_timestamp'],axis=1)\n",
    "\n",
    "print(train_df.shape, val_df.shape, test_df.shape)"
   ]
  },
  {
   "cell_type": "code",
   "execution_count": 12,
   "id": "c5e3d37d",
   "metadata": {},
   "outputs": [
    {
     "data": {
      "text/html": [
       "<div>\n",
       "<style scoped>\n",
       "    .dataframe tbody tr th:only-of-type {\n",
       "        vertical-align: middle;\n",
       "    }\n",
       "\n",
       "    .dataframe tbody tr th {\n",
       "        vertical-align: top;\n",
       "    }\n",
       "\n",
       "    .dataframe thead th {\n",
       "        text-align: right;\n",
       "    }\n",
       "</style>\n",
       "<table border=\"1\" class=\"dataframe\">\n",
       "  <thead>\n",
       "    <tr style=\"text-align: right;\">\n",
       "      <th></th>\n",
       "      <th>Open</th>\n",
       "      <th>High</th>\n",
       "      <th>Low</th>\n",
       "      <th>Close</th>\n",
       "      <th>Volume</th>\n",
       "    </tr>\n",
       "  </thead>\n",
       "  <tbody>\n",
       "    <tr>\n",
       "      <th>0</th>\n",
       "      <td>0.010909</td>\n",
       "      <td>0.009038</td>\n",
       "      <td>0.011130</td>\n",
       "      <td>0.010638</td>\n",
       "      <td>0.000274</td>\n",
       "    </tr>\n",
       "    <tr>\n",
       "      <th>1</th>\n",
       "      <td>0.010731</td>\n",
       "      <td>0.008742</td>\n",
       "      <td>0.010713</td>\n",
       "      <td>0.010195</td>\n",
       "      <td>0.000214</td>\n",
       "    </tr>\n",
       "    <tr>\n",
       "      <th>2</th>\n",
       "      <td>0.010274</td>\n",
       "      <td>0.008349</td>\n",
       "      <td>0.009911</td>\n",
       "      <td>0.009390</td>\n",
       "      <td>0.000337</td>\n",
       "    </tr>\n",
       "    <tr>\n",
       "      <th>3</th>\n",
       "      <td>0.009482</td>\n",
       "      <td>0.007685</td>\n",
       "      <td>0.008210</td>\n",
       "      <td>0.007804</td>\n",
       "      <td>0.000557</td>\n",
       "    </tr>\n",
       "    <tr>\n",
       "      <th>4</th>\n",
       "      <td>0.007877</td>\n",
       "      <td>0.006544</td>\n",
       "      <td>0.006264</td>\n",
       "      <td>0.007371</td>\n",
       "      <td>0.001044</td>\n",
       "    </tr>\n",
       "  </tbody>\n",
       "</table>\n",
       "</div>"
      ],
      "text/plain": [
       "       Open      High       Low     Close    Volume\n",
       "0  0.010909  0.009038  0.011130  0.010638  0.000274\n",
       "1  0.010731  0.008742  0.010713  0.010195  0.000214\n",
       "2  0.010274  0.008349  0.009911  0.009390  0.000337\n",
       "3  0.009482  0.007685  0.008210  0.007804  0.000557\n",
       "4  0.007877  0.006544  0.006264  0.007371  0.001044"
      ]
     },
     "execution_count": 12,
     "metadata": {},
     "output_type": "execute_result"
    }
   ],
   "source": [
    "train_df.head()"
   ]
  },
  {
   "cell_type": "code",
   "execution_count": 13,
   "id": "7edd05a8",
   "metadata": {},
   "outputs": [],
   "source": [
    "class DataWindow():\n",
    "    def __init__(self, input_width, label_width, shift, \n",
    "                 train_df=train_df, val_df=val_df, test_df=test_df, \n",
    "                 label_columns=None):\n",
    "        \n",
    "        self.train_df = train_df\n",
    "        self.val_df = val_df\n",
    "        self.test_df = test_df\n",
    "        \n",
    "        self.label_columns = label_columns\n",
    "        if label_columns is not None:\n",
    "            self.label_columns_indices = {name: i for i, name in enumerate(label_columns)}\n",
    "        self.column_indices = {name: i for i, name in enumerate(train_df.columns)}\n",
    "        \n",
    "        self.input_width = input_width\n",
    "        self.label_width = label_width\n",
    "        self.shift = shift\n",
    "        \n",
    "        self.total_window_size = input_width + shift\n",
    "        \n",
    "        self.input_slice = slice(0, input_width)\n",
    "        self.input_indices = np.arange(self.total_window_size)[self.input_slice]\n",
    "        \n",
    "        self.label_start = self.total_window_size - self.label_width\n",
    "        self.labels_slice = slice(self.label_start, None)\n",
    "        self.label_indices = np.arange(self.total_window_size)[self.labels_slice]\n",
    "    \n",
    "    def split_to_inputs_labels(self, features):\n",
    "        inputs = features[:, self.input_slice, :]\n",
    "        labels = features[:, self.labels_slice, :]\n",
    "        if self.label_columns is not None:\n",
    "            labels = tf.stack(\n",
    "                [labels[:,:,self.column_indices[name]] for name in self.label_columns],\n",
    "                axis=-1\n",
    "            )\n",
    "        inputs.set_shape([None, self.input_width, None])\n",
    "        labels.set_shape([None, self.label_width, None])\n",
    "        \n",
    "        return inputs, labels\n",
    "    \n",
    "    def plot(self, model=None, plot_col='traffic_volume', max_subplots=3):\n",
    "        inputs, labels = self.sample_batch\n",
    "        \n",
    "        plt.figure(figsize=(12, 8))\n",
    "        plot_col_index = self.column_indices[plot_col]\n",
    "        max_n = min(max_subplots, len(inputs))\n",
    "        \n",
    "        for n in range(max_n):\n",
    "            plt.subplot(3, 1, n+1)\n",
    "            plt.ylabel(f'{plot_col} [scaled]')\n",
    "            plt.plot(self.input_indices, inputs[n, :, plot_col_index],\n",
    "                     label='Inputs', marker='.', zorder=-10)\n",
    "\n",
    "            if self.label_columns:\n",
    "              label_col_index = self.label_columns_indices.get(plot_col, None)\n",
    "            else:\n",
    "              label_col_index = plot_col_index\n",
    "\n",
    "            if label_col_index is None:\n",
    "              continue\n",
    "\n",
    "            plt.scatter(self.label_indices, labels[n, :, label_col_index],\n",
    "                        edgecolors='k', marker='s', label='Labels', c='green', s=64)\n",
    "            if model is not None:\n",
    "              predictions = model(inputs)\n",
    "              plt.scatter(self.label_indices, predictions[n, :, label_col_index],\n",
    "                          marker='X', edgecolors='k', label='Predictions',\n",
    "                          c='red', s=64)\n",
    "\n",
    "            if n == 0:\n",
    "              plt.legend()\n",
    "\n",
    "        plt.xlabel('Time (h)')\n",
    "        \n",
    "    def make_dataset(self, data):\n",
    "        data = np.array(data, dtype=np.float32)\n",
    "        ds = tf.keras.preprocessing.timeseries_dataset_from_array(\n",
    "            data=data,\n",
    "            targets=None,\n",
    "            sequence_length=self.total_window_size,\n",
    "            sequence_stride=1,\n",
    "            shuffle=True,\n",
    "            batch_size=32\n",
    "        )\n",
    "        \n",
    "        ds = ds.map(self.split_to_inputs_labels)\n",
    "        return ds\n",
    "    \n",
    "    @property\n",
    "    def train(self):\n",
    "        return self.make_dataset(self.train_df)\n",
    "    \n",
    "    @property\n",
    "    def val(self):\n",
    "        return self.make_dataset(self.val_df)\n",
    "    \n",
    "    @property\n",
    "    def test(self):\n",
    "        return self.make_dataset(self.test_df)\n",
    "    \n",
    "    @property\n",
    "    def sample_batch(self):\n",
    "        result = getattr(self, '_sample_batch', None)\n",
    "        if result is None:\n",
    "            result = next(iter(self.train))\n",
    "            self._sample_batch = result\n",
    "        return result"
   ]
  },
  {
   "cell_type": "code",
   "execution_count": 14,
   "id": "a507fa05",
   "metadata": {},
   "outputs": [],
   "source": [
    "def compile_and_fit(model, window, patience=3, max_epochs=64):\n",
    "    early_stopping = EarlyStopping(monitor='val_loss',\n",
    "                                   patience=patience,\n",
    "                                   mode='min')\n",
    "    \n",
    "    model.compile(loss=MeanSquaredError(),\n",
    "                  optimizer=Adam(),\n",
    "                  metrics=[MeanAbsoluteError()])\n",
    "    \n",
    "    history = model.fit(window.train,\n",
    "                       epochs=max_epochs,\n",
    "                       validation_data=window.val,\n",
    "                       callbacks=[early_stopping])\n",
    "    \n",
    "    return history"
   ]
  },
  {
   "cell_type": "code",
   "execution_count": 15,
   "id": "1a85f354",
   "metadata": {},
   "outputs": [],
   "source": [
    "column_indices = {name: i for i, name in enumerate(train_df.columns)}"
   ]
  },
  {
   "cell_type": "markdown",
   "id": "df308e0a",
   "metadata": {},
   "source": [
    "## CNN "
   ]
  },
  {
   "cell_type": "markdown",
   "id": "efa01851",
   "metadata": {},
   "source": [
    "### Multi-step model "
   ]
  },
  {
   "cell_type": "code",
   "execution_count": 16,
   "id": "78dec5fe",
   "metadata": {},
   "outputs": [],
   "source": [
    "KERNEL_WIDTH = 3\n",
    "LABEL_WIDTH = 7\n",
    "INPUT_WIDTH = LABEL_WIDTH + KERNEL_WIDTH - 1\n",
    "\n",
    "multi_window = DataWindow(input_width=INPUT_WIDTH, label_width=LABEL_WIDTH, shift=1, label_columns=['Close'])"
   ]
  },
  {
   "cell_type": "code",
   "execution_count": 17,
   "id": "b29386c8",
   "metadata": {},
   "outputs": [],
   "source": [
    "# Values obtained from chapter 15\n",
    "\n",
    "ms_mae_val = []\n",
    "ms_mae_test = []"
   ]
  },
  {
   "cell_type": "code",
   "execution_count": 19,
   "id": "97eb4f56",
   "metadata": {
    "collapsed": true
   },
   "outputs": [
    {
     "name": "stdout",
     "output_type": "stream",
     "text": [
      "Epoch 1/64\n",
      "67/67 [==============================] - 1s 5ms/step - loss: 0.0179 - mean_absolute_error: 0.0749 - val_loss: 0.0225 - val_mean_absolute_error: 0.1165\n",
      "Epoch 2/64\n",
      "67/67 [==============================] - 0s 3ms/step - loss: 4.4228e-04 - mean_absolute_error: 0.0100 - val_loss: 0.0130 - val_mean_absolute_error: 0.0847\n",
      "Epoch 3/64\n",
      "67/67 [==============================] - 0s 2ms/step - loss: 4.1412e-04 - mean_absolute_error: 0.0096 - val_loss: 0.0128 - val_mean_absolute_error: 0.0831\n",
      "Epoch 4/64\n",
      "67/67 [==============================] - 0s 2ms/step - loss: 4.0845e-04 - mean_absolute_error: 0.0095 - val_loss: 0.0129 - val_mean_absolute_error: 0.0827\n",
      "Epoch 5/64\n",
      "67/67 [==============================] - 0s 2ms/step - loss: 4.0407e-04 - mean_absolute_error: 0.0097 - val_loss: 0.0122 - val_mean_absolute_error: 0.0810\n",
      "Epoch 6/64\n",
      "67/67 [==============================] - 0s 2ms/step - loss: 3.8951e-04 - mean_absolute_error: 0.0093 - val_loss: 0.0119 - val_mean_absolute_error: 0.0800\n",
      "Epoch 7/64\n",
      "67/67 [==============================] - 0s 2ms/step - loss: 3.8400e-04 - mean_absolute_error: 0.0094 - val_loss: 0.0142 - val_mean_absolute_error: 0.0865\n",
      "Epoch 8/64\n",
      "67/67 [==============================] - 0s 2ms/step - loss: 3.7202e-04 - mean_absolute_error: 0.0091 - val_loss: 0.0113 - val_mean_absolute_error: 0.0782\n",
      "Epoch 9/64\n",
      "67/67 [==============================] - 0s 2ms/step - loss: 3.6308e-04 - mean_absolute_error: 0.0090 - val_loss: 0.0112 - val_mean_absolute_error: 0.0768\n",
      "Epoch 10/64\n",
      "67/67 [==============================] - 0s 3ms/step - loss: 3.5682e-04 - mean_absolute_error: 0.0089 - val_loss: 0.0114 - val_mean_absolute_error: 0.0771\n",
      "Epoch 11/64\n",
      "67/67 [==============================] - 0s 2ms/step - loss: 3.4694e-04 - mean_absolute_error: 0.0089 - val_loss: 0.0104 - val_mean_absolute_error: 0.0741\n",
      "Epoch 12/64\n",
      "67/67 [==============================] - 0s 2ms/step - loss: 3.3513e-04 - mean_absolute_error: 0.0085 - val_loss: 0.0105 - val_mean_absolute_error: 0.0756\n",
      "Epoch 13/64\n",
      "67/67 [==============================] - 0s 2ms/step - loss: 3.2748e-04 - mean_absolute_error: 0.0087 - val_loss: 0.0120 - val_mean_absolute_error: 0.0823\n",
      "Epoch 14/64\n",
      "67/67 [==============================] - 0s 2ms/step - loss: 3.2465e-04 - mean_absolute_error: 0.0086 - val_loss: 0.0123 - val_mean_absolute_error: 0.0809\n",
      "19/19 [==============================] - 0s 1ms/step - loss: 0.0123 - mean_absolute_error: 0.0809\n"
     ]
    }
   ],
   "source": [
    "ms_cnn_model = Sequential([\n",
    "    Conv1D(64, kernel_size=(KERNEL_WIDTH)),    \n",
    "    Dense(1),\n",
    "])\n",
    "\n",
    "history = compile_and_fit(ms_cnn_model, multi_window)\n",
    "\n",
    "ms_val_performance = {}\n",
    "ms_performance = {}\n",
    "\n",
    "ms_val_performance['CNN'] = ms_cnn_model.evaluate(multi_window.val)\n",
    "ms_performance['CNN'] = ms_cnn_model.evaluate(multi_window.test, verbose=0)"
   ]
  },
  {
   "cell_type": "code",
   "execution_count": 30,
   "id": "98f543a0",
   "metadata": {},
   "outputs": [
    {
     "data": {
      "text/plain": [
       "{'CNN': [0.016059990972280502, 0.10454664379358292]}"
      ]
     },
     "execution_count": 30,
     "metadata": {},
     "output_type": "execute_result"
    }
   ],
   "source": [
    "ms_performance"
   ]
  },
  {
   "cell_type": "markdown",
   "id": "834fa38b",
   "metadata": {},
   "source": [
    "#### CNN + LSTM "
   ]
  },
  {
   "cell_type": "code",
   "execution_count": 22,
   "id": "4eb30f80",
   "metadata": {
    "collapsed": true
   },
   "outputs": [
    {
     "name": "stdout",
     "output_type": "stream",
     "text": [
      "Epoch 1/64\n",
      "67/67 [==============================] - 3s 13ms/step - loss: 0.0340 - mean_absolute_error: 0.1236 - val_loss: 2.6876 - val_mean_absolute_error: 1.4785\n",
      "Epoch 2/64\n",
      "67/67 [==============================] - 1s 8ms/step - loss: 0.0047 - mean_absolute_error: 0.0381 - val_loss: 2.1995 - val_mean_absolute_error: 1.3146\n",
      "Epoch 3/64\n",
      "67/67 [==============================] - 1s 9ms/step - loss: 0.0027 - mean_absolute_error: 0.0280 - val_loss: 1.9992 - val_mean_absolute_error: 1.2405\n",
      "Epoch 4/64\n",
      "67/67 [==============================] - 1s 9ms/step - loss: 0.0022 - mean_absolute_error: 0.0252 - val_loss: 1.9449 - val_mean_absolute_error: 1.2211\n",
      "Epoch 5/64\n",
      "67/67 [==============================] - 1s 9ms/step - loss: 0.0020 - mean_absolute_error: 0.0239 - val_loss: 1.9219 - val_mean_absolute_error: 1.2115\n",
      "Epoch 6/64\n",
      "67/67 [==============================] - 1s 9ms/step - loss: 0.0019 - mean_absolute_error: 0.0234 - val_loss: 1.9349 - val_mean_absolute_error: 1.2192\n",
      "Epoch 7/64\n",
      "67/67 [==============================] - 1s 9ms/step - loss: 0.0018 - mean_absolute_error: 0.0226 - val_loss: 1.9152 - val_mean_absolute_error: 1.2090\n",
      "Epoch 8/64\n",
      "67/67 [==============================] - 1s 9ms/step - loss: 0.0018 - mean_absolute_error: 0.0221 - val_loss: 1.8798 - val_mean_absolute_error: 1.1935\n",
      "Epoch 9/64\n",
      "67/67 [==============================] - 1s 9ms/step - loss: 0.0018 - mean_absolute_error: 0.0226 - val_loss: 1.9074 - val_mean_absolute_error: 1.2111\n",
      "Epoch 10/64\n",
      "67/67 [==============================] - 1s 9ms/step - loss: 0.0017 - mean_absolute_error: 0.0217 - val_loss: 1.8858 - val_mean_absolute_error: 1.2023\n",
      "Epoch 11/64\n",
      "67/67 [==============================] - 1s 9ms/step - loss: 0.0017 - mean_absolute_error: 0.0212 - val_loss: 1.8410 - val_mean_absolute_error: 1.1819\n",
      "Epoch 12/64\n",
      "67/67 [==============================] - 1s 9ms/step - loss: 0.0016 - mean_absolute_error: 0.0210 - val_loss: 1.8356 - val_mean_absolute_error: 1.1820\n",
      "Epoch 13/64\n",
      "67/67 [==============================] - 1s 9ms/step - loss: 0.0017 - mean_absolute_error: 0.0212 - val_loss: 1.8272 - val_mean_absolute_error: 1.1776\n",
      "Epoch 14/64\n",
      "67/67 [==============================] - 1s 9ms/step - loss: 0.0016 - mean_absolute_error: 0.0210 - val_loss: 1.8047 - val_mean_absolute_error: 1.1682\n",
      "Epoch 15/64\n",
      "67/67 [==============================] - 1s 9ms/step - loss: 0.0016 - mean_absolute_error: 0.0211 - val_loss: 1.8111 - val_mean_absolute_error: 1.1758\n",
      "Epoch 16/64\n",
      "67/67 [==============================] - 1s 9ms/step - loss: 0.0016 - mean_absolute_error: 0.0207 - val_loss: 1.7797 - val_mean_absolute_error: 1.1611\n",
      "Epoch 17/64\n",
      "67/67 [==============================] - 1s 9ms/step - loss: 0.0016 - mean_absolute_error: 0.0210 - val_loss: 1.7876 - val_mean_absolute_error: 1.1694\n",
      "Epoch 18/64\n",
      "67/67 [==============================] - 1s 9ms/step - loss: 0.0016 - mean_absolute_error: 0.0209 - val_loss: 1.7870 - val_mean_absolute_error: 1.1703\n",
      "Epoch 19/64\n",
      "67/67 [==============================] - 1s 9ms/step - loss: 0.0016 - mean_absolute_error: 0.0206 - val_loss: 1.7594 - val_mean_absolute_error: 1.1574\n",
      "Epoch 20/64\n",
      "67/67 [==============================] - 1s 9ms/step - loss: 0.0016 - mean_absolute_error: 0.0206 - val_loss: 1.7542 - val_mean_absolute_error: 1.1568\n",
      "Epoch 21/64\n",
      "67/67 [==============================] - 1s 9ms/step - loss: 0.0015 - mean_absolute_error: 0.0203 - val_loss: 1.7208 - val_mean_absolute_error: 1.1405\n",
      "Epoch 22/64\n",
      "67/67 [==============================] - 1s 9ms/step - loss: 0.0016 - mean_absolute_error: 0.0205 - val_loss: 1.7460 - val_mean_absolute_error: 1.1564\n",
      "Epoch 23/64\n",
      "67/67 [==============================] - 1s 9ms/step - loss: 0.0016 - mean_absolute_error: 0.0208 - val_loss: 1.7027 - val_mean_absolute_error: 1.1341\n",
      "Epoch 24/64\n",
      "67/67 [==============================] - 1s 9ms/step - loss: 0.0016 - mean_absolute_error: 0.0208 - val_loss: 1.7172 - val_mean_absolute_error: 1.1420\n",
      "Epoch 25/64\n",
      "67/67 [==============================] - 1s 9ms/step - loss: 0.0015 - mean_absolute_error: 0.0205 - val_loss: 1.6978 - val_mean_absolute_error: 1.1365\n",
      "Epoch 26/64\n",
      "67/67 [==============================] - 1s 9ms/step - loss: 0.0015 - mean_absolute_error: 0.0202 - val_loss: 1.6833 - val_mean_absolute_error: 1.1320\n",
      "Epoch 27/64\n",
      "67/67 [==============================] - 1s 9ms/step - loss: 0.0015 - mean_absolute_error: 0.0204 - val_loss: 1.6406 - val_mean_absolute_error: 1.1093\n",
      "Epoch 28/64\n",
      "67/67 [==============================] - 1s 9ms/step - loss: 0.0016 - mean_absolute_error: 0.0207 - val_loss: 1.6494 - val_mean_absolute_error: 1.1169\n",
      "Epoch 29/64\n",
      "67/67 [==============================] - 1s 9ms/step - loss: 0.0015 - mean_absolute_error: 0.0200 - val_loss: 1.6313 - val_mean_absolute_error: 1.1057\n",
      "Epoch 30/64\n",
      "67/67 [==============================] - 1s 9ms/step - loss: 0.0015 - mean_absolute_error: 0.0202 - val_loss: 1.6501 - val_mean_absolute_error: 1.1202\n",
      "Epoch 31/64\n",
      "67/67 [==============================] - 1s 9ms/step - loss: 0.0015 - mean_absolute_error: 0.0199 - val_loss: 1.6405 - val_mean_absolute_error: 1.1126\n",
      "Epoch 32/64\n",
      "67/67 [==============================] - 1s 9ms/step - loss: 0.0015 - mean_absolute_error: 0.0203 - val_loss: 1.6272 - val_mean_absolute_error: 1.1088\n",
      "Epoch 33/64\n",
      "67/67 [==============================] - 1s 9ms/step - loss: 0.0015 - mean_absolute_error: 0.0200 - val_loss: 1.6098 - val_mean_absolute_error: 1.0984\n",
      "Epoch 34/64\n",
      "67/67 [==============================] - 1s 9ms/step - loss: 0.0015 - mean_absolute_error: 0.0206 - val_loss: 1.5868 - val_mean_absolute_error: 1.0913\n",
      "Epoch 35/64\n",
      "67/67 [==============================] - 1s 9ms/step - loss: 0.0015 - mean_absolute_error: 0.0203 - val_loss: 1.5611 - val_mean_absolute_error: 1.0828\n",
      "Epoch 36/64\n",
      "67/67 [==============================] - 1s 9ms/step - loss: 0.0015 - mean_absolute_error: 0.0207 - val_loss: 1.5794 - val_mean_absolute_error: 1.0959\n",
      "Epoch 37/64\n",
      "67/67 [==============================] - 1s 9ms/step - loss: 0.0015 - mean_absolute_error: 0.0200 - val_loss: 1.5215 - val_mean_absolute_error: 1.0659\n",
      "Epoch 38/64\n",
      "67/67 [==============================] - 1s 9ms/step - loss: 0.0015 - mean_absolute_error: 0.0201 - val_loss: 1.5285 - val_mean_absolute_error: 1.0707\n",
      "Epoch 39/64\n",
      "67/67 [==============================] - 1s 9ms/step - loss: 0.0015 - mean_absolute_error: 0.0201 - val_loss: 1.5431 - val_mean_absolute_error: 1.0792\n",
      "Epoch 40/64\n",
      "67/67 [==============================] - 1s 9ms/step - loss: 0.0015 - mean_absolute_error: 0.0199 - val_loss: 1.5430 - val_mean_absolute_error: 1.0795\n",
      "19/19 [==============================] - 0s 2ms/step - loss: 1.5430 - mean_absolute_error: 1.0795\n"
     ]
    }
   ],
   "source": [
    "ms_cnn_lstm_model = Sequential([\n",
    "    Conv1D(32, activation='relu', kernel_size=(KERNEL_WIDTH)),\n",
    "    LSTM(16, return_sequences=True),\n",
    "    Dense(1, kernel_initializer=tf.initializers.zeros),\n",
    "])\n",
    "\n",
    "history = compile_and_fit(ms_cnn_lstm_model, multi_window)\n",
    "\n",
    "ms_val_performance['CNN + LSTM'] = ms_cnn_lstm_model.evaluate(multi_window.val)\n",
    "ms_performance['CNN + LSTM'] = ms_cnn_lstm_model.evaluate(multi_window.test, verbose=0)"
   ]
  },
  {
   "cell_type": "code",
   "execution_count": 21,
   "id": "070ab9c3",
   "metadata": {},
   "outputs": [
    {
     "data": {
      "image/png": "[encoded data removed]",
      "text/plain": [
       "<Figure size 1000x750 with 1 Axes>"
      ]
     },
     "metadata": {},
     "output_type": "display_data"
    }
   ],
   "source": [
    "ms_mae_val.extend([v[1] for v in ms_val_performance.values()])\n",
    "ms_mae_test.extend([v[1] for v in ms_performance.values()])\n",
    "\n",
    "x = np.arange(2)\n",
    "\n",
    "labels = [ 'CNN','CNN + LSTM']\n",
    "\n",
    "fig, ax = plt.subplots()\n",
    "ax.bar(x - 0.15, ms_mae_val, width=0.25, color='black', edgecolor='black', label='Validation')\n",
    "ax.bar(x + 0.15, ms_mae_test, width=0.25, color='white', edgecolor='black', hatch='/', label='Test')\n",
    "ax.set_ylabel('Mean absolute error')\n",
    "ax.set_xlabel('Models')\n",
    "\n",
    "for index, value in enumerate(ms_mae_val):\n",
    "    plt.text(x=index - 0.15, y=value+0.0025, s=str(round(value, 3)), ha='center')\n",
    "    \n",
    "for index, value in enumerate(ms_mae_test):\n",
    "    plt.text(x=index + 0.15, y=value+0.0025, s=str(round(value, 3)), ha='center')\n",
    "\n",
    "plt.xticks(ticks=x, labels=labels)\n",
    "plt.legend(loc='best')\n",
    "plt.tight_layout()\n",
    "\n",
    "# plt.savefig('figures/CH16_F07_peixeiro.png', dpi=300)"
   ]
  }
 ],
 "metadata": {
  "kernelspec": {
   "display_name": "Python 3 (ipykernel)",
   "language": "python",
   "name": "python3"
  },
  "language_info": {
   "codemirror_mode": {
    "name": "ipython",
    "version": 3
   },
   "file_extension": ".py",
   "mimetype": "text/x-python",
   "name": "python",
   "nbconvert_exporter": "python",
   "pygments_lexer": "ipython3",
   "version": "3.10.9"
  }
 },
 "nbformat": 4,
 "nbformat_minor": 5
}
