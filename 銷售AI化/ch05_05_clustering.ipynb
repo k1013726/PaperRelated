{
  "nbformat": 4,
  "nbformat_minor": 0,
  "metadata": {
    "colab": {
      "name": "ch05_05_clustering.ipynb",
      "provenance": [],
      "collapsed_sections": []
    },
    "kernelspec": {
      "display_name": "Python 3",
      "language": "python",
      "name": "python3"
    },
    "language_info": {
      "codemirror_mode": {
        "name": "ipython",
        "version": 3
      },
      "file_extension": ".py",
      "mimetype": "text/x-python",
      "name": "python",
      "nbconvert_exporter": "python",
      "pygments_lexer": "ipython3",
      "version": "3.7.6"
    }
  },
  "cells": [
    {
      "cell_type": "markdown",
      "metadata": {
        "id": "ORsio2qVD3Rl"
      },
      "source": [
        "## 5.5 根據客群制定銷售策略（分群、降維）\n"
      ]
    },
    {
      "cell_type": "markdown",
      "metadata": {
        "id": "060CpHNuD3Rm"
      },
      "source": [
        "### 共通事前處理"
      ]
    },
    {
      "cell_type": "code",
      "metadata": {
        "id": "euFbjnbRD3Rn",
        "colab": {
          "base_uri": "https://localhost:8080/"
        },
        "outputId": "194496b6-a409-44a8-9cd0-e207ae2404a7"
      },
      "source": [
        "# 取得中文字型\n",
        "!wget 'https://github.com/flyingpath/electron-hand-dicom/raw/master/TaipeiSansTCBeta-Regular.ttf'"
      ],
      "execution_count": 70,
      "outputs": [
        {
          "output_type": "stream",
          "name": "stdout",
          "text": [
            "--2021-12-14 07:16:16--  https://github.com/flyingpath/electron-hand-dicom/raw/master/TaipeiSansTCBeta-Regular.ttf\n",
            "Resolving github.com (github.com)... 140.82.112.4\n",
            "Connecting to github.com (github.com)|140.82.112.4|:443... connected.\n",
            "HTTP request sent, awaiting response... 302 Found\n",
            "Location: https://raw.githubusercontent.com/flyingpath/electron-hand-dicom/master/TaipeiSansTCBeta-Regular.ttf [following]\n",
            "--2021-12-14 07:16:17--  https://raw.githubusercontent.com/flyingpath/electron-hand-dicom/master/TaipeiSansTCBeta-Regular.ttf\n",
            "Resolving raw.githubusercontent.com (raw.githubusercontent.com)... 185.199.109.133, 185.199.108.133, 185.199.111.133, ...\n",
            "Connecting to raw.githubusercontent.com (raw.githubusercontent.com)|185.199.109.133|:443... connected.\n",
            "HTTP request sent, awaiting response... 200 OK\n",
            "Length: 20659344 (20M) [application/octet-stream]\n",
            "Saving to: ‘TaipeiSansTCBeta-Regular.ttf.2’\n",
            "\n",
            "TaipeiSansTCBeta-Re 100%[===================>]  19.70M  --.-KB/s    in 0.1s    \n",
            "\n",
            "2021-12-14 07:16:17 (157 MB/s) - ‘TaipeiSansTCBeta-Regular.ttf.2’ saved [20659344/20659344]\n",
            "\n"
          ]
        }
      ]
    },
    {
      "cell_type": "code",
      "metadata": {
        "id": "Lyt_vTxUD3Rq"
      },
      "source": [
        "# 共通事前處理\n",
        "\n",
        "# 隱藏不必要的警告\n",
        "import warnings\n",
        "warnings.filterwarnings('ignore')\n",
        "\n",
        "# 匯入必要的套件\n",
        "import pandas as pd\n",
        "import numpy as np\n",
        "import matplotlib.pyplot as plt\n",
        "from matplotlib import font_manager as fm\n",
        "\n",
        "# 將字型新增到 matplotlib\n",
        "fm.fontManager.addfont('./TaipeiSansTCBeta-Regular.ttf')\n",
        "\n",
        "# 用來顯示資料框的函式\n",
        "from IPython.display import display\n",
        "\n",
        "# 調整顯示選項\n",
        "# NumPy 的浮點數表示精度\n",
        "np.set_printoptions(suppress=True, precision=4)\n",
        "\n",
        "# pandas 中的浮點數表示精度\n",
        "pd.options.display.float_format = '{:.4f}'.format\n",
        "\n",
        "# 顯示資料框中的所有項目\n",
        "pd.set_option(\"display.max_columns\",None)\n",
        "\n",
        "# 指定圖形的預設字體大小\n",
        "plt.rcParams[\"font.size\"] = 14\n",
        "\n",
        "# 指定圖形的預設字型\n",
        "plt.rcParams['font.family'] = 'Taipei Sans TC Beta'\n",
        "\n",
        "# 隨機種子\n",
        "random_seed = 183"
      ],
      "execution_count": 71,
      "outputs": []
    },
    {
      "cell_type": "markdown",
      "metadata": {
        "id": "HQlDUVzRD3Rs"
      },
      "source": [
        "### 原始連結\n",
        "Wholesale customers Data Set \n",
        "\n",
        "https://archive.ics.uci.edu/ml/datasets/wholesale+customers"
      ]
    },
    {
      "cell_type": "markdown",
      "metadata": {
        "id": "iB_ocZwOD3Rt"
      },
      "source": [
        "### 5.5.4 從載入資料到確認資料"
      ]
    },
    {
      "cell_type": "markdown",
      "metadata": {
        "id": "zNKorSZmD3Rt"
      },
      "source": [
        "#### 載入資料"
      ]
    },
    {
      "cell_type": "code",
      "metadata": {
        "id": "TsPBG-ECD3Ru"
      },
      "source": [
        "# 載入資料\n",
        "url = 'https://archive.ics.uci.edu/ml/machine-learning-databases\\\n",
        "/00292/Wholesale%20customers%20data.csv'\n",
        "\n",
        "df = pd.read_csv(url)\n",
        "\n",
        "# 將項目名稱替換成中文\n",
        "columns = ['銷售通路', '地區', '生鮮食品', '乳製品', '食品雜貨', \n",
        "    '冷凍食品', '清潔劑_家庭用紙', '熟食']\n",
        "df.columns = columns"
      ],
      "execution_count": 72,
      "outputs": []
    },
    {
      "cell_type": "markdown",
      "metadata": {
        "id": "oTLRFKx3D3Rw"
      },
      "source": [
        "#### 確認資料"
      ]
    },
    {
      "cell_type": "code",
      "metadata": {
        "id": "gKvGiyRXD3Rw",
        "colab": {
          "base_uri": "https://localhost:8080/",
          "height": 224
        },
        "outputId": "0d7ccf36-7993-469d-90be-477741b25f83"
      },
      "source": [
        "# 確認資料\n",
        "display(df.head())\n",
        "\n",
        "# 確認尺寸\n",
        "print(df.shape)"
      ],
      "execution_count": 73,
      "outputs": [
        {
          "output_type": "display_data",
          "data": {
            "text/html": [
              "<div>\n",
              "<style scoped>\n",
              "    .dataframe tbody tr th:only-of-type {\n",
              "        vertical-align: middle;\n",
              "    }\n",
              "\n",
              "    .dataframe tbody tr th {\n",
              "        vertical-align: top;\n",
              "    }\n",
              "\n",
              "    .dataframe thead th {\n",
              "        text-align: right;\n",
              "    }\n",
              "</style>\n",
              "<table border=\"1\" class=\"dataframe\">\n",
              "  <thead>\n",
              "    <tr style=\"text-align: right;\">\n",
              "      <th></th>\n",
              "      <th>銷售通路</th>\n",
              "      <th>地區</th>\n",
              "      <th>生鮮食品</th>\n",
              "      <th>乳製品</th>\n",
              "      <th>食品雜貨</th>\n",
              "      <th>冷凍食品</th>\n",
              "      <th>清潔劑_家庭用紙</th>\n",
              "      <th>熟食</th>\n",
              "    </tr>\n",
              "  </thead>\n",
              "  <tbody>\n",
              "    <tr>\n",
              "      <th>0</th>\n",
              "      <td>2</td>\n",
              "      <td>3</td>\n",
              "      <td>12669</td>\n",
              "      <td>9656</td>\n",
              "      <td>7561</td>\n",
              "      <td>214</td>\n",
              "      <td>2674</td>\n",
              "      <td>1338</td>\n",
              "    </tr>\n",
              "    <tr>\n",
              "      <th>1</th>\n",
              "      <td>2</td>\n",
              "      <td>3</td>\n",
              "      <td>7057</td>\n",
              "      <td>9810</td>\n",
              "      <td>9568</td>\n",
              "      <td>1762</td>\n",
              "      <td>3293</td>\n",
              "      <td>1776</td>\n",
              "    </tr>\n",
              "    <tr>\n",
              "      <th>2</th>\n",
              "      <td>2</td>\n",
              "      <td>3</td>\n",
              "      <td>6353</td>\n",
              "      <td>8808</td>\n",
              "      <td>7684</td>\n",
              "      <td>2405</td>\n",
              "      <td>3516</td>\n",
              "      <td>7844</td>\n",
              "    </tr>\n",
              "    <tr>\n",
              "      <th>3</th>\n",
              "      <td>1</td>\n",
              "      <td>3</td>\n",
              "      <td>13265</td>\n",
              "      <td>1196</td>\n",
              "      <td>4221</td>\n",
              "      <td>6404</td>\n",
              "      <td>507</td>\n",
              "      <td>1788</td>\n",
              "    </tr>\n",
              "    <tr>\n",
              "      <th>4</th>\n",
              "      <td>2</td>\n",
              "      <td>3</td>\n",
              "      <td>22615</td>\n",
              "      <td>5410</td>\n",
              "      <td>7198</td>\n",
              "      <td>3915</td>\n",
              "      <td>1777</td>\n",
              "      <td>5185</td>\n",
              "    </tr>\n",
              "  </tbody>\n",
              "</table>\n",
              "</div>"
            ],
            "text/plain": [
              "   銷售通路  地區   生鮮食品   乳製品  食品雜貨  冷凍食品  清潔劑_家庭用紙    熟食\n",
              "0     2   3  12669  9656  7561   214      2674  1338\n",
              "1     2   3   7057  9810  9568  1762      3293  1776\n",
              "2     2   3   6353  8808  7684  2405      3516  7844\n",
              "3     1   3  13265  1196  4221  6404       507  1788\n",
              "4     2   3  22615  5410  7198  3915      1777  5185"
            ]
          },
          "metadata": {}
        },
        {
          "output_type": "stream",
          "name": "stdout",
          "text": [
            "(440, 8)\n"
          ]
        }
      ]
    },
    {
      "cell_type": "code",
      "metadata": {
        "id": "Z1WIzw_tD3Rz",
        "colab": {
          "base_uri": "https://localhost:8080/"
        },
        "outputId": "b4367a20-f47f-4ed7-83c2-8c33a2f9dfc8"
      },
      "source": [
        "# 確認缺失值\n",
        "print(df.isnull().sum())"
      ],
      "execution_count": 74,
      "outputs": [
        {
          "output_type": "stream",
          "name": "stdout",
          "text": [
            "銷售通路        0\n",
            "地區          0\n",
            "生鮮食品        0\n",
            "乳製品         0\n",
            "食品雜貨        0\n",
            "冷凍食品        0\n",
            "清潔劑_家庭用紙    0\n",
            "熟食          0\n",
            "dtype: int64\n"
          ]
        }
      ]
    },
    {
      "cell_type": "code",
      "metadata": {
        "id": "j-2hfTBnD3R1",
        "colab": {
          "base_uri": "https://localhost:8080/"
        },
        "outputId": "b294df82-55a4-40e3-c4b5-140e1e6709c4"
      },
      "source": [
        "# 確認銷售通路的標籤值\n",
        "print(df['銷售通路'].value_counts())\n",
        "print()\n",
        "\n",
        "# 確認地區的標籤值\n",
        "print(df['地區'].value_counts())"
      ],
      "execution_count": 75,
      "outputs": [
        {
          "output_type": "stream",
          "name": "stdout",
          "text": [
            "1    298\n",
            "2    142\n",
            "Name: 銷售通路, dtype: int64\n",
            "\n",
            "3    316\n",
            "1     77\n",
            "2     47\n",
            "Name: 地區, dtype: int64\n"
          ]
        }
      ]
    },
    {
      "cell_type": "markdown",
      "metadata": {
        "id": "zSMqakKJD3R3"
      },
      "source": [
        "#### 銷售通路代碼的含意\n",
        "1. Horeca（旅館 / 餐廳 / 咖啡廳）298 \n",
        "2. Retail（零售）142 "
      ]
    },
    {
      "cell_type": "markdown",
      "metadata": {
        "id": "aLARYhrsD3R4"
      },
      "source": [
        "#### 地區代碼的含意\n",
        "1. Lisbon（里斯本）77 \n",
        "2. Oporto（波爾多）47 \n",
        "3. Other Region（其他）316 \n",
        "\n"
      ]
    },
    {
      "cell_type": "markdown",
      "metadata": {
        "id": "wS0QnunZD3R4"
      },
      "source": [
        "#### 繪製直方圖"
      ]
    },
    {
      "cell_type": "code",
      "metadata": {
        "id": "e7El541nD3R5",
        "scrolled": false,
        "colab": {
          "base_uri": "https://localhost:8080/",
          "height": 577
        },
        "outputId": "0bb3c098-c73e-44bd-e139-da4841a1031a"
      },
      "source": [
        "# 將資料中的銷售通路與地區刪除\n",
        "df2 = df.drop(['銷售通路', '地區'], axis=1)\n",
        "\n",
        "# 繪製欲分析項目之直方圖\n",
        "from pylab import rcParams\n",
        "rcParams['figure.figsize'] = (8, 8)\n",
        "df2.hist(bins=20)\n",
        "plt.tight_layout() \n",
        "plt.show()"
      ],
      "execution_count": 76,
      "outputs": [
        {
          "output_type": "display_data",
          "data": {
            "image/png": "[encoded data removed]",
            "text/plain": [
              "<Figure size 576x576 with 6 Axes>"
            ]
          },
          "metadata": {
            "needs_background": "light"
          }
        }
      ]
    },
    {
      "cell_type": "markdown",
      "metadata": {
        "id": "qI5f31AtD3R7"
      },
      "source": [
        "### 5.5.5 執行分群"
      ]
    },
    {
      "cell_type": "code",
      "metadata": {
        "id": "CfEPfY8cD3R7"
      },
      "source": [
        "# 不需預處理資料與分割資料\n",
        "\n",
        "# 選擇演算法\n",
        "from sklearn.cluster import KMeans\n",
        "\n",
        "# 定義群數\n",
        "clusters=4\n",
        "\n",
        "# 定義演算法\n",
        "algorithm = KMeans(n_clusters=clusters, \n",
        "    random_state=random_seed)"
      ],
      "execution_count": 77,
      "outputs": []
    },
    {
      "cell_type": "code",
      "metadata": {
        "id": "xfGbHcwoD3R9",
        "colab": {
          "base_uri": "https://localhost:8080/"
        },
        "outputId": "d3d996b4-c674-4b07-b666-837d95a3ae08"
      },
      "source": [
        "# 執行訓練與預測\n",
        "y_pred = algorithm.fit_predict(df2)\n",
        "\n",
        "# 確認部分結果\n",
        "print(y_pred[:20])"
      ],
      "execution_count": 78,
      "outputs": [
        {
          "output_type": "stream",
          "name": "stdout",
          "text": [
            "[3 3 3 3 0 3 3 3 3 1 1 3 0 1 0 3 1 3 3 3]\n"
          ]
        }
      ]
    },
    {
      "cell_type": "markdown",
      "metadata": {
        "id": "mZxGwWUDD3R_"
      },
      "source": [
        "### 5.5.6 分析分群結果"
      ]
    },
    {
      "cell_type": "markdown",
      "metadata": {
        "id": "vPbPUf85D3R_"
      },
      "source": [
        "#### 計算各群的平均值"
      ]
    },
    {
      "cell_type": "code",
      "metadata": {
        "id": "q24sMbpvD3SA",
        "colab": {
          "base_uri": "https://localhost:8080/",
          "height": 175
        },
        "outputId": "fea57a40-13bc-4648-aef6-df9f0dff2ca1"
      },
      "source": [
        "# 計算各群的平均值\n",
        "df_cluster = df2.groupby(y_pred).mean()\n",
        "display(df_cluster)"
      ],
      "execution_count": 79,
      "outputs": [
        {
          "output_type": "display_data",
          "data": {
            "text/html": [
              "<div>\n",
              "<style scoped>\n",
              "    .dataframe tbody tr th:only-of-type {\n",
              "        vertical-align: middle;\n",
              "    }\n",
              "\n",
              "    .dataframe tbody tr th {\n",
              "        vertical-align: top;\n",
              "    }\n",
              "\n",
              "    .dataframe thead th {\n",
              "        text-align: right;\n",
              "    }\n",
              "</style>\n",
              "<table border=\"1\" class=\"dataframe\">\n",
              "  <thead>\n",
              "    <tr style=\"text-align: right;\">\n",
              "      <th></th>\n",
              "      <th>生鮮食品</th>\n",
              "      <th>乳製品</th>\n",
              "      <th>食品雜貨</th>\n",
              "      <th>冷凍食品</th>\n",
              "      <th>清潔劑_家庭用紙</th>\n",
              "      <th>熟食</th>\n",
              "    </tr>\n",
              "  </thead>\n",
              "  <tbody>\n",
              "    <tr>\n",
              "      <th>0</th>\n",
              "      <td>36156.3898</td>\n",
              "      <td>6123.6441</td>\n",
              "      <td>6366.7797</td>\n",
              "      <td>6811.1186</td>\n",
              "      <td>1050.0169</td>\n",
              "      <td>3090.0508</td>\n",
              "    </tr>\n",
              "    <tr>\n",
              "      <th>1</th>\n",
              "      <td>5134.2198</td>\n",
              "      <td>11398.0769</td>\n",
              "      <td>17848.7582</td>\n",
              "      <td>1562.7802</td>\n",
              "      <td>7768.9231</td>\n",
              "      <td>1900.2418</td>\n",
              "    </tr>\n",
              "    <tr>\n",
              "      <th>2</th>\n",
              "      <td>20031.2857</td>\n",
              "      <td>38084.0000</td>\n",
              "      <td>56126.1429</td>\n",
              "      <td>2564.5714</td>\n",
              "      <td>27644.5714</td>\n",
              "      <td>2548.1429</td>\n",
              "    </tr>\n",
              "    <tr>\n",
              "      <th>3</th>\n",
              "      <td>8973.3958</td>\n",
              "      <td>3128.0883</td>\n",
              "      <td>3907.4276</td>\n",
              "      <td>2790.2085</td>\n",
              "      <td>1079.2297</td>\n",
              "      <td>1052.5477</td>\n",
              "    </tr>\n",
              "  </tbody>\n",
              "</table>\n",
              "</div>"
            ],
            "text/plain": [
              "        生鮮食品        乳製品       食品雜貨      冷凍食品   清潔劑_家庭用紙        熟食\n",
              "0 36156.3898  6123.6441  6366.7797 6811.1186  1050.0169 3090.0508\n",
              "1  5134.2198 11398.0769 17848.7582 1562.7802  7768.9231 1900.2418\n",
              "2 20031.2857 38084.0000 56126.1429 2564.5714 27644.5714 2548.1429\n",
              "3  8973.3958  3128.0883  3907.4276 2790.2085  1079.2297 1052.5477"
            ]
          },
          "metadata": {}
        }
      ]
    },
    {
      "cell_type": "markdown",
      "metadata": {
        "id": "eKzdYkL8D3SC"
      },
      "source": [
        "#### 繪製各群組的長條圖"
      ]
    },
    {
      "cell_type": "code",
      "metadata": {
        "id": "wVb9iCt0D3SC",
        "colab": {
          "base_uri": "https://localhost:8080/",
          "height": 372
        },
        "outputId": "c754c0d4-ee53-4731-e20f-7fcdd34fe944"
      },
      "source": [
        "# 繪製各群的長條圖\n",
        "df_cluster.plot(kind='bar',stacked=True,\n",
        "    figsize=(10, 6),colormap='jet')\n",
        "plt.show()"
      ],
      "execution_count": 80,
      "outputs": [
        {
          "output_type": "display_data",
          "data": {
            "image/png": "[encoded data removed]",
            "text/plain": [
              "<Figure size 720x432 with 1 Axes>"
            ]
          },
          "metadata": {
            "needs_background": "light"
          }
        }
      ]
    },
    {
      "cell_type": "markdown",
      "metadata": {
        "id": "eFg89g0wD3SE"
      },
      "source": [
        "#### 分析結果\n",
        "\n",
        "* **0**: 以生鮮食品為主\n",
        "* **1**: 以食品雜貨為主\n",
        "* **2**: 大量消費\n",
        "* **3**: 少量消費"
      ]
    },
    {
      "cell_type": "markdown",
      "metadata": {
        "id": "QGmD9ipaD3SF"
      },
      "source": [
        "#### 群與銷售通路及地區之間的關係"
      ]
    },
    {
      "cell_type": "code",
      "metadata": {
        "id": "vzq4FBEHD3SF",
        "scrolled": false,
        "colab": {
          "base_uri": "https://localhost:8080/",
          "height": 886
        },
        "outputId": "2568a273-21d4-4ff3-b002-6320eeaab26d"
      },
      "source": [
        "# 確認群與銷售通路和地區之間的關係\n",
        "\n",
        "# 只提取銷售通路和地區到 df3\n",
        "df3 = df[['地區', '銷售通路']]\n",
        "\n",
        "# 設定圖形大小\n",
        "rcParams['figure.figsize'] = (6,3)\n",
        "\n",
        "# 繪製各群的圖形\n",
        "for i in range(clusters):\n",
        "    fig, ax = plt.subplots()\n",
        "    w = df3[y_pred==i]\n",
        "    print(f'==== 群{i} ====')\n",
        "    w.hist(ax=ax)\n",
        "    plt.tight_layout()\n",
        "    plt.show()"
      ],
      "execution_count": 81,
      "outputs": [
        {
          "output_type": "stream",
          "name": "stdout",
          "text": [
            "==== 群0 ====\n"
          ]
        },
        {
          "output_type": "display_data",
          "data": {
            "image/png": "[encoded data removed]",
            "text/plain": [
              "<Figure size 432x216 with 2 Axes>"
            ]
          },
          "metadata": {
            "needs_background": "light"
          }
        },
        {
          "output_type": "stream",
          "name": "stdout",
          "text": [
            "==== 群1 ====\n"
          ]
        },
        {
          "output_type": "display_data",
          "data": {
            "image/png": "[encoded data removed]",
            "text/plain": [
              "<Figure size 432x216 with 2 Axes>"
            ]
          },
          "metadata": {
            "needs_background": "light"
          }
        },
        {
          "output_type": "stream",
          "name": "stdout",
          "text": [
            "==== 群2 ====\n"
          ]
        },
        {
          "output_type": "display_data",
          "data": {
            "image/png": "[encoded data removed]",
            "text/plain": [
              "<Figure size 432x216 with 2 Axes>"
            ]
          },
          "metadata": {
            "needs_background": "light"
          }
        },
        {
          "output_type": "stream",
          "name": "stdout",
          "text": [
            "==== 群3 ====\n"
          ]
        },
        {
          "output_type": "display_data",
          "data": {
            "image/png": "[encoded data removed]",
            "text/plain": [
              "<Figure size 432x216 with 2 Axes>"
            ]
          },
          "metadata": {
            "needs_background": "light"
          }
        }
      ]
    },
    {
      "cell_type": "markdown",
      "metadata": {
        "id": "z3iYpMSZD3SH"
      },
      "source": [
        "#### 分析結果\n",
        "群0（生鮮）和群3（少量）與銷售通路1（Horeca）有密切相關。   \n",
        "群1（食雜）和群2 （大量）與銷售通路2（Retail）有密切相關。  \n",
        "未發現地區和群之間有特殊相關。"
      ]
    },
    {
      "cell_type": "markdown",
      "metadata": {
        "id": "kPwgiwbtD3SI"
      },
      "source": [
        "\n",
        "\n",
        "```\n",
        "# This is formatted as code\n",
        "```\n",
        "\n",
        "### 5.5.7 執行降維"
      ]
    },
    {
      "cell_type": "code",
      "metadata": {
        "id": "clpaya39D3SI"
      },
      "source": [
        "# 選擇演算法\n",
        "from sklearn.decomposition import PCA\n",
        "\n",
        "# 生成模型\n",
        "# 為繪製散佈圖，降低至 2 維\n",
        "pca = PCA(n_components=2)"
      ],
      "execution_count": 82,
      "outputs": []
    },
    {
      "cell_type": "code",
      "metadata": {
        "id": "obiGfHi0D3SK",
        "colab": {
          "base_uri": "https://localhost:8080/"
        },
        "outputId": "0645c9c7-aad6-424d-bb8e-80fbc73b87b1"
      },
      "source": [
        "# 執行訓練與轉換\n",
        "d2 = pca.fit_transform(df2)\n",
        "\n",
        "# 顯示部分結果\n",
        "print(d2[:5,:])\n",
        "#print()\n",
        "#print(d2.min(axis=0), d2.max(axis=0))"
      ],
      "execution_count": 83,
      "outputs": [
        {
          "output_type": "stream",
          "name": "stdout",
          "text": [
            "[[  650.0221  1585.5191]\n",
            " [-4426.805   4042.4515]\n",
            " [-4841.9987  2578.7622]\n",
            " [  990.3464 -6279.806 ]\n",
            " [10657.9987 -2159.7258]]\n"
          ]
        }
      ]
    },
    {
      "cell_type": "markdown",
      "metadata": {
        "id": "9O5StcBGD3SM"
      },
      "source": [
        "### 5.5.8 降維的運用方式"
      ]
    },
    {
      "cell_type": "markdown",
      "metadata": {
        "id": "ceborIy5D3SM"
      },
      "source": [
        "#### 散佈圖顯示"
      ]
    },
    {
      "cell_type": "code",
      "metadata": {
        "id": "DFOj2JT-D3SN",
        "colab": {
          "base_uri": "https://localhost:8080/",
          "height": 487
        },
        "outputId": "55fc5bb7-40f2-4505-ab01-45e71d7ade71"
      },
      "source": [
        "# 繪製以顏色區分各群的散佈圖\n",
        "\n",
        "plt.figure(figsize=(8,8))\n",
        "marks = ['.', 'x', '*', '+']\n",
        "labels = ['生鮮', '食雜', '大量', '少量']\n",
        "colors = ['grey', 'lightblue', 'blue', 'black']\n",
        "\n",
        "for i in range(clusters):\n",
        "  plt.scatter(d2[y_pred==i][:,0], d2[y_pred==i][:,1], \n",
        "    marker=marks[i], label=labels[i], s=100, c=colors[i])\n",
        "plt.legend(fontsize=14)\n",
        "plt.show()"
      ],
      "execution_count": 84,
      "outputs": [
        {
          "output_type": "display_data",
          "data": {
            "image/png": "[encoded data removed]",
            "text/plain": [
              "<Figure size 576x576 with 1 Axes>"
            ]
          },
          "metadata": {
            "needs_background": "light"
          }
        }
      ]
    },
    {
      "cell_type": "markdown",
      "metadata": {
        "id": "xSroAT7PD3SP"
      },
      "source": [
        "#### 確認離群值"
      ]
    },
    {
      "cell_type": "code",
      "metadata": {
        "id": "ygbDqd_lD3SQ",
        "colab": {
          "base_uri": "https://localhost:8080/",
          "height": 81
        },
        "outputId": "845f9e8b-4b2c-4999-fb7c-34ca3fbcb9e7"
      },
      "source": [
        "# 確認生鮮群組的離群值\n",
        "display(df[d2[:,0] > 100000])"
      ],
      "execution_count": 87,
      "outputs": [
        {
          "output_type": "display_data",
          "data": {
            "text/html": [
              "<div>\n",
              "<style scoped>\n",
              "    .dataframe tbody tr th:only-of-type {\n",
              "        vertical-align: middle;\n",
              "    }\n",
              "\n",
              "    .dataframe tbody tr th {\n",
              "        vertical-align: top;\n",
              "    }\n",
              "\n",
              "    .dataframe thead th {\n",
              "        text-align: right;\n",
              "    }\n",
              "</style>\n",
              "<table border=\"1\" class=\"dataframe\">\n",
              "  <thead>\n",
              "    <tr style=\"text-align: right;\">\n",
              "      <th></th>\n",
              "      <th>銷售通路</th>\n",
              "      <th>地區</th>\n",
              "      <th>生鮮食品</th>\n",
              "      <th>乳製品</th>\n",
              "      <th>食品雜貨</th>\n",
              "      <th>冷凍食品</th>\n",
              "      <th>清潔劑_家庭用紙</th>\n",
              "      <th>熟食</th>\n",
              "    </tr>\n",
              "  </thead>\n",
              "  <tbody>\n",
              "    <tr>\n",
              "      <th>181</th>\n",
              "      <td>1</td>\n",
              "      <td>3</td>\n",
              "      <td>112151</td>\n",
              "      <td>29627</td>\n",
              "      <td>18148</td>\n",
              "      <td>16745</td>\n",
              "      <td>4948</td>\n",
              "      <td>8550</td>\n",
              "    </tr>\n",
              "  </tbody>\n",
              "</table>\n",
              "</div>"
            ],
            "text/plain": [
              "     銷售通路  地區    生鮮食品    乳製品   食品雜貨   冷凍食品  清潔劑_家庭用紙    熟食\n",
              "181     1   3  112151  29627  18148  16745      4948  8550"
            ]
          },
          "metadata": {}
        }
      ]
    },
    {
      "cell_type": "markdown",
      "metadata": {
        "id": "S7SvVzFBD3SR"
      },
      "source": [
        "【討論】  \n",
        "索引 181 的消費者在生鮮食品上購買量特別多。"
      ]
    },
    {
      "cell_type": "code",
      "metadata": {
        "id": "1aNy2yJVD3SS",
        "colab": {
          "base_uri": "https://localhost:8080/",
          "height": 81
        },
        "outputId": "db6a86cd-bc05-4ecb-bd09-d5fed9cafe60"
      },
      "source": [
        "# 確認大量群組的離群值\n",
        "display(df[d2[:,1] > 80000])"
      ],
      "execution_count": 88,
      "outputs": [
        {
          "output_type": "display_data",
          "data": {
            "text/html": [
              "<div>\n",
              "<style scoped>\n",
              "    .dataframe tbody tr th:only-of-type {\n",
              "        vertical-align: middle;\n",
              "    }\n",
              "\n",
              "    .dataframe tbody tr th {\n",
              "        vertical-align: top;\n",
              "    }\n",
              "\n",
              "    .dataframe thead th {\n",
              "        text-align: right;\n",
              "    }\n",
              "</style>\n",
              "<table border=\"1\" class=\"dataframe\">\n",
              "  <thead>\n",
              "    <tr style=\"text-align: right;\">\n",
              "      <th></th>\n",
              "      <th>銷售通路</th>\n",
              "      <th>地區</th>\n",
              "      <th>生鮮食品</th>\n",
              "      <th>乳製品</th>\n",
              "      <th>食品雜貨</th>\n",
              "      <th>冷凍食品</th>\n",
              "      <th>清潔劑_家庭用紙</th>\n",
              "      <th>熟食</th>\n",
              "    </tr>\n",
              "  </thead>\n",
              "  <tbody>\n",
              "    <tr>\n",
              "      <th>85</th>\n",
              "      <td>2</td>\n",
              "      <td>3</td>\n",
              "      <td>16117</td>\n",
              "      <td>46197</td>\n",
              "      <td>92780</td>\n",
              "      <td>1026</td>\n",
              "      <td>40827</td>\n",
              "      <td>2944</td>\n",
              "    </tr>\n",
              "  </tbody>\n",
              "</table>\n",
              "</div>"
            ],
            "text/plain": [
              "    銷售通路  地區   生鮮食品    乳製品   食品雜貨  冷凍食品  清潔劑_家庭用紙    熟食\n",
              "85     2   3  16117  46197  92780  1026     40827  2944"
            ]
          },
          "metadata": {}
        }
      ]
    },
    {
      "cell_type": "markdown",
      "metadata": {
        "id": "J6jV6-4HD3SU"
      },
      "source": [
        "【討論】  \n",
        "索引 85 的消費者在食品與清潔劑、家庭用紙上的購買量特別多。"
      ]
    },
    {
      "cell_type": "code",
      "metadata": {
        "id": "zgOgOJfhD3SU",
        "colab": {
          "base_uri": "https://localhost:8080/",
          "height": 300
        },
        "outputId": "a44e9ce4-08f8-4646-db2f-2758c44017ff"
      },
      "source": [
        "# 確認統計資訊\n",
        "display(df2.describe())"
      ],
      "execution_count": 89,
      "outputs": [
        {
          "output_type": "display_data",
          "data": {
            "text/html": [
              "<div>\n",
              "<style scoped>\n",
              "    .dataframe tbody tr th:only-of-type {\n",
              "        vertical-align: middle;\n",
              "    }\n",
              "\n",
              "    .dataframe tbody tr th {\n",
              "        vertical-align: top;\n",
              "    }\n",
              "\n",
              "    .dataframe thead th {\n",
              "        text-align: right;\n",
              "    }\n",
              "</style>\n",
              "<table border=\"1\" class=\"dataframe\">\n",
              "  <thead>\n",
              "    <tr style=\"text-align: right;\">\n",
              "      <th></th>\n",
              "      <th>生鮮食品</th>\n",
              "      <th>乳製品</th>\n",
              "      <th>食品雜貨</th>\n",
              "      <th>冷凍食品</th>\n",
              "      <th>清潔劑_家庭用紙</th>\n",
              "      <th>熟食</th>\n",
              "    </tr>\n",
              "  </thead>\n",
              "  <tbody>\n",
              "    <tr>\n",
              "      <th>count</th>\n",
              "      <td>440.0000</td>\n",
              "      <td>440.0000</td>\n",
              "      <td>440.0000</td>\n",
              "      <td>440.0000</td>\n",
              "      <td>440.0000</td>\n",
              "      <td>440.0000</td>\n",
              "    </tr>\n",
              "    <tr>\n",
              "      <th>mean</th>\n",
              "      <td>12000.2977</td>\n",
              "      <td>5796.2659</td>\n",
              "      <td>7951.2773</td>\n",
              "      <td>3071.9318</td>\n",
              "      <td>2881.4932</td>\n",
              "      <td>1524.8705</td>\n",
              "    </tr>\n",
              "    <tr>\n",
              "      <th>std</th>\n",
              "      <td>12647.3289</td>\n",
              "      <td>7380.3772</td>\n",
              "      <td>9503.1628</td>\n",
              "      <td>4854.6733</td>\n",
              "      <td>4767.8544</td>\n",
              "      <td>2820.1059</td>\n",
              "    </tr>\n",
              "    <tr>\n",
              "      <th>min</th>\n",
              "      <td>3.0000</td>\n",
              "      <td>55.0000</td>\n",
              "      <td>3.0000</td>\n",
              "      <td>25.0000</td>\n",
              "      <td>3.0000</td>\n",
              "      <td>3.0000</td>\n",
              "    </tr>\n",
              "    <tr>\n",
              "      <th>25%</th>\n",
              "      <td>3127.7500</td>\n",
              "      <td>1533.0000</td>\n",
              "      <td>2153.0000</td>\n",
              "      <td>742.2500</td>\n",
              "      <td>256.7500</td>\n",
              "      <td>408.2500</td>\n",
              "    </tr>\n",
              "    <tr>\n",
              "      <th>50%</th>\n",
              "      <td>8504.0000</td>\n",
              "      <td>3627.0000</td>\n",
              "      <td>4755.5000</td>\n",
              "      <td>1526.0000</td>\n",
              "      <td>816.5000</td>\n",
              "      <td>965.5000</td>\n",
              "    </tr>\n",
              "    <tr>\n",
              "      <th>75%</th>\n",
              "      <td>16933.7500</td>\n",
              "      <td>7190.2500</td>\n",
              "      <td>10655.7500</td>\n",
              "      <td>3554.2500</td>\n",
              "      <td>3922.0000</td>\n",
              "      <td>1820.2500</td>\n",
              "    </tr>\n",
              "    <tr>\n",
              "      <th>max</th>\n",
              "      <td>112151.0000</td>\n",
              "      <td>73498.0000</td>\n",
              "      <td>92780.0000</td>\n",
              "      <td>60869.0000</td>\n",
              "      <td>40827.0000</td>\n",
              "      <td>47943.0000</td>\n",
              "    </tr>\n",
              "  </tbody>\n",
              "</table>\n",
              "</div>"
            ],
            "text/plain": [
              "             生鮮食品        乳製品       食品雜貨       冷凍食品   清潔劑_家庭用紙         熟食\n",
              "count    440.0000   440.0000   440.0000   440.0000   440.0000   440.0000\n",
              "mean   12000.2977  5796.2659  7951.2773  3071.9318  2881.4932  1524.8705\n",
              "std    12647.3289  7380.3772  9503.1628  4854.6733  4767.8544  2820.1059\n",
              "min        3.0000    55.0000     3.0000    25.0000     3.0000     3.0000\n",
              "25%     3127.7500  1533.0000  2153.0000   742.2500   256.7500   408.2500\n",
              "50%     8504.0000  3627.0000  4755.5000  1526.0000   816.5000   965.5000\n",
              "75%    16933.7500  7190.2500 10655.7500  3554.2500  3922.0000  1820.2500\n",
              "max   112151.0000 73498.0000 92780.0000 60869.0000 40827.0000 47943.0000"
            ]
          },
          "metadata": {}
        }
      ]
    },
    {
      "cell_type": "code",
      "metadata": {
        "id": "U6zUEK9PD3SW"
      },
      "source": [
        ""
      ],
      "execution_count": 89,
      "outputs": []
    }
  ]
}