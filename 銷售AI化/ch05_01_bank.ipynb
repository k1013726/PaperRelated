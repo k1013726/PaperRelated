{
  "nbformat": 4,
  "nbformat_minor": 0,
  "metadata": {
    "colab": {
      "name": "ch05_01_bank.ipynb",
      "provenance": [],
      "collapsed_sections": []
    },
    "kernelspec": {
      "display_name": "Python 3",
      "language": "python",
      "name": "python3"
    },
    "language_info": {
      "codemirror_mode": {
        "name": "ipython",
        "version": 3
      },
      "file_extension": ".py",
      "mimetype": "text/x-python",
      "name": "python",
      "nbconvert_exporter": "python",
      "pygments_lexer": "ipython3",
      "version": "3.7.6"
    }
  },
  "cells": [
    {
      "cell_type": "markdown",
      "metadata": {
        "id": "greK8Y5uDD5k"
      },
      "source": [
        "## 5.1 銷售成交預測（分類）\n"
      ]
    },
    {
      "cell_type": "markdown",
      "metadata": {
        "id": "7buSd9V8DD5l"
      },
      "source": [
        "### 共通事前處理"
      ]
    },
    {
      "cell_type": "code",
      "metadata": {
        "colab": {
          "base_uri": "https://localhost:8080/"
        },
        "id": "j_iOBA19DD5m",
        "outputId": "37c1a802-5e90-41c8-cbe0-294921c8de76"
      },
      "source": [
        "# 取得中文字型\n",
        "!wget 'https://github.com/flyingpath/electron-hand-dicom/raw/master/TaipeiSansTCBeta-Regular.ttf'"
      ],
      "execution_count": null,
      "outputs": [
        {
          "output_type": "stream",
          "name": "stdout",
          "text": [
            "--2021-11-26 07:23:04--  https://github.com/flyingpath/electron-hand-dicom/raw/master/TaipeiSansTCBeta-Regular.ttf\n",
            "Resolving github.com (github.com)... 52.69.186.44\n",
            "Connecting to github.com (github.com)|52.69.186.44|:443... connected.\n",
            "HTTP request sent, awaiting response... 302 Found\n",
            "Location: https://raw.githubusercontent.com/flyingpath/electron-hand-dicom/master/TaipeiSansTCBeta-Regular.ttf [following]\n",
            "--2021-11-26 07:23:05--  https://raw.githubusercontent.com/flyingpath/electron-hand-dicom/master/TaipeiSansTCBeta-Regular.ttf\n",
            "Resolving raw.githubusercontent.com (raw.githubusercontent.com)... 185.199.108.133, 185.199.109.133, 185.199.110.133, ...\n",
            "Connecting to raw.githubusercontent.com (raw.githubusercontent.com)|185.199.108.133|:443... connected.\n",
            "HTTP request sent, awaiting response... 200 OK\n",
            "Length: 20659344 (20M) [application/octet-stream]\n",
            "Saving to: ‘TaipeiSansTCBeta-Regular.ttf.1’\n",
            "\n",
            "TaipeiSansTCBeta-Re 100%[===================>]  19.70M  99.7MB/s    in 0.2s    \n",
            "\n",
            "2021-11-26 07:23:06 (99.7 MB/s) - ‘TaipeiSansTCBeta-Regular.ttf.1’ saved [20659344/20659344]\n",
            "\n"
          ]
        }
      ]
    },
    {
      "cell_type": "code",
      "metadata": {
        "id": "1Mxrs7MVDD5p"
      },
      "source": [
        "# 共通事前處理\n",
        "\n",
        "# 隱藏不必要的警告\n",
        "import warnings\n",
        "warnings.filterwarnings('ignore')\n",
        "\n",
        "# 匯入必要的函式庫\n",
        "import pandas as pd\n",
        "import numpy as np\n",
        "import matplotlib.pyplot as plt\n",
        "from matplotlib import font_manager as fm\n",
        "\n",
        "# 將字型新增到 matplotlib\n",
        "fm.fontManager.addfont('./TaipeiSansTCBeta-Regular.ttf')\n",
        "\n",
        "# 用來顯示資料框的函式\n",
        "from IPython.display import display\n",
        "\n",
        "# 調整顯示選項\n",
        "# NumPy 的浮點數表示精度\n",
        "np.set_printoptions(suppress=True, precision=4)\n",
        "# pandas 中的浮點數表示精度\n",
        "pd.options.display.float_format = '{:.4f}'.format\n",
        "# 顯示資料框中的所有項目\n",
        "pd.set_option(\"display.max_columns\",None)\n",
        "# 指定圖形的預設字體大小\n",
        "plt.rcParams[\"font.size\"] = 14\n",
        "# 指定圖形的預設字型\n",
        "plt.rcParams['font.family'] = 'Taipei Sans TC Beta'\n",
        "# 隨機種子\n",
        "random_seed = 123"
      ],
      "execution_count": null,
      "outputs": []
    },
    {
      "cell_type": "code",
      "metadata": {
        "id": "qPY0LwgIDD5s"
      },
      "source": [
        "# 用於顯示混淆矩陣之函式\n",
        "\n",
        "def make_cm(matrix, columns):\n",
        "    # matrix numpy 陣列\n",
        "    \n",
        "    # columns 項目名稱列表\n",
        "    n = len(columns)\n",
        "    \n",
        "    # 將 '標準答案' 重複 n 次以生成列表\n",
        "    act = ['標準答案'] * n\n",
        "    pred = ['預測結果'] * n\n",
        "    \n",
        "    # 生成資料框\n",
        "    cm = pd.DataFrame(matrix, \n",
        "        columns=[pred, columns], index=[act, columns])\n",
        "    return cm"
      ],
      "execution_count": null,
      "outputs": []
    },
    {
      "cell_type": "markdown",
      "metadata": {
        "id": "pqFtoL69DD5u"
      },
      "source": [
        "### 5.1.4 從載入資料到確認資料"
      ]
    },
    {
      "cell_type": "markdown",
      "metadata": {
        "id": "vqPhIS63DD5u"
      },
      "source": [
        "#### 載入資料"
      ]
    },
    {
      "cell_type": "code",
      "metadata": {
        "colab": {
          "base_uri": "https://localhost:8080/"
        },
        "id": "qvloe3H9DD5v",
        "outputId": "b36db232-b897-434b-f8ff-a6730e892fe8"
      },
      "source": [
        "# 下載並解壓縮公開資料集\n",
        "!wget https://archive.ics.uci.edu/ml/\\\n",
        "machine-learning-databases/00222/bank.zip\n",
        "!unzip -o bank.zip\n",
        "\n",
        "# 將 bank-full.csv 載入資料框中\n",
        "df_all = pd.read_csv('bank-full.csv', sep=';')\n",
        "\n",
        "# 將項目名稱替換成中文\n",
        "columns = [\n",
        "    '年齡', '職業', '婚姻', '學歷', '違約', '平均餘額',\n",
        "    '房屋貸款', '個人信貸', '聯絡方式', '最近一次通話日期',\n",
        "    '最近一次通話月份', '最近一次通話秒數', '通話次數_促銷期間',\n",
        "    '上次促銷後_經過天數', '通話次數_促銷之前', '上次促銷結果',\n",
        "    '本次促銷結果'\n",
        "]\n",
        "df_all.columns = columns"
      ],
      "execution_count": null,
      "outputs": [
        {
          "output_type": "stream",
          "name": "stdout",
          "text": [
            "--2021-11-26 07:23:07--  https://archive.ics.uci.edu/ml/machine-learning-databases/00222/bank.zip\n",
            "Resolving archive.ics.uci.edu (archive.ics.uci.edu)... 128.195.10.252\n",
            "Connecting to archive.ics.uci.edu (archive.ics.uci.edu)|128.195.10.252|:443... connected.\n",
            "HTTP request sent, awaiting response... 200 OK\n",
            "Length: 579043 (565K) [application/x-httpd-php]\n",
            "Saving to: ‘bank.zip.1’\n",
            "\n",
            "bank.zip.1          100%[===================>] 565.47K   872KB/s    in 0.6s    \n",
            "\n",
            "2021-11-26 07:23:08 (872 KB/s) - ‘bank.zip.1’ saved [579043/579043]\n",
            "\n",
            "Archive:  bank.zip\n",
            "  inflating: bank-full.csv           \n",
            "  inflating: bank-names.txt          \n",
            "  inflating: bank.csv                \n"
          ]
        }
      ]
    },
    {
      "cell_type": "markdown",
      "metadata": {
        "id": "Y831BSZ6DD5x"
      },
      "source": [
        "#### 確認資料"
      ]
    },
    {
      "cell_type": "code",
      "metadata": {
        "colab": {
          "base_uri": "https://localhost:8080/",
          "height": 206
        },
        "id": "yW6T-FRwDD5x",
        "outputId": "b0d8f701-7698-4bd4-c17b-f4b14cf95a91"
      },
      "source": [
        "# 確認資料框的內容\n",
        "display(df_all.head())"
      ],
      "execution_count": null,
      "outputs": [
        {
          "output_type": "display_data",
          "data": {
            "text/html": [
              "<div>\n",
              "<style scoped>\n",
              "    .dataframe tbody tr th:only-of-type {\n",
              "        vertical-align: middle;\n",
              "    }\n",
              "\n",
              "    .dataframe tbody tr th {\n",
              "        vertical-align: top;\n",
              "    }\n",
              "\n",
              "    .dataframe thead th {\n",
              "        text-align: right;\n",
              "    }\n",
              "</style>\n",
              "<table border=\"1\" class=\"dataframe\">\n",
              "  <thead>\n",
              "    <tr style=\"text-align: right;\">\n",
              "      <th></th>\n",
              "      <th>年齡</th>\n",
              "      <th>職業</th>\n",
              "      <th>婚姻</th>\n",
              "      <th>學歷</th>\n",
              "      <th>違約</th>\n",
              "      <th>平均餘額</th>\n",
              "      <th>房屋貸款</th>\n",
              "      <th>個人信貸</th>\n",
              "      <th>聯絡方式</th>\n",
              "      <th>最近一次通話日期</th>\n",
              "      <th>最近一次通話月份</th>\n",
              "      <th>最近一次通話秒數</th>\n",
              "      <th>通話次數_促銷期間</th>\n",
              "      <th>上次促銷後_經過天數</th>\n",
              "      <th>通話次數_促銷之前</th>\n",
              "      <th>上次促銷結果</th>\n",
              "      <th>本次促銷結果</th>\n",
              "    </tr>\n",
              "  </thead>\n",
              "  <tbody>\n",
              "    <tr>\n",
              "      <th>0</th>\n",
              "      <td>58</td>\n",
              "      <td>management</td>\n",
              "      <td>married</td>\n",
              "      <td>tertiary</td>\n",
              "      <td>no</td>\n",
              "      <td>2143</td>\n",
              "      <td>yes</td>\n",
              "      <td>no</td>\n",
              "      <td>unknown</td>\n",
              "      <td>5</td>\n",
              "      <td>may</td>\n",
              "      <td>261</td>\n",
              "      <td>1</td>\n",
              "      <td>-1</td>\n",
              "      <td>0</td>\n",
              "      <td>unknown</td>\n",
              "      <td>no</td>\n",
              "    </tr>\n",
              "    <tr>\n",
              "      <th>1</th>\n",
              "      <td>44</td>\n",
              "      <td>technician</td>\n",
              "      <td>single</td>\n",
              "      <td>secondary</td>\n",
              "      <td>no</td>\n",
              "      <td>29</td>\n",
              "      <td>yes</td>\n",
              "      <td>no</td>\n",
              "      <td>unknown</td>\n",
              "      <td>5</td>\n",
              "      <td>may</td>\n",
              "      <td>151</td>\n",
              "      <td>1</td>\n",
              "      <td>-1</td>\n",
              "      <td>0</td>\n",
              "      <td>unknown</td>\n",
              "      <td>no</td>\n",
              "    </tr>\n",
              "    <tr>\n",
              "      <th>2</th>\n",
              "      <td>33</td>\n",
              "      <td>entrepreneur</td>\n",
              "      <td>married</td>\n",
              "      <td>secondary</td>\n",
              "      <td>no</td>\n",
              "      <td>2</td>\n",
              "      <td>yes</td>\n",
              "      <td>yes</td>\n",
              "      <td>unknown</td>\n",
              "      <td>5</td>\n",
              "      <td>may</td>\n",
              "      <td>76</td>\n",
              "      <td>1</td>\n",
              "      <td>-1</td>\n",
              "      <td>0</td>\n",
              "      <td>unknown</td>\n",
              "      <td>no</td>\n",
              "    </tr>\n",
              "    <tr>\n",
              "      <th>3</th>\n",
              "      <td>47</td>\n",
              "      <td>blue-collar</td>\n",
              "      <td>married</td>\n",
              "      <td>unknown</td>\n",
              "      <td>no</td>\n",
              "      <td>1506</td>\n",
              "      <td>yes</td>\n",
              "      <td>no</td>\n",
              "      <td>unknown</td>\n",
              "      <td>5</td>\n",
              "      <td>may</td>\n",
              "      <td>92</td>\n",
              "      <td>1</td>\n",
              "      <td>-1</td>\n",
              "      <td>0</td>\n",
              "      <td>unknown</td>\n",
              "      <td>no</td>\n",
              "    </tr>\n",
              "    <tr>\n",
              "      <th>4</th>\n",
              "      <td>33</td>\n",
              "      <td>unknown</td>\n",
              "      <td>single</td>\n",
              "      <td>unknown</td>\n",
              "      <td>no</td>\n",
              "      <td>1</td>\n",
              "      <td>no</td>\n",
              "      <td>no</td>\n",
              "      <td>unknown</td>\n",
              "      <td>5</td>\n",
              "      <td>may</td>\n",
              "      <td>198</td>\n",
              "      <td>1</td>\n",
              "      <td>-1</td>\n",
              "      <td>0</td>\n",
              "      <td>unknown</td>\n",
              "      <td>no</td>\n",
              "    </tr>\n",
              "  </tbody>\n",
              "</table>\n",
              "</div>"
            ],
            "text/plain": [
              "   年齡            職業       婚姻         學歷  違約  平均餘額 房屋貸款 個人信貸     聯絡方式  \\\n",
              "0  58    management  married   tertiary  no  2143  yes   no  unknown   \n",
              "1  44    technician   single  secondary  no    29  yes   no  unknown   \n",
              "2  33  entrepreneur  married  secondary  no     2  yes  yes  unknown   \n",
              "3  47   blue-collar  married    unknown  no  1506  yes   no  unknown   \n",
              "4  33       unknown   single    unknown  no     1   no   no  unknown   \n",
              "\n",
              "   最近一次通話日期 最近一次通話月份  最近一次通話秒數  通話次數_促銷期間  上次促銷後_經過天數  通話次數_促銷之前   上次促銷結果  \\\n",
              "0         5      may       261          1          -1          0  unknown   \n",
              "1         5      may       151          1          -1          0  unknown   \n",
              "2         5      may        76          1          -1          0  unknown   \n",
              "3         5      may        92          1          -1          0  unknown   \n",
              "4         5      may       198          1          -1          0  unknown   \n",
              "\n",
              "  本次促銷結果  \n",
              "0     no  \n",
              "1     no  \n",
              "2     no  \n",
              "3     no  \n",
              "4     no  "
            ]
          },
          "metadata": {}
        }
      ]
    },
    {
      "cell_type": "markdown",
      "metadata": {
        "id": "3NR97kLAUwS0"
      },
      "source": [
        ""
      ]
    },
    {
      "cell_type": "code",
      "metadata": {
        "colab": {
          "base_uri": "https://localhost:8080/"
        },
        "id": "mq3sna7PDD50",
        "outputId": "1065d27e-85c9-4c2e-bc48-beb0b226428e"
      },
      "source": [
        "# 確認訓練資料的筆數與項目數\n",
        "print(df_all.shape)\n",
        "print()\n",
        "\n",
        "# 確認「本次促銷結果」的分佈\n",
        "print(df_all['本次促銷結果'].value_counts())\n",
        "print()\n",
        "\n",
        "# 銷售成功率\n",
        "rate = df_all['本次促銷結果'].value_counts()['yes']/len(df_all)\n",
        "print(f'銷售成功率 : {rate:.4f}')"
      ],
      "execution_count": null,
      "outputs": [
        {
          "output_type": "stream",
          "name": "stdout",
          "text": [
            "(45211, 17)\n",
            "\n",
            "no     39922\n",
            "yes     5289\n",
            "Name: 本次促銷結果, dtype: int64\n",
            "\n",
            "銷售成功率 : 0.1170\n"
          ]
        }
      ]
    },
    {
      "cell_type": "code",
      "metadata": {
        "colab": {
          "base_uri": "https://localhost:8080/"
        },
        "id": "yaC-1JhfDD52",
        "outputId": "a3478299-b3ef-4db3-b2c4-d79f59f4ce53"
      },
      "source": [
        "# 確認缺失值\n",
        "print(df_all.isnull().sum())"
      ],
      "execution_count": null,
      "outputs": [
        {
          "output_type": "stream",
          "name": "stdout",
          "text": [
            "年齡            0\n",
            "職業            0\n",
            "婚姻            0\n",
            "學歷            0\n",
            "違約            0\n",
            "平均餘額          0\n",
            "房屋貸款          0\n",
            "個人信貸          0\n",
            "聯絡方式          0\n",
            "最近一次通話日期      0\n",
            "最近一次通話月份      0\n",
            "最近一次通話秒數      0\n",
            "通話次數_促銷期間     0\n",
            "上次促銷後_經過天數    0\n",
            "通話次數_促銷之前     0\n",
            "上次促銷結果        0\n",
            "本次促銷結果        0\n",
            "dtype: int64\n"
          ]
        }
      ]
    },
    {
      "cell_type": "markdown",
      "metadata": {
        "id": "8fcG4AcJDD54"
      },
      "source": [
        "### 5.1.5 預處理資料與分割資料"
      ]
    },
    {
      "cell_type": "markdown",
      "metadata": {
        "id": "7WqV5i4mDD55"
      },
      "source": [
        "#### 預處理資料"
      ]
    },
    {
      "cell_type": "markdown",
      "metadata": {
        "id": "utdgANk6DD55"
      },
      "source": [
        "##### 預處理 step 1"
      ]
    },
    {
      "cell_type": "code",
      "metadata": {
        "colab": {
          "base_uri": "https://localhost:8080/",
          "height": 382
        },
        "id": "lfh1_7JVDD56",
        "outputId": "e7389d40-5c0e-4bfa-9625-b7f4d57d5efb"
      },
      "source": [
        "# 利用 get_dummies 函式對種類值進行 One-Hot 編碼\n",
        "\n",
        "# 用於對項目進行 One-Hot 編碼之函式\n",
        "def enc(df, column):\n",
        "    df_dummy = pd.get_dummies(df[column], prefix=column)\n",
        "    df = pd.concat([df.drop([column],axis=1),df_dummy],axis=1)\n",
        "    return df\n",
        "\n",
        "df_all2 = df_all.copy()\n",
        "df_all2 = enc(df_all2, '職業')\n",
        "df_all2 = enc(df_all2, '婚姻')\n",
        "df_all2 = enc(df_all2, '學歷')\n",
        "df_all2 = enc(df_all2, '聯絡方式')\n",
        "df_all2 = enc(df_all2, '上次促銷結果')\n",
        "\n",
        "# 確認結果\n",
        "display(df_all2.head())"
      ],
      "execution_count": null,
      "outputs": [
        {
          "output_type": "display_data",
          "data": {
            "text/html": [
              "<div>\n",
              "<style scoped>\n",
              "    .dataframe tbody tr th:only-of-type {\n",
              "        vertical-align: middle;\n",
              "    }\n",
              "\n",
              "    .dataframe tbody tr th {\n",
              "        vertical-align: top;\n",
              "    }\n",
              "\n",
              "    .dataframe thead th {\n",
              "        text-align: right;\n",
              "    }\n",
              "</style>\n",
              "<table border=\"1\" class=\"dataframe\">\n",
              "  <thead>\n",
              "    <tr style=\"text-align: right;\">\n",
              "      <th></th>\n",
              "      <th>年齡</th>\n",
              "      <th>違約</th>\n",
              "      <th>平均餘額</th>\n",
              "      <th>房屋貸款</th>\n",
              "      <th>個人信貸</th>\n",
              "      <th>最近一次通話日期</th>\n",
              "      <th>最近一次通話月份</th>\n",
              "      <th>最近一次通話秒數</th>\n",
              "      <th>通話次數_促銷期間</th>\n",
              "      <th>上次促銷後_經過天數</th>\n",
              "      <th>通話次數_促銷之前</th>\n",
              "      <th>本次促銷結果</th>\n",
              "      <th>職業_admin.</th>\n",
              "      <th>職業_blue-collar</th>\n",
              "      <th>職業_entrepreneur</th>\n",
              "      <th>職業_housemaid</th>\n",
              "      <th>職業_management</th>\n",
              "      <th>職業_retired</th>\n",
              "      <th>職業_self-employed</th>\n",
              "      <th>職業_services</th>\n",
              "      <th>職業_student</th>\n",
              "      <th>職業_technician</th>\n",
              "      <th>職業_unemployed</th>\n",
              "      <th>職業_unknown</th>\n",
              "      <th>婚姻_divorced</th>\n",
              "      <th>婚姻_married</th>\n",
              "      <th>婚姻_single</th>\n",
              "      <th>學歷_primary</th>\n",
              "      <th>學歷_secondary</th>\n",
              "      <th>學歷_tertiary</th>\n",
              "      <th>學歷_unknown</th>\n",
              "      <th>聯絡方式_cellular</th>\n",
              "      <th>聯絡方式_telephone</th>\n",
              "      <th>聯絡方式_unknown</th>\n",
              "      <th>上次促銷結果_failure</th>\n",
              "      <th>上次促銷結果_other</th>\n",
              "      <th>上次促銷結果_success</th>\n",
              "      <th>上次促銷結果_unknown</th>\n",
              "    </tr>\n",
              "  </thead>\n",
              "  <tbody>\n",
              "    <tr>\n",
              "      <th>0</th>\n",
              "      <td>58</td>\n",
              "      <td>no</td>\n",
              "      <td>2143</td>\n",
              "      <td>yes</td>\n",
              "      <td>no</td>\n",
              "      <td>5</td>\n",
              "      <td>may</td>\n",
              "      <td>261</td>\n",
              "      <td>1</td>\n",
              "      <td>-1</td>\n",
              "      <td>0</td>\n",
              "      <td>no</td>\n",
              "      <td>0</td>\n",
              "      <td>0</td>\n",
              "      <td>0</td>\n",
              "      <td>0</td>\n",
              "      <td>1</td>\n",
              "      <td>0</td>\n",
              "      <td>0</td>\n",
              "      <td>0</td>\n",
              "      <td>0</td>\n",
              "      <td>0</td>\n",
              "      <td>0</td>\n",
              "      <td>0</td>\n",
              "      <td>0</td>\n",
              "      <td>1</td>\n",
              "      <td>0</td>\n",
              "      <td>0</td>\n",
              "      <td>0</td>\n",
              "      <td>1</td>\n",
              "      <td>0</td>\n",
              "      <td>0</td>\n",
              "      <td>0</td>\n",
              "      <td>1</td>\n",
              "      <td>0</td>\n",
              "      <td>0</td>\n",
              "      <td>0</td>\n",
              "      <td>1</td>\n",
              "    </tr>\n",
              "    <tr>\n",
              "      <th>1</th>\n",
              "      <td>44</td>\n",
              "      <td>no</td>\n",
              "      <td>29</td>\n",
              "      <td>yes</td>\n",
              "      <td>no</td>\n",
              "      <td>5</td>\n",
              "      <td>may</td>\n",
              "      <td>151</td>\n",
              "      <td>1</td>\n",
              "      <td>-1</td>\n",
              "      <td>0</td>\n",
              "      <td>no</td>\n",
              "      <td>0</td>\n",
              "      <td>0</td>\n",
              "      <td>0</td>\n",
              "      <td>0</td>\n",
              "      <td>0</td>\n",
              "      <td>0</td>\n",
              "      <td>0</td>\n",
              "      <td>0</td>\n",
              "      <td>0</td>\n",
              "      <td>1</td>\n",
              "      <td>0</td>\n",
              "      <td>0</td>\n",
              "      <td>0</td>\n",
              "      <td>0</td>\n",
              "      <td>1</td>\n",
              "      <td>0</td>\n",
              "      <td>1</td>\n",
              "      <td>0</td>\n",
              "      <td>0</td>\n",
              "      <td>0</td>\n",
              "      <td>0</td>\n",
              "      <td>1</td>\n",
              "      <td>0</td>\n",
              "      <td>0</td>\n",
              "      <td>0</td>\n",
              "      <td>1</td>\n",
              "    </tr>\n",
              "    <tr>\n",
              "      <th>2</th>\n",
              "      <td>33</td>\n",
              "      <td>no</td>\n",
              "      <td>2</td>\n",
              "      <td>yes</td>\n",
              "      <td>yes</td>\n",
              "      <td>5</td>\n",
              "      <td>may</td>\n",
              "      <td>76</td>\n",
              "      <td>1</td>\n",
              "      <td>-1</td>\n",
              "      <td>0</td>\n",
              "      <td>no</td>\n",
              "      <td>0</td>\n",
              "      <td>0</td>\n",
              "      <td>1</td>\n",
              "      <td>0</td>\n",
              "      <td>0</td>\n",
              "      <td>0</td>\n",
              "      <td>0</td>\n",
              "      <td>0</td>\n",
              "      <td>0</td>\n",
              "      <td>0</td>\n",
              "      <td>0</td>\n",
              "      <td>0</td>\n",
              "      <td>0</td>\n",
              "      <td>1</td>\n",
              "      <td>0</td>\n",
              "      <td>0</td>\n",
              "      <td>1</td>\n",
              "      <td>0</td>\n",
              "      <td>0</td>\n",
              "      <td>0</td>\n",
              "      <td>0</td>\n",
              "      <td>1</td>\n",
              "      <td>0</td>\n",
              "      <td>0</td>\n",
              "      <td>0</td>\n",
              "      <td>1</td>\n",
              "    </tr>\n",
              "    <tr>\n",
              "      <th>3</th>\n",
              "      <td>47</td>\n",
              "      <td>no</td>\n",
              "      <td>1506</td>\n",
              "      <td>yes</td>\n",
              "      <td>no</td>\n",
              "      <td>5</td>\n",
              "      <td>may</td>\n",
              "      <td>92</td>\n",
              "      <td>1</td>\n",
              "      <td>-1</td>\n",
              "      <td>0</td>\n",
              "      <td>no</td>\n",
              "      <td>0</td>\n",
              "      <td>1</td>\n",
              "      <td>0</td>\n",
              "      <td>0</td>\n",
              "      <td>0</td>\n",
              "      <td>0</td>\n",
              "      <td>0</td>\n",
              "      <td>0</td>\n",
              "      <td>0</td>\n",
              "      <td>0</td>\n",
              "      <td>0</td>\n",
              "      <td>0</td>\n",
              "      <td>0</td>\n",
              "      <td>1</td>\n",
              "      <td>0</td>\n",
              "      <td>0</td>\n",
              "      <td>0</td>\n",
              "      <td>0</td>\n",
              "      <td>1</td>\n",
              "      <td>0</td>\n",
              "      <td>0</td>\n",
              "      <td>1</td>\n",
              "      <td>0</td>\n",
              "      <td>0</td>\n",
              "      <td>0</td>\n",
              "      <td>1</td>\n",
              "    </tr>\n",
              "    <tr>\n",
              "      <th>4</th>\n",
              "      <td>33</td>\n",
              "      <td>no</td>\n",
              "      <td>1</td>\n",
              "      <td>no</td>\n",
              "      <td>no</td>\n",
              "      <td>5</td>\n",
              "      <td>may</td>\n",
              "      <td>198</td>\n",
              "      <td>1</td>\n",
              "      <td>-1</td>\n",
              "      <td>0</td>\n",
              "      <td>no</td>\n",
              "      <td>0</td>\n",
              "      <td>0</td>\n",
              "      <td>0</td>\n",
              "      <td>0</td>\n",
              "      <td>0</td>\n",
              "      <td>0</td>\n",
              "      <td>0</td>\n",
              "      <td>0</td>\n",
              "      <td>0</td>\n",
              "      <td>0</td>\n",
              "      <td>0</td>\n",
              "      <td>1</td>\n",
              "      <td>0</td>\n",
              "      <td>0</td>\n",
              "      <td>1</td>\n",
              "      <td>0</td>\n",
              "      <td>0</td>\n",
              "      <td>0</td>\n",
              "      <td>1</td>\n",
              "      <td>0</td>\n",
              "      <td>0</td>\n",
              "      <td>1</td>\n",
              "      <td>0</td>\n",
              "      <td>0</td>\n",
              "      <td>0</td>\n",
              "      <td>1</td>\n",
              "    </tr>\n",
              "  </tbody>\n",
              "</table>\n",
              "</div>"
            ],
            "text/plain": [
              "   年齡  違約  平均餘額 房屋貸款 個人信貸  最近一次通話日期 最近一次通話月份  最近一次通話秒數  通話次數_促銷期間  上次促銷後_經過天數  \\\n",
              "0  58  no  2143  yes   no         5      may       261          1          -1   \n",
              "1  44  no    29  yes   no         5      may       151          1          -1   \n",
              "2  33  no     2  yes  yes         5      may        76          1          -1   \n",
              "3  47  no  1506  yes   no         5      may        92          1          -1   \n",
              "4  33  no     1   no   no         5      may       198          1          -1   \n",
              "\n",
              "   通話次數_促銷之前 本次促銷結果  職業_admin.  職業_blue-collar  職業_entrepreneur  職業_housemaid  \\\n",
              "0          0     no          0               0                0             0   \n",
              "1          0     no          0               0                0             0   \n",
              "2          0     no          0               0                1             0   \n",
              "3          0     no          0               1                0             0   \n",
              "4          0     no          0               0                0             0   \n",
              "\n",
              "   職業_management  職業_retired  職業_self-employed  職業_services  職業_student  \\\n",
              "0              1           0                 0            0           0   \n",
              "1              0           0                 0            0           0   \n",
              "2              0           0                 0            0           0   \n",
              "3              0           0                 0            0           0   \n",
              "4              0           0                 0            0           0   \n",
              "\n",
              "   職業_technician  職業_unemployed  職業_unknown  婚姻_divorced  婚姻_married  \\\n",
              "0              0              0           0            0           1   \n",
              "1              1              0           0            0           0   \n",
              "2              0              0           0            0           1   \n",
              "3              0              0           0            0           1   \n",
              "4              0              0           1            0           0   \n",
              "\n",
              "   婚姻_single  學歷_primary  學歷_secondary  學歷_tertiary  學歷_unknown  \\\n",
              "0          0           0             0            1           0   \n",
              "1          1           0             1            0           0   \n",
              "2          0           0             1            0           0   \n",
              "3          0           0             0            0           1   \n",
              "4          1           0             0            0           1   \n",
              "\n",
              "   聯絡方式_cellular  聯絡方式_telephone  聯絡方式_unknown  上次促銷結果_failure  上次促銷結果_other  \\\n",
              "0              0               0             1               0             0   \n",
              "1              0               0             1               0             0   \n",
              "2              0               0             1               0             0   \n",
              "3              0               0             1               0             0   \n",
              "4              0               0             1               0             0   \n",
              "\n",
              "   上次促銷結果_success  上次促銷結果_unknown  \n",
              "0               0               1  \n",
              "1               0               1  \n",
              "2               0               1  \n",
              "3               0               1  \n",
              "4               0               1  "
            ]
          },
          "metadata": {}
        }
      ]
    },
    {
      "cell_type": "markdown",
      "metadata": {
        "id": "8sxzhdFLDD58"
      },
      "source": [
        "##### 預處理 step2"
      ]
    },
    {
      "cell_type": "code",
      "metadata": {
        "colab": {
          "base_uri": "https://localhost:8080/",
          "height": 382
        },
        "id": "MwTqLY8NDD58",
        "outputId": "334a44ed-db21-4624-e7cd-ee5a185ea6c0"
      },
      "source": [
        "# 以 1/0 替換 yes/no\n",
        "\n",
        "# 用於將二元（yes/no）之值替換成（1/0）的函式\n",
        "def enc_bin(df, column):\n",
        "    df[column] = df[column].map(dict(yes=1, no=0)) \n",
        "    return df\n",
        "\n",
        "df_all2 = enc_bin(df_all2, '違約')\n",
        "df_all2 = enc_bin(df_all2, '房屋貸款')\n",
        "df_all2 = enc_bin(df_all2, '個人信貸')\n",
        "df_all2 = enc_bin(df_all2, '本次促銷結果')\n",
        "\n",
        "# 確認結果\n",
        "display(df_all2.head())"
      ],
      "execution_count": null,
      "outputs": [
        {
          "output_type": "display_data",
          "data": {
            "text/html": [
              "<div>\n",
              "<style scoped>\n",
              "    .dataframe tbody tr th:only-of-type {\n",
              "        vertical-align: middle;\n",
              "    }\n",
              "\n",
              "    .dataframe tbody tr th {\n",
              "        vertical-align: top;\n",
              "    }\n",
              "\n",
              "    .dataframe thead th {\n",
              "        text-align: right;\n",
              "    }\n",
              "</style>\n",
              "<table border=\"1\" class=\"dataframe\">\n",
              "  <thead>\n",
              "    <tr style=\"text-align: right;\">\n",
              "      <th></th>\n",
              "      <th>年齡</th>\n",
              "      <th>違約</th>\n",
              "      <th>平均餘額</th>\n",
              "      <th>房屋貸款</th>\n",
              "      <th>個人信貸</th>\n",
              "      <th>最近一次通話日期</th>\n",
              "      <th>最近一次通話月份</th>\n",
              "      <th>最近一次通話秒數</th>\n",
              "      <th>通話次數_促銷期間</th>\n",
              "      <th>上次促銷後_經過天數</th>\n",
              "      <th>通話次數_促銷之前</th>\n",
              "      <th>本次促銷結果</th>\n",
              "      <th>職業_admin.</th>\n",
              "      <th>職業_blue-collar</th>\n",
              "      <th>職業_entrepreneur</th>\n",
              "      <th>職業_housemaid</th>\n",
              "      <th>職業_management</th>\n",
              "      <th>職業_retired</th>\n",
              "      <th>職業_self-employed</th>\n",
              "      <th>職業_services</th>\n",
              "      <th>職業_student</th>\n",
              "      <th>職業_technician</th>\n",
              "      <th>職業_unemployed</th>\n",
              "      <th>職業_unknown</th>\n",
              "      <th>婚姻_divorced</th>\n",
              "      <th>婚姻_married</th>\n",
              "      <th>婚姻_single</th>\n",
              "      <th>學歷_primary</th>\n",
              "      <th>學歷_secondary</th>\n",
              "      <th>學歷_tertiary</th>\n",
              "      <th>學歷_unknown</th>\n",
              "      <th>聯絡方式_cellular</th>\n",
              "      <th>聯絡方式_telephone</th>\n",
              "      <th>聯絡方式_unknown</th>\n",
              "      <th>上次促銷結果_failure</th>\n",
              "      <th>上次促銷結果_other</th>\n",
              "      <th>上次促銷結果_success</th>\n",
              "      <th>上次促銷結果_unknown</th>\n",
              "    </tr>\n",
              "  </thead>\n",
              "  <tbody>\n",
              "    <tr>\n",
              "      <th>0</th>\n",
              "      <td>58</td>\n",
              "      <td>0</td>\n",
              "      <td>2143</td>\n",
              "      <td>1</td>\n",
              "      <td>0</td>\n",
              "      <td>5</td>\n",
              "      <td>may</td>\n",
              "      <td>261</td>\n",
              "      <td>1</td>\n",
              "      <td>-1</td>\n",
              "      <td>0</td>\n",
              "      <td>0</td>\n",
              "      <td>0</td>\n",
              "      <td>0</td>\n",
              "      <td>0</td>\n",
              "      <td>0</td>\n",
              "      <td>1</td>\n",
              "      <td>0</td>\n",
              "      <td>0</td>\n",
              "      <td>0</td>\n",
              "      <td>0</td>\n",
              "      <td>0</td>\n",
              "      <td>0</td>\n",
              "      <td>0</td>\n",
              "      <td>0</td>\n",
              "      <td>1</td>\n",
              "      <td>0</td>\n",
              "      <td>0</td>\n",
              "      <td>0</td>\n",
              "      <td>1</td>\n",
              "      <td>0</td>\n",
              "      <td>0</td>\n",
              "      <td>0</td>\n",
              "      <td>1</td>\n",
              "      <td>0</td>\n",
              "      <td>0</td>\n",
              "      <td>0</td>\n",
              "      <td>1</td>\n",
              "    </tr>\n",
              "    <tr>\n",
              "      <th>1</th>\n",
              "      <td>44</td>\n",
              "      <td>0</td>\n",
              "      <td>29</td>\n",
              "      <td>1</td>\n",
              "      <td>0</td>\n",
              "      <td>5</td>\n",
              "      <td>may</td>\n",
              "      <td>151</td>\n",
              "      <td>1</td>\n",
              "      <td>-1</td>\n",
              "      <td>0</td>\n",
              "      <td>0</td>\n",
              "      <td>0</td>\n",
              "      <td>0</td>\n",
              "      <td>0</td>\n",
              "      <td>0</td>\n",
              "      <td>0</td>\n",
              "      <td>0</td>\n",
              "      <td>0</td>\n",
              "      <td>0</td>\n",
              "      <td>0</td>\n",
              "      <td>1</td>\n",
              "      <td>0</td>\n",
              "      <td>0</td>\n",
              "      <td>0</td>\n",
              "      <td>0</td>\n",
              "      <td>1</td>\n",
              "      <td>0</td>\n",
              "      <td>1</td>\n",
              "      <td>0</td>\n",
              "      <td>0</td>\n",
              "      <td>0</td>\n",
              "      <td>0</td>\n",
              "      <td>1</td>\n",
              "      <td>0</td>\n",
              "      <td>0</td>\n",
              "      <td>0</td>\n",
              "      <td>1</td>\n",
              "    </tr>\n",
              "    <tr>\n",
              "      <th>2</th>\n",
              "      <td>33</td>\n",
              "      <td>0</td>\n",
              "      <td>2</td>\n",
              "      <td>1</td>\n",
              "      <td>1</td>\n",
              "      <td>5</td>\n",
              "      <td>may</td>\n",
              "      <td>76</td>\n",
              "      <td>1</td>\n",
              "      <td>-1</td>\n",
              "      <td>0</td>\n",
              "      <td>0</td>\n",
              "      <td>0</td>\n",
              "      <td>0</td>\n",
              "      <td>1</td>\n",
              "      <td>0</td>\n",
              "      <td>0</td>\n",
              "      <td>0</td>\n",
              "      <td>0</td>\n",
              "      <td>0</td>\n",
              "      <td>0</td>\n",
              "      <td>0</td>\n",
              "      <td>0</td>\n",
              "      <td>0</td>\n",
              "      <td>0</td>\n",
              "      <td>1</td>\n",
              "      <td>0</td>\n",
              "      <td>0</td>\n",
              "      <td>1</td>\n",
              "      <td>0</td>\n",
              "      <td>0</td>\n",
              "      <td>0</td>\n",
              "      <td>0</td>\n",
              "      <td>1</td>\n",
              "      <td>0</td>\n",
              "      <td>0</td>\n",
              "      <td>0</td>\n",
              "      <td>1</td>\n",
              "    </tr>\n",
              "    <tr>\n",
              "      <th>3</th>\n",
              "      <td>47</td>\n",
              "      <td>0</td>\n",
              "      <td>1506</td>\n",
              "      <td>1</td>\n",
              "      <td>0</td>\n",
              "      <td>5</td>\n",
              "      <td>may</td>\n",
              "      <td>92</td>\n",
              "      <td>1</td>\n",
              "      <td>-1</td>\n",
              "      <td>0</td>\n",
              "      <td>0</td>\n",
              "      <td>0</td>\n",
              "      <td>1</td>\n",
              "      <td>0</td>\n",
              "      <td>0</td>\n",
              "      <td>0</td>\n",
              "      <td>0</td>\n",
              "      <td>0</td>\n",
              "      <td>0</td>\n",
              "      <td>0</td>\n",
              "      <td>0</td>\n",
              "      <td>0</td>\n",
              "      <td>0</td>\n",
              "      <td>0</td>\n",
              "      <td>1</td>\n",
              "      <td>0</td>\n",
              "      <td>0</td>\n",
              "      <td>0</td>\n",
              "      <td>0</td>\n",
              "      <td>1</td>\n",
              "      <td>0</td>\n",
              "      <td>0</td>\n",
              "      <td>1</td>\n",
              "      <td>0</td>\n",
              "      <td>0</td>\n",
              "      <td>0</td>\n",
              "      <td>1</td>\n",
              "    </tr>\n",
              "    <tr>\n",
              "      <th>4</th>\n",
              "      <td>33</td>\n",
              "      <td>0</td>\n",
              "      <td>1</td>\n",
              "      <td>0</td>\n",
              "      <td>0</td>\n",
              "      <td>5</td>\n",
              "      <td>may</td>\n",
              "      <td>198</td>\n",
              "      <td>1</td>\n",
              "      <td>-1</td>\n",
              "      <td>0</td>\n",
              "      <td>0</td>\n",
              "      <td>0</td>\n",
              "      <td>0</td>\n",
              "      <td>0</td>\n",
              "      <td>0</td>\n",
              "      <td>0</td>\n",
              "      <td>0</td>\n",
              "      <td>0</td>\n",
              "      <td>0</td>\n",
              "      <td>0</td>\n",
              "      <td>0</td>\n",
              "      <td>0</td>\n",
              "      <td>1</td>\n",
              "      <td>0</td>\n",
              "      <td>0</td>\n",
              "      <td>1</td>\n",
              "      <td>0</td>\n",
              "      <td>0</td>\n",
              "      <td>0</td>\n",
              "      <td>1</td>\n",
              "      <td>0</td>\n",
              "      <td>0</td>\n",
              "      <td>1</td>\n",
              "      <td>0</td>\n",
              "      <td>0</td>\n",
              "      <td>0</td>\n",
              "      <td>1</td>\n",
              "    </tr>\n",
              "  </tbody>\n",
              "</table>\n",
              "</div>"
            ],
            "text/plain": [
              "   年齡  違約  平均餘額  房屋貸款  個人信貸  最近一次通話日期 最近一次通話月份  最近一次通話秒數  通話次數_促銷期間  \\\n",
              "0  58   0  2143     1     0         5      may       261          1   \n",
              "1  44   0    29     1     0         5      may       151          1   \n",
              "2  33   0     2     1     1         5      may        76          1   \n",
              "3  47   0  1506     1     0         5      may        92          1   \n",
              "4  33   0     1     0     0         5      may       198          1   \n",
              "\n",
              "   上次促銷後_經過天數  通話次數_促銷之前  本次促銷結果  職業_admin.  職業_blue-collar  職業_entrepreneur  \\\n",
              "0          -1          0       0          0               0                0   \n",
              "1          -1          0       0          0               0                0   \n",
              "2          -1          0       0          0               0                1   \n",
              "3          -1          0       0          0               1                0   \n",
              "4          -1          0       0          0               0                0   \n",
              "\n",
              "   職業_housemaid  職業_management  職業_retired  職業_self-employed  職業_services  \\\n",
              "0             0              1           0                 0            0   \n",
              "1             0              0           0                 0            0   \n",
              "2             0              0           0                 0            0   \n",
              "3             0              0           0                 0            0   \n",
              "4             0              0           0                 0            0   \n",
              "\n",
              "   職業_student  職業_technician  職業_unemployed  職業_unknown  婚姻_divorced  \\\n",
              "0           0              0              0           0            0   \n",
              "1           0              1              0           0            0   \n",
              "2           0              0              0           0            0   \n",
              "3           0              0              0           0            0   \n",
              "4           0              0              0           1            0   \n",
              "\n",
              "   婚姻_married  婚姻_single  學歷_primary  學歷_secondary  學歷_tertiary  學歷_unknown  \\\n",
              "0           1          0           0             0            1           0   \n",
              "1           0          1           0             1            0           0   \n",
              "2           1          0           0             1            0           0   \n",
              "3           1          0           0             0            0           1   \n",
              "4           0          1           0             0            0           1   \n",
              "\n",
              "   聯絡方式_cellular  聯絡方式_telephone  聯絡方式_unknown  上次促銷結果_failure  上次促銷結果_other  \\\n",
              "0              0               0             1               0             0   \n",
              "1              0               0             1               0             0   \n",
              "2              0               0             1               0             0   \n",
              "3              0               0             1               0             0   \n",
              "4              0               0             1               0             0   \n",
              "\n",
              "   上次促銷結果_success  上次促銷結果_unknown  \n",
              "0               0               1  \n",
              "1               0               1  \n",
              "2               0               1  \n",
              "3               0               1  \n",
              "4               0               1  "
            ]
          },
          "metadata": {}
        }
      ]
    },
    {
      "cell_type": "markdown",
      "metadata": {
        "id": "sdzcZczGDD5-"
      },
      "source": [
        "##### 預處理 step3"
      ]
    },
    {
      "cell_type": "code",
      "metadata": {
        "colab": {
          "base_uri": "https://localhost:8080/",
          "height": 382
        },
        "id": "89k7MqrmDD5-",
        "outputId": "975c9e7c-847b-47be-de3e-7ef51262f030"
      },
      "source": [
        "# 將月份名稱 (jan, feb, ...) 替換成 1,2, ...\n",
        "\n",
        "month_dict = dict(jan=1, feb=2, mar=3, apr=4, \n",
        "    may=5, jun=6, jul=7, aug=8, sep=9, oct=10, \n",
        "    nov=11, dec=12)\n",
        "\n",
        "def enc_month(df, column):\n",
        "    df[column] = df[column].map(month_dict)\n",
        "    return df\n",
        "\n",
        "df_all2 = enc_month(df_all2, '最近一次通話月份')\n",
        "\n",
        "# 確認結果\n",
        "display(df_all2.head())"
      ],
      "execution_count": null,
      "outputs": [
        {
          "output_type": "display_data",
          "data": {
            "text/html": [
              "<div>\n",
              "<style scoped>\n",
              "    .dataframe tbody tr th:only-of-type {\n",
              "        vertical-align: middle;\n",
              "    }\n",
              "\n",
              "    .dataframe tbody tr th {\n",
              "        vertical-align: top;\n",
              "    }\n",
              "\n",
              "    .dataframe thead th {\n",
              "        text-align: right;\n",
              "    }\n",
              "</style>\n",
              "<table border=\"1\" class=\"dataframe\">\n",
              "  <thead>\n",
              "    <tr style=\"text-align: right;\">\n",
              "      <th></th>\n",
              "      <th>年齡</th>\n",
              "      <th>違約</th>\n",
              "      <th>平均餘額</th>\n",
              "      <th>房屋貸款</th>\n",
              "      <th>個人信貸</th>\n",
              "      <th>最近一次通話日期</th>\n",
              "      <th>最近一次通話月份</th>\n",
              "      <th>最近一次通話秒數</th>\n",
              "      <th>通話次數_促銷期間</th>\n",
              "      <th>上次促銷後_經過天數</th>\n",
              "      <th>通話次數_促銷之前</th>\n",
              "      <th>本次促銷結果</th>\n",
              "      <th>職業_admin.</th>\n",
              "      <th>職業_blue-collar</th>\n",
              "      <th>職業_entrepreneur</th>\n",
              "      <th>職業_housemaid</th>\n",
              "      <th>職業_management</th>\n",
              "      <th>職業_retired</th>\n",
              "      <th>職業_self-employed</th>\n",
              "      <th>職業_services</th>\n",
              "      <th>職業_student</th>\n",
              "      <th>職業_technician</th>\n",
              "      <th>職業_unemployed</th>\n",
              "      <th>職業_unknown</th>\n",
              "      <th>婚姻_divorced</th>\n",
              "      <th>婚姻_married</th>\n",
              "      <th>婚姻_single</th>\n",
              "      <th>學歷_primary</th>\n",
              "      <th>學歷_secondary</th>\n",
              "      <th>學歷_tertiary</th>\n",
              "      <th>學歷_unknown</th>\n",
              "      <th>聯絡方式_cellular</th>\n",
              "      <th>聯絡方式_telephone</th>\n",
              "      <th>聯絡方式_unknown</th>\n",
              "      <th>上次促銷結果_failure</th>\n",
              "      <th>上次促銷結果_other</th>\n",
              "      <th>上次促銷結果_success</th>\n",
              "      <th>上次促銷結果_unknown</th>\n",
              "    </tr>\n",
              "  </thead>\n",
              "  <tbody>\n",
              "    <tr>\n",
              "      <th>0</th>\n",
              "      <td>58</td>\n",
              "      <td>0</td>\n",
              "      <td>2143</td>\n",
              "      <td>1</td>\n",
              "      <td>0</td>\n",
              "      <td>5</td>\n",
              "      <td>5</td>\n",
              "      <td>261</td>\n",
              "      <td>1</td>\n",
              "      <td>-1</td>\n",
              "      <td>0</td>\n",
              "      <td>0</td>\n",
              "      <td>0</td>\n",
              "      <td>0</td>\n",
              "      <td>0</td>\n",
              "      <td>0</td>\n",
              "      <td>1</td>\n",
              "      <td>0</td>\n",
              "      <td>0</td>\n",
              "      <td>0</td>\n",
              "      <td>0</td>\n",
              "      <td>0</td>\n",
              "      <td>0</td>\n",
              "      <td>0</td>\n",
              "      <td>0</td>\n",
              "      <td>1</td>\n",
              "      <td>0</td>\n",
              "      <td>0</td>\n",
              "      <td>0</td>\n",
              "      <td>1</td>\n",
              "      <td>0</td>\n",
              "      <td>0</td>\n",
              "      <td>0</td>\n",
              "      <td>1</td>\n",
              "      <td>0</td>\n",
              "      <td>0</td>\n",
              "      <td>0</td>\n",
              "      <td>1</td>\n",
              "    </tr>\n",
              "    <tr>\n",
              "      <th>1</th>\n",
              "      <td>44</td>\n",
              "      <td>0</td>\n",
              "      <td>29</td>\n",
              "      <td>1</td>\n",
              "      <td>0</td>\n",
              "      <td>5</td>\n",
              "      <td>5</td>\n",
              "      <td>151</td>\n",
              "      <td>1</td>\n",
              "      <td>-1</td>\n",
              "      <td>0</td>\n",
              "      <td>0</td>\n",
              "      <td>0</td>\n",
              "      <td>0</td>\n",
              "      <td>0</td>\n",
              "      <td>0</td>\n",
              "      <td>0</td>\n",
              "      <td>0</td>\n",
              "      <td>0</td>\n",
              "      <td>0</td>\n",
              "      <td>0</td>\n",
              "      <td>1</td>\n",
              "      <td>0</td>\n",
              "      <td>0</td>\n",
              "      <td>0</td>\n",
              "      <td>0</td>\n",
              "      <td>1</td>\n",
              "      <td>0</td>\n",
              "      <td>1</td>\n",
              "      <td>0</td>\n",
              "      <td>0</td>\n",
              "      <td>0</td>\n",
              "      <td>0</td>\n",
              "      <td>1</td>\n",
              "      <td>0</td>\n",
              "      <td>0</td>\n",
              "      <td>0</td>\n",
              "      <td>1</td>\n",
              "    </tr>\n",
              "    <tr>\n",
              "      <th>2</th>\n",
              "      <td>33</td>\n",
              "      <td>0</td>\n",
              "      <td>2</td>\n",
              "      <td>1</td>\n",
              "      <td>1</td>\n",
              "      <td>5</td>\n",
              "      <td>5</td>\n",
              "      <td>76</td>\n",
              "      <td>1</td>\n",
              "      <td>-1</td>\n",
              "      <td>0</td>\n",
              "      <td>0</td>\n",
              "      <td>0</td>\n",
              "      <td>0</td>\n",
              "      <td>1</td>\n",
              "      <td>0</td>\n",
              "      <td>0</td>\n",
              "      <td>0</td>\n",
              "      <td>0</td>\n",
              "      <td>0</td>\n",
              "      <td>0</td>\n",
              "      <td>0</td>\n",
              "      <td>0</td>\n",
              "      <td>0</td>\n",
              "      <td>0</td>\n",
              "      <td>1</td>\n",
              "      <td>0</td>\n",
              "      <td>0</td>\n",
              "      <td>1</td>\n",
              "      <td>0</td>\n",
              "      <td>0</td>\n",
              "      <td>0</td>\n",
              "      <td>0</td>\n",
              "      <td>1</td>\n",
              "      <td>0</td>\n",
              "      <td>0</td>\n",
              "      <td>0</td>\n",
              "      <td>1</td>\n",
              "    </tr>\n",
              "    <tr>\n",
              "      <th>3</th>\n",
              "      <td>47</td>\n",
              "      <td>0</td>\n",
              "      <td>1506</td>\n",
              "      <td>1</td>\n",
              "      <td>0</td>\n",
              "      <td>5</td>\n",
              "      <td>5</td>\n",
              "      <td>92</td>\n",
              "      <td>1</td>\n",
              "      <td>-1</td>\n",
              "      <td>0</td>\n",
              "      <td>0</td>\n",
              "      <td>0</td>\n",
              "      <td>1</td>\n",
              "      <td>0</td>\n",
              "      <td>0</td>\n",
              "      <td>0</td>\n",
              "      <td>0</td>\n",
              "      <td>0</td>\n",
              "      <td>0</td>\n",
              "      <td>0</td>\n",
              "      <td>0</td>\n",
              "      <td>0</td>\n",
              "      <td>0</td>\n",
              "      <td>0</td>\n",
              "      <td>1</td>\n",
              "      <td>0</td>\n",
              "      <td>0</td>\n",
              "      <td>0</td>\n",
              "      <td>0</td>\n",
              "      <td>1</td>\n",
              "      <td>0</td>\n",
              "      <td>0</td>\n",
              "      <td>1</td>\n",
              "      <td>0</td>\n",
              "      <td>0</td>\n",
              "      <td>0</td>\n",
              "      <td>1</td>\n",
              "    </tr>\n",
              "    <tr>\n",
              "      <th>4</th>\n",
              "      <td>33</td>\n",
              "      <td>0</td>\n",
              "      <td>1</td>\n",
              "      <td>0</td>\n",
              "      <td>0</td>\n",
              "      <td>5</td>\n",
              "      <td>5</td>\n",
              "      <td>198</td>\n",
              "      <td>1</td>\n",
              "      <td>-1</td>\n",
              "      <td>0</td>\n",
              "      <td>0</td>\n",
              "      <td>0</td>\n",
              "      <td>0</td>\n",
              "      <td>0</td>\n",
              "      <td>0</td>\n",
              "      <td>0</td>\n",
              "      <td>0</td>\n",
              "      <td>0</td>\n",
              "      <td>0</td>\n",
              "      <td>0</td>\n",
              "      <td>0</td>\n",
              "      <td>0</td>\n",
              "      <td>1</td>\n",
              "      <td>0</td>\n",
              "      <td>0</td>\n",
              "      <td>1</td>\n",
              "      <td>0</td>\n",
              "      <td>0</td>\n",
              "      <td>0</td>\n",
              "      <td>1</td>\n",
              "      <td>0</td>\n",
              "      <td>0</td>\n",
              "      <td>1</td>\n",
              "      <td>0</td>\n",
              "      <td>0</td>\n",
              "      <td>0</td>\n",
              "      <td>1</td>\n",
              "    </tr>\n",
              "  </tbody>\n",
              "</table>\n",
              "</div>"
            ],
            "text/plain": [
              "   年齡  違約  平均餘額  房屋貸款  個人信貸  最近一次通話日期  最近一次通話月份  最近一次通話秒數  通話次數_促銷期間  \\\n",
              "0  58   0  2143     1     0         5         5       261          1   \n",
              "1  44   0    29     1     0         5         5       151          1   \n",
              "2  33   0     2     1     1         5         5        76          1   \n",
              "3  47   0  1506     1     0         5         5        92          1   \n",
              "4  33   0     1     0     0         5         5       198          1   \n",
              "\n",
              "   上次促銷後_經過天數  通話次數_促銷之前  本次促銷結果  職業_admin.  職業_blue-collar  職業_entrepreneur  \\\n",
              "0          -1          0       0          0               0                0   \n",
              "1          -1          0       0          0               0                0   \n",
              "2          -1          0       0          0               0                1   \n",
              "3          -1          0       0          0               1                0   \n",
              "4          -1          0       0          0               0                0   \n",
              "\n",
              "   職業_housemaid  職業_management  職業_retired  職業_self-employed  職業_services  \\\n",
              "0             0              1           0                 0            0   \n",
              "1             0              0           0                 0            0   \n",
              "2             0              0           0                 0            0   \n",
              "3             0              0           0                 0            0   \n",
              "4             0              0           0                 0            0   \n",
              "\n",
              "   職業_student  職業_technician  職業_unemployed  職業_unknown  婚姻_divorced  \\\n",
              "0           0              0              0           0            0   \n",
              "1           0              1              0           0            0   \n",
              "2           0              0              0           0            0   \n",
              "3           0              0              0           0            0   \n",
              "4           0              0              0           1            0   \n",
              "\n",
              "   婚姻_married  婚姻_single  學歷_primary  學歷_secondary  學歷_tertiary  學歷_unknown  \\\n",
              "0           1          0           0             0            1           0   \n",
              "1           0          1           0             1            0           0   \n",
              "2           1          0           0             1            0           0   \n",
              "3           1          0           0             0            0           1   \n",
              "4           0          1           0             0            0           1   \n",
              "\n",
              "   聯絡方式_cellular  聯絡方式_telephone  聯絡方式_unknown  上次促銷結果_failure  上次促銷結果_other  \\\n",
              "0              0               0             1               0             0   \n",
              "1              0               0             1               0             0   \n",
              "2              0               0             1               0             0   \n",
              "3              0               0             1               0             0   \n",
              "4              0               0             1               0             0   \n",
              "\n",
              "   上次促銷結果_success  上次促銷結果_unknown  \n",
              "0               0               1  \n",
              "1               0               1  \n",
              "2               0               1  \n",
              "3               0               1  \n",
              "4               0               1  "
            ]
          },
          "metadata": {}
        }
      ]
    },
    {
      "cell_type": "markdown",
      "metadata": {
        "id": "ag6NF3YGDD6B"
      },
      "source": [
        "#### 分割資料"
      ]
    },
    {
      "cell_type": "code",
      "metadata": {
        "id": "RNM-n5xNDD6B"
      },
      "source": [
        "# 分割輸入資料與標準答案\n",
        "x = df_all2.drop('本次促銷結果', axis=1)\n",
        "y = df_all2['本次促銷結果'].values\n",
        "\n",
        "# 分割訓練資料與驗證資料\n",
        "# 以訓練資料 60%、驗證資料 40% 的比例分割\n",
        "test_size = 0.4\n",
        "\n",
        "from sklearn.model_selection import train_test_split\n",
        "x_train, x_test, y_train, y_test = train_test_split(\n",
        "  x, y, test_size=test_size, random_state=random_seed,\n",
        "  stratify=y)"
      ],
      "execution_count": null,
      "outputs": []
    },
    {
      "cell_type": "markdown",
      "metadata": {
        "id": "DpTcsQUnDD6D"
      },
      "source": [
        "### 5.1.6 選擇演算法"
      ]
    },
    {
      "cell_type": "markdown",
      "metadata": {
        "id": "pkhoVI43DD6E"
      },
      "source": [
        "#### 選擇演算法"
      ]
    },
    {
      "cell_type": "code",
      "metadata": {
        "id": "cvDcyK4NDD6F"
      },
      "source": [
        "# 將候選演算法建立成列表\n",
        "\n",
        "# 邏輯斯迴歸（4.3.3）\n",
        "from sklearn.linear_model import LogisticRegression\n",
        "algorithm1 = LogisticRegression(random_state=random_seed)\n",
        "\n",
        "# 決策樹（4.3.6）\n",
        "from sklearn.tree import DecisionTreeClassifier\n",
        "algorithm2 = DecisionTreeClassifier(random_state=random_seed)\n",
        "\n",
        "# 隨機森林（4.3.7）\n",
        "from sklearn.ensemble import RandomForestClassifier\n",
        "algorithm3 = RandomForestClassifier(random_state=random_seed)\n",
        "\n",
        "# XGBoost（4.3.8）\n",
        "from xgboost import XGBClassifier\n",
        "algorithm4 = XGBClassifier(random_state=random_seed)\n",
        "\n",
        "\n",
        "algorithms = [algorithm1, algorithm2, algorithm3, algorithm4]"
      ],
      "execution_count": null,
      "outputs": []
    },
    {
      "cell_type": "code",
      "metadata": {
        "colab": {
          "base_uri": "https://localhost:8080/"
        },
        "id": "WjGF85RzDD6H",
        "outputId": "9d3fd25d-903f-450c-bb80-16dc60cd5da0"
      },
      "source": [
        "# 利用交叉驗證選擇最佳演算法\n",
        "from sklearn.model_selection import StratifiedKFold\n",
        "stratifiedkfold = StratifiedKFold(n_splits=3)\n",
        "\n",
        "from sklearn.model_selection import cross_val_score\n",
        "for algorithm in algorithms:\n",
        "    # 進行交叉驗證\n",
        "    scores = cross_val_score(algorithm , x_train, y_train,\n",
        "        cv=stratifiedkfold, scoring='roc_auc')\n",
        "    score = scores.mean()\n",
        "    name = algorithm.__class__.__name__\n",
        "    print(f'平均分數 :  {score:.4f}  個別分數 : {scores}  {name}')"
      ],
      "execution_count": null,
      "outputs": [
        {
          "output_type": "stream",
          "name": "stdout",
          "text": [
            "平均分數 :  0.8325  個別分數 : [0.8275 0.8287 0.8412]  LogisticRegression\n",
            "平均分數 :  0.6958  個別分數 : [0.6917 0.7023 0.6935]  DecisionTreeClassifier\n",
            "平均分數 :  0.9200  個別分數 : [0.9259 0.9196 0.9145]  RandomForestClassifier\n",
            "平均分數 :  0.9222  個別分數 : [0.9246 0.9213 0.9206]  XGBClassifier\n"
          ]
        }
      ]
    },
    {
      "cell_type": "markdown",
      "metadata": {
        "id": "OvI5OazYDD6J"
      },
      "source": [
        "#### 結論\n",
        "XGBboost　是 4 個候選演算法中 AUC 最高的  \n",
        "-> 接下來的步驟使用 XGBoost"
      ]
    },
    {
      "cell_type": "markdown",
      "metadata": {
        "id": "H2WS6jc9DD6J"
      },
      "source": [
        "### 5.1.7 訓練、預測、評估"
      ]
    },
    {
      "cell_type": "code",
      "metadata": {
        "id": "gm9ZnYQqDD6J"
      },
      "source": [
        "# 選擇演算法\n",
        "# 使用 XGBoost\n",
        "algorithm = XGBClassifier(random_state=random_seed)\n",
        "\n",
        "# 訓練\n",
        "algorithm.fit(x_train, y_train)\n",
        "\n",
        "# 預測\n",
        "y_pred = algorithm.predict(x_test)"
      ],
      "execution_count": null,
      "outputs": []
    },
    {
      "cell_type": "code",
      "metadata": {
        "colab": {
          "base_uri": "https://localhost:8080/",
          "height": 161
        },
        "id": "3o4jUNMrDD6L",
        "outputId": "2407d429-21ca-4f62-b4a4-0ec4d79be7ce"
      },
      "source": [
        "# 評估\n",
        "\n",
        "# 輸出混淆矩陣\n",
        "from sklearn.metrics import confusion_matrix\n",
        "df_matrix = make_cm(\n",
        "    confusion_matrix(y_test, y_pred), ['失敗', '成功'])\n",
        "display(df_matrix)\n",
        "\n",
        "# 計算精準率、召回率及 F 分數\n",
        "from sklearn.metrics import precision_recall_fscore_support\n",
        "precision, recall, fscore, _ = precision_recall_fscore_support(\n",
        "    y_test, y_pred, average='binary')\n",
        "print(f'精確性 : {precision:.4f}  召回率 : {recall:.4f}  F 分數 : {fscore:.4f}')"
      ],
      "execution_count": null,
      "outputs": [
        {
          "output_type": "display_data",
          "data": {
            "text/html": [
              "<div>\n",
              "<style scoped>\n",
              "    .dataframe tbody tr th:only-of-type {\n",
              "        vertical-align: middle;\n",
              "    }\n",
              "\n",
              "    .dataframe tbody tr th {\n",
              "        vertical-align: top;\n",
              "    }\n",
              "\n",
              "    .dataframe thead tr th {\n",
              "        text-align: left;\n",
              "    }\n",
              "</style>\n",
              "<table border=\"1\" class=\"dataframe\">\n",
              "  <thead>\n",
              "    <tr>\n",
              "      <th></th>\n",
              "      <th></th>\n",
              "      <th colspan=\"2\" halign=\"left\">預測結果</th>\n",
              "    </tr>\n",
              "    <tr>\n",
              "      <th></th>\n",
              "      <th></th>\n",
              "      <th>失敗</th>\n",
              "      <th>成功</th>\n",
              "    </tr>\n",
              "  </thead>\n",
              "  <tbody>\n",
              "    <tr>\n",
              "      <th rowspan=\"2\" valign=\"top\">標準答案</th>\n",
              "      <th>失敗</th>\n",
              "      <td>15593</td>\n",
              "      <td>376</td>\n",
              "    </tr>\n",
              "    <tr>\n",
              "      <th>成功</th>\n",
              "      <td>1341</td>\n",
              "      <td>775</td>\n",
              "    </tr>\n",
              "  </tbody>\n",
              "</table>\n",
              "</div>"
            ],
            "text/plain": [
              "          預測結果     \n",
              "            失敗   成功\n",
              "標準答案 失敗  15593  376\n",
              "     成功   1341  775"
            ]
          },
          "metadata": {}
        },
        {
          "output_type": "stream",
          "name": "stdout",
          "text": [
            "精確性 : 0.6733  召回率 : 0.3663  F 分數 : 0.4744\n"
          ]
        }
      ]
    },
    {
      "cell_type": "markdown",
      "metadata": {
        "id": "nLvsE5E4DD6N"
      },
      "source": [
        "### 5.1.8 調整"
      ]
    },
    {
      "cell_type": "markdown",
      "metadata": {
        "id": "2M8Cw9-9DD6O"
      },
      "source": [
        "#### 率值的次數分佈圖"
      ]
    },
    {
      "cell_type": "code",
      "metadata": {
        "colab": {
          "base_uri": "https://localhost:8080/",
          "height": 416
        },
        "id": "OUEel6NnDD6O",
        "outputId": "3d758542-358c-4d2e-fed6-bf6b0e66fb1a"
      },
      "source": [
        "# 機率值的次數分佈圖\n",
        "import seaborn as sns\n",
        "\n",
        "# 取得 y=1 的機率值\n",
        "y_proba1 = algorithm.predict_proba(x_test)[:,1]\n",
        "\n",
        "# 將資料依 y_test=0 與 y_test=1 進行分割\n",
        "y0 = y_proba1[y_test==0]\n",
        "y1 = y_proba1[y_test==1]\n",
        "\n",
        "# 繪製散佈圖\n",
        "plt.figure(figsize=(6,6))\n",
        "plt.title('機率值的次數分佈')\n",
        "sns.distplot(y1, kde=False, norm_hist=True,\n",
        "    bins=50, color='b', label='成功')\n",
        "sns.distplot(y0, kde=False, norm_hist=True,\n",
        "    bins=50, color='k', label='失敗')\n",
        "plt.xlabel('機率值')\n",
        "plt.legend()\n",
        "plt.show()"
      ],
      "execution_count": null,
      "outputs": [
        {
          "output_type": "display_data",
          "data": {
            "image/png": "[encoded data removed]",
            "text/plain": [
              "<Figure size 432x432 with 1 Axes>"
            ]
          },
          "metadata": {
            "needs_background": "light"
          }
        }
      ]
    },
    {
      "cell_type": "markdown",
      "metadata": {
        "id": "54UJyEfuDD6Q"
      },
      "source": [
        "#### 利用 predict_proba 函式預測閾值為 0.5 以外時的情形\n",
        "（參考 4.4 節）"
      ]
    },
    {
      "cell_type": "code",
      "metadata": {
        "id": "AAQy8MAADD6Q"
      },
      "source": [
        "# 定義可改變閾值的預測函式\n",
        "def pred(algorithm, x, thres):\n",
        "    # 取得機率值（矩陣）\n",
        "    y_proba = algorithm.predict_proba(x)\n",
        "    \n",
        "    # 預測結果為 1 的機率值\n",
        "    y_proba1 =  y_proba[:,1]\n",
        "    \n",
        "    # 預測結果為 1 的機率值 > 閾值\n",
        "    y_pred = (y_proba1 > thres).astype(int)\n",
        "    return y_pred"
      ],
      "execution_count": null,
      "outputs": []
    },
    {
      "cell_type": "code",
      "metadata": {
        "colab": {
          "base_uri": "https://localhost:8080/"
        },
        "id": "Xd2q8qUfDD6S",
        "scrolled": true,
        "outputId": "cf0c7378-856b-46f3-a9ad-c4e3954be096"
      },
      "source": [
        "# 以 0.05 為間距逐次改變閾值，並計算精確性、召回率及 F 分數\n",
        "thres_list = np.arange(0.5, 0, -0.05)\n",
        "\n",
        "for thres in thres_list:\n",
        "    y_pred = pred(algorithm, x_test, thres)\n",
        "    pred_sum =  y_pred.sum()\n",
        "    precision, recall, fscore, _ = precision_recall_fscore_support(\n",
        "        y_test, y_pred, average='binary')\n",
        "    print(f'閾值 : {thres:.2f} 陽性預測數 : {pred_sum}\\\n",
        " 精確性 : {precision:.4f} 召回率 : {recall:.4f}  F 分數 : {fscore:.4f})')"
      ],
      "execution_count": null,
      "outputs": [
        {
          "output_type": "stream",
          "name": "stdout",
          "text": [
            "閾值 : 0.50 陽性預測數 : 1151 精確性 : 0.6733 召回率 : 0.3663  F 分數 : 0.4744)\n",
            "閾值 : 0.45 陽性預測數 : 1412 精確性 : 0.6402 召回率 : 0.4272  F 分數 : 0.5125)\n",
            "閾值 : 0.40 陽性預測數 : 1724 精確性 : 0.6108 召回率 : 0.4976  F 分數 : 0.5484)\n",
            "閾值 : 0.35 陽性預測數 : 2053 精確性 : 0.5889 召回率 : 0.5714  F 分數 : 0.5800)\n",
            "閾值 : 0.30 陽性預測數 : 2411 精確性 : 0.5649 召回率 : 0.6437  F 分數 : 0.6017)\n",
            "閾值 : 0.25 陽性預測數 : 2823 精確性 : 0.5257 召回率 : 0.7013  F 分數 : 0.6009)\n",
            "閾值 : 0.20 陽性預測數 : 3364 精確性 : 0.4822 召回率 : 0.7665  F 分數 : 0.5920)\n",
            "閾值 : 0.15 陽性預測數 : 4081 精確性 : 0.4347 召回率 : 0.8384  F 分數 : 0.5725)\n",
            "閾值 : 0.10 陽性預測數 : 5260 精確性 : 0.3675 召回率 : 0.9135  F 分數 : 0.5241)\n",
            "閾值 : 0.05 陽性預測數 : 7523 精確性 : 0.2741 召回率 : 0.9745  F 分數 : 0.4278)\n"
          ]
        }
      ]
    },
    {
      "cell_type": "code",
      "metadata": {
        "colab": {
          "base_uri": "https://localhost:8080/",
          "height": 161
        },
        "id": "X-3RKzXCDD6U",
        "outputId": "aacb66d8-012a-47d7-d33e-4fbf139cf1c9"
      },
      "source": [
        "# 最大化 F 分數的閾值為 0.30\n",
        "y_final = pred(algorithm, x_test, 0.30)\n",
        "\n",
        "# 輸出混淆矩陣\n",
        "df_matrix2 = make_cm(\n",
        "    confusion_matrix(y_test, y_final), ['失敗', '成功'])\n",
        "display(df_matrix2)\n",
        "\n",
        "# 計算精確性、召回率與 f1 值\n",
        "precision, recall, fscore, _ = precision_recall_fscore_support(\n",
        "    y_test, y_final, average='binary')\n",
        "print(f'精確性 : {precision:.4f}  召回率 : {recall:.4f}\\\n",
        "  F 分數: {fscore:.4f}')"
      ],
      "execution_count": null,
      "outputs": [
        {
          "output_type": "display_data",
          "data": {
            "text/html": [
              "<div>\n",
              "<style scoped>\n",
              "    .dataframe tbody tr th:only-of-type {\n",
              "        vertical-align: middle;\n",
              "    }\n",
              "\n",
              "    .dataframe tbody tr th {\n",
              "        vertical-align: top;\n",
              "    }\n",
              "\n",
              "    .dataframe thead tr th {\n",
              "        text-align: left;\n",
              "    }\n",
              "</style>\n",
              "<table border=\"1\" class=\"dataframe\">\n",
              "  <thead>\n",
              "    <tr>\n",
              "      <th></th>\n",
              "      <th></th>\n",
              "      <th colspan=\"2\" halign=\"left\">預測結果</th>\n",
              "    </tr>\n",
              "    <tr>\n",
              "      <th></th>\n",
              "      <th></th>\n",
              "      <th>失敗</th>\n",
              "      <th>成功</th>\n",
              "    </tr>\n",
              "  </thead>\n",
              "  <tbody>\n",
              "    <tr>\n",
              "      <th rowspan=\"2\" valign=\"top\">標準答案</th>\n",
              "      <th>失敗</th>\n",
              "      <td>14920</td>\n",
              "      <td>1049</td>\n",
              "    </tr>\n",
              "    <tr>\n",
              "      <th>成功</th>\n",
              "      <td>754</td>\n",
              "      <td>1362</td>\n",
              "    </tr>\n",
              "  </tbody>\n",
              "</table>\n",
              "</div>"
            ],
            "text/plain": [
              "          預測結果      \n",
              "            失敗    成功\n",
              "標準答案 失敗  14920  1049\n",
              "     成功    754  1362"
            ]
          },
          "metadata": {}
        },
        {
          "output_type": "stream",
          "name": "stdout",
          "text": [
            "精確性 : 0.5649  召回率 : 0.6437  F 分數: 0.6017\n"
          ]
        }
      ]
    },
    {
      "cell_type": "markdown",
      "metadata": {
        "id": "T2Qfm0sJDD6W"
      },
      "source": [
        "### 5.1.9 重要性分析"
      ]
    },
    {
      "cell_type": "code",
      "metadata": {
        "colab": {
          "base_uri": "https://localhost:8080/",
          "height": 417
        },
        "id": "HL4FWFeEDD6W",
        "outputId": "fcc7a75a-1acc-4e5b-901b-83d1b8b9d827"
      },
      "source": [
        "# 重要性分析\n",
        "\n",
        "# 取得重要性向量\n",
        "importances = algorithm.feature_importances_\n",
        "\n",
        "# 以項目名稱為鍵，生成 Series\n",
        "w = pd.Series(importances, index=x.columns)\n",
        "\n",
        "# 按值的大小排序\n",
        "u = w.sort_values(ascending=False)\n",
        "\n",
        "# 只提取前 10 個\n",
        "v = u[:10]\n",
        "\n",
        "# 繪製重要性的直方圖\n",
        "plt.title('輸入項目的重要性')\n",
        "plt.bar(range(len(v)), v, color='b', align='center')\n",
        "plt.xticks(range(len(v)), v.index, rotation=90)\n",
        "plt.show()"
      ],
      "execution_count": null,
      "outputs": [
        {
          "output_type": "display_data",
          "data": {
            "image/png": "[encoded data removed]",
            "text/plain": [
              "<Figure size 432x288 with 1 Axes>"
            ]
          },
          "metadata": {
            "needs_background": "light"
          }
        }
      ]
    },
    {
      "cell_type": "code",
      "metadata": {
        "colab": {
          "base_uri": "https://localhost:8080/",
          "height": 287
        },
        "id": "7pKrc1ddDD6Y",
        "outputId": "ab46930e-c84b-43ef-a104-e0a2dd5a34ab"
      },
      "source": [
        "column = '上次促銷結果_success'\n",
        "\n",
        "sns.distplot(x_test[y_test==1][column], kde=False, norm_hist=True,\n",
        "             bins=5, color='b', label='成功')\n",
        "sns.distplot(x_test[y_test==0][column], kde=False, norm_hist=True,\n",
        "             bins=5, color='k', label='失敗')\n",
        "\n",
        "plt.legend()\n",
        "plt.show()"
      ],
      "execution_count": null,
      "outputs": [
        {
          "output_type": "display_data",
          "data": {
            "image/png": "[encoded data removed]",
            "text/plain": [
              "<Figure size 432x288 with 1 Axes>"
            ]
          },
          "metadata": {
            "needs_background": "light"
          }
        }
      ]
    },
    {
      "cell_type": "code",
      "metadata": {
        "colab": {
          "base_uri": "https://localhost:8080/",
          "height": 287
        },
        "id": "QVCfG-gsDD6a",
        "outputId": "3f70f695-78ac-4db8-f5e3-3413634d308f"
      },
      "source": [
        "column = '最近一次通話秒數'\n",
        "\n",
        "sns.distplot(x_test[y_test==1][column], kde=False, norm_hist=True,\n",
        "             bins=50, color='b', label='成功')\n",
        "sns.distplot(x_test[y_test==0][column], kde=False, norm_hist=True,\n",
        "             bins=50, color='k', label='失敗')\n",
        "\n",
        "plt.legend()\n",
        "plt.show()"
      ],
      "execution_count": null,
      "outputs": [
        {
          "output_type": "display_data",
          "data": {
            "image/png": "[encoded data removed]",
            "text/plain": [
              "<Figure size 432x288 with 1 Axes>"
            ]
          },
          "metadata": {
            "needs_background": "light"
          }
        }
      ]
    },
    {
      "cell_type": "code",
      "metadata": {
        "colab": {
          "base_uri": "https://localhost:8080/",
          "height": 287
        },
        "id": "rVejoJVUDD6c",
        "outputId": "e6e704d0-7cda-43a4-a9dc-d0882be6a276"
      },
      "source": [
        "column = '聯絡方式_unknown'\n",
        "\n",
        "sns.distplot(x_test[y_test==1][column], kde=False, norm_hist=True,\n",
        "            bins=5,color='b', label='成功')\n",
        "sns.distplot(x_test[y_test==0][column], kde=False, norm_hist=True,\n",
        "             bins=5,color='k', label='失敗')\n",
        "\n",
        "plt.legend()\n",
        "plt.show()"
      ],
      "execution_count": null,
      "outputs": [
        {
          "output_type": "display_data",
          "data": {
            "image/png": "[encoded data removed]",
            "text/plain": [
              "<Figure size 432x288 with 1 Axes>"
            ]
          },
          "metadata": {
            "needs_background": "light"
          }
        }
      ]
    },
    {
      "cell_type": "code",
      "metadata": {
        "colab": {
          "base_uri": "https://localhost:8080/",
          "height": 287
        },
        "id": "oUqD2Uk1DD6e",
        "outputId": "35792dcf-1069-4467-ac3c-8026b8671dc7"
      },
      "source": [
        "column = '房屋貸款'\n",
        "\n",
        "sns.distplot(x_test[y_test==1][column], kde=False, norm_hist=True,\n",
        "            bins=5,color='b', label='成功')\n",
        "sns.distplot(x_test[y_test==0][column], kde=False, norm_hist=True,\n",
        "             bins=5,color='k', label='失敗')\n",
        "\n",
        "plt.legend()\n",
        "plt.show()"
      ],
      "execution_count": null,
      "outputs": [
        {
          "output_type": "display_data",
          "data": {
            "image/png": "[encoded data removed]",
            "text/plain": [
              "<Figure size 432x288 with 1 Axes>"
            ]
          },
          "metadata": {
            "needs_background": "light"
          }
        }
      ]
    },
    {
      "cell_type": "code",
      "metadata": {
        "colab": {
          "base_uri": "https://localhost:8080/",
          "height": 288
        },
        "id": "zBr8S7z2DD6g",
        "outputId": "8355b061-b20d-4e35-bed9-e9dd80ef5a0e"
      },
      "source": [
        "column = '婚姻_single'\n",
        "\n",
        "sns.distplot(x_test[y_test==1][column], kde=False, norm_hist=True,\n",
        "            bins=5,color='b', label='成功')\n",
        "sns.distplot(x_test[y_test==0][column], kde=False, norm_hist=True,\n",
        "             bins=5,color='k', label='失敗')\n",
        "\n",
        "plt.legend()\n",
        "plt.show()"
      ],
      "execution_count": null,
      "outputs": [
        {
          "output_type": "display_data",
          "data": {
            "image/png": "[encoded data removed]",
            "text/plain": [
              "<Figure size 432x288 with 1 Axes>"
            ]
          },
          "metadata": {
            "needs_background": "light"
          }
        }
      ]
    },
    {
      "cell_type": "code",
      "metadata": {
        "id": "mq2hl4maDD6h"
      },
      "source": [
        ""
      ],
      "execution_count": null,
      "outputs": []
    }
  ]
}