{
  "nbformat": 4,
  "nbformat_minor": 0,
  "metadata": {
    "colab": {
      "name": "ch04_04_estimate.ipynb",
      "provenance": [],
      "collapsed_sections": [
        "v85oxddhY7xA"
      ]
    },
    "kernelspec": {
      "display_name": "Python 3",
      "language": "python",
      "name": "python3"
    },
    "language_info": {
      "codemirror_mode": {
        "name": "ipython",
        "version": 3
      },
      "file_extension": ".py",
      "mimetype": "text/x-python",
      "name": "python",
      "nbconvert_exporter": "python",
      "pygments_lexer": "ipython3",
      "version": "3.7.6"
    }
  },
  "cells": [
    {
      "cell_type": "markdown",
      "metadata": {
        "id": "xv2OcVTkY7vv"
      },
      "source": [
        "## 4.4 評估\n"
      ]
    },
    {
      "cell_type": "code",
      "metadata": {
        "colab": {
          "base_uri": "https://localhost:8080/"
        },
        "id": "-PHeHE44Y7vw",
        "outputId": "3428de08-3015-4c05-fcb3-3848ccfe6b04"
      },
      "source": [
        "# 取得中文字型\n",
        "!wget 'https://github.com/flyingpath/electron-hand-dicom/raw/master/TaipeiSansTCBeta-Regular.ttf'"
      ],
      "execution_count": 1,
      "outputs": [
        {
          "output_type": "stream",
          "name": "stdout",
          "text": [
            "--2021-12-24 02:01:53--  https://github.com/flyingpath/electron-hand-dicom/raw/master/TaipeiSansTCBeta-Regular.ttf\n",
            "Resolving github.com (github.com)... 140.82.113.3\n",
            "Connecting to github.com (github.com)|140.82.113.3|:443... connected.\n",
            "HTTP request sent, awaiting response... 302 Found\n",
            "Location: https://raw.githubusercontent.com/flyingpath/electron-hand-dicom/master/TaipeiSansTCBeta-Regular.ttf [following]\n",
            "--2021-12-24 02:01:53--  https://raw.githubusercontent.com/flyingpath/electron-hand-dicom/master/TaipeiSansTCBeta-Regular.ttf\n",
            "Resolving raw.githubusercontent.com (raw.githubusercontent.com)... 185.199.110.133, 185.199.109.133, 185.199.108.133, ...\n",
            "Connecting to raw.githubusercontent.com (raw.githubusercontent.com)|185.199.110.133|:443... connected.\n",
            "HTTP request sent, awaiting response... 200 OK\n",
            "Length: 20659344 (20M) [application/octet-stream]\n",
            "Saving to: ‘TaipeiSansTCBeta-Regular.ttf’\n",
            "\n",
            "TaipeiSansTCBeta-Re 100%[===================>]  19.70M  --.-KB/s    in 0.1s    \n",
            "\n",
            "2021-12-24 02:01:53 (134 MB/s) - ‘TaipeiSansTCBeta-Regular.ttf’ saved [20659344/20659344]\n",
            "\n"
          ]
        }
      ]
    },
    {
      "cell_type": "code",
      "metadata": {
        "id": "Ra8fM7lxY7v0"
      },
      "source": [
        "# 共通事前處理\n",
        "\n",
        "# 隱藏不必要的警告\n",
        "import warnings\n",
        "warnings.filterwarnings('ignore')\n",
        "\n",
        "# 匯入必要的函式庫\n",
        "import pandas as pd\n",
        "import numpy as np\n",
        "import matplotlib.pyplot as plt\n",
        "from matplotlib import font_manager as fm\n",
        "\n",
        "# 將字型新增到 matplotlib\n",
        "fm.fontManager.addfont('./TaipeiSansTCBeta-Regular.ttf')\n",
        "\n",
        "# 用來顯示資料框的函式\n",
        "from IPython.display import display\n",
        "\n",
        "# 調整顯示選項\n",
        "# NumPy 的浮點數表示精度\n",
        "np.set_printoptions(suppress=True, precision=4)\n",
        "# pandas 中的浮點數表示精度\n",
        "pd.options.display.float_format = '{:.4f}'.format\n",
        "# 顯示資料框中的所有項目\n",
        "pd.set_option(\"display.max_columns\",None)\n",
        "# 指定圖形的預設字體大小\n",
        "plt.rcParams[\"font.size\"] = 14\n",
        "# 指定圖形的預設字型\n",
        "plt.rcParams['font.family'] = 'Taipei Sans TC Beta'\n",
        "# 隨機種子\n",
        "random_seed = 123"
      ],
      "execution_count": 2,
      "outputs": []
    },
    {
      "cell_type": "markdown",
      "metadata": {
        "id": "BpHwA-JaY7v3"
      },
      "source": [
        "### 4.4.1 混淆矩陣"
      ]
    },
    {
      "cell_type": "markdown",
      "metadata": {
        "id": "EWGhMtRxY7v3"
      },
      "source": [
        "#### 混淆矩陣"
      ]
    },
    {
      "cell_type": "code",
      "metadata": {
        "id": "Ggsurtn8Y7v3"
      },
      "source": [
        "# 從載入資料到分割資料\n",
        "\n",
        "# 匯入套件\n",
        "from sklearn.datasets import load_breast_cancer\n",
        "\n",
        "# 載入資料\n",
        "cancer = load_breast_cancer()\n",
        "\n",
        "# 輸入資料 x\n",
        "x = cancer.data\n",
        "\n",
        "# 標準答案 y\n",
        "# 將值變更為良性：0 惡性：1\n",
        "y = 1- cancer.target\n",
        "\n",
        "# 將輸入資料縮減至 2 維\n",
        "x2 = x[:,:2]\n",
        "\n",
        "# (4) 分割資料\n",
        "from sklearn.model_selection import train_test_split\n",
        "x_train, x_test, y_train, y_test = train_test_split(x2, y, \n",
        "    train_size=0.7, test_size=0.3, random_state=random_seed)"
      ],
      "execution_count": 3,
      "outputs": []
    },
    {
      "cell_type": "code",
      "metadata": {
        "colab": {
          "base_uri": "https://localhost:8080/"
        },
        "id": "dQ9XUGlqY7v6",
        "outputId": "10957edf-2176-48fb-cf65-12e1c117c92f"
      },
      "source": [
        "# 從選擇演算法到評估為止\n",
        "\n",
        "# 選擇演算法（邏輯斯迴歸）\n",
        "from sklearn.linear_model import LogisticRegression\n",
        "algorithm = LogisticRegression(random_state=random_seed)\n",
        "\n",
        "# 訓練\n",
        "algorithm.fit(x_train, y_train)\n",
        "\n",
        "# 預測\n",
        "y_pred = algorithm.predict(x_test)\n",
        "\n",
        "# 評估\n",
        "score = algorithm.score(x_test, y_test)\n",
        "\n",
        "# 確認結果\n",
        "print(f'score: {score:.4f}')"
      ],
      "execution_count": 4,
      "outputs": [
        {
          "output_type": "stream",
          "name": "stdout",
          "text": [
            "score: 0.8772\n"
          ]
        }
      ]
    },
    {
      "cell_type": "code",
      "metadata": {
        "colab": {
          "base_uri": "https://localhost:8080/"
        },
        "id": "iODYJJZRY7v8",
        "outputId": "eb0b2acb-130b-455a-ba9b-0b5eb10aa47f"
      },
      "source": [
        "# 混淆矩陣的計算\n",
        "\n",
        "# 匯入必要的套件\n",
        "from sklearn.metrics import confusion_matrix\n",
        "\n",
        "# 生成混淆矩陣\n",
        "#   y_test: 驗證資料的標準答案\n",
        "#   y_pred: 驗證資料的預測結果\n",
        "matrix = confusion_matrix(y_test, y_pred)\n",
        "\n",
        "# 確認結果\n",
        "print(matrix)"
      ],
      "execution_count": 5,
      "outputs": [
        {
          "output_type": "stream",
          "name": "stdout",
          "text": [
            "[[101   2]\n",
            " [ 19  49]]\n"
          ]
        }
      ]
    },
    {
      "cell_type": "code",
      "metadata": {
        "id": "CCo_8nbJY7v_"
      },
      "source": [
        "# 用於顯示混淆矩陣之函式\n",
        "\n",
        "def make_cm(matrix, columns):\n",
        "    # matrix numpy 陣列\n",
        "    \n",
        "    # columns 項目名稱列表\n",
        "    n = len(columns)\n",
        "    \n",
        "    # 將 '標準答案' 重複 n 次以生成列表\n",
        "    act = ['標準答案'] * n\n",
        "    pred = ['預測結果'] * n\n",
        "    \n",
        "    # 生成資料框\n",
        "    cm = pd.DataFrame(matrix, \n",
        "        columns=[pred, columns], index=[act, columns])\n",
        "    return cm"
      ],
      "execution_count": 6,
      "outputs": []
    },
    {
      "cell_type": "code",
      "metadata": {
        "colab": {
          "base_uri": "https://localhost:8080/",
          "height": 143
        },
        "id": "QRCossNUY7wB",
        "outputId": "07612dd8-b7e5-4338-eabd-71df177f4921"
      },
      "source": [
        "# 利用 make_cm 顯示混淆矩陣\n",
        "cm = make_cm(matrix, ['良性', '惡性'])\n",
        "display(cm)"
      ],
      "execution_count": 7,
      "outputs": [
        {
          "output_type": "display_data",
          "data": {
            "text/html": [
              "\n",
              "  <div id=\"df-11ea9a7d-5799-43de-9a08-00aaaf2142f2\">\n",
              "    <div class=\"colab-df-container\">\n",
              "      <div>\n",
              "<style scoped>\n",
              "    .dataframe tbody tr th:only-of-type {\n",
              "        vertical-align: middle;\n",
              "    }\n",
              "\n",
              "    .dataframe tbody tr th {\n",
              "        vertical-align: top;\n",
              "    }\n",
              "\n",
              "    .dataframe thead tr th {\n",
              "        text-align: left;\n",
              "    }\n",
              "</style>\n",
              "<table border=\"1\" class=\"dataframe\">\n",
              "  <thead>\n",
              "    <tr>\n",
              "      <th></th>\n",
              "      <th></th>\n",
              "      <th colspan=\"2\" halign=\"left\">預測結果</th>\n",
              "    </tr>\n",
              "    <tr>\n",
              "      <th></th>\n",
              "      <th></th>\n",
              "      <th>良性</th>\n",
              "      <th>惡性</th>\n",
              "    </tr>\n",
              "  </thead>\n",
              "  <tbody>\n",
              "    <tr>\n",
              "      <th rowspan=\"2\" valign=\"top\">標準答案</th>\n",
              "      <th>良性</th>\n",
              "      <td>101</td>\n",
              "      <td>2</td>\n",
              "    </tr>\n",
              "    <tr>\n",
              "      <th>惡性</th>\n",
              "      <td>19</td>\n",
              "      <td>49</td>\n",
              "    </tr>\n",
              "  </tbody>\n",
              "</table>\n",
              "</div>\n",
              "      <button class=\"colab-df-convert\" onclick=\"convertToInteractive('df-11ea9a7d-5799-43de-9a08-00aaaf2142f2')\"\n",
              "              title=\"Convert this dataframe to an interactive table.\"\n",
              "              style=\"display:none;\">\n",
              "        \n",
              "  <svg xmlns=\"http://www.w3.org/2000/svg\" height=\"24px\"viewBox=\"0 0 24 24\"\n",
              "       width=\"24px\">\n",
              "    <path d=\"M0 0h24v24H0V0z\" fill=\"none\"/>\n",
              "    <path d=\"M18.56 5.44l.94 2.06.94-2.06 2.06-.94-2.06-.94-.94-2.06-.94 2.06-2.06.94zm-11 1L8.5 8.5l.94-2.06 2.06-.94-2.06-.94L8.5 2.5l-.94 2.06-2.06.94zm10 10l.94 2.06.94-2.06 2.06-.94-2.06-.94-.94-2.06-.94 2.06-2.06.94z\"/><path d=\"M17.41 7.96l-1.37-1.37c-.4-.4-.92-.59-1.43-.59-.52 0-1.04.2-1.43.59L10.3 9.45l-7.72 7.72c-.78.78-.78 2.05 0 2.83L4 21.41c.39.39.9.59 1.41.59.51 0 1.02-.2 1.41-.59l7.78-7.78 2.81-2.81c.8-.78.8-2.07 0-2.86zM5.41 20L4 18.59l7.72-7.72 1.47 1.35L5.41 20z\"/>\n",
              "  </svg>\n",
              "      </button>\n",
              "      \n",
              "  <style>\n",
              "    .colab-df-container {\n",
              "      display:flex;\n",
              "      flex-wrap:wrap;\n",
              "      gap: 12px;\n",
              "    }\n",
              "\n",
              "    .colab-df-convert {\n",
              "      background-color: #E8F0FE;\n",
              "      border: none;\n",
              "      border-radius: 50%;\n",
              "      cursor: pointer;\n",
              "      display: none;\n",
              "      fill: #1967D2;\n",
              "      height: 32px;\n",
              "      padding: 0 0 0 0;\n",
              "      width: 32px;\n",
              "    }\n",
              "\n",
              "    .colab-df-convert:hover {\n",
              "      background-color: #E2EBFA;\n",
              "      box-shadow: 0px 1px 2px rgba(60, 64, 67, 0.3), 0px 1px 3px 1px rgba(60, 64, 67, 0.15);\n",
              "      fill: #174EA6;\n",
              "    }\n",
              "\n",
              "    [theme=dark] .colab-df-convert {\n",
              "      background-color: #3B4455;\n",
              "      fill: #D2E3FC;\n",
              "    }\n",
              "\n",
              "    [theme=dark] .colab-df-convert:hover {\n",
              "      background-color: #434B5C;\n",
              "      box-shadow: 0px 1px 3px 1px rgba(0, 0, 0, 0.15);\n",
              "      filter: drop-shadow(0px 1px 2px rgba(0, 0, 0, 0.3));\n",
              "      fill: #FFFFFF;\n",
              "    }\n",
              "  </style>\n",
              "\n",
              "      <script>\n",
              "        const buttonEl =\n",
              "          document.querySelector('#df-11ea9a7d-5799-43de-9a08-00aaaf2142f2 button.colab-df-convert');\n",
              "        buttonEl.style.display =\n",
              "          google.colab.kernel.accessAllowed ? 'block' : 'none';\n",
              "\n",
              "        async function convertToInteractive(key) {\n",
              "          const element = document.querySelector('#df-11ea9a7d-5799-43de-9a08-00aaaf2142f2');\n",
              "          const dataTable =\n",
              "            await google.colab.kernel.invokeFunction('convertToInteractive',\n",
              "                                                     [key], {});\n",
              "          if (!dataTable) return;\n",
              "\n",
              "          const docLinkHtml = 'Like what you see? Visit the ' +\n",
              "            '<a target=\"_blank\" href=https://colab.research.google.com/notebooks/data_table.ipynb>data table notebook</a>'\n",
              "            + ' to learn more about interactive tables.';\n",
              "          element.innerHTML = '';\n",
              "          dataTable['output_type'] = 'display_data';\n",
              "          await google.colab.output.renderOutput(dataTable, element);\n",
              "          const docLink = document.createElement('div');\n",
              "          docLink.innerHTML = docLinkHtml;\n",
              "          element.appendChild(docLink);\n",
              "        }\n",
              "      </script>\n",
              "    </div>\n",
              "  </div>\n",
              "  "
            ],
            "text/plain": [
              "        預測結果    \n",
              "          良性  惡性\n",
              "標準答案 良性  101   2\n",
              "     惡性   19  49"
            ]
          },
          "metadata": {}
        }
      ]
    },
    {
      "cell_type": "markdown",
      "metadata": {
        "id": "Hsfiqt9kY7wH"
      },
      "source": [
        "### 4.4.2 正確率、精確性、召回率、F 分數"
      ]
    },
    {
      "cell_type": "code",
      "metadata": {
        "id": "bW78c493Y7wH",
        "colab": {
          "base_uri": "https://localhost:8080/"
        },
        "outputId": "3566fe29-6ba5-45db-ef4e-de6ee5f251d6"
      },
      "source": [
        "# 計算精確性、召回率與 F 分數\n",
        "\n",
        "# 匯入函式庫\n",
        "from sklearn.metrics import precision_recall_fscore_support\n",
        "\n",
        "# 計算精確性、召回率與 F 分數\n",
        "precision, recall, fscore, _ = precision_recall_fscore_support(\n",
        "    y_test, y_pred, average='binary', pos_label=1)\n",
        "\n",
        "# 確認結果\n",
        "print(f'精確性　: {precision:.4f}')\n",
        "print(f'召回率　: {recall:.4f}')\n",
        "print(f'F 分數　: {fscore:.4f}')"
      ],
      "execution_count": 8,
      "outputs": [
        {
          "output_type": "stream",
          "name": "stdout",
          "text": [
            "精確性　: 0.9608\n",
            "召回率　: 0.7206\n",
            "F 分數　: 0.8235\n"
          ]
        }
      ]
    },
    {
      "cell_type": "markdown",
      "metadata": {
        "id": "5ccT1r0PY7wJ"
      },
      "source": [
        "### 4.4.3 機率值與閥值"
      ]
    },
    {
      "cell_type": "code",
      "metadata": {
        "id": "pLHofKFhY7wK",
        "colab": {
          "base_uri": "https://localhost:8080/"
        },
        "outputId": "db160a7e-aa01-4f01-93d1-cbcde58062c4"
      },
      "source": [
        "# 取得 P 值\n",
        "y_proba = algorithm.predict_proba(x_test)\n",
        "print(y_proba[:10,:])"
      ],
      "execution_count": 9,
      "outputs": [
        {
          "output_type": "stream",
          "name": "stdout",
          "text": [
            "[[0.9925 0.0075]\n",
            " [0.9981 0.0019]\n",
            " [0.0719 0.9281]\n",
            " [0.8134 0.1866]\n",
            " [0.0345 0.9655]\n",
            " [0.6376 0.3624]\n",
            " [0.9694 0.0306]\n",
            " [0.9743 0.0257]\n",
            " [0.76   0.24  ]\n",
            " [0.9775 0.0225]]\n"
          ]
        }
      ]
    },
    {
      "cell_type": "code",
      "metadata": {
        "id": "gvH_nov_Y7wM",
        "colab": {
          "base_uri": "https://localhost:8080/"
        },
        "outputId": "67e2101f-37d4-41d4-ab83-2e24d258356a"
      },
      "source": [
        "# 取得 positive(1) 的 P 值\n",
        "y_proba1 = y_proba[:,1]\n",
        "\n",
        "# 確認結果\n",
        "print(y_test[10:20])\n",
        "print(y_pred[10:20])\n",
        "print(y_proba1[10:20])"
      ],
      "execution_count": 10,
      "outputs": [
        {
          "output_type": "stream",
          "name": "stdout",
          "text": [
            "[0 1 1 0 1 0 0 0 0 0]\n",
            "[0 1 0 0 1 0 0 0 0 0]\n",
            "[0.2111 0.9188 0.1617 0.0609 0.631  0.0549 0.0601 0.0506 0.0383 0.0164]\n"
          ]
        }
      ]
    },
    {
      "cell_type": "code",
      "metadata": {
        "id": "1at-bPhnY7wP",
        "colab": {
          "base_uri": "https://localhost:8080/"
        },
        "outputId": "b9cb3989-b9ea-4fc9-c387-f26ddd400721"
      },
      "source": [
        "# 變更閥值\n",
        "thres = 0.5\n",
        "print((y_proba1[10:20] > thres).astype(int))\n",
        "\n",
        "thres = 0.7\n",
        "print((y_proba1[10:20] > thres).astype(int))"
      ],
      "execution_count": 11,
      "outputs": [
        {
          "output_type": "stream",
          "name": "stdout",
          "text": [
            "[0 1 0 0 1 0 0 0 0 0]\n",
            "[0 1 0 0 0 0 0 0 0 0]\n"
          ]
        }
      ]
    },
    {
      "cell_type": "code",
      "metadata": {
        "id": "AO5clSBBY7wR"
      },
      "source": [
        "# 定義可以改變閥值的預測函式\n",
        "def pred(algorithm, x, thres):\n",
        "    # 取得機率值（矩陣）\n",
        "    y_proba = algorithm.predict_proba(x)\n",
        "    \n",
        "    # 預測結果 1 的機率值\n",
        "    y_proba1 =  y_proba[:,1]\n",
        "    \n",
        "    # 預測結果 1 的機率值 > 閾值\n",
        "    y_pred = (y_proba1 > thres).astype(int)\n",
        "    return y_pred"
      ],
      "execution_count": 12,
      "outputs": []
    },
    {
      "cell_type": "code",
      "metadata": {
        "id": "Z9X-vomEY7wU",
        "colab": {
          "base_uri": "https://localhost:8080/"
        },
        "outputId": "1b732b8e-b20c-4385-8e16-47f7757f07da"
      },
      "source": [
        "# 取得閾值為 0.5 的預測結果\n",
        "pred_05 = pred(algorithm, x_test, 0.5)\n",
        "\n",
        "# 取得閾值為 0.7 的預測結果\n",
        "pred_07 = pred(algorithm, x_test, 0.7)\n",
        "\n",
        "# 確認結果\n",
        "print(pred_05[10:20])\n",
        "print(pred_07[10:20])"
      ],
      "execution_count": 13,
      "outputs": [
        {
          "output_type": "stream",
          "name": "stdout",
          "text": [
            "[0 1 0 0 1 0 0 0 0 0]\n",
            "[0 1 0 0 0 0 0 0 0 0]\n"
          ]
        }
      ]
    },
    {
      "cell_type": "markdown",
      "metadata": {
        "id": "kqoDRgYoY7wW"
      },
      "source": [
        "### 4.4.4 PR 曲線與 ROC 曲線"
      ]
    },
    {
      "cell_type": "markdown",
      "metadata": {
        "id": "ybbNCaXOY7wW"
      },
      "source": [
        "#### PR 曲線"
      ]
    },
    {
      "cell_type": "code",
      "metadata": {
        "id": "mQdAXZBbY7wX",
        "colab": {
          "base_uri": "https://localhost:8080/",
          "height": 269
        },
        "outputId": "502caee3-51d6-4923-ac28-c2654ef9ee48"
      },
      "source": [
        "# 生成 PR 曲線的陣列\n",
        "\n",
        "# 匯入套件\n",
        "from sklearn.metrics import precision_recall_curve\n",
        "# 取得精確性、召回率與閾值\n",
        "precision, recall, thresholds = precision_recall_curve(\n",
        "    y_test, y_proba1)\n",
        "# 將結果轉換成資料框\n",
        "df_pr = pd.DataFrame([thresholds, precision, recall]).T\n",
        "df_pr.columns = ['閾值', '精確性', '召回率']\n",
        "# 顯示閾值 0.5 附近的結果\n",
        "display(df_pr[52:122:10])"
      ],
      "execution_count": 14,
      "outputs": [
        {
          "output_type": "display_data",
          "data": {
            "text/html": [
              "\n",
              "  <div id=\"df-0d080fe9-9890-4dea-9d48-4e79476d0885\">\n",
              "    <div class=\"colab-df-container\">\n",
              "      <div>\n",
              "<style scoped>\n",
              "    .dataframe tbody tr th:only-of-type {\n",
              "        vertical-align: middle;\n",
              "    }\n",
              "\n",
              "    .dataframe tbody tr th {\n",
              "        vertical-align: top;\n",
              "    }\n",
              "\n",
              "    .dataframe thead th {\n",
              "        text-align: right;\n",
              "    }\n",
              "</style>\n",
              "<table border=\"1\" class=\"dataframe\">\n",
              "  <thead>\n",
              "    <tr style=\"text-align: right;\">\n",
              "      <th></th>\n",
              "      <th>閾值</th>\n",
              "      <th>精確性</th>\n",
              "      <th>召回率</th>\n",
              "    </tr>\n",
              "  </thead>\n",
              "  <tbody>\n",
              "    <tr>\n",
              "      <th>52</th>\n",
              "      <td>0.1473</td>\n",
              "      <td>0.7901</td>\n",
              "      <td>0.9412</td>\n",
              "    </tr>\n",
              "    <tr>\n",
              "      <th>62</th>\n",
              "      <td>0.2027</td>\n",
              "      <td>0.8310</td>\n",
              "      <td>0.8676</td>\n",
              "    </tr>\n",
              "    <tr>\n",
              "      <th>72</th>\n",
              "      <td>0.3371</td>\n",
              "      <td>0.9344</td>\n",
              "      <td>0.8382</td>\n",
              "    </tr>\n",
              "    <tr>\n",
              "      <th>82</th>\n",
              "      <td>0.5347</td>\n",
              "      <td>0.9608</td>\n",
              "      <td>0.7206</td>\n",
              "    </tr>\n",
              "    <tr>\n",
              "      <th>92</th>\n",
              "      <td>0.7763</td>\n",
              "      <td>0.9756</td>\n",
              "      <td>0.5882</td>\n",
              "    </tr>\n",
              "    <tr>\n",
              "      <th>102</th>\n",
              "      <td>0.9025</td>\n",
              "      <td>1.0000</td>\n",
              "      <td>0.4559</td>\n",
              "    </tr>\n",
              "    <tr>\n",
              "      <th>112</th>\n",
              "      <td>0.9829</td>\n",
              "      <td>1.0000</td>\n",
              "      <td>0.3088</td>\n",
              "    </tr>\n",
              "  </tbody>\n",
              "</table>\n",
              "</div>\n",
              "      <button class=\"colab-df-convert\" onclick=\"convertToInteractive('df-0d080fe9-9890-4dea-9d48-4e79476d0885')\"\n",
              "              title=\"Convert this dataframe to an interactive table.\"\n",
              "              style=\"display:none;\">\n",
              "        \n",
              "  <svg xmlns=\"http://www.w3.org/2000/svg\" height=\"24px\"viewBox=\"0 0 24 24\"\n",
              "       width=\"24px\">\n",
              "    <path d=\"M0 0h24v24H0V0z\" fill=\"none\"/>\n",
              "    <path d=\"M18.56 5.44l.94 2.06.94-2.06 2.06-.94-2.06-.94-.94-2.06-.94 2.06-2.06.94zm-11 1L8.5 8.5l.94-2.06 2.06-.94-2.06-.94L8.5 2.5l-.94 2.06-2.06.94zm10 10l.94 2.06.94-2.06 2.06-.94-2.06-.94-.94-2.06-.94 2.06-2.06.94z\"/><path d=\"M17.41 7.96l-1.37-1.37c-.4-.4-.92-.59-1.43-.59-.52 0-1.04.2-1.43.59L10.3 9.45l-7.72 7.72c-.78.78-.78 2.05 0 2.83L4 21.41c.39.39.9.59 1.41.59.51 0 1.02-.2 1.41-.59l7.78-7.78 2.81-2.81c.8-.78.8-2.07 0-2.86zM5.41 20L4 18.59l7.72-7.72 1.47 1.35L5.41 20z\"/>\n",
              "  </svg>\n",
              "      </button>\n",
              "      \n",
              "  <style>\n",
              "    .colab-df-container {\n",
              "      display:flex;\n",
              "      flex-wrap:wrap;\n",
              "      gap: 12px;\n",
              "    }\n",
              "\n",
              "    .colab-df-convert {\n",
              "      background-color: #E8F0FE;\n",
              "      border: none;\n",
              "      border-radius: 50%;\n",
              "      cursor: pointer;\n",
              "      display: none;\n",
              "      fill: #1967D2;\n",
              "      height: 32px;\n",
              "      padding: 0 0 0 0;\n",
              "      width: 32px;\n",
              "    }\n",
              "\n",
              "    .colab-df-convert:hover {\n",
              "      background-color: #E2EBFA;\n",
              "      box-shadow: 0px 1px 2px rgba(60, 64, 67, 0.3), 0px 1px 3px 1px rgba(60, 64, 67, 0.15);\n",
              "      fill: #174EA6;\n",
              "    }\n",
              "\n",
              "    [theme=dark] .colab-df-convert {\n",
              "      background-color: #3B4455;\n",
              "      fill: #D2E3FC;\n",
              "    }\n",
              "\n",
              "    [theme=dark] .colab-df-convert:hover {\n",
              "      background-color: #434B5C;\n",
              "      box-shadow: 0px 1px 3px 1px rgba(0, 0, 0, 0.15);\n",
              "      filter: drop-shadow(0px 1px 2px rgba(0, 0, 0, 0.3));\n",
              "      fill: #FFFFFF;\n",
              "    }\n",
              "  </style>\n",
              "\n",
              "      <script>\n",
              "        const buttonEl =\n",
              "          document.querySelector('#df-0d080fe9-9890-4dea-9d48-4e79476d0885 button.colab-df-convert');\n",
              "        buttonEl.style.display =\n",
              "          google.colab.kernel.accessAllowed ? 'block' : 'none';\n",
              "\n",
              "        async function convertToInteractive(key) {\n",
              "          const element = document.querySelector('#df-0d080fe9-9890-4dea-9d48-4e79476d0885');\n",
              "          const dataTable =\n",
              "            await google.colab.kernel.invokeFunction('convertToInteractive',\n",
              "                                                     [key], {});\n",
              "          if (!dataTable) return;\n",
              "\n",
              "          const docLinkHtml = 'Like what you see? Visit the ' +\n",
              "            '<a target=\"_blank\" href=https://colab.research.google.com/notebooks/data_table.ipynb>data table notebook</a>'\n",
              "            + ' to learn more about interactive tables.';\n",
              "          element.innerHTML = '';\n",
              "          dataTable['output_type'] = 'display_data';\n",
              "          await google.colab.output.renderOutput(dataTable, element);\n",
              "          const docLink = document.createElement('div');\n",
              "          docLink.innerHTML = docLinkHtml;\n",
              "          element.appendChild(docLink);\n",
              "        }\n",
              "      </script>\n",
              "    </div>\n",
              "  </div>\n",
              "  "
            ],
            "text/plain": [
              "        閾值    精確性    召回率\n",
              "52  0.1473 0.7901 0.9412\n",
              "62  0.2027 0.8310 0.8676\n",
              "72  0.3371 0.9344 0.8382\n",
              "82  0.5347 0.9608 0.7206\n",
              "92  0.7763 0.9756 0.5882\n",
              "102 0.9025 1.0000 0.4559\n",
              "112 0.9829 1.0000 0.3088"
            ]
          },
          "metadata": {}
        }
      ]
    },
    {
      "cell_type": "code",
      "metadata": {
        "id": "yjxdxEwUY7wZ",
        "colab": {
          "base_uri": "https://localhost:8080/",
          "height": 416
        },
        "outputId": "cabbc84e-3f6a-47cd-b378-d24ac4f2636c"
      },
      "source": [
        "# 繪製 PR 曲線\n",
        "\n",
        "# 設定圖形尺寸\n",
        "plt.figure(figsize=(6,6))\n",
        "# 將圖形區域上色\n",
        "plt.fill_between(recall, precision, 0)\n",
        "# 指定 x, y 的範圍\n",
        "plt.xlim([0.0, 1.0])\n",
        "plt.ylim([0.0, 1.0])\n",
        "# 顯示標籤與標題\n",
        "plt.xlabel('召回率')\n",
        "plt.ylabel('精準率')\n",
        "plt.title('PR 曲線')\n",
        "plt.show()"
      ],
      "execution_count": 15,
      "outputs": [
        {
          "output_type": "display_data",
          "data": {
            "image/png": "[encoded data removed]",
            "text/plain": [
              "<Figure size 432x432 with 1 Axes>"
            ]
          },
          "metadata": {
            "needs_background": "light"
          }
        }
      ]
    },
    {
      "cell_type": "code",
      "metadata": {
        "id": "O4JAQ3HIY7wb",
        "colab": {
          "base_uri": "https://localhost:8080/"
        },
        "outputId": "85ec386a-0e90-4d31-f01a-26e94e494a61"
      },
      "source": [
        "# 計算 PR 曲線下的面積\n",
        "from sklearn.metrics import auc\n",
        "pr_auc = auc(recall, precision)\n",
        "print(f'PR 曲線下的面積 : {pr_auc:.4f}')"
      ],
      "execution_count": 16,
      "outputs": [
        {
          "output_type": "stream",
          "name": "stdout",
          "text": [
            "PR 曲線下的面積 : 0.9459\n"
          ]
        }
      ]
    },
    {
      "cell_type": "markdown",
      "metadata": {
        "id": "nKtHryvTY7wd"
      },
      "source": [
        "#### ROC 曲線"
      ]
    },
    {
      "cell_type": "code",
      "metadata": {
        "id": "jw-GtJwtY7we",
        "colab": {
          "base_uri": "https://localhost:8080/",
          "height": 81
        },
        "outputId": "51232d24-ac0c-4f5f-c6d7-bf76544e5c22"
      },
      "source": [
        "# 生成 ROC 曲線的陣列\n",
        "\n",
        "# 匯入套件\n",
        "from sklearn.metrics import roc_curve\n",
        "\n",
        "# 取得偽陽性率、靈敏度與閾值\n",
        "fpr, tpr, thresholds = roc_curve(\n",
        "    y_test, y_proba1,drop_intermediate=True)\n",
        "\n",
        "# 將結果轉換成資料框\n",
        "df_roc = pd.DataFrame([thresholds, fpr, tpr]).T\n",
        "df_roc.columns = ['閾值', '偽陽性率', '靈敏度']\n",
        "\n",
        "# 顯示閾值 0.5 附近的結果\n",
        "display(df_roc[21:91:10])"
      ],
      "execution_count": 17,
      "outputs": [
        {
          "output_type": "display_data",
          "data": {
            "text/html": [
              "\n",
              "  <div id=\"df-bb41e3f5-d411-4aa7-8420-f24ed3ed741f\">\n",
              "    <div class=\"colab-df-container\">\n",
              "      <div>\n",
              "<style scoped>\n",
              "    .dataframe tbody tr th:only-of-type {\n",
              "        vertical-align: middle;\n",
              "    }\n",
              "\n",
              "    .dataframe tbody tr th {\n",
              "        vertical-align: top;\n",
              "    }\n",
              "\n",
              "    .dataframe thead th {\n",
              "        text-align: right;\n",
              "    }\n",
              "</style>\n",
              "<table border=\"1\" class=\"dataframe\">\n",
              "  <thead>\n",
              "    <tr style=\"text-align: right;\">\n",
              "      <th></th>\n",
              "      <th>閾值</th>\n",
              "      <th>偽陽性率</th>\n",
              "      <th>靈敏度</th>\n",
              "    </tr>\n",
              "  </thead>\n",
              "  <tbody>\n",
              "    <tr>\n",
              "      <th>21</th>\n",
              "      <td>0.0225</td>\n",
              "      <td>0.6311</td>\n",
              "      <td>0.9853</td>\n",
              "    </tr>\n",
              "  </tbody>\n",
              "</table>\n",
              "</div>\n",
              "      <button class=\"colab-df-convert\" onclick=\"convertToInteractive('df-bb41e3f5-d411-4aa7-8420-f24ed3ed741f')\"\n",
              "              title=\"Convert this dataframe to an interactive table.\"\n",
              "              style=\"display:none;\">\n",
              "        \n",
              "  <svg xmlns=\"http://www.w3.org/2000/svg\" height=\"24px\"viewBox=\"0 0 24 24\"\n",
              "       width=\"24px\">\n",
              "    <path d=\"M0 0h24v24H0V0z\" fill=\"none\"/>\n",
              "    <path d=\"M18.56 5.44l.94 2.06.94-2.06 2.06-.94-2.06-.94-.94-2.06-.94 2.06-2.06.94zm-11 1L8.5 8.5l.94-2.06 2.06-.94-2.06-.94L8.5 2.5l-.94 2.06-2.06.94zm10 10l.94 2.06.94-2.06 2.06-.94-2.06-.94-.94-2.06-.94 2.06-2.06.94z\"/><path d=\"M17.41 7.96l-1.37-1.37c-.4-.4-.92-.59-1.43-.59-.52 0-1.04.2-1.43.59L10.3 9.45l-7.72 7.72c-.78.78-.78 2.05 0 2.83L4 21.41c.39.39.9.59 1.41.59.51 0 1.02-.2 1.41-.59l7.78-7.78 2.81-2.81c.8-.78.8-2.07 0-2.86zM5.41 20L4 18.59l7.72-7.72 1.47 1.35L5.41 20z\"/>\n",
              "  </svg>\n",
              "      </button>\n",
              "      \n",
              "  <style>\n",
              "    .colab-df-container {\n",
              "      display:flex;\n",
              "      flex-wrap:wrap;\n",
              "      gap: 12px;\n",
              "    }\n",
              "\n",
              "    .colab-df-convert {\n",
              "      background-color: #E8F0FE;\n",
              "      border: none;\n",
              "      border-radius: 50%;\n",
              "      cursor: pointer;\n",
              "      display: none;\n",
              "      fill: #1967D2;\n",
              "      height: 32px;\n",
              "      padding: 0 0 0 0;\n",
              "      width: 32px;\n",
              "    }\n",
              "\n",
              "    .colab-df-convert:hover {\n",
              "      background-color: #E2EBFA;\n",
              "      box-shadow: 0px 1px 2px rgba(60, 64, 67, 0.3), 0px 1px 3px 1px rgba(60, 64, 67, 0.15);\n",
              "      fill: #174EA6;\n",
              "    }\n",
              "\n",
              "    [theme=dark] .colab-df-convert {\n",
              "      background-color: #3B4455;\n",
              "      fill: #D2E3FC;\n",
              "    }\n",
              "\n",
              "    [theme=dark] .colab-df-convert:hover {\n",
              "      background-color: #434B5C;\n",
              "      box-shadow: 0px 1px 3px 1px rgba(0, 0, 0, 0.15);\n",
              "      filter: drop-shadow(0px 1px 2px rgba(0, 0, 0, 0.3));\n",
              "      fill: #FFFFFF;\n",
              "    }\n",
              "  </style>\n",
              "\n",
              "      <script>\n",
              "        const buttonEl =\n",
              "          document.querySelector('#df-bb41e3f5-d411-4aa7-8420-f24ed3ed741f button.colab-df-convert');\n",
              "        buttonEl.style.display =\n",
              "          google.colab.kernel.accessAllowed ? 'block' : 'none';\n",
              "\n",
              "        async function convertToInteractive(key) {\n",
              "          const element = document.querySelector('#df-bb41e3f5-d411-4aa7-8420-f24ed3ed741f');\n",
              "          const dataTable =\n",
              "            await google.colab.kernel.invokeFunction('convertToInteractive',\n",
              "                                                     [key], {});\n",
              "          if (!dataTable) return;\n",
              "\n",
              "          const docLinkHtml = 'Like what you see? Visit the ' +\n",
              "            '<a target=\"_blank\" href=https://colab.research.google.com/notebooks/data_table.ipynb>data table notebook</a>'\n",
              "            + ' to learn more about interactive tables.';\n",
              "          element.innerHTML = '';\n",
              "          dataTable['output_type'] = 'display_data';\n",
              "          await google.colab.output.renderOutput(dataTable, element);\n",
              "          const docLink = document.createElement('div');\n",
              "          docLink.innerHTML = docLinkHtml;\n",
              "          element.appendChild(docLink);\n",
              "        }\n",
              "      </script>\n",
              "    </div>\n",
              "  </div>\n",
              "  "
            ],
            "text/plain": [
              "       閾值   偽陽性率    靈敏度\n",
              "21 0.0225 0.6311 0.9853"
            ]
          },
          "metadata": {}
        }
      ]
    },
    {
      "cell_type": "code",
      "metadata": {
        "id": "DAoQrQB0Y7wg",
        "colab": {
          "base_uri": "https://localhost:8080/",
          "height": 416
        },
        "outputId": "cfe39e9d-fcd0-402b-b68b-d6022e145ab3"
      },
      "source": [
        "# 繪製 ROC 曲線\n",
        "\n",
        "# 設定圖形尺寸\n",
        "plt.figure(figsize=(6,6))\n",
        "\n",
        "# 繪製虛線\n",
        "plt.plot([0, 1], [0, 1], 'k--')\n",
        "\n",
        "# 將圖形區域上色\n",
        "plt.fill_between(fpr, tpr, 0)\n",
        "\n",
        "# 指定 x, y 的範圍\n",
        "plt.xlim([0.0, 1.0])\n",
        "plt.ylim([0.0, 1.0])\n",
        "\n",
        "# 顯示標籤與標題\n",
        "plt.xlabel('偽陽性率')\n",
        "plt.ylabel('靈敏度')\n",
        "plt.title('ROC 曲線')\n",
        "plt.show()"
      ],
      "execution_count": 18,
      "outputs": [
        {
          "output_type": "display_data",
          "data": {
            "image/png": "[encoded data removed]",
            "text/plain": [
              "<Figure size 432x432 with 1 Axes>"
            ]
          },
          "metadata": {
            "needs_background": "light"
          }
        }
      ]
    },
    {
      "cell_type": "code",
      "metadata": {
        "id": "SLeeC-m8Y7wi",
        "colab": {
          "base_uri": "https://localhost:8080/"
        },
        "outputId": "6c27bd88-0b1e-4be8-bc8e-13f1363e6895"
      },
      "source": [
        "# 計算 ROC 曲線下面積\n",
        "roc_auc = auc(fpr, tpr)\n",
        "print(f'ROC 曲線下面積 : {roc_auc:.4f}')"
      ],
      "execution_count": 19,
      "outputs": [
        {
          "output_type": "stream",
          "name": "stdout",
          "text": [
            "ROC 曲線下面積 : 0.9522\n"
          ]
        }
      ]
    },
    {
      "cell_type": "markdown",
      "metadata": {
        "id": "BLgzbVcaY7wk"
      },
      "source": [
        "#### 繪製高正確率模型的 ROC 曲線"
      ]
    },
    {
      "cell_type": "code",
      "metadata": {
        "id": "IwwzzLZ_Y7wk"
      },
      "source": [
        "from sklearn.model_selection import train_test_split\n",
        "x_train, x_test, y_train, y_test = train_test_split(\n",
        "  x, y, train_size=0.7, test_size=0.3, random_state=random_seed)\n",
        "algorithm = LogisticRegression()\n",
        "algorithm.fit(x_train, y_train)\n",
        "y_pred = algorithm.predict(x_test)\n",
        "y_proba1 = algorithm.predict_proba(x_test)[:,1]\n",
        "fpr, tpr, thresholds = roc_curve(y_test, y_proba1)"
      ],
      "execution_count": 20,
      "outputs": []
    },
    {
      "cell_type": "code",
      "metadata": {
        "id": "-_iXjXz6Y7wm",
        "colab": {
          "base_uri": "https://localhost:8080/",
          "height": 416
        },
        "outputId": "7a794eb0-bcea-427a-bbb3-c79a195ef618"
      },
      "source": [
        "# 繪製 ROC 曲線\n",
        "\n",
        "plt.figure(figsize=(6,6))\n",
        "plt.plot([0, 1], [0, 1], 'k--')\n",
        "plt.fill_between(fpr, tpr, 0)\n",
        "plt.xlim([0.0, 1.0])\n",
        "plt.ylim([0.0, 1.0])\n",
        "plt.xlabel('偽陽性率')\n",
        "plt.ylabel('敏感度')\n",
        "plt.title('ROC 曲線')\n",
        "plt.show()"
      ],
      "execution_count": 21,
      "outputs": [
        {
          "output_type": "display_data",
          "data": {
            "image/png": "[encoded data removed]",
            "text/plain": [
              "<Figure size 432x432 with 1 Axes>"
            ]
          },
          "metadata": {
            "needs_background": "light"
          }
        }
      ]
    },
    {
      "cell_type": "code",
      "metadata": {
        "id": "od5pt69nY7wo",
        "colab": {
          "base_uri": "https://localhost:8080/"
        },
        "outputId": "68b791de-89b2-4bcf-eaf6-953eddfe8b31"
      },
      "source": [
        "# 計算 ROC 的 AUC\n",
        "roc_auc = auc(fpr, tpr)\n",
        "print(f'ROC 曲線下面積 : {roc_auc:.4f}')"
      ],
      "execution_count": 22,
      "outputs": [
        {
          "output_type": "stream",
          "name": "stdout",
          "text": [
            "ROC 曲線下面積 : 0.9921\n"
          ]
        }
      ]
    },
    {
      "cell_type": "markdown",
      "metadata": {
        "id": "52iRNE1RY7wq"
      },
      "source": [
        "### 4.4.5 輸入項目的重要性"
      ]
    },
    {
      "cell_type": "markdown",
      "metadata": {
        "id": "2j_ov-Y-Y7wq"
      },
      "source": [
        "#### 建立隨機森林的模型"
      ]
    },
    {
      "cell_type": "code",
      "metadata": {
        "id": "pIRGJkZWY7wr",
        "colab": {
          "base_uri": "https://localhost:8080/"
        },
        "outputId": "e0686202-5b5c-40b3-da21-2a823c2e3abb"
      },
      "source": [
        "# 建立隨機森林的模型\n",
        "\n",
        "# 載入範例資料\n",
        "import seaborn as sns\n",
        "df_iris = sns.load_dataset(\"iris\")\n",
        "columns_i = ['萼片長度', '萼片寬度', '花瓣長度', '花瓣寬度', '品種']\n",
        "df_iris.columns = columns_i\n",
        "\n",
        "# 輸入資料 x\n",
        "x = df_iris[['萼片長度', '萼片寬度', '花瓣長度', '花瓣寬度']]\n",
        "\n",
        "# 標準答案 y\n",
        "y = df_iris['品種']\n",
        "\n",
        "# 選擇演算法（隨機森林）\n",
        "from sklearn.ensemble import RandomForestClassifier\n",
        "algorithm = RandomForestClassifier(random_state=random_seed)\n",
        "\n",
        "# 訓練\n",
        "algorithm.fit(x, y)"
      ],
      "execution_count": 23,
      "outputs": [
        {
          "output_type": "execute_result",
          "data": {
            "text/plain": [
              "RandomForestClassifier(random_state=123)"
            ]
          },
          "metadata": {},
          "execution_count": 23
        }
      ]
    },
    {
      "cell_type": "markdown",
      "metadata": {
        "id": "fFd91870Y7wt"
      },
      "source": [
        "#### 取得重要性向量"
      ]
    },
    {
      "cell_type": "code",
      "metadata": {
        "id": "zLFIj4cnY7wu",
        "colab": {
          "base_uri": "https://localhost:8080/"
        },
        "outputId": "6657f522-6cce-4758-c8de-8ced6d34ed00"
      },
      "source": [
        "# 取得重要性向量\n",
        "importances = algorithm.feature_importances_\n",
        "\n",
        "# 以欄位名稱為鍵，生成 Series\n",
        "w = pd.Series(importances, index=x.columns)\n",
        "\n",
        "# 按值的大小排序\n",
        "u = w.sort_values(ascending=False)\n",
        "\n",
        "# 確認結果\n",
        "print(u)"
      ],
      "execution_count": 24,
      "outputs": [
        {
          "output_type": "stream",
          "name": "stdout",
          "text": [
            "花瓣長度   0.4611\n",
            "花瓣寬度   0.4257\n",
            "萼片長度   0.0874\n",
            "萼片寬度   0.0257\n",
            "dtype: float64\n"
          ]
        }
      ]
    },
    {
      "cell_type": "code",
      "metadata": {
        "id": "ThIVs9YgY7ww",
        "colab": {
          "base_uri": "https://localhost:8080/",
          "height": 331
        },
        "outputId": "7834f912-ba02-4679-d3b5-5270b7764a6f"
      },
      "source": [
        "# 將重要性繪製成長條圖\n",
        "\n",
        "# 繪製長條圖\n",
        "plt.bar(range(len(u)), u, color='b', align='center')\n",
        "\n",
        "# 顯示欄位名稱（90 度旋轉）\n",
        "plt.xticks(range(len(u)), u.index, rotation=90)\n",
        "\n",
        "# 顯示標題\n",
        "plt.title('輸入變數的重要性')\n",
        "\n",
        "plt.show()"
      ],
      "execution_count": 25,
      "outputs": [
        {
          "output_type": "display_data",
          "data": {
            "image/png": "[encoded data removed]",
            "text/plain": [
              "<Figure size 432x288 with 1 Axes>"
            ]
          },
          "metadata": {
            "needs_background": "light"
          }
        }
      ]
    },
    {
      "cell_type": "code",
      "metadata": {
        "id": "pJQwt5keY7wy",
        "colab": {
          "base_uri": "https://localhost:8080/",
          "height": 332
        },
        "outputId": "e89b6274-d66a-46f1-ecc9-65b6bc76f4c4"
      },
      "source": [
        "# 使用決策樹時\n",
        "\n",
        "from sklearn.tree import DecisionTreeClassifier\n",
        "algorithm = DecisionTreeClassifier(random_state=random_seed)\n",
        "algorithm.fit(x, y)\n",
        "importances = algorithm.feature_importances_\n",
        "w = pd.Series(importances, index=x.columns)\n",
        "u = w.sort_values(ascending=False)\n",
        "plt.title('輸入變數的重要性(決策樹)')\n",
        "plt.bar(range(len(u)), u, color='b', align='center')\n",
        "plt.xticks(range(len(u)), u.index, rotation=90)\n",
        "plt.show()"
      ],
      "execution_count": 26,
      "outputs": [
        {
          "output_type": "display_data",
          "data": {
            "image/png": "[encoded data removed]",
            "text/plain": [
              "<Figure size 432x288 with 1 Axes>"
            ]
          },
          "metadata": {
            "needs_background": "light"
          }
        }
      ]
    },
    {
      "cell_type": "code",
      "metadata": {
        "id": "vB5_dDA0Y7w1",
        "colab": {
          "base_uri": "https://localhost:8080/",
          "height": 332
        },
        "outputId": "e8dfa49b-b37f-4e2c-8feb-bfbc49a38e92"
      },
      "source": [
        "# 使用 XGBoost 時\n",
        "\n",
        "import xgboost\n",
        "algorithm = xgboost.XGBClassifier(random_state=random_seed)\n",
        "algorithm.fit(x, y)\n",
        "importances = algorithm.feature_importances_\n",
        "w = pd.Series(importances, index=x.columns)\n",
        "u = w.sort_values(ascending=False)\n",
        "plt.title('輸入變數的重要性(XGBoost)')\n",
        "plt.bar(range(len(u)), u, color='b', align='center')\n",
        "plt.xticks(range(len(u)), u.index, rotation=90)\n",
        "plt.show()"
      ],
      "execution_count": 27,
      "outputs": [
        {
          "output_type": "display_data",
          "data": {
            "image/png": "[encoded data removed]",
            "text/plain": [
              "<Figure size 432x288 with 1 Axes>"
            ]
          },
          "metadata": {
            "needs_background": "light"
          }
        }
      ]
    },
    {
      "cell_type": "markdown",
      "metadata": {
        "id": "4I-oP4ImY7w3"
      },
      "source": [
        "### 4.4.6 迴歸模型的評估方式"
      ]
    },
    {
      "cell_type": "code",
      "metadata": {
        "id": "NQ49ttZPY7w3",
        "colab": {
          "base_uri": "https://localhost:8080/",
          "height": 413
        },
        "outputId": "0adcfd2e-695b-40b8-fd11-269e4693a725"
      },
      "source": [
        "# 從載入資料到分割資料為止\n",
        "\n",
        "# 載入資料（波士頓房地產資料集）\n",
        "from sklearn.datasets import load_boston\n",
        "boston = load_boston()\n",
        "\n",
        "# df: 輸入資料\n",
        "df = pd.DataFrame(boston.data, columns=boston.feature_names)\n",
        "\n",
        "# y: 標準答案\n",
        "y = boston.target\n",
        "\n",
        "# 只有　1　個欄位的輸入資料 建立　df1\n",
        "df1 = df[['RM']]\n",
        "\n",
        "# 確認結果\n",
        "display(df.head())\n",
        "display(df1.head())\n",
        "print(y[:5])"
      ],
      "execution_count": 28,
      "outputs": [
        {
          "output_type": "display_data",
          "data": {
            "text/html": [
              "\n",
              "  <div id=\"df-792184a2-ad32-42bc-aaa7-a0008ed15947\">\n",
              "    <div class=\"colab-df-container\">\n",
              "      <div>\n",
              "<style scoped>\n",
              "    .dataframe tbody tr th:only-of-type {\n",
              "        vertical-align: middle;\n",
              "    }\n",
              "\n",
              "    .dataframe tbody tr th {\n",
              "        vertical-align: top;\n",
              "    }\n",
              "\n",
              "    .dataframe thead th {\n",
              "        text-align: right;\n",
              "    }\n",
              "</style>\n",
              "<table border=\"1\" class=\"dataframe\">\n",
              "  <thead>\n",
              "    <tr style=\"text-align: right;\">\n",
              "      <th></th>\n",
              "      <th>CRIM</th>\n",
              "      <th>ZN</th>\n",
              "      <th>INDUS</th>\n",
              "      <th>CHAS</th>\n",
              "      <th>NOX</th>\n",
              "      <th>RM</th>\n",
              "      <th>AGE</th>\n",
              "      <th>DIS</th>\n",
              "      <th>RAD</th>\n",
              "      <th>TAX</th>\n",
              "      <th>PTRATIO</th>\n",
              "      <th>B</th>\n",
              "      <th>LSTAT</th>\n",
              "    </tr>\n",
              "  </thead>\n",
              "  <tbody>\n",
              "    <tr>\n",
              "      <th>0</th>\n",
              "      <td>0.0063</td>\n",
              "      <td>18.0000</td>\n",
              "      <td>2.3100</td>\n",
              "      <td>0.0000</td>\n",
              "      <td>0.5380</td>\n",
              "      <td>6.5750</td>\n",
              "      <td>65.2000</td>\n",
              "      <td>4.0900</td>\n",
              "      <td>1.0000</td>\n",
              "      <td>296.0000</td>\n",
              "      <td>15.3000</td>\n",
              "      <td>396.9000</td>\n",
              "      <td>4.9800</td>\n",
              "    </tr>\n",
              "    <tr>\n",
              "      <th>1</th>\n",
              "      <td>0.0273</td>\n",
              "      <td>0.0000</td>\n",
              "      <td>7.0700</td>\n",
              "      <td>0.0000</td>\n",
              "      <td>0.4690</td>\n",
              "      <td>6.4210</td>\n",
              "      <td>78.9000</td>\n",
              "      <td>4.9671</td>\n",
              "      <td>2.0000</td>\n",
              "      <td>242.0000</td>\n",
              "      <td>17.8000</td>\n",
              "      <td>396.9000</td>\n",
              "      <td>9.1400</td>\n",
              "    </tr>\n",
              "    <tr>\n",
              "      <th>2</th>\n",
              "      <td>0.0273</td>\n",
              "      <td>0.0000</td>\n",
              "      <td>7.0700</td>\n",
              "      <td>0.0000</td>\n",
              "      <td>0.4690</td>\n",
              "      <td>7.1850</td>\n",
              "      <td>61.1000</td>\n",
              "      <td>4.9671</td>\n",
              "      <td>2.0000</td>\n",
              "      <td>242.0000</td>\n",
              "      <td>17.8000</td>\n",
              "      <td>392.8300</td>\n",
              "      <td>4.0300</td>\n",
              "    </tr>\n",
              "    <tr>\n",
              "      <th>3</th>\n",
              "      <td>0.0324</td>\n",
              "      <td>0.0000</td>\n",
              "      <td>2.1800</td>\n",
              "      <td>0.0000</td>\n",
              "      <td>0.4580</td>\n",
              "      <td>6.9980</td>\n",
              "      <td>45.8000</td>\n",
              "      <td>6.0622</td>\n",
              "      <td>3.0000</td>\n",
              "      <td>222.0000</td>\n",
              "      <td>18.7000</td>\n",
              "      <td>394.6300</td>\n",
              "      <td>2.9400</td>\n",
              "    </tr>\n",
              "    <tr>\n",
              "      <th>4</th>\n",
              "      <td>0.0691</td>\n",
              "      <td>0.0000</td>\n",
              "      <td>2.1800</td>\n",
              "      <td>0.0000</td>\n",
              "      <td>0.4580</td>\n",
              "      <td>7.1470</td>\n",
              "      <td>54.2000</td>\n",
              "      <td>6.0622</td>\n",
              "      <td>3.0000</td>\n",
              "      <td>222.0000</td>\n",
              "      <td>18.7000</td>\n",
              "      <td>396.9000</td>\n",
              "      <td>5.3300</td>\n",
              "    </tr>\n",
              "  </tbody>\n",
              "</table>\n",
              "</div>\n",
              "      <button class=\"colab-df-convert\" onclick=\"convertToInteractive('df-792184a2-ad32-42bc-aaa7-a0008ed15947')\"\n",
              "              title=\"Convert this dataframe to an interactive table.\"\n",
              "              style=\"display:none;\">\n",
              "        \n",
              "  <svg xmlns=\"http://www.w3.org/2000/svg\" height=\"24px\"viewBox=\"0 0 24 24\"\n",
              "       width=\"24px\">\n",
              "    <path d=\"M0 0h24v24H0V0z\" fill=\"none\"/>\n",
              "    <path d=\"M18.56 5.44l.94 2.06.94-2.06 2.06-.94-2.06-.94-.94-2.06-.94 2.06-2.06.94zm-11 1L8.5 8.5l.94-2.06 2.06-.94-2.06-.94L8.5 2.5l-.94 2.06-2.06.94zm10 10l.94 2.06.94-2.06 2.06-.94-2.06-.94-.94-2.06-.94 2.06-2.06.94z\"/><path d=\"M17.41 7.96l-1.37-1.37c-.4-.4-.92-.59-1.43-.59-.52 0-1.04.2-1.43.59L10.3 9.45l-7.72 7.72c-.78.78-.78 2.05 0 2.83L4 21.41c.39.39.9.59 1.41.59.51 0 1.02-.2 1.41-.59l7.78-7.78 2.81-2.81c.8-.78.8-2.07 0-2.86zM5.41 20L4 18.59l7.72-7.72 1.47 1.35L5.41 20z\"/>\n",
              "  </svg>\n",
              "      </button>\n",
              "      \n",
              "  <style>\n",
              "    .colab-df-container {\n",
              "      display:flex;\n",
              "      flex-wrap:wrap;\n",
              "      gap: 12px;\n",
              "    }\n",
              "\n",
              "    .colab-df-convert {\n",
              "      background-color: #E8F0FE;\n",
              "      border: none;\n",
              "      border-radius: 50%;\n",
              "      cursor: pointer;\n",
              "      display: none;\n",
              "      fill: #1967D2;\n",
              "      height: 32px;\n",
              "      padding: 0 0 0 0;\n",
              "      width: 32px;\n",
              "    }\n",
              "\n",
              "    .colab-df-convert:hover {\n",
              "      background-color: #E2EBFA;\n",
              "      box-shadow: 0px 1px 2px rgba(60, 64, 67, 0.3), 0px 1px 3px 1px rgba(60, 64, 67, 0.15);\n",
              "      fill: #174EA6;\n",
              "    }\n",
              "\n",
              "    [theme=dark] .colab-df-convert {\n",
              "      background-color: #3B4455;\n",
              "      fill: #D2E3FC;\n",
              "    }\n",
              "\n",
              "    [theme=dark] .colab-df-convert:hover {\n",
              "      background-color: #434B5C;\n",
              "      box-shadow: 0px 1px 3px 1px rgba(0, 0, 0, 0.15);\n",
              "      filter: drop-shadow(0px 1px 2px rgba(0, 0, 0, 0.3));\n",
              "      fill: #FFFFFF;\n",
              "    }\n",
              "  </style>\n",
              "\n",
              "      <script>\n",
              "        const buttonEl =\n",
              "          document.querySelector('#df-792184a2-ad32-42bc-aaa7-a0008ed15947 button.colab-df-convert');\n",
              "        buttonEl.style.display =\n",
              "          google.colab.kernel.accessAllowed ? 'block' : 'none';\n",
              "\n",
              "        async function convertToInteractive(key) {\n",
              "          const element = document.querySelector('#df-792184a2-ad32-42bc-aaa7-a0008ed15947');\n",
              "          const dataTable =\n",
              "            await google.colab.kernel.invokeFunction('convertToInteractive',\n",
              "                                                     [key], {});\n",
              "          if (!dataTable) return;\n",
              "\n",
              "          const docLinkHtml = 'Like what you see? Visit the ' +\n",
              "            '<a target=\"_blank\" href=https://colab.research.google.com/notebooks/data_table.ipynb>data table notebook</a>'\n",
              "            + ' to learn more about interactive tables.';\n",
              "          element.innerHTML = '';\n",
              "          dataTable['output_type'] = 'display_data';\n",
              "          await google.colab.output.renderOutput(dataTable, element);\n",
              "          const docLink = document.createElement('div');\n",
              "          docLink.innerHTML = docLinkHtml;\n",
              "          element.appendChild(docLink);\n",
              "        }\n",
              "      </script>\n",
              "    </div>\n",
              "  </div>\n",
              "  "
            ],
            "text/plain": [
              "    CRIM      ZN  INDUS   CHAS    NOX     RM     AGE    DIS    RAD      TAX  \\\n",
              "0 0.0063 18.0000 2.3100 0.0000 0.5380 6.5750 65.2000 4.0900 1.0000 296.0000   \n",
              "1 0.0273  0.0000 7.0700 0.0000 0.4690 6.4210 78.9000 4.9671 2.0000 242.0000   \n",
              "2 0.0273  0.0000 7.0700 0.0000 0.4690 7.1850 61.1000 4.9671 2.0000 242.0000   \n",
              "3 0.0324  0.0000 2.1800 0.0000 0.4580 6.9980 45.8000 6.0622 3.0000 222.0000   \n",
              "4 0.0691  0.0000 2.1800 0.0000 0.4580 7.1470 54.2000 6.0622 3.0000 222.0000   \n",
              "\n",
              "   PTRATIO        B  LSTAT  \n",
              "0  15.3000 396.9000 4.9800  \n",
              "1  17.8000 396.9000 9.1400  \n",
              "2  17.8000 392.8300 4.0300  \n",
              "3  18.7000 394.6300 2.9400  \n",
              "4  18.7000 396.9000 5.3300  "
            ]
          },
          "metadata": {}
        },
        {
          "output_type": "display_data",
          "data": {
            "text/html": [
              "\n",
              "  <div id=\"df-b8c3e9f2-4916-456b-b0ff-10a7ba17c7ed\">\n",
              "    <div class=\"colab-df-container\">\n",
              "      <div>\n",
              "<style scoped>\n",
              "    .dataframe tbody tr th:only-of-type {\n",
              "        vertical-align: middle;\n",
              "    }\n",
              "\n",
              "    .dataframe tbody tr th {\n",
              "        vertical-align: top;\n",
              "    }\n",
              "\n",
              "    .dataframe thead th {\n",
              "        text-align: right;\n",
              "    }\n",
              "</style>\n",
              "<table border=\"1\" class=\"dataframe\">\n",
              "  <thead>\n",
              "    <tr style=\"text-align: right;\">\n",
              "      <th></th>\n",
              "      <th>RM</th>\n",
              "    </tr>\n",
              "  </thead>\n",
              "  <tbody>\n",
              "    <tr>\n",
              "      <th>0</th>\n",
              "      <td>6.5750</td>\n",
              "    </tr>\n",
              "    <tr>\n",
              "      <th>1</th>\n",
              "      <td>6.4210</td>\n",
              "    </tr>\n",
              "    <tr>\n",
              "      <th>2</th>\n",
              "      <td>7.1850</td>\n",
              "    </tr>\n",
              "    <tr>\n",
              "      <th>3</th>\n",
              "      <td>6.9980</td>\n",
              "    </tr>\n",
              "    <tr>\n",
              "      <th>4</th>\n",
              "      <td>7.1470</td>\n",
              "    </tr>\n",
              "  </tbody>\n",
              "</table>\n",
              "</div>\n",
              "      <button class=\"colab-df-convert\" onclick=\"convertToInteractive('df-b8c3e9f2-4916-456b-b0ff-10a7ba17c7ed')\"\n",
              "              title=\"Convert this dataframe to an interactive table.\"\n",
              "              style=\"display:none;\">\n",
              "        \n",
              "  <svg xmlns=\"http://www.w3.org/2000/svg\" height=\"24px\"viewBox=\"0 0 24 24\"\n",
              "       width=\"24px\">\n",
              "    <path d=\"M0 0h24v24H0V0z\" fill=\"none\"/>\n",
              "    <path d=\"M18.56 5.44l.94 2.06.94-2.06 2.06-.94-2.06-.94-.94-2.06-.94 2.06-2.06.94zm-11 1L8.5 8.5l.94-2.06 2.06-.94-2.06-.94L8.5 2.5l-.94 2.06-2.06.94zm10 10l.94 2.06.94-2.06 2.06-.94-2.06-.94-.94-2.06-.94 2.06-2.06.94z\"/><path d=\"M17.41 7.96l-1.37-1.37c-.4-.4-.92-.59-1.43-.59-.52 0-1.04.2-1.43.59L10.3 9.45l-7.72 7.72c-.78.78-.78 2.05 0 2.83L4 21.41c.39.39.9.59 1.41.59.51 0 1.02-.2 1.41-.59l7.78-7.78 2.81-2.81c.8-.78.8-2.07 0-2.86zM5.41 20L4 18.59l7.72-7.72 1.47 1.35L5.41 20z\"/>\n",
              "  </svg>\n",
              "      </button>\n",
              "      \n",
              "  <style>\n",
              "    .colab-df-container {\n",
              "      display:flex;\n",
              "      flex-wrap:wrap;\n",
              "      gap: 12px;\n",
              "    }\n",
              "\n",
              "    .colab-df-convert {\n",
              "      background-color: #E8F0FE;\n",
              "      border: none;\n",
              "      border-radius: 50%;\n",
              "      cursor: pointer;\n",
              "      display: none;\n",
              "      fill: #1967D2;\n",
              "      height: 32px;\n",
              "      padding: 0 0 0 0;\n",
              "      width: 32px;\n",
              "    }\n",
              "\n",
              "    .colab-df-convert:hover {\n",
              "      background-color: #E2EBFA;\n",
              "      box-shadow: 0px 1px 2px rgba(60, 64, 67, 0.3), 0px 1px 3px 1px rgba(60, 64, 67, 0.15);\n",
              "      fill: #174EA6;\n",
              "    }\n",
              "\n",
              "    [theme=dark] .colab-df-convert {\n",
              "      background-color: #3B4455;\n",
              "      fill: #D2E3FC;\n",
              "    }\n",
              "\n",
              "    [theme=dark] .colab-df-convert:hover {\n",
              "      background-color: #434B5C;\n",
              "      box-shadow: 0px 1px 3px 1px rgba(0, 0, 0, 0.15);\n",
              "      filter: drop-shadow(0px 1px 2px rgba(0, 0, 0, 0.3));\n",
              "      fill: #FFFFFF;\n",
              "    }\n",
              "  </style>\n",
              "\n",
              "      <script>\n",
              "        const buttonEl =\n",
              "          document.querySelector('#df-b8c3e9f2-4916-456b-b0ff-10a7ba17c7ed button.colab-df-convert');\n",
              "        buttonEl.style.display =\n",
              "          google.colab.kernel.accessAllowed ? 'block' : 'none';\n",
              "\n",
              "        async function convertToInteractive(key) {\n",
              "          const element = document.querySelector('#df-b8c3e9f2-4916-456b-b0ff-10a7ba17c7ed');\n",
              "          const dataTable =\n",
              "            await google.colab.kernel.invokeFunction('convertToInteractive',\n",
              "                                                     [key], {});\n",
              "          if (!dataTable) return;\n",
              "\n",
              "          const docLinkHtml = 'Like what you see? Visit the ' +\n",
              "            '<a target=\"_blank\" href=https://colab.research.google.com/notebooks/data_table.ipynb>data table notebook</a>'\n",
              "            + ' to learn more about interactive tables.';\n",
              "          element.innerHTML = '';\n",
              "          dataTable['output_type'] = 'display_data';\n",
              "          await google.colab.output.renderOutput(dataTable, element);\n",
              "          const docLink = document.createElement('div');\n",
              "          docLink.innerHTML = docLinkHtml;\n",
              "          element.appendChild(docLink);\n",
              "        }\n",
              "      </script>\n",
              "    </div>\n",
              "  </div>\n",
              "  "
            ],
            "text/plain": [
              "      RM\n",
              "0 6.5750\n",
              "1 6.4210\n",
              "2 7.1850\n",
              "3 6.9980\n",
              "4 7.1470"
            ]
          },
          "metadata": {}
        },
        {
          "output_type": "stream",
          "name": "stdout",
          "text": [
            "[24.  21.6 34.7 33.4 36.2]\n"
          ]
        }
      ]
    },
    {
      "cell_type": "code",
      "metadata": {
        "id": "vWU4DNDAY7w6"
      },
      "source": [
        "# 從選擇演算法到預測為止\n",
        "\n",
        "# 演算法: XGBRegressor\n",
        "from xgboost import XGBRegressor\n",
        "algorithm1 = XGBRegressor(objective ='reg:squarederror',\n",
        "    random_state=random_seed)\n",
        "\n",
        "# 訓練 (輸入資料使用 df1)\n",
        "algorithm1.fit(df1, y)\n",
        "\n",
        "# 預測\n",
        "y_pred1 = algorithm1.predict(df1)\n",
        "\n",
        "\n",
        "# 演算法: XGBRegressor\n",
        "from xgboost import XGBRegressor\n",
        "algorithm2 = XGBRegressor(objective ='reg:squarederror',\n",
        "    random_state=random_seed)\n",
        "\n",
        "# 訓練 (輸入資料使用 df)\n",
        "algorithm2.fit(df, y)\n",
        "\n",
        "# 預測\n",
        "y_pred2 = algorithm2.predict(df)"
      ],
      "execution_count": 29,
      "outputs": []
    },
    {
      "cell_type": "code",
      "metadata": {
        "id": "zUADzPPcY7w8",
        "colab": {
          "base_uri": "https://localhost:8080/"
        },
        "outputId": "6b7b0235-31e6-4b4c-f42b-cf97727526a5"
      },
      "source": [
        "# 確認結果\n",
        "print(f'y[:5] {y[:5]}')\n",
        "print(f'y_pred1[:5] {y_pred1[:5]}')\n",
        "print(f'y_pred2[:5] {y_pred2[:5]}')"
      ],
      "execution_count": 30,
      "outputs": [
        {
          "output_type": "stream",
          "name": "stdout",
          "text": [
            "y[:5] [24.  21.6 34.7 33.4 36.2]\n",
            "y_pred1[:5] [25.438  20.3028 33.6333 31.4608 33.9829]\n",
            "y_pred2[:5] [26.6479 22.2483 34.0721 34.315  35.4908]\n"
          ]
        }
      ]
    },
    {
      "cell_type": "code",
      "metadata": {
        "id": "8tGDzOi9Y7w-",
        "colab": {
          "base_uri": "https://localhost:8080/"
        },
        "outputId": "7e899f2a-1e75-492a-9e17-19594663ed78"
      },
      "source": [
        "# 計算 y 的最大值與最小值\n",
        "y_range = np.array([y.min(), y.max()])\n",
        "\n",
        "# 確認結果\n",
        "print(y_range)"
      ],
      "execution_count": 31,
      "outputs": [
        {
          "output_type": "stream",
          "name": "stdout",
          "text": [
            "[ 5. 50.]\n"
          ]
        }
      ]
    },
    {
      "cell_type": "markdown",
      "metadata": {
        "id": "v85oxddhY7xA"
      },
      "source": [
        "#### 繪製散佈圖"
      ]
    },
    {
      "cell_type": "markdown",
      "metadata": {
        "id": "_m1wt7U0Y7xA"
      },
      "source": [
        "#### 只有 1 個輸入變數時"
      ]
    },
    {
      "cell_type": "code",
      "metadata": {
        "id": "Ha1tUVzWY7xB",
        "colab": {
          "base_uri": "https://localhost:8080/",
          "height": 416
        },
        "outputId": "56d40305-c55a-4360-e398-245dc23c0ffa"
      },
      "source": [
        "# 利用散佈圖確認結果（1 個輸入變數）\n",
        "\n",
        "# 設定圖形尺寸\n",
        "plt.figure(figsize=(6,6))\n",
        "\n",
        "# 散佈圖\n",
        "plt.scatter(y, y_pred1)\n",
        "\n",
        "# 標準答案 = 預測結果的直線\n",
        "plt.plot(y_range, y_range, 'k--')\n",
        "\n",
        "# 顯示標籤與標題\n",
        "plt.xlabel('標準答案')\n",
        "plt.ylabel('預測結果')\n",
        "plt.title('繪製標準答案與預測結果的散佈圖（1 個輸入變數）')\n",
        "\n",
        "plt.show()"
      ],
      "execution_count": 32,
      "outputs": [
        {
          "output_type": "display_data",
          "data": {
            "image/png": "[encoded data removed]",
            "text/plain": [
              "<Figure size 432x432 with 1 Axes>"
            ]
          },
          "metadata": {
            "needs_background": "light"
          }
        }
      ]
    },
    {
      "cell_type": "markdown",
      "metadata": {
        "id": "leOkv4joY7xD"
      },
      "source": [
        "#### 有 13 個輸入欄位時"
      ]
    },
    {
      "cell_type": "code",
      "metadata": {
        "id": "KXv595XNY7xD",
        "colab": {
          "base_uri": "https://localhost:8080/",
          "height": 416
        },
        "outputId": "e0d0e182-9c46-4e8a-9b3d-d8d5a61af656"
      },
      "source": [
        "# 利用散佈圖確認結果（13 個輸入變數）\n",
        "\n",
        "# 設定圖形尺寸\n",
        "plt.figure(figsize=(6,6))\n",
        "\n",
        "# 散佈圖\n",
        "plt.scatter(y, y_pred2)\n",
        "\n",
        "# 標準答案 = 預測結果的直線\n",
        "plt.plot(y_range, y_range, 'k--')\n",
        "\n",
        "# 顯示標籤與標題\n",
        "plt.xlabel('標準答案')\n",
        "plt.ylabel('預測結果')\n",
        "plt.title('繪製標準答案與預測結果的散佈圖（13 個輸入變數）')\n",
        "\n",
        "plt.show()"
      ],
      "execution_count": 33,
      "outputs": [
        {
          "output_type": "display_data",
          "data": {
            "image/png": "[encoded data removed]",
            "text/plain": [
              "<Figure size 432x432 with 1 Axes>"
            ]
          },
          "metadata": {
            "needs_background": "light"
          }
        }
      ]
    },
    {
      "cell_type": "markdown",
      "metadata": {
        "id": "BfpnuG-aY7xG"
      },
      "source": [
        "#### R2 score"
      ]
    },
    {
      "cell_type": "code",
      "metadata": {
        "id": "fYUF3lGZY7xH",
        "colab": {
          "base_uri": "https://localhost:8080/"
        },
        "outputId": "550d0ed0-36e0-48bb-858b-f7720e9dcfa7"
      },
      "source": [
        "# 計算 r2 分數（1 個輸入變數）\n",
        "from sklearn.metrics import r2_score\n",
        "r2_score1 = r2_score(y, y_pred1)\n",
        "print(f'R2 score(1 個輸入變數) : {r2_score1:.4f}')"
      ],
      "execution_count": 34,
      "outputs": [
        {
          "output_type": "stream",
          "name": "stdout",
          "text": [
            "R2 score(1 個輸入變數) : 0.7424\n"
          ]
        }
      ]
    },
    {
      "cell_type": "code",
      "metadata": {
        "id": "EAb3OG71Y7xJ",
        "colab": {
          "base_uri": "https://localhost:8080/"
        },
        "outputId": "49c80534-732d-4c44-8339-8940692615c0"
      },
      "source": [
        "# 計算 r2 分數（13 個輸入變數）\n",
        "r2_score2 = r2_score(y, y_pred2)\n",
        "print(f'R2 score(13 個輸入變數) : {r2_score2:.4f}')"
      ],
      "execution_count": 35,
      "outputs": [
        {
          "output_type": "stream",
          "name": "stdout",
          "text": [
            "R2 score(13 個輸入變數) : 0.9720\n"
          ]
        }
      ]
    },
    {
      "cell_type": "code",
      "metadata": {
        "id": "OeD_zz0EY7xL"
      },
      "source": [
        ""
      ],
      "execution_count": 35,
      "outputs": []
    }
  ]
}