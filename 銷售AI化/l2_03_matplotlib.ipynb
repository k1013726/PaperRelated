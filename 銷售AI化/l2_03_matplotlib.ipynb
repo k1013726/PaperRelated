{
  "nbformat": 4,
  "nbformat_minor": 0,
  "metadata": {
    "colab": {
      "name": "l2_03_matplotlib.ipynb",
      "provenance": [],
      "collapsed_sections": []
    },
    "kernelspec": {
      "display_name": "Python 3",
      "language": "python",
      "name": "python3"
    },
    "language_info": {
      "codemirror_mode": {
        "name": "ipython",
        "version": 3
      },
      "file_extension": ".py",
      "mimetype": "text/x-python",
      "name": "python",
      "nbconvert_exporter": "python",
      "pygments_lexer": "ipython3",
      "version": "3.7.6"
    }
  },
  "cells": [
    {
      "cell_type": "markdown",
      "metadata": {
        "id": "5IMxZQV61P12"
      },
      "source": [
        "## 講座 2.3　matplotlib 入門"
      ]
    },
    {
      "cell_type": "code",
      "metadata": {
        "id": "CVHsV3PP1P13",
        "colab": {
          "base_uri": "https://localhost:8080/"
        },
        "outputId": "5f19c0b3-90ac-495e-86a5-efbf49ad3fe9"
      },
      "source": [
        "# 取得中文字型\n",
        "!wget 'https://github.com/flyingpath/electron-hand-dicom/raw/master/TaipeiSansTCBeta-Regular.ttf'"
      ],
      "execution_count": 1,
      "outputs": [
        {
          "output_type": "stream",
          "name": "stdout",
          "text": [
            "--2021-12-23 07:49:02--  https://github.com/flyingpath/electron-hand-dicom/raw/master/TaipeiSansTCBeta-Regular.ttf\n",
            "Resolving github.com (github.com)... 140.82.113.4\n",
            "Connecting to github.com (github.com)|140.82.113.4|:443... connected.\n",
            "HTTP request sent, awaiting response... 302 Found\n",
            "Location: https://raw.githubusercontent.com/flyingpath/electron-hand-dicom/master/TaipeiSansTCBeta-Regular.ttf [following]\n",
            "--2021-12-23 07:49:02--  https://raw.githubusercontent.com/flyingpath/electron-hand-dicom/master/TaipeiSansTCBeta-Regular.ttf\n",
            "Resolving raw.githubusercontent.com (raw.githubusercontent.com)... 185.199.108.133, 185.199.109.133, 185.199.110.133, ...\n",
            "Connecting to raw.githubusercontent.com (raw.githubusercontent.com)|185.199.108.133|:443... connected.\n",
            "HTTP request sent, awaiting response... 200 OK\n",
            "Length: 20659344 (20M) [application/octet-stream]\n",
            "Saving to: ‘TaipeiSansTCBeta-Regular.ttf’\n",
            "\n",
            "TaipeiSansTCBeta-Re 100%[===================>]  19.70M  --.-KB/s    in 0.1s    \n",
            "\n",
            "2021-12-23 07:49:03 (177 MB/s) - ‘TaipeiSansTCBeta-Regular.ttf’ saved [20659344/20659344]\n",
            "\n"
          ]
        }
      ]
    },
    {
      "cell_type": "code",
      "metadata": {
        "id": "EeFtwc6P1P18"
      },
      "source": [
        "# 共通事前處理\n",
        "\n",
        "# 隱藏不必要的警告\n",
        "import warnings\n",
        "warnings.filterwarnings('ignore')\n",
        "\n",
        "# 匯入必要的函式庫\n",
        "import pandas as pd\n",
        "import numpy as np\n",
        "import matplotlib.pyplot as plt\n",
        "from matplotlib import font_manager as fm\n",
        "\n",
        "# 將字型新增到 matplotlib\n",
        "fm.fontManager.addfont('./TaipeiSansTCBeta-Regular.ttf')\n",
        "\n",
        "# 用來顯示資料框的函式\n",
        "from IPython.display import display\n",
        "\n",
        "# 指定圖形的預設字體大小\n",
        "plt.rcParams[\"font.size\"] = 14\n",
        "\n",
        "# 指定圖形的預設字型\n",
        "plt.rcParams['font.family'] = 'Taipei Sans TC Beta'"
      ],
      "execution_count": 2,
      "outputs": []
    },
    {
      "cell_type": "markdown",
      "metadata": {
        "id": "u-fIeytl1P1_"
      },
      "source": [
        "### 1. 利用 plt 繪製簡單的圖形"
      ]
    },
    {
      "cell_type": "markdown",
      "metadata": {
        "id": "udaKCL-L1P1_"
      },
      "source": [
        "#### 散佈圖"
      ]
    },
    {
      "cell_type": "code",
      "metadata": {
        "id": "Es-WNkfv1P1_",
        "colab": {
          "base_uri": "https://localhost:8080/",
          "height": 206
        },
        "outputId": "4cabd41c-261a-4b9d-a481-86e4bd5652df"
      },
      "source": [
        "# 準備資料\n",
        "import seaborn as sns\n",
        "df_iris = sns.load_dataset(\"iris\") \n",
        "\n",
        "# 確認結果\n",
        "display(df_iris.head())\n",
        "\n",
        "# 散佈圖 x 座標用 Series\n",
        "xs = df_iris['sepal_length']\n",
        "\n",
        "# 散佈圖 y 座標用陣列 Series\n",
        "ys = df_iris['sepal_width']"
      ],
      "execution_count": 3,
      "outputs": [
        {
          "output_type": "display_data",
          "data": {
            "text/html": [
              "\n",
              "  <div id=\"df-df1bfe09-2d13-4309-9919-429d937d07c1\">\n",
              "    <div class=\"colab-df-container\">\n",
              "      <div>\n",
              "<style scoped>\n",
              "    .dataframe tbody tr th:only-of-type {\n",
              "        vertical-align: middle;\n",
              "    }\n",
              "\n",
              "    .dataframe tbody tr th {\n",
              "        vertical-align: top;\n",
              "    }\n",
              "\n",
              "    .dataframe thead th {\n",
              "        text-align: right;\n",
              "    }\n",
              "</style>\n",
              "<table border=\"1\" class=\"dataframe\">\n",
              "  <thead>\n",
              "    <tr style=\"text-align: right;\">\n",
              "      <th></th>\n",
              "      <th>sepal_length</th>\n",
              "      <th>sepal_width</th>\n",
              "      <th>petal_length</th>\n",
              "      <th>petal_width</th>\n",
              "      <th>species</th>\n",
              "    </tr>\n",
              "  </thead>\n",
              "  <tbody>\n",
              "    <tr>\n",
              "      <th>0</th>\n",
              "      <td>5.1</td>\n",
              "      <td>3.5</td>\n",
              "      <td>1.4</td>\n",
              "      <td>0.2</td>\n",
              "      <td>setosa</td>\n",
              "    </tr>\n",
              "    <tr>\n",
              "      <th>1</th>\n",
              "      <td>4.9</td>\n",
              "      <td>3.0</td>\n",
              "      <td>1.4</td>\n",
              "      <td>0.2</td>\n",
              "      <td>setosa</td>\n",
              "    </tr>\n",
              "    <tr>\n",
              "      <th>2</th>\n",
              "      <td>4.7</td>\n",
              "      <td>3.2</td>\n",
              "      <td>1.3</td>\n",
              "      <td>0.2</td>\n",
              "      <td>setosa</td>\n",
              "    </tr>\n",
              "    <tr>\n",
              "      <th>3</th>\n",
              "      <td>4.6</td>\n",
              "      <td>3.1</td>\n",
              "      <td>1.5</td>\n",
              "      <td>0.2</td>\n",
              "      <td>setosa</td>\n",
              "    </tr>\n",
              "    <tr>\n",
              "      <th>4</th>\n",
              "      <td>5.0</td>\n",
              "      <td>3.6</td>\n",
              "      <td>1.4</td>\n",
              "      <td>0.2</td>\n",
              "      <td>setosa</td>\n",
              "    </tr>\n",
              "  </tbody>\n",
              "</table>\n",
              "</div>\n",
              "      <button class=\"colab-df-convert\" onclick=\"convertToInteractive('df-df1bfe09-2d13-4309-9919-429d937d07c1')\"\n",
              "              title=\"Convert this dataframe to an interactive table.\"\n",
              "              style=\"display:none;\">\n",
              "        \n",
              "  <svg xmlns=\"http://www.w3.org/2000/svg\" height=\"24px\"viewBox=\"0 0 24 24\"\n",
              "       width=\"24px\">\n",
              "    <path d=\"M0 0h24v24H0V0z\" fill=\"none\"/>\n",
              "    <path d=\"M18.56 5.44l.94 2.06.94-2.06 2.06-.94-2.06-.94-.94-2.06-.94 2.06-2.06.94zm-11 1L8.5 8.5l.94-2.06 2.06-.94-2.06-.94L8.5 2.5l-.94 2.06-2.06.94zm10 10l.94 2.06.94-2.06 2.06-.94-2.06-.94-.94-2.06-.94 2.06-2.06.94z\"/><path d=\"M17.41 7.96l-1.37-1.37c-.4-.4-.92-.59-1.43-.59-.52 0-1.04.2-1.43.59L10.3 9.45l-7.72 7.72c-.78.78-.78 2.05 0 2.83L4 21.41c.39.39.9.59 1.41.59.51 0 1.02-.2 1.41-.59l7.78-7.78 2.81-2.81c.8-.78.8-2.07 0-2.86zM5.41 20L4 18.59l7.72-7.72 1.47 1.35L5.41 20z\"/>\n",
              "  </svg>\n",
              "      </button>\n",
              "      \n",
              "  <style>\n",
              "    .colab-df-container {\n",
              "      display:flex;\n",
              "      flex-wrap:wrap;\n",
              "      gap: 12px;\n",
              "    }\n",
              "\n",
              "    .colab-df-convert {\n",
              "      background-color: #E8F0FE;\n",
              "      border: none;\n",
              "      border-radius: 50%;\n",
              "      cursor: pointer;\n",
              "      display: none;\n",
              "      fill: #1967D2;\n",
              "      height: 32px;\n",
              "      padding: 0 0 0 0;\n",
              "      width: 32px;\n",
              "    }\n",
              "\n",
              "    .colab-df-convert:hover {\n",
              "      background-color: #E2EBFA;\n",
              "      box-shadow: 0px 1px 2px rgba(60, 64, 67, 0.3), 0px 1px 3px 1px rgba(60, 64, 67, 0.15);\n",
              "      fill: #174EA6;\n",
              "    }\n",
              "\n",
              "    [theme=dark] .colab-df-convert {\n",
              "      background-color: #3B4455;\n",
              "      fill: #D2E3FC;\n",
              "    }\n",
              "\n",
              "    [theme=dark] .colab-df-convert:hover {\n",
              "      background-color: #434B5C;\n",
              "      box-shadow: 0px 1px 3px 1px rgba(0, 0, 0, 0.15);\n",
              "      filter: drop-shadow(0px 1px 2px rgba(0, 0, 0, 0.3));\n",
              "      fill: #FFFFFF;\n",
              "    }\n",
              "  </style>\n",
              "\n",
              "      <script>\n",
              "        const buttonEl =\n",
              "          document.querySelector('#df-df1bfe09-2d13-4309-9919-429d937d07c1 button.colab-df-convert');\n",
              "        buttonEl.style.display =\n",
              "          google.colab.kernel.accessAllowed ? 'block' : 'none';\n",
              "\n",
              "        async function convertToInteractive(key) {\n",
              "          const element = document.querySelector('#df-df1bfe09-2d13-4309-9919-429d937d07c1');\n",
              "          const dataTable =\n",
              "            await google.colab.kernel.invokeFunction('convertToInteractive',\n",
              "                                                     [key], {});\n",
              "          if (!dataTable) return;\n",
              "\n",
              "          const docLinkHtml = 'Like what you see? Visit the ' +\n",
              "            '<a target=\"_blank\" href=https://colab.research.google.com/notebooks/data_table.ipynb>data table notebook</a>'\n",
              "            + ' to learn more about interactive tables.';\n",
              "          element.innerHTML = '';\n",
              "          dataTable['output_type'] = 'display_data';\n",
              "          await google.colab.output.renderOutput(dataTable, element);\n",
              "          const docLink = document.createElement('div');\n",
              "          docLink.innerHTML = docLinkHtml;\n",
              "          element.appendChild(docLink);\n",
              "        }\n",
              "      </script>\n",
              "    </div>\n",
              "  </div>\n",
              "  "
            ],
            "text/plain": [
              "   sepal_length  sepal_width  petal_length  petal_width species\n",
              "0           5.1          3.5           1.4          0.2  setosa\n",
              "1           4.9          3.0           1.4          0.2  setosa\n",
              "2           4.7          3.2           1.3          0.2  setosa\n",
              "3           4.6          3.1           1.5          0.2  setosa\n",
              "4           5.0          3.6           1.4          0.2  setosa"
            ]
          },
          "metadata": {}
        }
      ]
    },
    {
      "cell_type": "code",
      "metadata": {
        "id": "UGxEsn0X1P2C",
        "colab": {
          "base_uri": "https://localhost:8080/",
          "height": 381
        },
        "outputId": "fb267acd-1777-42c1-d3a7-19ab19016884"
      },
      "source": [
        "# 設定大小\n",
        "plt.rcParams['figure.figsize'] = (6, 6)\n",
        "\n",
        "# 散佈圖\n",
        "plt.scatter(xs, ys)\n",
        "\n",
        "# 顯示圖形\n",
        "plt.show()"
      ],
      "execution_count": 4,
      "outputs": [
        {
          "output_type": "display_data",
          "data": {
            "image/png": "[encoded data removed]",
            "text/plain": [
              "<Figure size 432x432 with 1 Axes>"
            ]
          },
          "metadata": {
            "needs_background": "light"
          }
        }
      ]
    },
    {
      "cell_type": "markdown",
      "metadata": {
        "id": "y7Ahnm431P2F"
      },
      "source": [
        "#### 函數圖形"
      ]
    },
    {
      "cell_type": "code",
      "metadata": {
        "id": "1xx8yyay1P2F"
      },
      "source": [
        "# 準備資料\n",
        "\n",
        "# 定義 sigmoid 函數\n",
        "def sigmoid(x, a):\n",
        "    return 1/(1 + np.exp(-a*x))\n",
        "\n",
        "# 繪製圖形用 x 座標串列\n",
        "xp = np.linspace(-3, 3, 61)"
      ],
      "execution_count": 5,
      "outputs": []
    },
    {
      "cell_type": "markdown",
      "metadata": {
        "id": "nARycg6a1P2K"
      },
      "source": [
        "#### 單純方式的範例"
      ]
    },
    {
      "cell_type": "code",
      "metadata": {
        "id": "ProeQEHq1P2K",
        "colab": {
          "base_uri": "https://localhost:8080/",
          "height": 378
        },
        "outputId": "ccc33432-1943-4a52-b4d8-da8d41c39b1b"
      },
      "source": [
        "# 設定大小\n",
        "plt.rcParams['figure.figsize'] = (6, 6)\n",
        "\n",
        "# 繪製圖形\n",
        "plt.plot(xp, sigmoid(xp, 1.0))\n",
        "\n",
        "# 顯示圖形\n",
        "plt.show()"
      ],
      "execution_count": 6,
      "outputs": [
        {
          "output_type": "display_data",
          "data": {
            "image/png": "[encoded data removed]",
            "text/plain": [
              "<Figure size 432x432 with 1 Axes>"
            ]
          },
          "metadata": {
            "needs_background": "light"
          }
        }
      ]
    },
    {
      "cell_type": "markdown",
      "metadata": {
        "id": "Ksn0T5h71P2O"
      },
      "source": [
        "#### 複雜方式的範例"
      ]
    },
    {
      "cell_type": "code",
      "metadata": {
        "id": "we62RKgU1P2O",
        "colab": {
          "base_uri": "https://localhost:8080/",
          "height": 396
        },
        "outputId": "9dbb785f-bdad-4662-e7a5-3eac38122752"
      },
      "source": [
        "# 設定大小\n",
        "plt.rcParams['figure.figsize'] = (6, 6)\n",
        "\n",
        "# 繪製帶有標籤的圖形 #1\n",
        "plt.plot(xp, sigmoid(xp, 1.0), \n",
        "         label='sigmoid 函數 1', lw=3, c='k')\n",
        "\n",
        "# 繪製帶有標籤的圖形 #2\n",
        "plt.plot(xp, sigmoid(xp, 2.0), \n",
        "         label='sigmoid 函數 2', lw=2, c='b')\n",
        "\n",
        "# 顯示網格\n",
        "plt.grid()\n",
        "\n",
        "# 顯示圖例\n",
        "plt.legend()\n",
        "\n",
        "# 顯示軸\n",
        "plt.xlabel('x 軸')\n",
        "plt.ylabel('y 軸')\n",
        "\n",
        "# 顯示圖形\n",
        "plt.show()"
      ],
      "execution_count": 7,
      "outputs": [
        {
          "output_type": "display_data",
          "data": {
            "image/png": "[encoded data removed]",
            "text/plain": [
              "<Figure size 432x432 with 1 Axes>"
            ]
          },
          "metadata": {
            "needs_background": "light"
          }
        }
      ]
    },
    {
      "cell_type": "markdown",
      "metadata": {
        "id": "uADXcDSU1P2Q"
      },
      "source": [
        "### 2. 利用 fig, ax 繪製複雜的圖形"
      ]
    },
    {
      "cell_type": "markdown",
      "metadata": {
        "id": "XuZXa78I1P2R"
      },
      "source": [
        "#### 時間序列圖"
      ]
    },
    {
      "cell_type": "code",
      "metadata": {
        "id": "Foa8ikej1P2R",
        "colab": {
          "base_uri": "https://localhost:8080/",
          "height": 206
        },
        "outputId": "f080a2b7-33cf-4f8a-dc47-42586a0ced76"
      },
      "source": [
        "# 準備資料\n",
        "\n",
        "# 冰淇淋消費金額\n",
        "df_ice = pd.read_excel('https://github.com/makaishi2\\\n",
        "/sample-data/blob/master/data/ice-sales.xlsx?raw=true', \n",
        "    sheet_name=0)\n",
        "\n",
        "# 確認結果\n",
        "display(df_ice.head())"
      ],
      "execution_count": 8,
      "outputs": [
        {
          "output_type": "display_data",
          "data": {
            "text/html": [
              "\n",
              "  <div id=\"df-81f6b02b-75b6-4dd0-a64f-5dbd5ec0c1a3\">\n",
              "    <div class=\"colab-df-container\">\n",
              "      <div>\n",
              "<style scoped>\n",
              "    .dataframe tbody tr th:only-of-type {\n",
              "        vertical-align: middle;\n",
              "    }\n",
              "\n",
              "    .dataframe tbody tr th {\n",
              "        vertical-align: top;\n",
              "    }\n",
              "\n",
              "    .dataframe thead th {\n",
              "        text-align: right;\n",
              "    }\n",
              "</style>\n",
              "<table border=\"1\" class=\"dataframe\">\n",
              "  <thead>\n",
              "    <tr style=\"text-align: right;\">\n",
              "      <th></th>\n",
              "      <th>年月</th>\n",
              "      <th>支出</th>\n",
              "    </tr>\n",
              "  </thead>\n",
              "  <tbody>\n",
              "    <tr>\n",
              "      <th>0</th>\n",
              "      <td>2015-01-01</td>\n",
              "      <td>401</td>\n",
              "    </tr>\n",
              "    <tr>\n",
              "      <th>1</th>\n",
              "      <td>2015-02-01</td>\n",
              "      <td>345</td>\n",
              "    </tr>\n",
              "    <tr>\n",
              "      <th>2</th>\n",
              "      <td>2015-03-01</td>\n",
              "      <td>480</td>\n",
              "    </tr>\n",
              "    <tr>\n",
              "      <th>3</th>\n",
              "      <td>2015-04-01</td>\n",
              "      <td>590</td>\n",
              "    </tr>\n",
              "    <tr>\n",
              "      <th>4</th>\n",
              "      <td>2015-05-01</td>\n",
              "      <td>928</td>\n",
              "    </tr>\n",
              "  </tbody>\n",
              "</table>\n",
              "</div>\n",
              "      <button class=\"colab-df-convert\" onclick=\"convertToInteractive('df-81f6b02b-75b6-4dd0-a64f-5dbd5ec0c1a3')\"\n",
              "              title=\"Convert this dataframe to an interactive table.\"\n",
              "              style=\"display:none;\">\n",
              "        \n",
              "  <svg xmlns=\"http://www.w3.org/2000/svg\" height=\"24px\"viewBox=\"0 0 24 24\"\n",
              "       width=\"24px\">\n",
              "    <path d=\"M0 0h24v24H0V0z\" fill=\"none\"/>\n",
              "    <path d=\"M18.56 5.44l.94 2.06.94-2.06 2.06-.94-2.06-.94-.94-2.06-.94 2.06-2.06.94zm-11 1L8.5 8.5l.94-2.06 2.06-.94-2.06-.94L8.5 2.5l-.94 2.06-2.06.94zm10 10l.94 2.06.94-2.06 2.06-.94-2.06-.94-.94-2.06-.94 2.06-2.06.94z\"/><path d=\"M17.41 7.96l-1.37-1.37c-.4-.4-.92-.59-1.43-.59-.52 0-1.04.2-1.43.59L10.3 9.45l-7.72 7.72c-.78.78-.78 2.05 0 2.83L4 21.41c.39.39.9.59 1.41.59.51 0 1.02-.2 1.41-.59l7.78-7.78 2.81-2.81c.8-.78.8-2.07 0-2.86zM5.41 20L4 18.59l7.72-7.72 1.47 1.35L5.41 20z\"/>\n",
              "  </svg>\n",
              "      </button>\n",
              "      \n",
              "  <style>\n",
              "    .colab-df-container {\n",
              "      display:flex;\n",
              "      flex-wrap:wrap;\n",
              "      gap: 12px;\n",
              "    }\n",
              "\n",
              "    .colab-df-convert {\n",
              "      background-color: #E8F0FE;\n",
              "      border: none;\n",
              "      border-radius: 50%;\n",
              "      cursor: pointer;\n",
              "      display: none;\n",
              "      fill: #1967D2;\n",
              "      height: 32px;\n",
              "      padding: 0 0 0 0;\n",
              "      width: 32px;\n",
              "    }\n",
              "\n",
              "    .colab-df-convert:hover {\n",
              "      background-color: #E2EBFA;\n",
              "      box-shadow: 0px 1px 2px rgba(60, 64, 67, 0.3), 0px 1px 3px 1px rgba(60, 64, 67, 0.15);\n",
              "      fill: #174EA6;\n",
              "    }\n",
              "\n",
              "    [theme=dark] .colab-df-convert {\n",
              "      background-color: #3B4455;\n",
              "      fill: #D2E3FC;\n",
              "    }\n",
              "\n",
              "    [theme=dark] .colab-df-convert:hover {\n",
              "      background-color: #434B5C;\n",
              "      box-shadow: 0px 1px 3px 1px rgba(0, 0, 0, 0.15);\n",
              "      filter: drop-shadow(0px 1px 2px rgba(0, 0, 0, 0.3));\n",
              "      fill: #FFFFFF;\n",
              "    }\n",
              "  </style>\n",
              "\n",
              "      <script>\n",
              "        const buttonEl =\n",
              "          document.querySelector('#df-81f6b02b-75b6-4dd0-a64f-5dbd5ec0c1a3 button.colab-df-convert');\n",
              "        buttonEl.style.display =\n",
              "          google.colab.kernel.accessAllowed ? 'block' : 'none';\n",
              "\n",
              "        async function convertToInteractive(key) {\n",
              "          const element = document.querySelector('#df-81f6b02b-75b6-4dd0-a64f-5dbd5ec0c1a3');\n",
              "          const dataTable =\n",
              "            await google.colab.kernel.invokeFunction('convertToInteractive',\n",
              "                                                     [key], {});\n",
              "          if (!dataTable) return;\n",
              "\n",
              "          const docLinkHtml = 'Like what you see? Visit the ' +\n",
              "            '<a target=\"_blank\" href=https://colab.research.google.com/notebooks/data_table.ipynb>data table notebook</a>'\n",
              "            + ' to learn more about interactive tables.';\n",
              "          element.innerHTML = '';\n",
              "          dataTable['output_type'] = 'display_data';\n",
              "          await google.colab.output.renderOutput(dataTable, element);\n",
              "          const docLink = document.createElement('div');\n",
              "          docLink.innerHTML = docLinkHtml;\n",
              "          element.appendChild(docLink);\n",
              "        }\n",
              "      </script>\n",
              "    </div>\n",
              "  </div>\n",
              "  "
            ],
            "text/plain": [
              "          年月   支出\n",
              "0 2015-01-01  401\n",
              "1 2015-02-01  345\n",
              "2 2015-03-01  480\n",
              "3 2015-04-01  590\n",
              "4 2015-05-01  928"
            ]
          },
          "metadata": {}
        }
      ]
    },
    {
      "cell_type": "code",
      "metadata": {
        "id": "VegbZxD71P2U",
        "colab": {
          "base_uri": "https://localhost:8080/",
          "height": 307
        },
        "outputId": "27a71232-262a-4ecf-954f-31753965ab43"
      },
      "source": [
        "# 取得變數 ax\n",
        "# 同時也指定大小\n",
        "fig, ax = plt.subplots(figsize=(12, 4))\n",
        "\n",
        "# 繪製圖形\n",
        "ax.plot(df_ice['年月'], df_ice['支出'], c='b')\n",
        "\n",
        "# 日期設定用函式庫\n",
        "import matplotlib.dates as mdates\n",
        "\n",
        "# 設定刻度間隔為 3 個月\n",
        "days = mdates.MonthLocator(bymonth=range(1,13,3))\n",
        "ax.xaxis.set_major_locator(days)\n",
        "\n",
        "# 將 x 軸標籤旋轉 90 度\n",
        "ax.tick_params(axis='x', rotation=90)\n",
        "\n",
        "# 顯示網格\n",
        "ax.grid()\n",
        "\n",
        "# 顯示圖形\n",
        "plt.show()"
      ],
      "execution_count": 9,
      "outputs": [
        {
          "output_type": "display_data",
          "data": {
            "image/png": "[encoded data removed]",
            "text/plain": [
              "<Figure size 864x288 with 1 Axes>"
            ]
          },
          "metadata": {
            "needs_background": "light"
          }
        }
      ]
    },
    {
      "cell_type": "markdown",
      "metadata": {
        "id": "pXY-prC71P2W"
      },
      "source": [
        "### 3. 利用 subplot 同時繪製多個圖形"
      ]
    },
    {
      "cell_type": "markdown",
      "metadata": {
        "id": "6r1lXoP71P2W"
      },
      "source": [
        "#### 同時繪製多個圖形"
      ]
    },
    {
      "cell_type": "code",
      "metadata": {
        "id": "jEPCWTgQ1P2X"
      },
      "source": [
        "# 準備資料\n",
        "\n",
        "# 手寫數字資料\n",
        "# 請注意，這會需要花點時間\n",
        "from sklearn.datasets import fetch_openml\n",
        "mnist = fetch_openml('mnist_784', version=1, as_frame=False)\n",
        "\n",
        "# 影像資料\n",
        "image = mnist.data\n",
        "# 標準答案\n",
        "label = mnist.target"
      ],
      "execution_count": 23,
      "outputs": []
    },
    {
      "cell_type": "code",
      "metadata": {
        "id": "n8IJVncG1P2Z",
        "colab": {
          "base_uri": "https://localhost:8080/",
          "height": 202
        },
        "outputId": "39deefe5-6468-4500-fe27-b2f1b0789d1e"
      },
      "source": [
        "# 指定大小\n",
        "plt.figure(figsize=(10, 3))\n",
        "\n",
        "# 繪製 20 張影像\n",
        "for i in range(20): \n",
        "    \n",
        "    # 取得第 i 個 ax 變數\n",
        "    ax = plt.subplot(2, 10, i+1)\n",
        "    \n",
        "    # 取得第 i 筆影像資料並轉換成 28x28\n",
        "    img = image[i].reshape(28,28)\n",
        "    \n",
        "    # 繪製出 img 的影像\n",
        "    ax.imshow(img, cmap='gray_r')\n",
        "    \n",
        "    # 在標題中顯示標準答案\n",
        "    ax.set_title(label[i])\n",
        "    \n",
        "    # 隱藏 x, y 的刻度\n",
        "    ax.set_xticks([])\n",
        "    ax.set_yticks([])\n",
        "    \n",
        "# 避免與相鄰物件重疊\n",
        "plt.tight_layout()\n",
        "\n",
        "# 顯示圖形\n",
        "plt.show() "
      ],
      "execution_count": 25,
      "outputs": [
        {
          "output_type": "display_data",
          "data": {
            "image/png": "[encoded data removed]",
            "text/plain": [
              "<Figure size 720x216 with 20 Axes>"
            ]
          },
          "metadata": {}
        }
      ]
    },
    {
      "cell_type": "markdown",
      "metadata": {
        "id": "FgbdWcye1P2d"
      },
      "source": [
        "### 4. 利用資料框繪製圖形"
      ]
    },
    {
      "cell_type": "markdown",
      "metadata": {
        "id": "tbhlYkiR1P2d"
      },
      "source": [
        "#### 繪製直方圖"
      ]
    },
    {
      "cell_type": "code",
      "metadata": {
        "id": "llxQ_15C1P2d",
        "colab": {
          "base_uri": "https://localhost:8080/",
          "height": 507
        },
        "outputId": "95b2b0b0-22cc-4166-ae2d-7cb360eb9411"
      },
      "source": [
        "# 繪製直方圖\n",
        "\n",
        "# 設定大小\n",
        "plt.rcParams['figure.figsize'] = (8, 8)\n",
        "\n",
        "# 直方圖\n",
        "df_iris.hist()\n",
        "\n",
        "# 顯示\n",
        "plt.show()"
      ],
      "execution_count": 26,
      "outputs": [
        {
          "output_type": "display_data",
          "data": {
            "image/png": "[encoded data removed]",
            "text/plain": [
              "<Figure size 576x576 with 4 Axes>"
            ]
          },
          "metadata": {
            "needs_background": "light"
          }
        }
      ]
    },
    {
      "cell_type": "markdown",
      "metadata": {
        "id": "lhnKj6rw1P2g"
      },
      "source": [
        "#### 利用 value_counts 的結果繪製長條圖"
      ]
    },
    {
      "cell_type": "code",
      "metadata": {
        "id": "FDWruZXR1P2g",
        "colab": {
          "base_uri": "https://localhost:8080/"
        },
        "outputId": "1417f35a-26dd-4635-c6c4-36d343fa77b7"
      },
      "source": [
        "# 準備資料\n",
        "\n",
        "# 統計 df_iris['sepal_width'] 中各值的數量，並取得數量最多的前 5 種\n",
        "counts_ser = df_iris['sepal_width'].value_counts().iloc[:5]\n",
        "\n",
        "# 確認結果\n",
        "print(counts_ser)"
      ],
      "execution_count": 27,
      "outputs": [
        {
          "output_type": "stream",
          "name": "stdout",
          "text": [
            "3.0    26\n",
            "2.8    14\n",
            "3.2    13\n",
            "3.4    12\n",
            "3.1    11\n",
            "Name: sepal_width, dtype: int64\n"
          ]
        }
      ]
    },
    {
      "cell_type": "code",
      "metadata": {
        "id": "hDs643RN1P2i",
        "colab": {
          "base_uri": "https://localhost:8080/",
          "height": 275
        },
        "outputId": "461c6453-5c69-46c7-d6a1-ab5f77da8cb9"
      },
      "source": [
        "# 利用 value_counts 的結果繪製長條圖\n",
        "\n",
        "# 設定大小\n",
        "plt.rcParams['figure.figsize'] = (4, 4)\n",
        "\n",
        "# 利用 Series 資料繪製長條圖\n",
        "counts_ser.plot(kind='bar')\n",
        "\n",
        "# 顯⽰圖形\n",
        "plt.show()"
      ],
      "execution_count": 28,
      "outputs": [
        {
          "output_type": "display_data",
          "data": {
            "image/png": "[encoded data removed]",
            "text/plain": [
              "<Figure size 288x288 with 1 Axes>"
            ]
          },
          "metadata": {
            "needs_background": "light"
          }
        }
      ]
    },
    {
      "cell_type": "code",
      "metadata": {
        "id": "IkouPeL-1P2k"
      },
      "source": [
        ""
      ],
      "execution_count": 28,
      "outputs": []
    }
  ]
}