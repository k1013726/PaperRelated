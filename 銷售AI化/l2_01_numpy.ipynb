{
  "nbformat": 4,
  "nbformat_minor": 0,
  "metadata": {
    "kernelspec": {
      "display_name": "Python 3",
      "language": "python",
      "name": "python3"
    },
    "language_info": {
      "codemirror_mode": {
        "name": "ipython",
        "version": 3
      },
      "file_extension": ".py",
      "mimetype": "text/x-python",
      "name": "python",
      "nbconvert_exporter": "python",
      "pygments_lexer": "ipython3",
      "version": "3.7.6"
    },
    "colab": {
      "name": "l2_01_numpy.ipynb",
      "provenance": [],
      "collapsed_sections": []
    }
  },
  "cells": [
    {
      "cell_type": "markdown",
      "metadata": {
        "id": "D9OUS1EApSsM"
      },
      "source": [
        "## 講座2.1 Numpy入門"
      ]
    },
    {
      "cell_type": "markdown",
      "metadata": {
        "id": "gMYkWVJVpSsO"
      },
      "source": [
        "### NumPy 的定義"
      ]
    },
    {
      "cell_type": "markdown",
      "metadata": {
        "id": "1BD0LKLJpSsP"
      },
      "source": [
        "#### 匯入套件"
      ]
    },
    {
      "cell_type": "code",
      "metadata": {
        "id": "qVyAMOdMpSsQ"
      },
      "source": [
        "# 匯入套件\n",
        "import numpy as np\n",
        "\n",
        "# numpy 的浮點數表示精度, 小數第 4 位\n",
        "np.set_printoptions(suppress=True, precision=4)"
      ],
      "execution_count": 1,
      "outputs": []
    },
    {
      "cell_type": "markdown",
      "metadata": {
        "id": "Zl0TMtPMpSsR"
      },
      "source": [
        "#### 定義 NumPy 資料"
      ]
    },
    {
      "cell_type": "code",
      "metadata": {
        "id": "jefkBNf7pSsR"
      },
      "source": [
        "# 定義 NumPy 資料\n",
        "\n",
        "# 定義 1D 陣列變數\n",
        "a = np.array([1, 2, 3, 4, 5, 6, 7])\n",
        "\n",
        "# 定義 2D 陣列變數\n",
        "b = np.array([[1, 2, 3], [4, 5, 6], [7, 8, 9],[10,11,12]])"
      ],
      "execution_count": 2,
      "outputs": []
    },
    {
      "cell_type": "markdown",
      "metadata": {
        "id": "sQW2Z6LxpSsR"
      },
      "source": [
        "#### 顯示內容"
      ]
    },
    {
      "cell_type": "code",
      "metadata": {
        "id": "dpXElnXYpSsS",
        "colab": {
          "base_uri": "https://localhost:8080/"
        },
        "outputId": "280f1ed7-be16-4d33-c81f-c3eb029c8fce"
      },
      "source": [
        "# 顯示內容\n",
        "\n",
        "# 顯示 1D 陣列變數\n",
        "print(a)\n",
        "\n",
        "# 顯示 2D 陣列變數\n",
        "print(b)"
      ],
      "execution_count": 3,
      "outputs": [
        {
          "output_type": "stream",
          "name": "stdout",
          "text": [
            "[1 2 3 4 5 6 7]\n",
            "[[ 1  2  3]\n",
            " [ 4  5  6]\n",
            " [ 7  8  9]\n",
            " [10 11 12]]\n"
          ]
        }
      ]
    },
    {
      "cell_type": "markdown",
      "metadata": {
        "id": "DvY40gdnpSsS"
      },
      "source": [
        "#### 確認元素數量"
      ]
    },
    {
      "cell_type": "code",
      "metadata": {
        "id": "vZEE9GDvpSsT",
        "colab": {
          "base_uri": "https://localhost:8080/"
        },
        "outputId": "35eebf98-1986-45ed-fb17-1d30e7c834c1"
      },
      "source": [
        "# 確認元素數量\n",
        "\n",
        "# 顯示 1D 陣列變數\n",
        "print(a.shape)\n",
        "\n",
        "# 顯示 2D 陣列變數\n",
        "print(b.shape)\n",
        "\n",
        "# 利用 len 函式\n",
        "print(len(a))\n",
        "print(len(b))"
      ],
      "execution_count": 4,
      "outputs": [
        {
          "output_type": "stream",
          "name": "stdout",
          "text": [
            "(7,)\n",
            "(4, 3)\n",
            "7\n",
            "4\n"
          ]
        }
      ]
    },
    {
      "cell_type": "markdown",
      "metadata": {
        "id": "o53I1kjDpSsT"
      },
      "source": [
        "### NumPy 的操作"
      ]
    },
    {
      "cell_type": "markdown",
      "metadata": {
        "id": "jIat-hNwpSsT"
      },
      "source": [
        "#### 提取特定行"
      ]
    },
    {
      "cell_type": "code",
      "metadata": {
        "id": "QmXPKKaQpSsU",
        "colab": {
          "base_uri": "https://localhost:8080/"
        },
        "outputId": "d1dd710f-c381-48b0-9224-41fa488703a1"
      },
      "source": [
        "# 提取特定行\n",
        "\n",
        "# 0 行\n",
        "c = b[:,0]\n",
        "print(c)\n",
        "\n",
        "# [0,1] 行\n",
        "d = b[:,:2]\n",
        "print(d)"
      ],
      "execution_count": 5,
      "outputs": [
        {
          "output_type": "stream",
          "name": "stdout",
          "text": [
            "[ 1  4  7 10]\n",
            "[[ 1  2]\n",
            " [ 4  5]\n",
            " [ 7  8]\n",
            " [10 11]]\n"
          ]
        }
      ]
    },
    {
      "cell_type": "markdown",
      "metadata": {
        "id": "PgcZFN5CpSsU"
      },
      "source": [
        "#### reshape 函式"
      ]
    },
    {
      "cell_type": "code",
      "metadata": {
        "id": "g_zn1SX2pSsU",
        "colab": {
          "base_uri": "https://localhost:8080/"
        },
        "outputId": "29411632-5ce5-49e1-e304-92364cecfbab"
      },
      "source": [
        "# reshape 函式\n",
        "\n",
        "l = np.array(range(12))\n",
        "print(l)\n",
        "\n",
        "# 轉換成 3 列 4 行\n",
        "m = l.reshape((3,4))\n",
        "print(m)"
      ],
      "execution_count": 6,
      "outputs": [
        {
          "output_type": "stream",
          "name": "stdout",
          "text": [
            "[ 0  1  2  3  4  5  6  7  8  9 10 11]\n",
            "[[ 0  1  2  3]\n",
            " [ 4  5  6  7]\n",
            " [ 8  9 10 11]]\n"
          ]
        }
      ]
    },
    {
      "cell_type": "markdown",
      "metadata": {
        "id": "AAgdP4f3pSsU"
      },
      "source": [
        "#### 統計函式"
      ]
    },
    {
      "cell_type": "code",
      "metadata": {
        "id": "sFyBX83rpSsV",
        "colab": {
          "base_uri": "https://localhost:8080/"
        },
        "outputId": "a35ea038-6dec-470e-aa9b-5773b7d4e119"
      },
      "source": [
        "# 統計函式\n",
        "\n",
        "print(f'原始變數: {a}')\n",
        "\n",
        "a_sum = np.sum(a)\n",
        "print(f'總和: {a_sum}')\n",
        "\n",
        "a_mean = np.mean(a)\n",
        "print(f'平均值: {a_mean}')\n",
        "\n",
        "a_max = np.max(a)\n",
        "print(f'最大值: {a_max}')\n",
        "\n",
        "a_min = a.min()\n",
        "print(f'最小值: {a_min}')"
      ],
      "execution_count": 7,
      "outputs": [
        {
          "output_type": "stream",
          "name": "stdout",
          "text": [
            "原始變數: [1 2 3 4 5 6 7]\n",
            "總和: 28\n",
            "平均值: 4.0\n",
            "最大值: 7\n",
            "最小值: 1\n"
          ]
        }
      ]
    },
    {
      "cell_type": "markdown",
      "metadata": {
        "id": "FQOGzqJqpSsV"
      },
      "source": [
        "#### NumPy 變數之間的計算"
      ]
    },
    {
      "cell_type": "code",
      "metadata": {
        "id": "VgD2uz9SpSsV",
        "colab": {
          "base_uri": "https://localhost:8080/"
        },
        "outputId": "fca1f1cd-613d-4424-f8b3-0735d2409851"
      },
      "source": [
        "# 準備 2 個 NumPy 陣列 yt 與 yp\n",
        "yt = np.array([1, 1, 0, 1, 0, 1, 1, 0, 1, 1])\n",
        "yp = np.array([1, 1, 0, 1, 0, 1, 1, 1, 1, 1])\n",
        "print(yt)\n",
        "print(yp)"
      ],
      "execution_count": 8,
      "outputs": [
        {
          "output_type": "stream",
          "name": "stdout",
          "text": [
            "[1 1 0 1 0 1 1 0 1 1]\n",
            "[1 1 0 1 0 1 1 1 1 1]\n"
          ]
        }
      ]
    },
    {
      "cell_type": "code",
      "metadata": {
        "id": "dv9sG6CwpSsV",
        "colab": {
          "base_uri": "https://localhost:8080/"
        },
        "outputId": "e2d2bfc0-e394-4c44-d07f-847569553bd7"
      },
      "source": [
        "# 同時比較陣列中各元素\n",
        "w = (yt == yp)\n",
        "print(w)"
      ],
      "execution_count": 9,
      "outputs": [
        {
          "output_type": "stream",
          "name": "stdout",
          "text": [
            "[ True  True  True  True  True  True  True False  True  True]\n"
          ]
        }
      ]
    },
    {
      "cell_type": "code",
      "metadata": {
        "id": "TRsZhHNZpSsV",
        "colab": {
          "base_uri": "https://localhost:8080/"
        },
        "outputId": "37da4157-81ea-4f3f-ce5a-c517ac6aec96"
      },
      "source": [
        "# 再將此結果代入 sum 函式中\n",
        "print(w.sum())"
      ],
      "execution_count": 10,
      "outputs": [
        {
          "output_type": "stream",
          "name": "stdout",
          "text": [
            "9\n"
          ]
        }
      ]
    },
    {
      "cell_type": "markdown",
      "metadata": {
        "id": "0dP2Kyr5pSsV"
      },
      "source": [
        "#### 廣播功能"
      ]
    },
    {
      "cell_type": "code",
      "metadata": {
        "id": "wid1Y7_XpSsV",
        "colab": {
          "base_uri": "https://localhost:8080/"
        },
        "outputId": "bd0aeb14-09f4-4c8c-db02-af433d955788"
      },
      "source": [
        "# 廣播功能\n",
        "print(a)\n",
        "c = (a - np.min(a)) / (np.max(a) - np.min(a))\n",
        "print(c)"
      ],
      "execution_count": 11,
      "outputs": [
        {
          "output_type": "stream",
          "name": "stdout",
          "text": [
            "[1 2 3 4 5 6 7]\n",
            "[0.     0.1667 0.3333 0.5    0.6667 0.8333 1.    ]\n"
          ]
        }
      ]
    },
    {
      "cell_type": "markdown",
      "metadata": {
        "id": "8GRH00P_pSsW"
      },
      "source": [
        "#### 生成數值陣列"
      ]
    },
    {
      "cell_type": "code",
      "metadata": {
        "id": "wensjds6pSsW",
        "colab": {
          "base_uri": "https://localhost:8080/"
        },
        "outputId": "6e0e40c0-8910-4237-d5bf-2631ff6a562b"
      },
      "source": [
        "# 生成數值陣列\n",
        "x = np.linspace(-5, 5, 11)\n",
        "print(x)"
      ],
      "execution_count": 12,
      "outputs": [
        {
          "output_type": "stream",
          "name": "stdout",
          "text": [
            "[-5. -4. -3. -2. -1.  0.  1.  2.  3.  4.  5.]\n"
          ]
        }
      ]
    },
    {
      "cell_type": "code",
      "metadata": {
        "id": "vGvdEAI0pSsW"
      },
      "source": [
        ""
      ],
      "execution_count": 12,
      "outputs": []
    }
  ]
}