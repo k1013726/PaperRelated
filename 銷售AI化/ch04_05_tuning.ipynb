{
  "nbformat": 4,
  "nbformat_minor": 0,
  "metadata": {
    "colab": {
      "name": "ch04_05_tuning.ipynb",
      "provenance": [],
      "collapsed_sections": []
    },
    "kernelspec": {
      "display_name": "Python 3",
      "language": "python",
      "name": "python3"
    },
    "language_info": {
      "codemirror_mode": {
        "name": "ipython",
        "version": 3
      },
      "file_extension": ".py",
      "mimetype": "text/x-python",
      "name": "python",
      "nbconvert_exporter": "python",
      "pygments_lexer": "ipython3",
      "version": "3.7.6"
    }
  },
  "cells": [
    {
      "cell_type": "markdown",
      "metadata": {
        "id": "vI0fsjVO6AFQ"
      },
      "source": [
        "## 4.5 調整"
      ]
    },
    {
      "cell_type": "markdown",
      "metadata": {
        "id": "3IGVWl9A6AFR"
      },
      "source": [
        "### 共通事前處理"
      ]
    },
    {
      "cell_type": "code",
      "metadata": {
        "colab": {
          "base_uri": "https://localhost:8080/"
        },
        "id": "UgT4X9sQ6AFR",
        "outputId": "15566a25-3adf-4403-e82e-23ede764a4eb"
      },
      "source": [
        "# 取得中文字型\n",
        "!wget 'https://github.com/flyingpath/electron-hand-dicom/raw/master/TaipeiSansTCBeta-Regular.ttf'"
      ],
      "execution_count": 1,
      "outputs": [
        {
          "output_type": "stream",
          "name": "stdout",
          "text": [
            "--2021-12-24 02:05:07--  https://github.com/flyingpath/electron-hand-dicom/raw/master/TaipeiSansTCBeta-Regular.ttf\n",
            "Resolving github.com (github.com)... 140.82.121.4\n",
            "Connecting to github.com (github.com)|140.82.121.4|:443... connected.\n",
            "HTTP request sent, awaiting response... 302 Found\n",
            "Location: https://raw.githubusercontent.com/flyingpath/electron-hand-dicom/master/TaipeiSansTCBeta-Regular.ttf [following]\n",
            "--2021-12-24 02:05:08--  https://raw.githubusercontent.com/flyingpath/electron-hand-dicom/master/TaipeiSansTCBeta-Regular.ttf\n",
            "Resolving raw.githubusercontent.com (raw.githubusercontent.com)... 185.199.108.133, 185.199.109.133, 185.199.110.133, ...\n",
            "Connecting to raw.githubusercontent.com (raw.githubusercontent.com)|185.199.108.133|:443... connected.\n",
            "HTTP request sent, awaiting response... 200 OK\n",
            "Length: 20659344 (20M) [application/octet-stream]\n",
            "Saving to: ‘TaipeiSansTCBeta-Regular.ttf’\n",
            "\n",
            "TaipeiSansTCBeta-Re 100%[===================>]  19.70M  --.-KB/s    in 0.07s   \n",
            "\n",
            "2021-12-24 02:05:09 (282 MB/s) - ‘TaipeiSansTCBeta-Regular.ttf’ saved [20659344/20659344]\n",
            "\n"
          ]
        }
      ]
    },
    {
      "cell_type": "code",
      "metadata": {
        "id": "fz7RoOHl6AFV"
      },
      "source": [
        "# 共通事前處理\n",
        "\n",
        "# 隱藏不必要的警告\n",
        "import warnings\n",
        "warnings.filterwarnings('ignore')\n",
        "\n",
        "# 匯入必要的套件\n",
        "import pandas as pd\n",
        "import numpy as np\n",
        "import matplotlib.pyplot as plt\n",
        "from matplotlib import font_manager as fm\n",
        "\n",
        "# 將字型新增到 matplotlib\n",
        "fm.fontManager.addfont('./TaipeiSansTCBeta-Regular.ttf')\n",
        "\n",
        "# 用來顯示資料框的函式\n",
        "from IPython.display import display\n",
        "\n",
        "# 調整顯示選項\n",
        "# NumPy 的浮點數表示精度\n",
        "np.set_printoptions(suppress=True, precision=4)\n",
        "# pandas 中的浮點數表示精度\n",
        "pd.options.display.float_format = '{:.4f}'.format\n",
        "# 顯示資料框中的所有項目\n",
        "pd.set_option(\"display.max_columns\",None)\n",
        "# 指定圖形的預設字體大小\n",
        "plt.rcParams[\"font.size\"] = 14\n",
        "# 指定圖形的預設字型\n",
        "plt.rcParams['font.family'] = 'Taipei Sans TC Beta'\n",
        "# 隨機種子\n",
        "random_seed = 123"
      ],
      "execution_count": 2,
      "outputs": []
    },
    {
      "cell_type": "markdown",
      "metadata": {
        "id": "cY824oLy6AFX"
      },
      "source": [
        "#### 載入範例資料"
      ]
    },
    {
      "cell_type": "code",
      "metadata": {
        "id": "cigL7Rf96AFY",
        "scrolled": true
      },
      "source": [
        "# 載入範例資料\n",
        "# （乳癌資料）\n",
        "\n",
        "# 載入資料\n",
        "from sklearn.datasets import load_breast_cancer\n",
        "cancer = load_breast_cancer()\n",
        "\n",
        "# 輸入資料：x（30 維）\n",
        "# 標準答案：y\n",
        "x = cancer.data\n",
        "y = cancer.target"
      ],
      "execution_count": 3,
      "outputs": []
    },
    {
      "cell_type": "code",
      "metadata": {
        "colab": {
          "base_uri": "https://localhost:8080/"
        },
        "id": "xxmA-i9u6AFa",
        "outputId": "3db7c739-2696-41ee-e922-844b0eb864fe"
      },
      "source": [
        "# 分割範例資料\n",
        "\n",
        "# 分割資料的參數\n",
        "test_size = 0.1\n",
        "\n",
        "# 分割資料\n",
        "from sklearn.model_selection import train_test_split\n",
        "x_train, x_test, y_train, y_test = train_test_split(x, y, \n",
        "    test_size=test_size, random_state=random_seed,\n",
        "    stratify=y)\n",
        "\n",
        "# 確認分割後維數\n",
        "print(x.shape)\n",
        "print(x_train.shape)\n",
        "print(x_test.shape)"
      ],
      "execution_count": 4,
      "outputs": [
        {
          "output_type": "stream",
          "name": "stdout",
          "text": [
            "(569, 30)\n",
            "(512, 30)\n",
            "(57, 30)\n"
          ]
        }
      ]
    },
    {
      "cell_type": "markdown",
      "metadata": {
        "id": "d_QjsrYy6AFc"
      },
      "source": [
        "### 4.5.1 選擇演算法"
      ]
    },
    {
      "cell_type": "code",
      "metadata": {
        "id": "YyUICaYY6AFe"
      },
      "source": [
        "# 利用多種演算法比較正確率\n",
        "# 將 random_state 設定為相同的值，以使結果相同\n",
        "\n",
        "# 線性迴歸\n",
        "from sklearn.linear_model import LogisticRegression\n",
        "algorithm1 = LogisticRegression(random_state=random_seed)\n",
        "\n",
        "# 支援向量機（kernel method）\n",
        "from sklearn.svm import SVC\n",
        "algorithm2 = SVC(kernel='rbf', random_state=random_seed)\n",
        "\n",
        "# 決策樹\n",
        "from sklearn.tree import DecisionTreeClassifier\n",
        "algorithm3 = DecisionTreeClassifier(random_state=random_seed)\n",
        "\n",
        "# 隨機森林\n",
        "from sklearn.ensemble import RandomForestClassifier\n",
        "algorithm4 = RandomForestClassifier(random_state=random_seed)\n",
        "\n",
        "# XGBoost\n",
        "from xgboost import XGBClassifier\n",
        "algorithm5 = XGBClassifier(random_state=random_seed)\n",
        "\n",
        "# 建立演算法列表\n",
        "algorithms = [algorithm1, algorithm2, algorithm3, algorithm4, \n",
        "    algorithm5]"
      ],
      "execution_count": 5,
      "outputs": []
    },
    {
      "cell_type": "code",
      "metadata": {
        "colab": {
          "base_uri": "https://localhost:8080/"
        },
        "id": "pYNYBRO26AFg",
        "outputId": "5686b654-751e-427f-87b5-f0df7ba1851d"
      },
      "source": [
        "# 比較多種演算法的正確率\n",
        "for algorithm in algorithms:\n",
        "    \n",
        "    # 以範例資料進行訓練\n",
        "    algorithm.fit(x_train, y_train)\n",
        "    \n",
        "    # 以驗證資料測量正確率\n",
        "    score = algorithm.score(x_test, y_test)\n",
        "    \n",
        "    # 取得演算法名稱\n",
        "    #name = algorithm.__class__.__name__\n",
        "    name = type(algorithm).__name__\n",
        "    # 顯示正確率與演算法名稱\n",
        "    print(f'score: {score:.4f}  {name}')"
      ],
      "execution_count": 6,
      "outputs": [
        {
          "output_type": "stream",
          "name": "stdout",
          "text": [
            "score: 0.9649  LogisticRegression\n",
            "score: 0.8947  SVC\n",
            "score: 0.9474  DecisionTreeClassifier\n",
            "score: 0.9298  RandomForestClassifier\n",
            "score: 0.9825  XGBClassifier\n"
          ]
        }
      ]
    },
    {
      "cell_type": "markdown",
      "metadata": {
        "id": "6RSvFAdJ6AFi"
      },
      "source": [
        "### 4.5.2 最佳化超參數"
      ]
    },
    {
      "cell_type": "code",
      "metadata": {
        "colab": {
          "base_uri": "https://localhost:8080/"
        },
        "id": "EPRlb_QU6AFj",
        "outputId": "8cc0f284-b374-4773-e24e-6fda57d7f626"
      },
      "source": [
        "# 確認預設參數\n",
        "algorithm = SVC(kernel='rbf', random_state=random_seed)\n",
        "algorithm.get_params()"
      ],
      "execution_count": 15,
      "outputs": [
        {
          "output_type": "execute_result",
          "data": {
            "text/plain": [
              "{'C': 1.0,\n",
              " 'break_ties': False,\n",
              " 'cache_size': 200,\n",
              " 'class_weight': None,\n",
              " 'coef0': 0.0,\n",
              " 'decision_function_shape': 'ovr',\n",
              " 'degree': 3,\n",
              " 'gamma': 'scale',\n",
              " 'kernel': 'rbf',\n",
              " 'max_iter': -1,\n",
              " 'probability': False,\n",
              " 'random_state': 123,\n",
              " 'shrinking': True,\n",
              " 'tol': 0.001,\n",
              " 'verbose': False}"
            ]
          },
          "metadata": {},
          "execution_count": 15
        }
      ]
    },
    {
      "cell_type": "code",
      "metadata": {
        "colab": {
          "base_uri": "https://localhost:8080/"
        },
        "id": "BLjgd4gK6AFl",
        "outputId": "6b22ce3d-759b-4b41-de08-8ae3db992f86"
      },
      "source": [
        "# 最佳化 gamma\n",
        "algorithm = SVC(kernel='rbf', random_state=random_seed)\n",
        "gammas = [100, 10, 1, 0.1, 0.01, 0.001, 0.0001, 0.00001]\n",
        "\n",
        "for gamma in gammas:\n",
        "    algorithm.gamma = gamma\n",
        "    algorithm.fit(x_train, y_train)\n",
        "    score = algorithm.score(x_test, y_test)\n",
        "    print(f'score: {score:.4f}  gamma: {gamma}')"
      ],
      "execution_count": 8,
      "outputs": [
        {
          "output_type": "stream",
          "name": "stdout",
          "text": [
            "score: 0.6316  gamma: 100\n",
            "score: 0.6316  gamma: 10\n",
            "score: 0.6316  gamma: 1\n",
            "score: 0.6316  gamma: 0.1\n",
            "score: 0.6316  gamma: 0.01\n",
            "score: 0.9474  gamma: 0.001\n",
            "score: 0.9474  gamma: 0.0001\n",
            "score: 0.9474  gamma: 1e-05\n"
          ]
        }
      ]
    },
    {
      "cell_type": "code",
      "metadata": {
        "colab": {
          "base_uri": "https://localhost:8080/"
        },
        "id": "uGDQaEq96AFn",
        "outputId": "9cd16ab1-d358-4064-d52a-83d601022228"
      },
      "source": [
        "# 最佳化 C\n",
        "# gamma 採用之前找出的最佳值 0.001\n",
        "\n",
        "Cs = [1,  10,  100, 1000, 10000]\n",
        "for C in Cs:\n",
        "    algorithm = SVC(kernel='rbf', \n",
        "        gamma=0.001, C=C,\n",
        "        random_state=random_seed)\n",
        "    algorithm.fit(x_train, y_train)\n",
        "    score = algorithm.score(x_test, y_test)\n",
        "    print(f'score: {score:.4f}  C: {C}')"
      ],
      "execution_count": 9,
      "outputs": [
        {
          "output_type": "stream",
          "name": "stdout",
          "text": [
            "score: 0.9474  C: 1\n",
            "score: 0.9298  C: 10\n",
            "score: 0.9298  C: 100\n",
            "score: 0.9298  C: 1000\n",
            "score: 0.9298  C: 10000\n"
          ]
        }
      ]
    },
    {
      "cell_type": "markdown",
      "metadata": {
        "id": "9cw678uR6AFp"
      },
      "source": [
        "### 4.5.3 交叉驗證"
      ]
    },
    {
      "cell_type": "code",
      "metadata": {
        "colab": {
          "base_uri": "https://localhost:8080/"
        },
        "id": "S4CcnHml6AFq",
        "outputId": "c790ea39-a91d-45b4-b382-0e6b18091153"
      },
      "source": [
        "# 針對特定演算法進行交叉驗證\n",
        "\n",
        "# 定義演算法\n",
        "algorithm = SVC(kernel='rbf',random_state=random_seed,\n",
        "    gamma=0.001, C=1)\n",
        "\n",
        "# 分割時利用 StratifiedKFold，以避免標準答案分佈不均\n",
        "from sklearn.model_selection import StratifiedKFold\n",
        "stratifiedkfold = StratifiedKFold(n_splits=3)\n",
        "\n",
        "# 進行交叉驗證（分割數 = 3）\n",
        "from sklearn.model_selection import cross_val_score\n",
        "scores = cross_val_score(algorithm , x_train, y_train, \n",
        "    cv=stratifiedkfold)\n",
        "\n",
        "# 計算平均值\n",
        "mean = scores.mean()\n",
        "\n",
        "# 顯示結果\n",
        "print(f'平均分數 : {mean:.4f}  個別分數 : {scores}')"
      ],
      "execution_count": 10,
      "outputs": [
        {
          "output_type": "stream",
          "name": "stdout",
          "text": [
            "平均分數 : 0.9141  個別分數 : [0.8889 0.9181 0.9353]\n"
          ]
        }
      ]
    },
    {
      "cell_type": "code",
      "metadata": {
        "id": "0WEZL0DF6AFs"
      },
      "source": [
        "# 建立候選演算法的列表\n",
        "\n",
        "from sklearn.linear_model import LogisticRegression\n",
        "algorithm1 = LogisticRegression(random_state=random_seed)\n",
        "\n",
        "from sklearn.svm import SVC\n",
        "algorithm2 = SVC(kernel='rbf',random_state=random_seed,\n",
        "    gamma=0.001, C=1)\n",
        "\n",
        "from sklearn.tree import DecisionTreeClassifier\n",
        "algorithm3 = DecisionTreeClassifier(random_state=random_seed)\n",
        "\n",
        "from sklearn.ensemble import RandomForestClassifier\n",
        "algorithm4 = RandomForestClassifier(random_state=random_seed)\n",
        "\n",
        "from xgboost import XGBClassifier\n",
        "algorithm5 = XGBClassifier(random_state=random_seed)\n",
        "\n",
        "algorithms = [algorithm1, algorithm2, algorithm3, algorithm4, \n",
        "    algorithm5]"
      ],
      "execution_count": 11,
      "outputs": []
    },
    {
      "cell_type": "code",
      "metadata": {
        "colab": {
          "base_uri": "https://localhost:8080/"
        },
        "id": "8PP4Yrca6AFu",
        "outputId": "401f3de6-9725-4625-966d-9907b2fc7067"
      },
      "source": [
        "# 比較多種演算法的準確率\n",
        "\n",
        "# 分割時利用 StratifiedKFold，以避免標準答案分佈不均\n",
        "from sklearn.model_selection import StratifiedKFold\n",
        "stratifiedkfold = StratifiedKFold(n_splits=3)\n",
        "\n",
        "from sklearn.model_selection import cross_val_score\n",
        "for algorithm in algorithms:\n",
        "    # 進行交叉驗證\n",
        "    scores = cross_val_score(algorithm , x_train, y_train, \n",
        "        cv=stratifiedkfold)\n",
        "    score = scores.mean()\n",
        "    name = algorithm.__class__.__name__\n",
        "    print(f'平均分數 : {score:.4f}  個別分數 : {scores}  {name}')"
      ],
      "execution_count": 12,
      "outputs": [
        {
          "output_type": "stream",
          "name": "stdout",
          "text": [
            "平均分數 : 0.9473  個別分數 : [0.9415 0.9474 0.9529]  LogisticRegression\n",
            "平均分數 : 0.9141  個別分數 : [0.8889 0.9181 0.9353]  SVC\n",
            "平均分數 : 0.9062  個別分數 : [0.8713 0.9415 0.9059]  DecisionTreeClassifier\n",
            "平均分數 : 0.9629  個別分數 : [0.9649 0.9591 0.9647]  RandomForestClassifier\n",
            "平均分數 : 0.9590  個別分數 : [0.9591 0.9649 0.9529]  XGBClassifier\n"
          ]
        }
      ]
    },
    {
      "cell_type": "markdown",
      "metadata": {
        "id": "9hAdccB46AFw"
      },
      "source": [
        "### 4.5.4 網格搜尋"
      ]
    },
    {
      "cell_type": "code",
      "metadata": {
        "colab": {
          "base_uri": "https://localhost:8080/"
        },
        "id": "mRqBCMWY6AFx",
        "outputId": "e47336e9-cb60-401d-c8f8-e4acbdd917e7"
      },
      "source": [
        "# 結合網格搜尋與交叉驗證來搜尋最佳參數\n",
        "params = {\n",
        "      'C':[1, 10, 100, 1000, 10000],\n",
        "      'gamma':[1, 0.1, 0.01, 0.001, 0.0001, 0.00001]\n",
        "}\n",
        "algorithm = SVC(random_state=random_seed)\n",
        "\n",
        "from sklearn.model_selection import StratifiedKFold\n",
        "stratifiedkfold = StratifiedKFold(n_splits=3)\n",
        "\n",
        "from sklearn.model_selection import GridSearchCV\n",
        "gs = GridSearchCV(algorithm, params, cv=stratifiedkfold)\n",
        "gs.fit(x_train, y_train)\n",
        "\n",
        "# 取得最佳模型並對驗證資料進行分類\n",
        "best = gs.best_estimator_\n",
        "best_pred = best.predict(x_test)\n",
        "print(best)"
      ],
      "execution_count": 13,
      "outputs": [
        {
          "output_type": "stream",
          "name": "stdout",
          "text": [
            "SVC(C=1000, gamma=1e-05, random_state=123)\n"
          ]
        }
      ]
    },
    {
      "cell_type": "code",
      "metadata": {
        "colab": {
          "base_uri": "https://localhost:8080/"
        },
        "id": "1JGcbbf16AFz",
        "outputId": "ed3b9ef8-039b-41cb-c117-62904f7fd77f"
      },
      "source": [
        "# 取得準確率\n",
        "score = best.score(x_test, y_test)\n",
        "print(f'分數 : {score:.4f}')\n",
        "\n",
        "# 輸出混淆矩陣\n",
        "from sklearn.metrics import confusion_matrix\n",
        "print()\n",
        "print('混淆矩陣')\n",
        "print(confusion_matrix(y_test, best_pred))"
      ],
      "execution_count": 14,
      "outputs": [
        {
          "output_type": "stream",
          "name": "stdout",
          "text": [
            "分數 : 0.9825\n",
            "\n",
            "混淆矩陣\n",
            "[[20  1]\n",
            " [ 0 36]]\n"
          ]
        }
      ]
    },
    {
      "cell_type": "code",
      "metadata": {
        "id": "XoCkwlvY6AF1"
      },
      "source": [
        ""
      ],
      "execution_count": 14,
      "outputs": []
    }
  ]
}